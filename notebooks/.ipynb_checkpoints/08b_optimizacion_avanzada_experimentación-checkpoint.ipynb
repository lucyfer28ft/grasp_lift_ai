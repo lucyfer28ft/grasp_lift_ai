{
 "cells": [
  {
   "cell_type": "code",
   "execution_count": 1,
   "id": "7564a906",
   "metadata": {},
   "outputs": [
    {
     "name": "stdout",
     "output_type": "stream",
     "text": [
      "Datos cargados correctamente:\n",
      "X_train_scaled shape: (1043205, 512)\n",
      "y_train_win shape: (1043205, 6)\n",
      "X_valid_scaled shape: (236894, 512)\n",
      "y_valid_win shape: (236894, 6)\n",
      "{'HandStart': 0.8928, 'FirstDigitTouch': 0.8838, 'BothStartLoadPhase': 0.8888, 'LiftOff': 0.9059, 'Replace': 0.8966, 'BothReleased': 0.8751}\n"
     ]
    }
   ],
   "source": [
    "import os\n",
    "import pickle\n",
    "import pandas as pd\n",
    "\n",
    "# Ruta de los datos procesados\n",
    "processed_path = r\"C:\\Users\\luciaft\\Documents\\TFG\\TFG\\graspAndLiftDetectionTFGProyect\\data\\processed\"\n",
    "data_file = os.path.join(processed_path, \"preprocessed_features_temporal_freq.pkl\")\n",
    "\n",
    "# Cargar los datos preprocesados\n",
    "with open(data_file, \"rb\") as f:\n",
    "    X_train_scaled, y_train_win, X_valid_scaled, y_valid_win = pickle.load(f)\n",
    "\n",
    "#Cargamos también los resultados obtenidos con el modelo base\n",
    "auc_file = os.path.join(processed_path, \"auc_results_feats_logreg.csv\")\n",
    "\n",
    "# Cargar CSV y convertir a diccionario\n",
    "auc_df = pd.read_csv(auc_file, index_col=\"Evento\")\n",
    "auc_dict_logreg = auc_df[\"AUC\"].to_dict()\n",
    "\n",
    "\n",
    "# Verificar formas\n",
    "print(\"Datos cargados correctamente:\")\n",
    "print(f\"X_train_scaled shape: {X_train_scaled.shape}\")\n",
    "print(f\"y_train_win shape: {y_train_win.shape}\")\n",
    "print(f\"X_valid_scaled shape: {X_valid_scaled.shape}\")\n",
    "print(f\"y_valid_win shape: {y_valid_win.shape}\")\n",
    "\n",
    "# Verificar diccionario con resultados\n",
    "print(auc_dict_logreg)\n"
   ]
  },
  {
   "cell_type": "code",
   "execution_count": 1,
   "id": "db3c3a16-0a84-496c-99ef-4321f37dbbc0",
   "metadata": {},
   "outputs": [
    {
     "name": "stdout",
     "output_type": "stream",
     "text": [
      "Datos cargados correctamente:\n",
      "X_train_scaled shape: (1043205, 512)\n",
      "y_train_win shape: (1043205, 6)\n",
      "X_valid_scaled shape: (236894, 512)\n",
      "y_valid_win shape: (236894, 6)\n",
      "{'HandStart': 0.8928, 'FirstDigitTouch': 0.8838, 'BothStartLoadPhase': 0.8888, 'LiftOff': 0.9059, 'Replace': 0.8966, 'BothReleased': 0.8751}\n",
      "\n",
      "Entrenando MLP para evento: HandStart\n",
      "AUC para HandStart: 0.8342\n",
      "\n",
      "Entrenando MLP para evento: FirstDigitTouch\n",
      "AUC para FirstDigitTouch: 0.8171\n",
      "\n",
      "Entrenando MLP para evento: BothStartLoadPhase\n",
      "AUC para BothStartLoadPhase: 0.8587\n",
      "\n",
      "Entrenando MLP para evento: LiftOff\n",
      "AUC para LiftOff: 0.8696\n",
      "\n",
      "Entrenando MLP para evento: Replace\n",
      "AUC para Replace: 0.8743\n",
      "\n",
      "Entrenando MLP para evento: BothReleased\n",
      "AUC para BothReleased: 0.8672\n"
     ]
    }
   ],
   "source": [
    "\n",
    "import json\n",
    "import os\n",
    "import warnings\n",
    "from sklearn.exceptions import ConvergenceWarning\n",
    "from sklearn.neural_network import MLPClassifier\n",
    "from sklearn.metrics import roc_auc_score\n",
    "\n",
    "# Suprimir advertencias de convergencia\n",
    "warnings.filterwarnings(\"ignore\", category=ConvergenceWarning)\n",
    "\n",
    "# ========================\n",
    "# Hiperparámetros óptimos obtenidos con Optuna\n",
    "# ========================\n",
    "best_params = {\n",
    "    'n_layers': 3,\n",
    "    'n_units_l0': 137,\n",
    "    'n_units_l1': 103,\n",
    "    'n_units_l2': 146,\n",
    "    'activation': 'tanh',\n",
    "    'alpha': 0.008481544019478544,\n",
    "    'learning_rate': 'adaptive',\n",
    "    'learning_rate_init': 0.00033039559110398416\n",
    "}\n",
    "\n",
    "# Reconstruir la arquitectura\n",
    "n_layers = best_params[\"n_layers\"]\n",
    "hidden_layer_sizes = tuple(best_params[f\"n_units_l{i}\"] for i in range(n_layers))\n",
    "\n",
    "# Crear diccionario limpio con hiperparámetros válidos para MLPClassifier\n",
    "clean_params = {\n",
    "    \"hidden_layer_sizes\": hidden_layer_sizes,\n",
    "    \"activation\": best_params[\"activation\"],\n",
    "    \"alpha\": best_params[\"alpha\"],\n",
    "    \"learning_rate\": best_params[\"learning_rate\"],\n",
    "    \"learning_rate_init\": best_params[\"learning_rate_init\"],\n",
    "    \"max_iter\": 600,\n",
    "    \"early_stopping\": True,\n",
    "    \"random_state\": 42\n",
    "}\n",
    "\n",
    "# ========================\n",
    "# Función de evaluación por evento\n",
    "# ========================\n",
    "def evaluate_mlp_all_events(X_train, y_train, X_valid, y_valid, clf_params):\n",
    "    results = {}\n",
    "    for event in y_train.columns:\n",
    "        print(f\"\\nEntrenando MLP para evento: {event}\")\n",
    "        clf = MLPClassifier(**clf_params)\n",
    "        clf.fit(X_train, y_train[event])\n",
    "        y_prob = clf.predict_proba(X_valid)[:, 1]\n",
    "        auc = roc_auc_score(y_valid[event], y_prob)\n",
    "        results[event] = auc\n",
    "        print(f\"AUC para {event}: {auc:.4f}\")\n",
    "    return results\n",
    "\n",
    "# ========================\n",
    "# Evaluar en todos los eventos\n",
    "# ========================\n",
    "mlp_results_all = evaluate_mlp_all_events(\n",
    "    X_train_scaled, y_train_win, X_valid_scaled, y_valid_win, clean_params\n",
    ")"
   ]
  },
  {
   "cell_type": "code",
   "execution_count": 5,
   "id": "94929d86-432f-4083-988a-510e44230d67",
   "metadata": {},
   "outputs": [
    {
     "name": "stdout",
     "output_type": "stream",
     "text": [
      "LightGBM - HandStart: AUC = 0.8747\n",
      "LightGBM - FirstDigitTouch: AUC = 0.8754\n",
      "LightGBM - BothStartLoadPhase: AUC = 0.9017\n",
      "LightGBM - LiftOff: AUC = 0.8905\n",
      "LightGBM - Replace: AUC = 0.8961\n",
      "LightGBM - BothReleased: AUC = 0.8840\n"
     ]
    }
   ],
   "source": [
    "from lightgbm import LGBMClassifier\n",
    "from sklearn.metrics import roc_auc_score, classification_report\n",
    "import numpy as np\n",
    "\n",
    "#Defición de función de evaluación por evento \n",
    "def evaluate_model(model, X_train, y_train, X_valid, y_valid, model_name=\"Model\"):\n",
    "    results = {}\n",
    "    for i, event in enumerate(y_train.columns):\n",
    "        model.fit(X_train, y_train[event])\n",
    "        y_pred_proba = model.predict_proba(X_valid)[:, 1]\n",
    "        auc = roc_auc_score(y_valid[event], y_pred_proba)\n",
    "        results[event] = auc\n",
    "        print(f\"{model_name} - {event}: AUC = {auc:.4f}\")\n",
    "    return results\n",
    "\n",
    "# Cargar los mejores hiperparámetros desde JSON\n",
    "save_path = r\"C:\\Users\\luciaft\\Documents\\TFG\\TFG\\graspAndLiftDetectionTFGProyect\\models\"\n",
    "\n",
    "with open(os.path.join(save_path, \"lgbm_liftoff_params.json\"), \"r\") as f:\n",
    "    best_params = json.load(f)\n",
    "\n",
    "    import warnings\n",
    "warnings.filterwarnings(\"ignore\", message=\"X does not have valid feature names.*\")\n",
    "\n",
    "lgbm = LGBMClassifier(**best_params)\n",
    "lgbm_results = evaluate_model(lgbm, X_train_scaled, y_train_win, X_valid_scaled, y_valid_win, model_name=\"LightGBM\")"
   ]
  },
  {
   "cell_type": "code",
   "execution_count": 14,
   "id": "8c7c5d99-c939-4c43-a4aa-5c8beeb4a3c4",
   "metadata": {
    "scrolled": true
   },
   "outputs": [
    {
     "name": "stdout",
     "output_type": "stream",
     "text": [
      "[LightGBM] [Info] Number of positive: 24807, number of negative: 1018398\n",
      "[LightGBM] [Info] Auto-choosing col-wise multi-threading, the overhead of testing was 2.928717 seconds.\n",
      "You can set `force_col_wise=true` to remove the overhead.\n",
      "[LightGBM] [Info] Total Bins 130343\n",
      "[LightGBM] [Info] Number of data points in the train set: 1043205, number of used features: 512\n",
      "[LightGBM] [Info] [binary:BoostFromScore]: pavg=0.023780 -> initscore=-3.714860\n",
      "[LightGBM] [Info] Start training from score -3.714860\n"
     ]
    },
    {
     "name": "stderr",
     "output_type": "stream",
     "text": [
      "C:\\Users\\luciaft\\OneDrive\\Documentos\\TFG\\grasp_and_lift_proyect\\.venv\\Lib\\site-packages\\sklearn\\utils\\validation.py:2739: UserWarning: X does not have valid feature names, but LGBMClassifier was fitted with feature names\n",
      "  warnings.warn(\n"
     ]
    },
    {
     "name": "stdout",
     "output_type": "stream",
     "text": [
      "LightGBM - HandStart: AUC = 0.8557\n",
      "[LightGBM] [Info] Number of positive: 24918, number of negative: 1018287\n",
      "[LightGBM] [Info] Auto-choosing col-wise multi-threading, the overhead of testing was 2.923790 seconds.\n",
      "You can set `force_col_wise=true` to remove the overhead.\n",
      "[LightGBM] [Info] Total Bins 130343\n",
      "[LightGBM] [Info] Number of data points in the train set: 1043205, number of used features: 512\n",
      "[LightGBM] [Info] [binary:BoostFromScore]: pavg=0.023886 -> initscore=-3.710287\n",
      "[LightGBM] [Info] Start training from score -3.710287\n"
     ]
    },
    {
     "name": "stderr",
     "output_type": "stream",
     "text": [
      "C:\\Users\\luciaft\\OneDrive\\Documentos\\TFG\\grasp_and_lift_proyect\\.venv\\Lib\\site-packages\\sklearn\\utils\\validation.py:2739: UserWarning: X does not have valid feature names, but LGBMClassifier was fitted with feature names\n",
      "  warnings.warn(\n"
     ]
    },
    {
     "name": "stdout",
     "output_type": "stream",
     "text": [
      "LightGBM - FirstDigitTouch: AUC = 0.8839\n",
      "[LightGBM] [Info] Number of positive: 25060, number of negative: 1018145\n",
      "[LightGBM] [Info] Auto-choosing col-wise multi-threading, the overhead of testing was 2.838717 seconds.\n",
      "You can set `force_col_wise=true` to remove the overhead.\n",
      "[LightGBM] [Info] Total Bins 130343\n",
      "[LightGBM] [Info] Number of data points in the train set: 1043205, number of used features: 512\n",
      "[LightGBM] [Info] [binary:BoostFromScore]: pavg=0.024022 -> initscore=-3.704465\n",
      "[LightGBM] [Info] Start training from score -3.704465\n"
     ]
    },
    {
     "name": "stderr",
     "output_type": "stream",
     "text": [
      "C:\\Users\\luciaft\\OneDrive\\Documentos\\TFG\\grasp_and_lift_proyect\\.venv\\Lib\\site-packages\\sklearn\\utils\\validation.py:2739: UserWarning: X does not have valid feature names, but LGBMClassifier was fitted with feature names\n",
      "  warnings.warn(\n"
     ]
    },
    {
     "name": "stdout",
     "output_type": "stream",
     "text": [
      "LightGBM - BothStartLoadPhase: AUC = 0.8799\n",
      "[LightGBM] [Info] Number of positive: 24942, number of negative: 1018263\n",
      "[LightGBM] [Info] Auto-choosing col-wise multi-threading, the overhead of testing was 2.759099 seconds.\n",
      "You can set `force_col_wise=true` to remove the overhead.\n",
      "[LightGBM] [Info] Total Bins 130343\n",
      "[LightGBM] [Info] Number of data points in the train set: 1043205, number of used features: 512\n",
      "[LightGBM] [Info] [binary:BoostFromScore]: pavg=0.023909 -> initscore=-3.709300\n",
      "[LightGBM] [Info] Start training from score -3.709300\n"
     ]
    },
    {
     "name": "stderr",
     "output_type": "stream",
     "text": [
      "C:\\Users\\luciaft\\OneDrive\\Documentos\\TFG\\grasp_and_lift_proyect\\.venv\\Lib\\site-packages\\sklearn\\utils\\validation.py:2739: UserWarning: X does not have valid feature names, but LGBMClassifier was fitted with feature names\n",
      "  warnings.warn(\n"
     ]
    },
    {
     "name": "stdout",
     "output_type": "stream",
     "text": [
      "LightGBM - LiftOff: AUC = 0.8947\n",
      "[LightGBM] [Info] Number of positive: 25155, number of negative: 1018050\n",
      "[LightGBM] [Info] Auto-choosing col-wise multi-threading, the overhead of testing was 2.806898 seconds.\n",
      "You can set `force_col_wise=true` to remove the overhead.\n",
      "[LightGBM] [Info] Total Bins 130343\n",
      "[LightGBM] [Info] Number of data points in the train set: 1043205, number of used features: 512\n",
      "[LightGBM] [Info] [binary:BoostFromScore]: pavg=0.024113 -> initscore=-3.700588\n",
      "[LightGBM] [Info] Start training from score -3.700588\n"
     ]
    },
    {
     "name": "stderr",
     "output_type": "stream",
     "text": [
      "C:\\Users\\luciaft\\OneDrive\\Documentos\\TFG\\grasp_and_lift_proyect\\.venv\\Lib\\site-packages\\sklearn\\utils\\validation.py:2739: UserWarning: X does not have valid feature names, but LGBMClassifier was fitted with feature names\n",
      "  warnings.warn(\n"
     ]
    },
    {
     "name": "stdout",
     "output_type": "stream",
     "text": [
      "LightGBM - Replace: AUC = 0.8710\n",
      "[LightGBM] [Info] Number of positive: 24771, number of negative: 1018434\n",
      "[LightGBM] [Info] Auto-choosing col-wise multi-threading, the overhead of testing was 2.749970 seconds.\n",
      "You can set `force_col_wise=true` to remove the overhead.\n",
      "[LightGBM] [Info] Total Bins 130343\n",
      "[LightGBM] [Info] Number of data points in the train set: 1043205, number of used features: 512\n",
      "[LightGBM] [Info] [binary:BoostFromScore]: pavg=0.023745 -> initscore=-3.716348\n",
      "[LightGBM] [Info] Start training from score -3.716348\n"
     ]
    },
    {
     "name": "stderr",
     "output_type": "stream",
     "text": [
      "C:\\Users\\luciaft\\OneDrive\\Documentos\\TFG\\grasp_and_lift_proyect\\.venv\\Lib\\site-packages\\sklearn\\utils\\validation.py:2739: UserWarning: X does not have valid feature names, but LGBMClassifier was fitted with feature names\n",
      "  warnings.warn(\n"
     ]
    },
    {
     "name": "stdout",
     "output_type": "stream",
     "text": [
      "LightGBM - BothReleased: AUC = 0.8414\n"
     ]
    }
   ],
   "source": [
    "from lightgbm import LGBMClassifier\n",
    "from sklearn.metrics import roc_auc_score, classification_report\n",
    "import numpy as np\n",
    "\n",
    "def evaluate_model(model, X_train, y_train, X_valid, y_valid, model_name=\"Model\"):\n",
    "    results = {}\n",
    "    for i, event in enumerate(y_train.columns):\n",
    "        model.fit(X_train, y_train[event])\n",
    "        y_pred_proba = model.predict_proba(X_valid)[:, 1]\n",
    "        auc = roc_auc_score(y_valid[event], y_pred_proba)\n",
    "        results[event] = auc\n",
    "        print(f\"{model_name} - {event}: AUC = {auc:.4f}\")\n",
    "    return results\n",
    "\n",
    "lgbm2 = LGBMClassifier(\n",
    "    learning_rate=0.028542996055017332,\n",
    "    num_leaves=209,\n",
    "    max_depth=11,\n",
    "    min_child_samples=26,\n",
    "    subsample=0.988579544600254,\n",
    "    colsample_bytree=0.7605254273140183,\n",
    "    reg_alpha=2.2312576435160545,\n",
    "    reg_lambda=4.00900809247092\n",
    ")\n",
    "\n",
    "\n",
    "lgbm_results = evaluate_model(\n",
    "    lgbm2, X_train_scaled, y_train_win, X_valid_scaled, y_valid_win, model_name=\"LightGBM\"\n",
    ")"
   ]
  },
  {
   "cell_type": "markdown",
   "id": "79e44286",
   "metadata": {},
   "source": [
    "    "
   ]
  },
  {
   "cell_type": "markdown",
   "id": "0d58b2bc",
   "metadata": {},
   "source": [
    "     "
   ]
  },
  {
   "cell_type": "markdown",
   "id": "5eea9bb2",
   "metadata": {},
   "source": [
    "Prueba con características reducidas A 150 con SFS:"
   ]
  },
  {
   "cell_type": "code",
   "execution_count": 6,
   "id": "6f22cfc3-014a-4a05-bb33-0fb4a82af162",
   "metadata": {},
   "outputs": [
    {
     "name": "stdout",
     "output_type": "stream",
     "text": [
      "Características seleccionadas: [492 511 309 254 452  12 221 302 487 343]\n"
     ]
    }
   ],
   "source": [
    "import os\n",
    "import pickle\n",
    "import numpy as np\n",
    "from lightgbm import LGBMClassifier\n",
    "from sklearn.metrics import roc_auc_score\n",
    "import warnings\n",
    "warnings.filterwarnings(\"ignore\", message=\"X does not have valid feature names.*\")\n",
    "\n",
    "# === 1. Cargar índices seleccionados ===\n",
    "feature_path = r\"C:\\Users\\luciaft\\Documents\\TFG\\TFG\\graspAndLiftDetectionTFGProyect\\data\\processed\\seleccion_caracteristicas\"\n",
    "with open(os.path.join(feature_path, \"selected_features_sfs_150.pkl\"), \"rb\") as f:\n",
    "    selected_indices = pickle.load(f)\n",
    "\n",
    "print(\"Características seleccionadas:\", selected_indices[:10])  # Muestra ejemplo\n",
    "\n",
    "# === 2. Aplicar selección de características ===\n",
    "X_train_sfs150 = X_train_scaled[:, selected_indices]\n",
    "X_valid_sfs150 = X_valid_scaled[:, selected_indices]\n",
    "\n",
    "# === 3. Cargar hiperparámetros óptimos (por ejemplo, de LiftOff) ===\n",
    "import json\n",
    "save_path = r\"C:\\Users\\luciaft\\Documents\\TFG\\TFG\\graspAndLiftDetectionTFGProyect\\models\"\n",
    "with open(os.path.join(save_path, \"lgbm_liftoff_params.json\"), \"r\") as f:\n",
    "    best_params = json.load(f)"
   ]
  },
  {
   "cell_type": "code",
   "execution_count": 7,
   "id": "3a0c80a0",
   "metadata": {},
   "outputs": [
    {
     "name": "stdout",
     "output_type": "stream",
     "text": [
      "LightGBM (SFS 150) - HandStart: AUC = 0.8384\n",
      "LightGBM (SFS 150) - FirstDigitTouch: AUC = 0.8338\n",
      "LightGBM (SFS 150) - BothStartLoadPhase: AUC = 0.8885\n",
      "LightGBM (SFS 150) - LiftOff: AUC = 0.8741\n",
      "LightGBM (SFS 150) - Replace: AUC = 0.8696\n",
      "LightGBM (SFS 150) - BothReleased: AUC = 0.8649\n"
     ]
    }
   ],
   "source": [
    "# === 4. Evaluar modelo con características seleccionadas ===\n",
    "def evaluate_model(model, X_train, y_train, X_valid, y_valid, model_name=\"Model\"):\n",
    "    results = {}\n",
    "    for i, event in enumerate(y_train.columns):\n",
    "        model.fit(X_train, y_train[event])\n",
    "        y_pred_proba = model.predict_proba(X_valid)[:, 1]\n",
    "        auc = roc_auc_score(y_valid[event], y_pred_proba)\n",
    "        results[event] = auc\n",
    "        print(f\"{model_name} - {event}: AUC = {auc:.4f}\")\n",
    "    return results\n",
    "\n",
    "# Crear modelo\n",
    "lgbm = LGBMClassifier(**best_params)\n",
    "\n",
    "# Evaluar\n",
    "lgbm_results_sfs150 = evaluate_model(\n",
    "    lgbm,\n",
    "    X_train_sfs150, y_train_win,\n",
    "    X_valid_sfs150, y_valid_win,\n",
    "    model_name=\"LightGBM (SFS 150)\"\n",
    ")"
   ]
  },
  {
   "cell_type": "code",
   "execution_count": 8,
   "id": "75ff0270-b553-45f0-92ec-01d04357a1e1",
   "metadata": {},
   "outputs": [
    {
     "name": "stdout",
     "output_type": "stream",
     "text": [
      "LightGBM (SFS 150) - HandStart: AUC = 0.8377\n",
      "LightGBM (SFS 150) - FirstDigitTouch: AUC = 0.8435\n",
      "LightGBM (SFS 150) - BothStartLoadPhase: AUC = 0.8652\n",
      "LightGBM (SFS 150) - LiftOff: AUC = 0.8858\n",
      "LightGBM (SFS 150) - Replace: AUC = 0.8610\n",
      "LightGBM (SFS 150) - BothReleased: AUC = 0.8441\n"
     ]
    }
   ],
   "source": [
    "# === 4. Evaluar modelo con características seleccionadas ===\n",
    "def evaluate_model(model, X_train, y_train, X_valid, y_valid, model_name=\"Model\"):\n",
    "    results = {}\n",
    "    for i, event in enumerate(y_train.columns):\n",
    "        model.fit(X_train, y_train[event])\n",
    "        y_pred_proba = model.predict_proba(X_valid)[:, 1]\n",
    "        auc = roc_auc_score(y_valid[event], y_pred_proba)\n",
    "        results[event] = auc\n",
    "        print(f\"{model_name} - {event}: AUC = {auc:.4f}\")\n",
    "    return results\n",
    "\n",
    "# Crear modelo\n",
    "lgbm = LGBMClassifier(\n",
    "    learning_rate=0.028542996055017332,\n",
    "    num_leaves=209,\n",
    "    max_depth=11,\n",
    "    min_child_samples=26,\n",
    "    subsample=0.988579544600254,\n",
    "    colsample_bytree=0.7605254273140183,\n",
    "    reg_alpha=2.2312576435160545,\n",
    "    reg_lambda=4.00900809247092\n",
    ")\n",
    "\n",
    "# Evaluar\n",
    "lgbm_results_sfs150 = evaluate_model(\n",
    "    lgbm,\n",
    "    X_train_sfs150, y_train_win,\n",
    "    X_valid_sfs150, y_valid_win,\n",
    "    model_name=\"LightGBM (SFS 150)\"\n",
    ")"
   ]
  }
 ],
 "metadata": {
  "kernelspec": {
   "display_name": "Python 3 (ipykernel)",
   "language": "python",
   "name": "python3"
  },
  "language_info": {
   "codemirror_mode": {
    "name": "ipython",
    "version": 3
   },
   "file_extension": ".py",
   "mimetype": "text/x-python",
   "name": "python",
   "nbconvert_exporter": "python",
   "pygments_lexer": "ipython3",
   "version": "3.13.2"
  }
 },
 "nbformat": 4,
 "nbformat_minor": 5
}
