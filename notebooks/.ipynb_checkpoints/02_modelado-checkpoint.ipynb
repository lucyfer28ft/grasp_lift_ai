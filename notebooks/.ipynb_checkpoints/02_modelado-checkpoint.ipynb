{
 "cells": [
  {
   "cell_type": "markdown",
   "id": "1d831f75-cdba-440a-a47d-45cd5f120a43",
   "metadata": {},
   "source": [
    "# **Modelado - `02_modelado.ipynb`**\n",
    "\n",
    "### 🎯 **Objetivo**\n",
    "En este notebook, entrenaremos y evaluaremos **modelos de clasificación binaria** para detectar eventos de movimiento de la mano a partir de **señales EEG**.\n",
    "\n",
    "📌 **Los datos ya han sido preprocesados** en `01_preprocesamiento.ipynb` y están listos para su uso.\n",
    "\n",
    "---\n",
    "\n",
    "### ⚙️ **Selección de Modelos Base**\n",
    "Dado que se trata de **un problema de clasificación binaria**, comenzaremos con dos modelos base bien establecidos:\n",
    "\n",
    "- **🔍 Regresión Logística:**  \n",
    "  - Modelo simple e interpretable.  \n",
    "  - Funciona bien cuando los datos tienen relaciones lineales con la variable objetivo.  \n",
    "  - Buen punto de partida antes de probar modelos más complejos.  \n",
    "&nbsp; \n",
    "- **🌲 Random Forest:**  \n",
    "  - Modelo más flexible que captura relaciones no lineales.  \n",
    "  - Maneja bien características correlacionadas, algo común en señales EEG.  \n",
    "  - Menos sensible a ruido y valores atípicos.  \n",
    "\n",
    "Probaremos ambos modelos y compararemos su desempeño con **AUC-ROC**.\n",
    "Comenzar con estos modelos nos permite evaluar rápidamente el desempeño y establecer una línea base antes de explorar opciones más avanzadas como **Redes Neuronales o XGBoost**.\n",
    "\n",
    "---\n",
    "\n",
    "### 🚀 **Flujo de Trabajo en este Notebook**\n",
    "1️⃣ **Cargar los datos preprocesados**  \n",
    "2️⃣ **Entrenar modelos base por cada evento y evaluar el desempeño con AUC-ROC**  \n",
    "3️⃣ **Comparar los modelos**  \n",
    "4️⃣ **Guardar los modelos entrenados**   \n",
    "5️⃣ **Conclusiones y próximos pasos** "
   ]
  },
  {
   "cell_type": "markdown",
   "id": "ecf68330-847a-42e5-82e2-4b1f0a890bff",
   "metadata": {},
   "source": [
    "         "
   ]
  },
  {
   "cell_type": "markdown",
   "id": "d390959c-1ea2-4cca-a955-72b9780cd826",
   "metadata": {},
   "source": [
    "           "
   ]
  },
  {
   "cell_type": "markdown",
   "id": "b6b5a2c4-71bf-4d48-bde0-9c5734a1bfc0",
   "metadata": {},
   "source": [
    "## **1. Carga de Datos Preprocesados**"
   ]
  },
  {
   "cell_type": "code",
   "execution_count": 4,
   "id": "b2617798-749b-4e28-86c0-239c532df419",
   "metadata": {},
   "outputs": [],
   "source": [
    "import numpy as np\n",
    "import pandas as pd\n",
    "import pickle\n",
    "import os\n",
    "import matplotlib.pyplot as plt\n",
    "import seaborn as sns\n",
    "from sklearn.ensemble import RandomForestClassifier\n",
    "from sklearn.linear_model import LogisticRegression\n",
    "from sklearn.metrics import roc_auc_score"
   ]
  },
  {
   "cell_type": "code",
   "execution_count": 5,
   "id": "427be98e-aeba-473f-948b-723d14bb7794",
   "metadata": {},
   "outputs": [
    {
     "name": "stdout",
     "output_type": "stream",
     "text": [
      "Tamaño de X_train: (1185498, 32)\n",
      "Tamaño de X_valid: (236894, 32)\n",
      "Tamaño de y_train: (1185498, 6)\n",
      "Tamaño de y_valid: (236894, 6)\n"
     ]
    }
   ],
   "source": [
    "# Cargar datos preprocesados\n",
    "processed_path = r\"C:\\Users\\luciaft\\Documents\\TFG\\TFG\\graspAndLiftDetectionTFGProyect\\data\\processed\"\n",
    "with open(os.path.join(processed_path, \"preprocessed_data.pkl\"), \"rb\") as f:\n",
    "    X_train, y_train, X_valid, y_valid = pickle.load(f)\n",
    "\n",
    "# Revisar las dimensiones de los datos\n",
    "print(f\"Tamaño de X_train: {X_train.shape}\")\n",
    "print(f\"Tamaño de X_valid: {X_valid.shape}\")\n",
    "print(f\"Tamaño de y_train: {y_train.shape}\")\n",
    "print(f\"Tamaño de y_valid: {y_valid.shape}\")"
   ]
  },
  {
   "cell_type": "markdown",
   "id": "1325c97d-6236-48c3-9fce-e1bb859ffe89",
   "metadata": {},
   "source": [
    "Hemos cargado correctamente los datos preprocesados y podemos observar sus dimensiones:\n",
    "\n",
    "- **X_train**: `(1,185,498, 32)` → 1,185,498 muestras de entrenamiento con 32 características EEG cada una.  \n",
    "- **X_valid**: `(236,894, 32)` → 236,894 muestras de validación con las mismas 32 características.  \n",
    "- **y_train**: `(1,185,498, 6)` → 1,185,498 etiquetas de entrenamiento para los 6 eventos de movimiento.  \n",
    "- **y_valid**: `(236,894, 6)` → 236,894 etiquetas de validación para los mismos eventos.  \n",
    "\n",
    "🟢**Confirmamos que los tamaños coinciden**, lo que significa que tenemos las mismas filas en `X_train` y `y_train`, así como en `X_valid` y `y_valid`."
   ]
  },
  {
   "cell_type": "markdown",
   "id": "11253837-19e8-4738-ad68-0805b23f2cf2",
   "metadata": {},
   "source": [
    "        "
   ]
  },
  {
   "cell_type": "markdown",
   "id": "233af147-3a94-487a-8001-f3dbdcabf358",
   "metadata": {},
   "source": [
    "        "
   ]
  },
  {
   "cell_type": "markdown",
   "id": "47ee3c49-75e9-46c3-bd3f-cc95fcfb0be5",
   "metadata": {},
   "source": [
    "## **2. Entreno de los Modelos Base y Evaluación con AUC-ROC**"
   ]
  },
  {
   "cell_type": "markdown",
   "id": "0b6ab940-096e-4091-81dd-944885576de3",
   "metadata": {},
   "source": [
    "Cada columna de `y_train` representa un evento distinto, por lo que tenemos **6 problemas de clasificación binaria independientes**. Dado que cada evento puede ocurrir de forma separada, entrenamos un modelo específico para cada uno en lugar de tratarlo como un solo problema multiclase.  \n",
    "\n",
    "Para abordar estos problemas, utilizamos dos enfoques:  \n",
    "\n",
    "- **Regresión Logística:** Modelo lineal eficiente e interpretable, útil cuando las relaciones entre las características y los eventos son aproximadamente lineales.  \n",
    "- **Random Forest:** Modelo basado en múltiples árboles de decisión, capaz de capturar relaciones no lineales y manejar mejor la variabilidad de los datos.  \n",
    "\n",
    "Cada modelo se entrena por separado para cada evento. Luego, se generan predicciones sobre el conjunto de validación y se evalúan usando **AUC-ROC**, una métrica que mide la capacidad del modelo para diferenciar entre las clases positiva y negativa.  \n",
    "\n",
    "Los valores de AUC-ROC obtenidos se almacenan en **`resultados_auc`**, permitiendo comparar el rendimiento de cada modelo en los distintos eventos.  \n",
    "\n",
    "Al final de este paso, habremos entrenado **12 modelos** (6 eventos × 2 modelos cada uno) y registrado **12 evaluaciones de AUC-ROC** para su análisis posterior.  \n"
   ]
  },
  {
   "cell_type": "code",
   "execution_count": 6,
   "id": "f06232aa-ea3a-4e1a-86ba-b6ff7c903368",
   "metadata": {},
   "outputs": [
    {
     "name": "stdout",
     "output_type": "stream",
     "text": [
      "Entrenando modelos para el evento: HandStart\n",
      " → Entrenando RandomForest...\n",
      " RandomForest - AUC-ROC para HandStart: 0.6363\n",
      " → Entrenando LogisticRegression...\n",
      " LogisticRegression - AUC-ROC para HandStart: 0.7168\n",
      "Entrenando modelos para el evento: FirstDigitTouch\n",
      " → Entrenando RandomForest...\n",
      " RandomForest - AUC-ROC para FirstDigitTouch: 0.6297\n",
      " → Entrenando LogisticRegression...\n",
      " LogisticRegression - AUC-ROC para FirstDigitTouch: 0.6901\n",
      "Entrenando modelos para el evento: BothStartLoadPhase\n",
      " → Entrenando RandomForest...\n",
      " RandomForest - AUC-ROC para BothStartLoadPhase: 0.6241\n",
      " → Entrenando LogisticRegression...\n",
      " LogisticRegression - AUC-ROC para BothStartLoadPhase: 0.6854\n",
      "Entrenando modelos para el evento: LiftOff\n",
      " → Entrenando RandomForest...\n",
      " RandomForest - AUC-ROC para LiftOff: 0.6749\n",
      " → Entrenando LogisticRegression...\n",
      " LogisticRegression - AUC-ROC para LiftOff: 0.7473\n",
      "Entrenando modelos para el evento: Replace\n",
      " → Entrenando RandomForest...\n",
      " RandomForest - AUC-ROC para Replace: 0.8153\n",
      " → Entrenando LogisticRegression...\n",
      " LogisticRegression - AUC-ROC para Replace: 0.8366\n",
      "Entrenando modelos para el evento: BothReleased\n",
      " → Entrenando RandomForest...\n",
      " RandomForest - AUC-ROC para BothReleased: 0.7327\n",
      " → Entrenando LogisticRegression...\n",
      " LogisticRegression - AUC-ROC para BothReleased: 0.7932\n"
     ]
    }
   ],
   "source": [
    "# Definir modelos base\n",
    "modelos = {\n",
    "    \"RandomForest\": RandomForestClassifier(n_estimators=100, random_state=42),\n",
    "    \"LogisticRegression\": LogisticRegression(max_iter=1000, random_state=42)\n",
    "}\n",
    "\n",
    "# Diccionarios para guardar resultados\n",
    "resultados_auc = {modelo: {} for modelo in modelos.keys()}  # AUC-ROC por modelo y evento\n",
    "modelos_entrenados = {modelo: {} for modelo in modelos.keys()}  # Modelos guardados\n",
    "\n",
    "# Entrenar ambos modelos para cada evento\n",
    "for evento in y_train.columns:\n",
    "    print(f\"Entrenando modelos para el evento: {evento}\")\n",
    "\n",
    "    for nombre_modelo, modelo in modelos.items():\n",
    "        print(f\" → Entrenando {nombre_modelo}...\")\n",
    "\n",
    "        # Crear una copia del modelo\n",
    "        modelo_instancia = modelo.fit(X_train, y_train[evento])\n",
    "\n",
    "        # Guardar el modelo entrenado\n",
    "        modelos_entrenados[nombre_modelo][evento] = modelo_instancia\n",
    "\n",
    "        # Obtener predicciones de probabilidad\n",
    "        y_pred_proba = modelo_instancia.predict_proba(X_valid)[:, 1]\n",
    "\n",
    "        # Calcular AUC-ROC\n",
    "        auc = roc_auc_score(y_valid[evento], y_pred_proba)\n",
    "        resultados_auc[nombre_modelo][evento] = auc\n",
    "\n",
    "        print(f\" {nombre_modelo} - AUC-ROC para {evento}: {auc:.4f}\")"
   ]
  },
  {
   "cell_type": "markdown",
   "id": "ab6869c2-2c18-4ab9-a908-bd726cd4d281",
   "metadata": {},
   "source": [
    "       "
   ]
  },
  {
   "cell_type": "markdown",
   "id": "3b8680f9-92c5-461e-83c4-8a2ce448d12b",
   "metadata": {},
   "source": [
    "       "
   ]
  },
  {
   "cell_type": "markdown",
   "id": "1e7c9efe-6d92-4526-aab4-133d8c2a9393",
   "metadata": {},
   "source": [
    "## **3. Comparación de los Modelos**"
   ]
  },
  {
   "cell_type": "markdown",
   "id": "2ca227c5-2bb9-46f8-b1db-3fa9491c3db7",
   "metadata": {},
   "source": [
    "Los valores obtenidos y almacenados en `resultados_auc` se convierten en un **DataFrame de Pandas (`df_auc`)** para facilitar su análisis y visualización.  \n",
    "\n",
    "Para comparar los modelos de forma gráfica, se genera un **gráfico de barras**, donde:  \n",
    "\n",
    "- Cada barra representa el **AUC-ROC obtenido por un modelo en un evento**.  \n",
    "- Se utiliza la paleta **\"coolwarm\"** para diferenciar modelos.  \n",
    "- Se establecen límites en el eje Y entre **0.5 y 1**, ya que valores por debajo de 0.5 indican que el modelo es peor que el azar.  \n",
    "- Se añade una **cuadrícula** para facilitar la comparación visual.  \n",
    "\n",
    "Este análisis permite identificar **qué modelo funciona mejor para cada evento** y en cuáles es necesario mejorar el rendimiento.  \n"
   ]
  },
  {
   "cell_type": "code",
   "execution_count": 8,
   "id": "746013de-1c3d-4dc3-9a2f-732ced729b5c",
   "metadata": {},
   "outputs": [
    {
     "data": {
      "text/plain": [
       "<Figure size 1000x500 with 0 Axes>"
      ]
     },
     "metadata": {},
     "output_type": "display_data"
    },
    {
     "data": {
      "image/png": "[encoded data removed]",
      "text/plain": [
       "<Figure size 1000x500 with 1 Axes>"
      ]
     },
     "metadata": {},
     "output_type": "display_data"
    }
   ],
   "source": [
    "# Convertir resultados en DataFrame para mejor visualización\n",
    "df_auc = pd.DataFrame(resultados_auc)\n",
    "\n",
    "# Graficar comparativa de AUC-ROC por evento y modelo\n",
    "plt.figure(figsize=(10, 5))\n",
    "df_auc.plot(kind=\"bar\", figsize=(10, 5), colormap=\"coolwarm\", edgecolor=\"black\")\n",
    "plt.xlabel(\"Evento\")\n",
    "plt.ylabel(\"AUC-ROC\")\n",
    "plt.title(\"Comparación de AUC-ROC entre Modelos\")\n",
    "plt.ylim(0.5, 1)  # AUC va de 0.5 (aleatorio) a 1 (perfecto)\n",
    "plt.xticks(rotation=45)\n",
    "plt.legend(title=\"Modelo\")\n",
    "plt.grid(axis=\"y\", linestyle=\"--\", alpha=0.7)\n",
    "plt.show()\n",
    "\n",
    "\n",
    "\n",
    "# Definir ruta para guardar los modelos\n",
    "model_path = r\"C:\\Users\\luciaft\\Documents\\TFG\\TFG\\graspAndLiftDetectionTFGProyect\\models\"\n",
    "os.makedirs(model_path, exist_ok=True)\n",
    "\n",
    "# Guardar datos en Pickle\n",
    "with open(os.path.join(model_path, \"modelos_entrenados.pkl\"), \"wb\") as f:\n",
    "    pickle.dump(modelos_entrenados, f)\n",
    "    \n",
    "df_auc.to_csv(os.path.join(processed_path, \"resultados_auc.csv\"), index=True)"
   ]
  },
  {
   "cell_type": "markdown",
   "id": "89aa0f51-99da-4536-89bf-d10cc67d825f",
   "metadata": {},
   "source": [
    "### Análisis de Resultados y Consideraciones para Próximos Modelos  \n",
    "\n",
    "Los resultados muestran que **la Regresión Logística ha superado a Random Forest en todos los eventos**, lo que sugiere que las relaciones entre las señales EEG y los eventos pueden ser **más lineales de lo esperado**.  \n",
    "\n",
    "#### Observaciones Clave  \n",
    "- **Los eventos `Replace` y `BothReleased` tienen mejor desempeño** (AUC-ROC > 0.8), lo que indica que los patrones en las señales EEG son más distinguibles para estos eventos.  \n",
    "- **Los eventos `FirstDigitTouch`, `BothStartLoadPhase` y `HandStart` muestran menor desempeño** (AUC-ROC en torno a 0.63 - 0.71), lo que sugiere que pueden ser más difíciles de predecir debido a una señal EEG más difusa o poco diferenciada.  \n",
    "\n",
    "#### Optimización del Tiempo de Entrenamiento  \n",
    "\n",
    "El entrenamiento ha tardado **una hora**, debido principalmente a **Random Forest**, que ha tardado aproximadamente **10 minutos por evento**, mientras que **Regresión Logística completó cada evento en solo unos segundos**. Dado que Random Forest ha mostrado un peor desempeño y un costo computacional alto, es recomendable ajustar la estrategia para futuras pruebas.  \n",
    "\n",
    "Algunas alternativas para reducir el tiempo de entrenamiento sin comprometer la calidad de los resultados incluyen:  \n",
    "\n",
    "1. **Reducir la cantidad de datos de entrenamiento:**  \n",
    "   - En lugar de entrenar con **6 series y evaluar con 2**, probar con **3 series de entrenamiento y 1 de validación** para evaluar si los resultados se mantienen estables con menos datos, permitiendo iteraciones más rápidas.  \n",
    "   - Esto permitiría hacer pruebas más rápidas sobre diferentes modelos e hiperparámetros antes de escalar el entrenamiento completo.  \n",
    "&nbsp; \n",
    "2. **Evitar Random Forest y probar modelos más eficientes:**  \n",
    "   - **XGBoost o LightGBM** pueden ofrecer mejor rendimiento con menor tiempo de entrenamiento.  \n",
    "&nbsp; \n",
    "3. **Optimizar hiperparámetros de Regresión Logística:**  \n",
    "   - Como ha mostrado mejor desempeño y es mucho más rápido, ajustar el hiperparámetro `C` (regularización) podría mejorar aún más los resultados sin necesidad de modelos más complejos."
   ]
  },
  {
   "cell_type": "markdown",
   "id": "fddc8545-d4f8-4650-a19e-e983eef39b9c",
   "metadata": {},
   "source": [
    "       "
   ]
  },
  {
   "cell_type": "markdown",
   "id": "ec6878b0-968e-4c2d-aae1-11b6818c05ac",
   "metadata": {},
   "source": [
    "        "
   ]
  },
  {
   "cell_type": "markdown",
   "id": "3aec5640-cfb3-480c-9f9a-6b6e0f978064",
   "metadata": {},
   "source": [
    "### **Estrategia para la Optimización y Combinación de Predicciones**\n",
    "\n",
    "#### **Evaluación de los Primeros Modelos**\n",
    "Hemos probado dos modelos de Machine Learning para la detección de eventos en EEG:\n",
    "- **Regresión Logística**\n",
    "- **Random Forest**\n",
    "\n",
    "Los resultados mostraron que **Regresión Logística obtuvo mejores métricas en todos los eventos**, por lo que descartamos Random Forest y nos enfocamos en mejorar el rendimiento de la Regresión Logística antes de combinar las predicciones.\n",
    "\n",
    "---\n",
    "\n",
    "#### **¿Optimizar antes o después de combinar predicciones?**\n",
    "Al enfrentar un problema de clasificación multietiqueta (seis eventos independientes), hay dos posibles estrategias:\n",
    "\n",
    "1. **Evaluar y combinar predicciones antes de optimizar** (Estrategia Inicial):\n",
    "   - Entrenar modelos base para cada evento.\n",
    "   - Evaluar cada modelo individualmente con AUC-ROC.\n",
    "   - Combinar las predicciones de los seis modelos y evaluar el resultado conjunto.\n",
    "   - Si la combinación no da buenos resultados, optimizar los modelos individuales.\n",
    "\n",
    "   Esto permite identificar si la mejora está en la combinación de predicciones en lugar de en los modelos individuales, pero si los modelos base no son    lo suficientemente buenos, la combinación de predicciones tampoco lo será.\n",
    "\n",
    "2. **Optimizar un poco antes de combinar predicciones** (Estrategia Ajustada):\n",
    "   - Si los modelos individuales tienen un AUC bajo, es mejor **optimizar primero** antes de combinarlos.\n",
    "   - Ajustar **hiperparámetros** como la regularización (`C`, `l1/l2`).\n",
    "   - Evaluar si los modelos optimizados realmente mejoran.\n",
    "   - Combinar predicciones y analizar si hay conflictos o patrones en los eventos detectados.\n",
    "   - Si después de combinar las predicciones la métrica AUC aún no es buena, probar modelos más avanzados (XGBoost, Redes Neuronales, etc.).\n",
    "\n",
    "   Esto permite mejorar la calidad de cada modelo antes de fusionar las predicciones, pero puede consumir más tiempo si la optimización no aporta           mejoras significativas.\n",
    "\n",
    "#### **Decisión: Seguimos la Segunda Estrategia**\n",
    "Dado que **los modelos actuales tienen un AUC en torno a 0.7, lo que no es suficientemente alto**, y que, por lo general, es muy difícil que la combinación de predicciones por sí sola consiga aumentar significativamente la métrica hasta niveles óptimos (de ≈0.7 a ≈0.95, que es lo que nos interesa), **optimizaremos primero la Regresión Logística antes de combinar predicciones**.  \n",
    "\n",
    "---\n",
    "\n",
    "#### **Plan de Acción**\n",
    "\n",
    "✅ **1️⃣ Optimizar la Regresión Logística con GridSearchCV** para ajustar hiperparámetros (`C`, `l1/l2`).   \n",
    "✅ **2️⃣ Evaluar de nuevo cada modelo individual** después de la optimización.   \n",
    "✅ **3️⃣ Valorar si combinar las predicciones de los seis modelos** y analizar la coherencia entre eventos, o antes hacer ajustes adicionales en preprocesado/ probar modelos más avanzados** (XGBoost, Redes Neuronales, etc.).   \n",
    "\n",
    "---\n",
    "\n",
    "**Continuamos en `03_optimizacion.ipynb` para ajustar la Regresión Logística y mejorar su rendimiento.**"
   ]
  }
 ],
 "metadata": {
  "kernelspec": {
   "display_name": "Python 3 (ipykernel)",
   "language": "python",
   "name": "python3"
  },
  "language_info": {
   "codemirror_mode": {
    "name": "ipython",
    "version": 3
   },
   "file_extension": ".py",
   "mimetype": "text/x-python",
   "name": "python",
   "nbconvert_exporter": "python",
   "pygments_lexer": "ipython3",
   "version": "3.13.2"
  }
 },
 "nbformat": 4,
 "nbformat_minor": 5
}
