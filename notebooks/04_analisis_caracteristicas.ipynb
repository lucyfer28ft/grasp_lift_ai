{
 "cells": [
  {
   "cell_type": "markdown",
   "id": "2454e039-9b71-41dd-912d-e1ce6592dd08",
   "metadata": {},
   "source": [
    "# **Análisis de Características - 04_analisis_caracteristicas.ipynb**  \n",
    "\n",
    "## **🎯 Objetivo del Notebook**  \n",
    "Este notebook tiene como objetivo analizar la relevancia de las características en los datos EEG y aplicar técnicas de reducción de dimensionalidad para mejorar el rendimiento del modelo.  \n",
    "\n",
    "## **📌 Contexto**  \n",
    "En notebooks anteriores, entrenamos un modelo de Regresión Logística para la clasificación de eventos EEG. Sin embargo, la optimización del hiperparámetro C no resultó en mejoras significativas. Esto sugiere que la calidad de los datos podría estar limitando el rendimiento del modelo.  \n",
    "\n",
    "Para abordar esto, en este análisis exploraremos estrategias de selección de características y reducción de dimensionalidad antes de probar modelos más complejos (XGBoost, LightGBM).  \n",
    "\n",
    "---\n",
    "## **📌 Estrategia**  \n",
    "Transformaciones a realizar y consideraciones:\n",
    "\n",
    "- **Eliminamos outliers antes de normalizar** ya que la normalización podría ocultar o reducir la diferencia entre outliers y valores normales.\n",
    "- **Eliminamos características con baja varianza antes de normalizar**, evitando que la normalización enmascare su baja importancia.  \n",
    "- **Analizamos correlaciones antes de normalizar**, ya que los cambios de escala pueden afectar las correlaciones, y sopesamos si utilizar PCA en función de los resultados.    \n",
    "- **Usamos SelectKBest sobre los datos normalizados**, seleccionando las características con mayor impacto en la clasificación.  \n",
    "- **Evaluamos el impacto de estos cambios comparando el rendimiento del modelo antes y después del preprocesamiento después de cada tranformación.**  \n",
    "\n",
    "---\n",
    "\n",
    "## **🚀 Flujo de Trabajo en este Notebook**  \n",
    "\n",
    "En lugar de aplicar todo el preprocesamiento de una vez, **evaluaremos el impacto de cada transformación de manera individual**. Esto nos permitirá comprobar si cada técnica realmente mejora el rendimiento antes de aplicarla de forma definitiva.  \n",
    "\n",
    "Por lo tanto, **tras cada filtro aplicado, , normalizaremos los datos y compararemos el rendimiento del modelo Regresión Logística** para decidir si continuamos con la transformación o revertimos los cambios.  \n",
    "\n",
    "1️⃣ **Cargar los datos sin preprocesar**  \n",
    "2️⃣ **Aplicar cada técnica de preprocesamiento de forma independiente**  \n",
    "3️⃣ **Normalizar los datos antes de cada evaluación**  \n",
    "4️⃣ **Comparar el rendimiento del modelo tras cada preprocesamiento**  \n",
    "5️⃣ **Decidir si mantener o descartar cada transformación**   \n",
    "6️⃣ **Conclusiones y próximos pasos.**    "
   ]
  },
  {
   "cell_type": "markdown",
   "id": "9c416b1c-3308-4b0e-af69-c4f83632023d",
   "metadata": {},
   "source": [
    "       "
   ]
  },
  {
   "cell_type": "markdown",
   "id": "65c1204d-e5f7-4144-8e61-4a3b62d4ef43",
   "metadata": {},
   "source": [
    "        "
   ]
  },
  {
   "cell_type": "markdown",
   "id": "2e446db4-6c1f-4052-8ca4-31ab5290dfea",
   "metadata": {},
   "source": [
    "## **1. Carga de Datos**"
   ]
  },
  {
   "cell_type": "code",
   "execution_count": 33,
   "id": "d5c42a93-09ce-4eaf-81fb-c339e74ba950",
   "metadata": {},
   "outputs": [],
   "source": [
    "import pickle\n",
    "import os\n",
    "import numpy as np\n",
    "import pandas as pd\n",
    "import matplotlib.pyplot as plt\n",
    "import seaborn as sns\n",
    "import\n",
    "from scipy.stats import zscore\n",
    "from sklearn.decomposition import PCA\n",
    "from sklearn.feature_selection import VarianceThreshold, SelectKBest, f_classif\n",
    "from sklearn.model_selection import cross_val_score\n",
    "from sklearn.metrics import roc_auc_score\n",
    "from sklearn.linear_model import LogisticRegression\n",
    "from sklearn.preprocessing import StandardScaler\n",
    "from collections import Counter\n",
    "\n",
    "DATA_PATH = r\"C:\\Users\\luciaft\\Documents\\TFG\\TFG\\graspAndLiftDetectionTFGProyect\\data\\raw_data\\train\\train\"\n",
    "SUBJECT = \"subj1\"\n",
    "SERIES_TRAIN = [f\"{SUBJECT}_series{i}_data.csv\" for i in range(1, 9)]\n",
    "SERIES_EVENTS = [f\"{SUBJECT}_series{i}_events.csv\" for i in range(1, 9)]\n",
    "\n",
    "def load_data(series, path=DATA_PATH):\n",
    "    dfs = [pd.read_csv(os.path.join(path, file)) for file in series]\n",
    "    return pd.concat(dfs, ignore_index=True)\n",
    "\n",
    "df_train = load_data(SERIES_TRAIN)\n",
    "df_events = load_data(SERIES_EVENTS)\n",
    "df = df_train.merge(df_events, on=\"id\")\n",
    "\n",
    "eeg_columns = df.columns[1:33]  # Columnas de señales EEG\n",
    "event_columns = [\"HandStart\", \"FirstDigitTouch\", \"BothStartLoadPhase\", \"LiftOff\", \"Replace\", \"BothReleased\"]\n",
    "\n",
    "df_sujeto1 = df[df[\"id\"].str.startswith(\"subj1_series\")]\n",
    "df_train = df_sujeto1[df_sujeto1[\"id\"].str.contains(\"series[1-6]_\")]\n",
    "df_valid = df_sujeto1[df_sujeto1[\"id\"].str.contains(r\"series[7-8]_\", regex=True)]\n",
    "\n",
    "X_train, y_train = df_train[eeg_columns], df_train[event_columns]\n",
    "X_valid, y_valid = df_valid[eeg_columns], df_valid[event_columns]"
   ]
  },
  {
   "cell_type": "markdown",
   "id": "652da42e-7722-4268-ad40-ece99c0d2e0b",
   "metadata": {},
   "source": [
    "     "
   ]
  },
  {
   "cell_type": "markdown",
   "id": "98500a98-e6de-4371-9681-2e9158aede76",
   "metadata": {},
   "source": [
    "   "
   ]
  },
  {
   "cell_type": "markdown",
   "id": "3c367b11-6ba8-4f22-9cc7-4ef4bdd53bca",
   "metadata": {},
   "source": [
    "## **2. Función de Evaluación**"
   ]
  },
  {
   "cell_type": "markdown",
   "id": "8d8d835c-c79f-44e0-a3ed-ad4ad3342c49",
   "metadata": {},
   "source": [
    "A pesar de que decidimos dividir los datos en entrenamiento y validación, para el preprocesamiento utilizaremos validación cruzada sobre el subconjunto de entrenamiento, ya que nos permite evaluar el impacto de cada transformación de forma más robusta, al promediar el rendimiento sobre múltiples particiones del entrenamiento. Así evitamos depender del azar de un único subconjunto (`X_valid`) y tomamos decisiones más fiables antes de hacer una evaluación final con el conjunto de validación reservado."
   ]
  },
  {
   "cell_type": "code",
   "execution_count": 34,
   "id": "883d9827-1f98-4ae3-95f8-fc2c68f63bf5",
   "metadata": {},
   "outputs": [
    {
     "name": "stdout",
     "output_type": "stream",
     "text": [
      "Evaluación con solo normalización:\n",
      "HandStart: ROC AUC Score: 0.7605 ± 0.0495\n",
      "FirstDigitTouch: ROC AUC Score: 0.7809 ± 0.0983\n",
      "BothStartLoadPhase: ROC AUC Score: 0.7439 ± 0.0979\n",
      "LiftOff: ROC AUC Score: 0.7528 ± 0.0782\n",
      "Replace: ROC AUC Score: 0.8609 ± 0.0451\n",
      "BothReleased: ROC AUC Score: 0.7902 ± 0.0402\n"
     ]
    }
   ],
   "source": [
    "def evaluate_model(X_train, y_train, event_name):\n",
    "    model = LogisticRegression()\n",
    "    scores = cross_val_score(model, X_train, y_train, cv=5, scoring='roc_auc')\n",
    "    print(f\"{event_name}: ROC AUC Score: {np.mean(scores):.4f} \\u00b1 {np.std(scores):.4f}\")\n",
    "\n",
    "scaler = StandardScaler()\n",
    "X_train_scaled = scaler.fit_transform(X_train)\n",
    "\n",
    "print(\"Evaluación con solo normalización:\")\n",
    "for event in event_columns:\n",
    "    evaluate_model(X_train_scaled, y_train[event], event)"
   ]
  },
  {
   "cell_type": "markdown",
   "id": "cee9d9d7-6da7-4fa2-959c-656685dbfb91",
   "metadata": {},
   "source": [
    "         "
   ]
  },
  {
   "cell_type": "markdown",
   "id": "5478f875-c6ca-4477-ae17-3587b24329f7",
   "metadata": {},
   "source": [
    "       "
   ]
  },
  {
   "cell_type": "markdown",
   "id": "823f02f6-c6a9-4824-a2a4-106743c2bd3f",
   "metadata": {},
   "source": [
    "## **2. Eliminación de Outliers y Evaluación del Impacto en el Modelo**"
   ]
  },
  {
   "cell_type": "markdown",
   "id": "c1d2b3f6-4c71-4522-a777-f35eaf5e832b",
   "metadata": {},
   "source": [
    "Ya detectamos **valores extremos** en `01_preprocesamiento.ipynb`, por lo que aquí aplicamos un filtro basado en Z-score y según los resultados decidiremos si continuar con los datos filtrados o no."
   ]
  },
  {
   "cell_type": "code",
   "execution_count": 43,
   "id": "1f663a3c-cc24-45d8-9f5e-512a401729c8",
   "metadata": {},
   "outputs": [
    {
     "name": "stdout",
     "output_type": "stream",
     "text": [
      "Evaluación tras eliminación de outliers:\n",
      "HandStart: ROC AUC Score: 0.7790 ± 0.0283\n",
      "FirstDigitTouch: ROC AUC Score: 0.8105 ± 0.0692\n",
      "BothStartLoadPhase: ROC AUC Score: 0.7709 ± 0.0766\n",
      "LiftOff: ROC AUC Score: 0.7716 ± 0.0730\n",
      "Replace: ROC AUC Score: 0.8751 ± 0.0371\n",
      "BothReleased: ROC AUC Score: 0.8042 ± 0.0393\n"
     ]
    }
   ],
   "source": [
    "z_scores = np.abs(zscore(X_train))\n",
    "outlier_threshold = 3\n",
    "mask = (z_scores < outlier_threshold).all(axis=1)\n",
    "X_train_filtered = X_train[mask]\n",
    "y_train_filtered = y_train[mask]\n",
    "X_valid_filtered = X_valid[X_train_filtered.columns]  # Igualar columnas para cuando utilicemos subconjunto validación\n",
    "\n",
    "\n",
    "X_train_filtered_scaled = scaler.fit_transform(X_train_filtered)\n",
    "\n",
    "print(\"Evaluación tras eliminación de outliers:\")\n",
    "for event in event_columns:\n",
    "    evaluate_model(X_train_filtered_scaled, y_train_filtered[event], event)"
   ]
  },
  {
   "cell_type": "markdown",
   "id": "f93c7058-6a93-4d62-84d2-5f3905d1cf74",
   "metadata": {},
   "source": [
    "🟢 **La eliminación de Outliers mejoró los resultados de Regresión Logistica**, por tanto, **utilizaremos los datos filtrados para el análisis de la varianza**. Esto se debe a que los outliers pueden influir en la varianza de las características, lo que podría llevar a la eliminación de características que en realidad son relevantes solo porque tienen valores extremos. Así, tomamos decisiones basadas en datos más representativos y sin sesgos provocados por valores extremos."
   ]
  },
  {
   "cell_type": "markdown",
   "id": "cc812c48-256a-4d72-9d30-2ca121c346a6",
   "metadata": {},
   "source": [
    "      "
   ]
  },
  {
   "cell_type": "markdown",
   "id": "42703cc3-d76e-487e-8675-30bab9beac5f",
   "metadata": {},
   "source": [
    "        "
   ]
  },
  {
   "cell_type": "markdown",
   "id": "5ab1f789-9847-4d02-b1c7-e79eb3370a53",
   "metadata": {},
   "source": [
    "## **3. Análisis de la Varianza de las Características EEG**"
   ]
  },
  {
   "cell_type": "markdown",
   "id": "b1419ad4-492f-419c-a979-e9bdbc595ec3",
   "metadata": {},
   "source": [
    "Como el `StandardScaler` ya ha normalizado los datos, usamos `VarianceThreshold` **para eliminar características con baja variabilidad.**"
   ]
  },
  {
   "cell_type": "code",
   "execution_count": 36,
   "id": "0742ca7d-4070-4192-81c8-ab70a2f25313",
   "metadata": {},
   "outputs": [
    {
     "data": {
      "image/png": "[encoded data removed]",
      "text/plain": [
       "<Figure size 1200x500 with 1 Axes>"
      ]
     },
     "metadata": {},
     "output_type": "display_data"
    },
    {
     "name": "stdout",
     "output_type": "stream",
     "text": [
      "FC1       8371.990834\n",
      "Cz        9798.043374\n",
      "FC2       9944.200949\n",
      "CP1      12886.182303\n",
      "C3       14204.412593\n",
      "C4       16312.172712\n",
      "Fz       19678.626757\n",
      "P3       20951.338248\n",
      "Pz       21881.438018\n",
      "CP2      23547.823300\n",
      "F3       24313.481271\n",
      "CP5      30142.912763\n",
      "CP6      30683.853786\n",
      "P4       32522.975885\n",
      "FC5      32812.760200\n",
      "Oz       34250.561453\n",
      "F4       34864.678530\n",
      "P7       36310.016939\n",
      "O1       38980.823003\n",
      "P8       39515.732662\n",
      "O2       40236.691693\n",
      "FC6      40290.867729\n",
      "F7       42567.085736\n",
      "PO9      47430.339816\n",
      "PO10     50365.931383\n",
      "T7       86561.397048\n",
      "Fp2      92046.248271\n",
      "TP10    106995.912601\n",
      "F8      113470.312078\n",
      "Fp1     128434.153760\n",
      "TP9     187763.374768\n",
      "T8      203286.798899\n",
      "dtype: float64\n"
     ]
    }
   ],
   "source": [
    "\n",
    "# Calcular varianza de cada electrodo\n",
    "feature_variances = X_train.var().sort_values(ascending=True)\n",
    "\n",
    "# Visualizar la varianza de las características\n",
    "plt.figure(figsize=(12, 5))\n",
    "sns.barplot(x=feature_variances.index, y=feature_variances.values)\n",
    "plt.xticks(rotation=90)\n",
    "plt.title(\"Varianza de las Características EEG por Electrodo\")\n",
    "plt.show()\n",
    "\n",
    "print(feature_variances)"
   ]
  },
  {
   "cell_type": "markdown",
   "id": "f9ac50d3-c415-4970-8a9b-aae0530f3ba2",
   "metadata": {},
   "source": [
    "### **Análisis de la distribución de las varianzas**\n",
    "\n",
    "- **Varianza más baja**: `FC1 = 8,371`\n",
    "- **Varianza más alta**: `T8 = 203,286`\n",
    "- **Mediana aproximada**: Al estar los valores distribuidos de manera creciente, la mediana parece estar en el rango de `30,000 - 40,000`.\n",
    "- **Valores más bajos**: Los electrodos `FC1`, `Cz`, `FC2`, `CP1`, `C3` tienen varianzas menores a `15,000`.\n",
    "\n",
    "#### **¿Qué umbral usar en `VarianceThreshold`?**\n",
    "🟢 No hay valores de varianza extremadamente baja en ninguno de los electrodos, probaremos a eliminar solo un electrodo fijando el umbral en **9,000** por mostrar los cambios en los resultados, pero es probable casi no varien o que empeoren levemente porque **no es necesario eliminar ningún electrodo basado en varianza baja, ya que ninguna de las varianzas es lo suficientemente pequeña como para indicar una falta de variabilidad significativa en la señal del electrodo.**"
   ]
  },
  {
   "cell_type": "code",
   "execution_count": 37,
   "id": "1418138c-7120-4066-afb5-3bafc01e0aa1",
   "metadata": {},
   "outputs": [
    {
     "name": "stdout",
     "output_type": "stream",
     "text": [
      "Evaluación tras eliminación de baja varianza:\n",
      "HandStart: ROC AUC Score: 0.7792 ± 0.0229\n",
      "FirstDigitTouch: ROC AUC Score: 0.8096 ± 0.0660\n",
      "BothStartLoadPhase: ROC AUC Score: 0.7677 ± 0.0728\n",
      "LiftOff: ROC AUC Score: 0.7662 ± 0.0696\n",
      "Replace: ROC AUC Score: 0.8775 ± 0.0354\n",
      "BothReleased: ROC AUC Score: 0.8040 ± 0.0366\n"
     ]
    }
   ],
   "source": [
    "# Aplicar filtro de varianza sobre los datos ya sin outliers\n",
    "selector_var = VarianceThreshold(threshold=9000)\n",
    "X_train_var = selector_var.fit_transform(X_train_filtered)\n",
    "\n",
    "# Normalizar después del filtrado\n",
    "X_train_var_scaled = scaler.fit_transform(X_train_var)\n",
    "\n",
    "print(\"Evaluación tras eliminación de baja varianza:\")\n",
    "for event in event_columns:\n",
    "    evaluate_model(X_train_var_scaled, y_train_filtered[event], event)"
   ]
  },
  {
   "cell_type": "markdown",
   "id": "98f8a929-fee4-4e38-9376-b4026da0e319",
   "metadata": {},
   "source": [
    "🟢 **Efectivamente, los resultados casi no varían y empeoran ligeramente en la mayoría de los casos, por lo que continuamos con los datos simplemente sin outliers**"
   ]
  },
  {
   "cell_type": "markdown",
   "id": "e39cd438-1535-427f-b5e8-a2a62a4d9c37",
   "metadata": {},
   "source": [
    "          "
   ]
  },
  {
   "cell_type": "markdown",
   "id": "2fc58e29-0582-40cb-8b8d-bece90d9523a",
   "metadata": {},
   "source": [
    "    "
   ]
  },
  {
   "cell_type": "markdown",
   "id": "f393d659-f17c-4cc0-9356-007e0050cfed",
   "metadata": {},
   "source": [
    "## **4. Análisis de Correlaciones**"
   ]
  },
  {
   "cell_type": "markdown",
   "id": "20a76b09-ea1a-4745-a660-a6ac146157f3",
   "metadata": {},
   "source": [
    "Si algunas señales EEG están altamente correlacionadas, es posible que sean redundantes. Si hubiera muchas correlaciones superiores a 0.9, aplicaríamos `PCA` para reducir dimensionalidad."
   ]
  },
  {
   "cell_type": "code",
   "execution_count": 38,
   "id": "5b24c2ca-3106-48a2-a9b3-f5ea83083a4d",
   "metadata": {},
   "outputs": [
    {
     "data": {
      "image/png": "[encoded data removed]",
      "text/plain": [
       "<Figure size 640x480 with 2 Axes>"
      ]
     },
     "metadata": {},
     "output_type": "display_data"
    },
    {
     "name": "stdout",
     "output_type": "stream",
     "text": [
      "     Electrodo 1 Electrodo 2  Correlación\n",
      "863           P8        PO10     0.786129\n",
      "1018        PO10          P8     0.786129\n",
      "731           P7         PO9     0.785078\n",
      "886          PO9          P7     0.785078\n",
      "989           O2          Oz     0.781884\n",
      "958           Oz          O2     0.781884\n",
      "727           P7          P3     0.781133\n",
      "758           P3          P7     0.781133\n",
      "764           P3          O1     0.771908\n",
      "919           O1          P3     0.771908\n"
     ]
    }
   ],
   "source": [
    "# Calcular la matriz de correlación\n",
    "correlation_matrix = pd.DataFrame(X_train_filtered).corr()\n",
    "\n",
    "# Mapa de calor de correlación entre electrodos\n",
    "sns.heatmap(correlation_matrix, cmap='coolwarm', center=0)\n",
    "plt.title(\"Matriz de Correlación\")\n",
    "plt.show()\n",
    "\n",
    "# Desenrollar la matriz de correlación en formato de lista ordenada\n",
    "correlation_unrolled = correlation_matrix.unstack().reset_index()\n",
    "correlation_unrolled.columns = [\"Electrodo 1\", \"Electrodo 2\", \"Correlación\"]\n",
    "\n",
    "# Filtrar para quitar la diagonal (correlación de un electrodo consigo mismo siempre es 1)\n",
    "correlation_unrolled = correlation_unrolled[correlation_unrolled[\"Electrodo 1\"] != correlation_unrolled[\"Electrodo 2\"]]\n",
    "\n",
    "# Ordenar de mayor a menor\n",
    "correlation_unrolled = correlation_unrolled.sort_values(by=\"Correlación\", ascending=False)\n",
    "\n",
    "# Mostrar las 10 correlaciones más altas\n",
    "print(correlation_unrolled.head(10))"
   ]
  },
  {
   "cell_type": "markdown",
   "id": "7d0feb1e-9d9e-439e-9011-5c27c884b1d0",
   "metadata": {},
   "source": [
    "#### **Resultados**\n",
    "- **No hay señales EEG con correlación > 0.9**, por lo que **NO es necesario aplicar `PCA` por redundancia.**  \n",
    "- **Todas las señales tienen correlaciones similares, moderadamente altas (~0.8), pero no lo suficientemente extremas para justificar una reducción automática.**  \n",
    "\n",
    "#### **Conclusión**\n",
    "🟢 **Mantenemos todas las señales EEG y pasamos a `SelectKBest` para seleccionar las más relevantes.**    "
   ]
  },
  {
   "cell_type": "markdown",
   "id": "c297419d-0708-4d5b-bcc5-dce55f8cd1dd",
   "metadata": {},
   "source": [
    "       "
   ]
  },
  {
   "cell_type": "markdown",
   "id": "4d979015-5f03-409d-b01b-70e9b8df0c55",
   "metadata": {},
   "source": [
    "     "
   ]
  },
  {
   "cell_type": "markdown",
   "id": "1e0664e3-fb01-4e75-9845-63744f16a9c4",
   "metadata": {},
   "source": [
    "## **5. Selección de características con ANOVA (`SelectKBest`)**"
   ]
  },
  {
   "cell_type": "markdown",
   "id": "78d69141-5fd8-406c-8ffa-6fd293366287",
   "metadata": {},
   "source": [
    "**Seleccionamos las 20 características más relevantes** en cada evento EEG utilizando **`SelectKBest`** con la **métrica ANOVA F-value**. Esto permite reducir la cantidad de datos sin perder información clave.  \n",
    "\n",
    "Para cada uno de los 6 eventos, **filtramos las características que mejor diferencian entre presencia y ausencia del evento** y guardamos el conjunto de características seleccionadas. \n",
    "\n",
    "Luego, analizamos **cuáles características fueron seleccionadas con más frecuencia en todos los eventos**. Si la mayoría son comunes, **usaremos un solo conjunto optimizado**; si hay mucha variabilidad, **mantendremos selecciones individuales por evento**"
   ]
  },
  {
   "cell_type": "code",
   "execution_count": 39,
   "id": "342c61b0-458e-4bd6-8879-7cf151022312",
   "metadata": {},
   "outputs": [
    {
     "name": "stdout",
     "output_type": "stream",
     "text": [
      "\n",
      "**Resumen de Selección de Características**\n",
      "Evento 1: 20 características seleccionadas\n",
      "Características más relevantes: F7, F3, Fz, FC5, T7, C4, T8, CP5, CP1, CP2, CP6, P7, P3, Pz, P4, P8, PO9, O1, Oz, O2\n",
      "Evento 2: 20 características seleccionadas\n",
      "Características más relevantes: Fp1, Fp2, FC6, T7, C4, T8, TP9, CP5, CP2, CP6, TP10, P7, P3, Pz, P4, P8, O1, Oz, O2, PO10\n",
      "Evento 3: 20 características seleccionadas\n",
      "Características más relevantes: Fp1, F8, FC6, T7, C4, T8, TP9, CP5, CP2, CP6, TP10, P7, P3, Pz, P4, P8, O1, Oz, O2, PO10\n",
      "Evento 4: 20 características seleccionadas\n",
      "Características más relevantes: Fp1, F7, F8, FC2, FC6, C4, T8, TP9, CP2, CP6, TP10, P7, P3, Pz, P4, P8, O1, Oz, O2, PO10\n",
      "Evento 5: 20 características seleccionadas\n",
      "Características más relevantes: Fp1, Fp2, F7, F3, Fz, F4, F8, FC5, FC1, C3, T8, CP2, P7, P3, Pz, P8, PO9, O1, Oz, PO10\n",
      "Evento 6: 20 características seleccionadas\n",
      "Características más relevantes: Fp1, Fp2, F7, F3, Fz, FC1, FC6, C3, C4, T8, CP1, CP2, CP6, P7, P3, Pz, P4, P8, O1, PO10\n",
      "\n",
      "**Características Comunes en Todos los Eventos**\n",
      "T8, CP2, P7, P3, Pz, P8, O1\n",
      "\n",
      "Total de características comunes: 7 de 20 posibles.\n",
      "31 características fueron seleccionadas al menos en un evento.\n"
     ]
    }
   ],
   "source": [
    "# Diccionario para almacenar las características seleccionadas por evento\n",
    "selected_features = {}\n",
    "feature_support_masks = {}\n",
    "event_summary = []\n",
    "\n",
    "# Convertir y_train_filtered a NumPy\n",
    "y_train_array = y_train_filtered.to_numpy()\n",
    "\n",
    "for event in range(y_train_filtered.shape[1]):  \n",
    "    k_best = SelectKBest(score_func=f_classif, k=20)  \n",
    "    X_train_best = k_best.fit_transform(X_train_filtered_scaled, y_train_array[:, event])  \n",
    "\n",
    "    mask = k_best.get_support()\n",
    "    selected_feature_names = np.array(eeg_columns)[mask]\n",
    "\n",
    "    # Guardar las características seleccionadas para este evento\n",
    "    selected_features[f\"Evento_{event+1}\"] = X_train_best\n",
    "    feature_support_masks[f\"Evento_{event+1}\"] = selected_feature_names\n",
    "\n",
    "    # Agregar al resumen\n",
    "    event_summary.append(\n",
    "        f\"Evento {event+1}: {X_train_best.shape[1]} características seleccionadas\\n\"\n",
    "        f\"Características más relevantes: {', '.join(selected_feature_names)}\"\n",
    "    )\n",
    "\n",
    "# Imprimir resumen final de los eventos\n",
    "print(\"\\n**Resumen de Selección de Características**\")\n",
    "for summary in event_summary:\n",
    "    print(summary)\n",
    "\n",
    "# Contar frecuencia de aparición de cada característica\n",
    "feature_counter = Counter()\n",
    "\n",
    "for selected_feature_names in feature_support_masks.values():\n",
    "    feature_counter.update(selected_feature_names)\n",
    "\n",
    "# Características seleccionadas en todos los eventos\n",
    "common_features = [feat for feat, count in feature_counter.items() if count == len(selected_features)]\n",
    "\n",
    "print(\"\\n**Características Comunes en Todos los Eventos**\")\n",
    "print(\", \".join(common_features))\n",
    "print(f\"\\nTotal de características comunes: {len(common_features)} de 20 posibles.\")\n",
    "print(f\"{len(feature_counter)} características fueron seleccionadas al menos en un evento.\")"
   ]
  },
  {
   "cell_type": "markdown",
   "id": "d360f2fa-65d2-45e1-93db-adf89ce76bc4",
   "metadata": {},
   "source": [
    "#### Análisis de la Selección de Características\n",
    "\n",
    "Tras aplicar `SelectKBest` de forma independiente a cada evento, observamos que **las características seleccionadas no son exactamente las mismas** para todos los eventos. De las 20 seleccionadas por evento, solo **7 características** son comunes en todos los casos.\n",
    "\n",
    "### ¿Qué implica este resultado?\n",
    "\n",
    "- Existe cierta **consistencia** en algunas características EEG que aparecen repetidamente, lo que sugiere que podrían ser especialmente informativas de manera general.\n",
    "- Aun así, **no hemos evaluado todavía si usar solo esas características comunes permite mantener un buen rendimiento**.\n",
    "- Este enfoque tiene el potencial de **reducir la dimensionalidad**, simplificar el modelo y disminuir el riesgo de sobreajuste, siempre que la pérdida de información no afecte al AUC.\n",
    "\n",
    "---\n",
    "Vamos a probar el rendimiento del modelo utilizando **las 20 características más frecuentes seleccionadas por `SelectKBest` en cada evento**, comparándolo con el modelo que utiliza **todas las características disponibles** tras la eliminación de outliers.\n",
    "\n",
    "Esta estrategia busca conservar las variables que han demostrado ser informativas de forma consistente entre eventos, lo que permite **reducir la dimensionalidad** sin perder demasiada información relevante. Si el rendimiento se mantiene o mejora, podremos adoptar este subconjunto optimizado para futuras etapas del proyecto."
   ]
  },
  {
   "cell_type": "code",
   "execution_count": 40,
   "id": "830395c7-4f14-45fa-aa5f-408262a32d97",
   "metadata": {},
   "outputs": [
    {
     "name": "stdout",
     "output_type": "stream",
     "text": [
      "Top 25 características más frecuentes entre eventos:\n",
      "['T8', 'CP2', 'P7', 'P3', 'Pz', 'P8', 'O1', 'C4', 'CP6', 'P4', 'Oz', 'Fp1', 'PO10', 'F7', 'O2', 'FC6', 'F3', 'Fz', 'T7', 'CP5', 'Fp2', 'TP9', 'TP10', 'F8', 'FC5']\n",
      "Nuevo tamaño de X_train con top 20 features: (1043205, 25)\n",
      "Nuevo tamaño de X_valid con top 20 features: (236894, 25)\n"
     ]
    }
   ],
   "source": [
    "# ✅ Reemplaza las características comunes por las 20 más frecuentes\n",
    "\n",
    "# Obtener las 20 características más frecuentes entre eventos (calculadas previamente)\n",
    "top_25_features = [feat for feat, _ in feature_counter.most_common(25)]\n",
    "\n",
    "print(\"Top 25 características más frecuentes entre eventos:\")\n",
    "print(top_25_features)\n",
    "\n",
    "# Filtrar X_train y X_valid con las top 20\n",
    "X_train_best = X_train_filtered[top_25_features].values\n",
    "X_valid_best = X_valid[top_25_features].values\n",
    "\n",
    "# Aplicar normalización sobre este subconjunto\n",
    "scaler_best = StandardScaler()\n",
    "X_train_best_scaled = scaler_best.fit_transform(X_train_best)\n",
    "X_valid_best_scaled = scaler_best.transform(X_valid_best)\n",
    "\n",
    "# Verificar dimensiones\n",
    "print(f\"Nuevo tamaño de X_train con top 20 features: {X_train_best_scaled.shape}\")\n",
    "print(f\"Nuevo tamaño de X_valid con top 20 features: {X_valid_best_scaled.shape}\")"
   ]
  },
  {
   "cell_type": "markdown",
   "id": "d8342767-7262-4e0f-9f04-84ee47ef384f",
   "metadata": {},
   "source": [
    "      "
   ]
  },
  {
   "cell_type": "markdown",
   "id": "5028e0ea-5885-4ced-bfb9-ced49f033a01",
   "metadata": {},
   "source": [
    "      "
   ]
  },
  {
   "cell_type": "markdown",
   "id": "3ff093d1-59fc-45f0-a903-f4ac65c9915c",
   "metadata": {},
   "source": [
    "## **6. Comparación de Modelos**"
   ]
  },
  {
   "cell_type": "markdown",
   "id": "75763b51-eb48-46d7-9213-6faf9c2ad566",
   "metadata": {},
   "source": [
    " Evaluamos si el modelo mejora en comparación con usar todas las características originales."
   ]
  },
  {
   "cell_type": "code",
   "execution_count": 41,
   "id": "64af0cef-85b7-4144-a8a3-271f2901891d",
   "metadata": {},
   "outputs": [
    {
     "name": "stdout",
     "output_type": "stream",
     "text": [
      "\n",
      "**Comparación de Modelos por Evento**\n",
      "\n",
      "Evaluando Modelo para HandStart...\n",
      "HandStart (Outliers Removed): ROC AUC Score: 0.7790 ± 0.0283\n",
      "HandStart (Outliers + SelectKBest): ROC AUC Score: 0.7304 ± 0.0351\n",
      "\n",
      "Evaluando Modelo para FirstDigitTouch...\n",
      "FirstDigitTouch (Outliers Removed): ROC AUC Score: 0.8105 ± 0.0692\n",
      "FirstDigitTouch (Outliers + SelectKBest): ROC AUC Score: 0.7582 ± 0.0674\n",
      "\n",
      "Evaluando Modelo para BothStartLoadPhase...\n",
      "BothStartLoadPhase (Outliers Removed): ROC AUC Score: 0.7709 ± 0.0766\n",
      "BothStartLoadPhase (Outliers + SelectKBest): ROC AUC Score: 0.6906 ± 0.0757\n",
      "\n",
      "Evaluando Modelo para LiftOff...\n",
      "LiftOff (Outliers Removed): ROC AUC Score: 0.7716 ± 0.0730\n",
      "LiftOff (Outliers + SelectKBest): ROC AUC Score: 0.6987 ± 0.0849\n",
      "\n",
      "Evaluando Modelo para Replace...\n",
      "Replace (Outliers Removed): ROC AUC Score: 0.8751 ± 0.0371\n",
      "Replace (Outliers + SelectKBest): ROC AUC Score: 0.8735 ± 0.0349\n",
      "\n",
      "Evaluando Modelo para BothReleased...\n",
      "BothReleased (Outliers Removed): ROC AUC Score: 0.8042 ± 0.0393\n",
      "BothReleased (Outliers + SelectKBest): ROC AUC Score: 0.7971 ± 0.0365\n"
     ]
    }
   ],
   "source": [
    "print(\"\\n**Comparación de Modelos por Evento**\")\n",
    "\n",
    "# Aplicar normalización a los datos con todas las características\n",
    "scaler_all = StandardScaler()\n",
    "X_train_filtered_scaled = scaler_all.fit_transform(X_train_filtered)\n",
    "\n",
    "# Aplicar normalización a los datos con las 20 características seleccionadas\n",
    "scaler_best = StandardScaler()\n",
    "X_train_best_scaled = scaler_best.fit_transform(X_train_best)\n",
    "\n",
    "# Iterar sobre cada evento\n",
    "for event in event_columns:\n",
    "    print(f\"\\nEvaluando Modelo para {event}...\")\n",
    "\n",
    "    # Etiqueta del evento actual\n",
    "    y_train_event = y_train_filtered[event]\n",
    "\n",
    "    # Evaluar modelo con todas las características (tras eliminar outliers)\n",
    "    auc_score_original = evaluate_model(X_train_filtered_scaled, y_train_event, f\"{event} (Outliers Removed)\")\n",
    "\n",
    "    # Evaluar modelo con las características seleccionadas (comunes)\n",
    "    auc_score_best = evaluate_model(X_train_best_scaled, y_train_event, f\"{event} (Outliers + SelectKBest)\")"
   ]
  },
  {
   "cell_type": "markdown",
   "id": "386a642e-c109-437a-89d9-47f401145e5a",
   "metadata": {},
   "source": [
    "#### **Resumen de Resultados**\n",
    "- **El modelo con todas las características superó en todos los casos al modelo con SelectKBest.**   \n",
    "- Esto indica que **eliminar características puede estar afectando negativamente la capacidad del modelo para capturar información relevante.**\n",
    "\n",
    "#### **Decisión**\n",
    "🟢 **No utilizaremos SelectKBest**, ya que la reducción de características no mejoró el rendimiento.  \n",
    "🟢 **Seguiremos trabajando con todas las características originales**, ya que ofrecen mejor AUC en todos los eventos.  "
   ]
  },
  {
   "cell_type": "markdown",
   "id": "2ba3b509-490e-42bc-a03a-d0aa7bc27c87",
   "metadata": {},
   "source": [
    "       "
   ]
  },
  {
   "cell_type": "markdown",
   "id": "83827ae8-c78c-4632-98be-80f283e945dd",
   "metadata": {},
   "source": [
    "       "
   ]
  },
  {
   "cell_type": "markdown",
   "id": "ae789406-32c4-4d5e-a8a5-65e851316cc4",
   "metadata": {},
   "source": [
    "## **7. Evaluar con Subconjunto de Validación y Guardar Datos**"
   ]
  },
  {
   "cell_type": "code",
   "execution_count": 44,
   "id": "bb26e58d-ef83-466f-83dd-7bdcd0869d6c",
   "metadata": {},
   "outputs": [
    {
     "name": "stdout",
     "output_type": "stream",
     "text": [
      "\n",
      "📈 Evaluación final con subconjunto de validación (X_valid_filtered_scaled):\n",
      "HandStart: AUC-ROC (validación real) = 0.7180\n",
      "FirstDigitTouch: AUC-ROC (validación real) = 0.6940\n",
      "BothStartLoadPhase: AUC-ROC (validación real) = 0.6922\n",
      "LiftOff: AUC-ROC (validación real) = 0.7462\n",
      "Replace: AUC-ROC (validación real) = 0.8501\n",
      "BothReleased: AUC-ROC (validación real) = 0.8080\n"
     ]
    }
   ],
   "source": [
    "print(\"\\n📈 Evaluación final con subconjunto de validación (X_valid_filtered_scaled):\")\n",
    "\n",
    "# Diccionario para guardar resultados\n",
    "auc_valid_results = {}\n",
    "\n",
    "# Asegurar que X_valid tenga las mismas columnas que X_train_filtered\n",
    "X_valid_filtered_scaled = scaler.transform(X_valid_filtered)\n",
    "\n",
    "for event in event_columns:\n",
    "    y_train_event = y_train_filtered[event]\n",
    "    y_valid_event = y_valid[event]\n",
    "\n",
    "    # Entrenar modelo con TODO el X_train filtrado y escalado\n",
    "    model = LogisticRegression(max_iter=1000)\n",
    "    model.fit(X_train_filtered_scaled, y_train_event)\n",
    "\n",
    "    # Predecir probabilidades sobre X_valid\n",
    "    y_pred_proba = model.predict_proba(X_valid_filtered_scaled)[:, 1]\n",
    "\n",
    "    # Calcular AUC sobre y_valid\n",
    "    auc = roc_auc_score(y_valid_event, y_pred_proba)\n",
    "    auc_valid_results[event] = round(auc, 4)\n",
    "\n",
    "    print(f\"{event}: AUC-ROC (validación real) = {auc:.4f}\")"
   ]
  },
  {
   "cell_type": "code",
   "execution_count": 45,
   "id": "c11e07b0-856e-432c-9961-79db823a5c3b",
   "metadata": {},
   "outputs": [],
   "source": [
    "# Definir ruta de guardado\n",
    "processed_path = r\"C:\\Users\\luciaft\\Documents\\TFG\\TFG\\graspAndLiftDetectionTFGProyect\\data\\processed\"\n",
    "os.makedirs(processed_path, exist_ok=True)\n",
    "\n",
    "# Guardar datos preprocesados (solo outliers eliminados + escalado)\n",
    "with open(os.path.join(processed_path, \"preprocessed_data_outliers_scaled.pkl\"), \"wb\") as f:\n",
    "    pickle.dump((X_train_filtered_scaled, y_train_filtered, X_valid_filtered_scaled, y_valid), f)\n",
    "\n",
    "# Guardar en CSV\n",
    "pd.DataFrame(X_train_filtered_scaled).to_csv(os.path.join(processed_path, \"X_train_outliers.csv\"), index=False)\n",
    "pd.DataFrame(y_train_filtered).to_csv(os.path.join(processed_path, \"y_train_outliers.csv\"), index=False)\n",
    "pd.DataFrame(X_valid_filtered_scaled).to_csv(os.path.join(processed_path, \"X_valid_outliers.csv\"), index=False)\n",
    "pd.DataFrame(y_valid).to_csv(os.path.join(processed_path, \"y_valid_outliers.csv\"), index=False)\n",
    "\n",
    "# Guardar resultados AUC \n",
    "auc_df = pd.DataFrame.from_dict(auc_valid_results, orient='index', columns=['AUC'])\n",
    "auc_df.index.name = 'Evento'\n",
    "auc_df.to_csv(os.path.join(processed_path, \"auc_results_outliers.csv\"))"
   ]
  },
  {
   "cell_type": "markdown",
   "id": "aa26b971-f3cd-4b47-9b89-6871c183429b",
   "metadata": {},
   "source": [
    "    "
   ]
  },
  {
   "cell_type": "markdown",
   "id": "ae531e37-c19f-4083-9ff4-5e31ec049d01",
   "metadata": {},
   "source": [
    "     "
   ]
  },
  {
   "cell_type": "markdown",
   "id": "30574642-1725-442e-a7c0-1839640e5f7f",
   "metadata": {},
   "source": [
    "## **📌 Conclusión y Próximos Pasos**\n",
    "\n",
    "En este análisis, exploramos diferentes técnicas de preprocesamiento para mejorar la clasificación de eventos EEG. La eliminación de outliers fue la única técnica que mejoró el rendimiento del modelo, mientras que la selección de características y la reducción de dimensionalidad no generaron mejoras e incluso empeoraron los resultados.\n",
    " \n",
    "Dado que los EEG son señales temporales, abordaremos la **ingeniería de características** en el siguiente notebook. Aplicaremos técnicas como:\n",
    "- **Extracción de características temporales** (medias móviles, desviaciones estándar, gradientes).\n",
    "- **Transformadas en el dominio de la frecuencia** (FFT, densidad espectral de potencia).\n",
    "- **Derivadas y tasas de cambio** (diferencias entre muestras consecutivas).\n",
    " \n",
    "Esto nos permitirá capturar mejor la información presente en la señal y mejorar la capacidad predictiva del modelo antes de considerar modelos más avanzados, asegurándonos de que estamos alimentando a los modelos con los mejores datos posibles, ya que si los datos no están bien preparados, incluso los modelos más sofisticados pueden dar malos resultados.\n",
    " \n",
    "Si la ingeniería de características aporta mejoras significativas continuaremos con los datos preprocesados a través de estas técnicas, en caso contrario, sólo con la normalización y eliminación de outliers, para más adelante proceder a **probar modelos más avanzados** (XGBoost, Redes Neuronales, etc.).\n",
    " \n",
    " ---\n",
    "**Continuamos pues en `05_ingenieria_caracteristicas.ipynb` para comenzar con la ingeniería de características.**"
   ]
  }
 ],
 "metadata": {
  "kernelspec": {
   "display_name": "Python 3 (ipykernel)",
   "language": "python",
   "name": "python3"
  },
  "language_info": {
   "codemirror_mode": {
    "name": "ipython",
    "version": 3
   },
   "file_extension": ".py",
   "mimetype": "text/x-python",
   "name": "python",
   "nbconvert_exporter": "python",
   "pygments_lexer": "ipython3",
   "version": "3.13.2"
  }
 },
 "nbformat": 4,
 "nbformat_minor": 5
}
