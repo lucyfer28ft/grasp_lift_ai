{
 "cells": [
  {
   "cell_type": "markdown",
   "id": "2454e039-9b71-41dd-912d-e1ce6592dd08",
   "metadata": {},
   "source": [
    "# **Análisis de Características - `04_analisis_caracteristicas.ipynb`**\n",
    "\n",
    "### **🎯 Objetivo del Notebook**\n",
    "Este notebook tiene como objetivo analizar la relevancia de las características en los datos EEG y aplicar técnicas de reducción de dimensionalidad para mejorar el rendimiento del modelo.  \n",
    "\n",
    "### **📌 Contexto**\n",
    "En notebooks anteriores, entrenamos un modelo de Regresión Logística para la clasificación de eventos EEG relacionados con el movimiento de la mano. Sin embargo, la optimización del hiperparámetro `C` no resultó en mejoras significativas, por lo que para conseguir mejores resultados y en base a lo analizado en `01_preprocesamiento` analizaremos y filtraremos las características actuales ya que podrían estar limitando el rendimiento del modelo.  \n",
    "\n",
    "Antes de probar modelos más complejos (`XGBoost`, `LightGBM`), es crucial mejorar la calidad de los datos. Para ello, en este notebook exploraremos:  \n",
    "- **La importancia de cada electrodo en la clasificación de eventos EEG.**  \n",
    "- **La eliminación de características irrelevantes o ruidosas.**  \n",
    "- **Técnicas de reducción de dimensionalidad, como PCA o análisis de varianza.**  \n",
    "- **El impacto de estas mejoras en el rendimiento de la Regresión Logística.**  \n",
    "\n",
    "### **🚀 Flujo de Trabajo en este Notebook***\n",
    "1️⃣ **Carga de datos preprocesados**  \n",
    "2️⃣ **Eliminación de Outliers**  \n",
    "3️⃣ **Análisis de la Varianza**  \n",
    "4️⃣ **Análisis de Correlaciones y Reducción de Dimensionalidad con PCA si hay señales altamente correlacionadas**  \n",
    "5️⃣ **Análisis de la importancia de las características y Selección de características basada en relevancia**   \n",
    "6️⃣ **Comparación del rendimiento antes y después del nuevo preprocesamiento aplicado**  \n",
    "7️⃣ **Conclusiones y próximos pasos**  "
   ]
  },
  {
   "cell_type": "markdown",
   "id": "9c416b1c-3308-4b0e-af69-c4f83632023d",
   "metadata": {},
   "source": [
    "       "
   ]
  },
  {
   "cell_type": "markdown",
   "id": "65c1204d-e5f7-4144-8e61-4a3b62d4ef43",
   "metadata": {},
   "source": [
    "        "
   ]
  },
  {
   "cell_type": "markdown",
   "id": "2e446db4-6c1f-4052-8ca4-31ab5290dfea",
   "metadata": {},
   "source": [
    "## **1. Carga de Datos Preprocesados**"
   ]
  },
  {
   "cell_type": "markdown",
   "id": "6823fa59-fcac-48e3-b3fb-189c08a5acf2",
   "metadata": {},
   "source": [
    "Además de cargar los datos verificamos que se mantengan la media ≈ 0 y std ≈ 1."
   ]
  },
  {
   "cell_type": "code",
   "execution_count": 17,
   "id": "d5c42a93-09ce-4eaf-81fb-c339e74ba950",
   "metadata": {},
   "outputs": [
    {
     "name": "stdout",
     "output_type": "stream",
     "text": [
      "Media después del preprocesamiento: [ 2.76186120e-17  5.37028566e-18  1.15844734e-16 -4.90997546e-17\n",
      "  9.70487338e-17  7.40332238e-17  4.79489791e-18 -5.33192648e-17\n",
      "  1.25626325e-16  1.99467753e-17  6.98137136e-17  2.79063059e-17\n",
      "  1.85466651e-16  4.75653873e-17 -6.44434280e-17 -2.08098569e-17\n",
      "  1.30421223e-17 -7.67183666e-18  3.39958262e-17 -2.30155100e-18\n",
      " -1.93234386e-17  3.26053058e-18  1.96303121e-16 -7.82527339e-17\n",
      "  8.66917543e-17  4.59351220e-17  5.27438770e-18 -3.72084078e-17\n",
      " -5.29356730e-17 -2.92488773e-17 -2.97763160e-17 -3.14545303e-17]\n",
      "Desviación estándar después del preprocesamiento: [1. 1. 1. 1. 1. 1. 1. 1. 1. 1. 1. 1. 1. 1. 1. 1. 1. 1. 1. 1. 1. 1. 1. 1.\n",
      " 1. 1. 1. 1. 1. 1. 1. 1.]\n"
     ]
    }
   ],
   "source": [
    "import pickle\n",
    "import os\n",
    "import numpy as np\n",
    "import pandas as pd\n",
    "import matplotlib.pyplot as plt\n",
    "import seaborn as sns\n",
    "from scipy.stats import zscore\n",
    "from sklearn.decomposition import PCA\n",
    "from sklearn.feature_selection import VarianceThreshold, SelectKBest, f_classif\n",
    "from sklearn.model_selection import cross_val_score\n",
    "from sklearn.metrics import roc_auc_score\n",
    "from sklearn.linear_model import LogisticRegression\n",
    "from collections import Counter\n",
    "\n",
    "# Definir la ruta de los datos preprocesados\n",
    "processed_path = r\"C:\\Users\\luciaft\\Documents\\TFG\\TFG\\graspAndLiftDetectionTFGProyect\\data\\processed\"\n",
    "\n",
    "# Cargar los datos preprocesados\n",
    "with open(os.path.join(processed_path, \"preprocessed_data.pkl\"), \"rb\") as f:\n",
    "    X_train, y_train, X_valid, y_valid = pickle.load(f)\n",
    "\n",
    "# Verificar normalización\n",
    "print(\"Media después del preprocesamiento:\", np.mean(X_train, axis=0))\n",
    "print(\"Desviación estándar después del preprocesamiento:\", np.std(X_train, axis=0))"
   ]
  },
  {
   "cell_type": "markdown",
   "id": "652da42e-7722-4268-ad40-ece99c0d2e0b",
   "metadata": {},
   "source": [
    "     "
   ]
  },
  {
   "cell_type": "markdown",
   "id": "98500a98-e6de-4371-9681-2e9158aede76",
   "metadata": {},
   "source": [
    "   "
   ]
  },
  {
   "cell_type": "markdown",
   "id": "823f02f6-c6a9-4824-a2a4-106743c2bd3f",
   "metadata": {},
   "source": [
    "## **2. Eliminación de Outliers y Evaluación del Impacto del Filtrado en el Modelo**"
   ]
  },
  {
   "cell_type": "markdown",
   "id": "c1d2b3f6-4c71-4522-a777-f35eaf5e832b",
   "metadata": {},
   "source": [
    "Ya detectamos **valores extremos** en `01_preprocesamiento.ipynb`, por lo que aquí aplicamos un filtro basado en Z-score."
   ]
  },
  {
   "cell_type": "code",
   "execution_count": 37,
   "id": "1f663a3c-cc24-45d8-9f5e-512a401729c8",
   "metadata": {},
   "outputs": [
    {
     "name": "stdout",
     "output_type": "stream",
     "text": [
      "Datos antes: 1185498\n",
      "Datos después de eliminar outliers: 1172937\n",
      "\n",
      "**Comparación de Modelos con y sin Eliminación de Outliers**\n",
      "\n",
      "Evaluando Modelo para HandStart...\n",
      "AUC Original: 0.7552 | AUC Sin Outliers: 0.7552\n",
      "\n",
      "Evaluando Modelo para FirstDigitTouch...\n",
      "AUC Original: 0.7741 | AUC Sin Outliers: 0.7741\n",
      "\n",
      "Evaluando Modelo para BothStartLoadPhase...\n",
      "AUC Original: 0.7365 | AUC Sin Outliers: 0.7365\n",
      "\n",
      "Evaluando Modelo para LiftOff...\n",
      "AUC Original: 0.7485 | AUC Sin Outliers: 0.7485\n",
      "\n",
      "Evaluando Modelo para Replace...\n",
      "AUC Original: 0.8589 | AUC Sin Outliers: 0.8589\n",
      "\n",
      "Evaluando Modelo para BothReleased...\n",
      "AUC Original: 0.7839 | AUC Sin Outliers: 0.7839\n",
      "\n",
      "**Resumen Final de AUC-ROC con y sin Eliminación de Outliers**\n",
      "HandStart: AUC Original = 0.7552 | AUC Sin Outliers = 0.7552\n",
      "FirstDigitTouch: AUC Original = 0.7741 | AUC Sin Outliers = 0.7741\n",
      "BothStartLoadPhase: AUC Original = 0.7365 | AUC Sin Outliers = 0.7365\n",
      "LiftOff: AUC Original = 0.7485 | AUC Sin Outliers = 0.7485\n",
      "Replace: AUC Original = 0.8589 | AUC Sin Outliers = 0.8589\n",
      "BothReleased: AUC Original = 0.7839 | AUC Sin Outliers = 0.7839\n"
     ]
    }
   ],
   "source": [
    "# Calcular Z-score\n",
    "z_scores = np.abs(zscore(X_train))\n",
    "\n",
    "# Definir umbral (Z > 3 indica outliers)\n",
    "threshold = 3\n",
    "outliers = (z_scores > threshold).sum(axis=1)\n",
    "\n",
    "# Filtrar filas con menos de 5 outliers\n",
    "X_train_filtered = X_train[outliers < 5]\n",
    "y_train_filtered = y_train[outliers < 5]\n",
    "\n",
    "print(f\"Datos antes: {X_train.shape[0]}\")\n",
    "print(f\"Datos después de eliminar outliers: {X_train_filtered.shape[0]}\")\n",
    "\n",
    "\n",
    "\n",
    "# Evaluar el rendimiento tras eliminar outliers\n",
    "\n",
    "# Convertir y_train_filtered a NumPy array\n",
    "if isinstance(y_train_filtered, pd.DataFrame):\n",
    "    y_train_filtered = y_train_filtered.values\n",
    "\n",
    "# Diccionario para almacenar los resultados AUC por evento\n",
    "auc_results_outliers = {}\n",
    "\n",
    "print(\"\\n**Comparación de Modelos con y sin Eliminación de Outliers**\")\n",
    "\n",
    "for event in range(y_train_filtered.shape[1]):  \n",
    "    event_name = event_names[event]\n",
    "    print(f\"\\nEvaluando Modelo para {event_name}...\")\n",
    "\n",
    "    # Seleccionar la etiqueta correspondiente (convertir a 1D)\n",
    "    y_train_event = y_train_filtered[:, event]\n",
    "    \n",
    "    # Modelo con todas las características (sin filtrar outliers)\n",
    "    model_original = LogisticRegression(max_iter=1000)\n",
    "    auc_score_original = cross_val_score(model_original, X_train_var, y_train_array[:, event], cv=5, scoring=\"roc_auc\").mean()\n",
    "\n",
    "    # Modelo tras eliminar outliers\n",
    "    model_filtered = LogisticRegression(max_iter=1000)\n",
    "    auc_score_filtered = cross_val_score(model_filtered, X_train_filtered, y_train_event, cv=5, scoring=\"roc_auc\").mean()\n",
    "\n",
    "    # Guardar resultados\n",
    "    auc_results_outliers[event_name] = {\"Original\": auc_score_original, \"Sin Outliers\": auc_score_filtered}\n",
    "\n",
    "    # Imprimir resultados del evento\n",
    "    print(f\"AUC Original: {auc_score_original:.4f} | AUC Sin Outliers: {auc_score_filtered:.4f}\")\n",
    "\n",
    "# Mostrar resumen final\n",
    "print(\"\\n**Resumen Final de AUC-ROC con y sin Eliminación de Outliers**\")\n",
    "for event, scores in auc_results_outliers.items():\n",
    "    print(f\"{event}: AUC Original = {scores['Original']:.4f} | AUC Sin Outliers = {scores['Sin Outliers']:.4f}\")\n"
   ]
  },
  {
   "cell_type": "markdown",
   "id": "cc812c48-256a-4d72-9d30-2ca121c346a6",
   "metadata": {},
   "source": [
    "      "
   ]
  },
  {
   "cell_type": "markdown",
   "id": "42703cc3-d76e-487e-8675-30bab9beac5f",
   "metadata": {},
   "source": [
    "        "
   ]
  },
  {
   "cell_type": "markdown",
   "id": "5ab1f789-9847-4d02-b1c7-e79eb3370a53",
   "metadata": {},
   "source": [
    "## **3. Análisis de la Varianza de las Características EEG**"
   ]
  },
  {
   "cell_type": "markdown",
   "id": "b1419ad4-492f-419c-a979-e9bdbc595ec3",
   "metadata": {},
   "source": [
    "Como el `StandardScaler` ya ha normalizado los datos, usamos `VarianceThreshold` **para eliminar características con baja variabilidad.**"
   ]
  },
  {
   "cell_type": "code",
   "execution_count": 34,
   "id": "0742ca7d-4070-4192-81c8-ab70a2f25313",
   "metadata": {},
   "outputs": [
    {
     "data": {
      "image/png": "[encoded data removed]",
      "text/plain": [
       "<Figure size 1200x500 with 1 Axes>"
      ]
     },
     "metadata": {},
     "output_type": "display_data"
    },
    {
     "name": "stdout",
     "output_type": "stream",
     "text": [
      "Características antes: 32\n",
      "Características después de eliminar baja varianza: 32\n"
     ]
    }
   ],
   "source": [
    "# Convertir X_train en DataFrame para facilitar el análisis\n",
    "eeg_df = pd.DataFrame(X_train_filtered, columns=['Fp1', 'Fp2', 'F7', 'F3', 'Fz', 'F4', 'F8', 'FC5', 'FC1', 'FC2', \n",
    "                                        'FC6', 'T7', 'C3', 'Cz', 'C4', 'T8', 'TP9', 'CP5', 'CP1', 'CP2', \n",
    "                                        'CP6', 'TP10', 'P7', 'P3', 'Pz', 'P4', 'P8', 'PO9', 'O1', 'Oz', \n",
    "                                        'O2', 'PO10'])\n",
    "\n",
    "# Calcular varianza de cada electrodo\n",
    "feature_variances = eeg_df.var().sort_values(ascending=True)\n",
    "\n",
    "# Visualizar la varianza de las características\n",
    "plt.figure(figsize=(12, 5))\n",
    "sns.barplot(x=feature_variances.index, y=feature_variances.values)\n",
    "plt.xticks(rotation=90)\n",
    "plt.title(\"Varianza de las Características EEG por Electrodo\")\n",
    "plt.show()\n",
    "\n",
    "\n",
    "# Aplicar filtro de varianza baja\n",
    "selector = VarianceThreshold(threshold=0.01)\n",
    "X_train_var = selector.fit_transform(X_train_filtered)\n",
    "X_valid_var = selector.transform(X_valid)\n",
    "\n",
    "print(f\"Características antes: {X_train_filtered.shape[1]}\")\n",
    "print(f\"Características después de eliminar baja varianza: {X_train_var.shape[1]}\")"
   ]
  },
  {
   "cell_type": "markdown",
   "id": "98f8a929-fee4-4e38-9376-b4026da0e319",
   "metadata": {},
   "source": [
    "🟢 **No hay características con suficientemente baja variabilidad como para que sea beneficioso eliminarlas**"
   ]
  },
  {
   "cell_type": "markdown",
   "id": "e39cd438-1535-427f-b5e8-a2a62a4d9c37",
   "metadata": {},
   "source": [
    "          "
   ]
  },
  {
   "cell_type": "markdown",
   "id": "2fc58e29-0582-40cb-8b8d-bece90d9523a",
   "metadata": {},
   "source": [
    "    "
   ]
  },
  {
   "cell_type": "markdown",
   "id": "f393d659-f17c-4cc0-9356-007e0050cfed",
   "metadata": {},
   "source": [
    "## **4. Análisis de Correlaciones**"
   ]
  },
  {
   "cell_type": "markdown",
   "id": "20a76b09-ea1a-4745-a660-a6ac146157f3",
   "metadata": {},
   "source": [
    "Si algunas señales EEG están altamente correlacionadas, es posible que sean redundantes. Si hubiera muchas correlaciones superiores a 0.9, aplicaríamos `PCA` para reducir dimensionalidad."
   ]
  },
  {
   "cell_type": "code",
   "execution_count": 21,
   "id": "5b24c2ca-3106-48a2-a9b3-f5ea83083a4d",
   "metadata": {},
   "outputs": [
    {
     "data": {
      "image/png": "[encoded data removed]",
      "text/plain": [
       "<Figure size 1000x800 with 2 Axes>"
      ]
     },
     "metadata": {},
     "output_type": "display_data"
    },
    {
     "name": "stdout",
     "output_type": "stream",
     "text": [
      "     Electrodo 1 Electrodo 2  Correlación\n",
      "1            Fp1         Fp2     0.877474\n",
      "32           Fp2         Fp1     0.877474\n",
      "727           P7          P3     0.804985\n",
      "758           P3          P7     0.804985\n",
      "731           P7         PO9     0.801001\n",
      "886          PO9          P7     0.801001\n",
      "1018        PO10          P8     0.799593\n",
      "863           P8        PO10     0.799593\n",
      "989           O2          Oz     0.799416\n",
      "958           Oz          O2     0.799416\n"
     ]
    }
   ],
   "source": [
    "# Mapa de calor de correlación entre electrodos\n",
    "plt.figure(figsize=(10, 8))\n",
    "sns.heatmap(eeg_df.corr(), cmap=\"coolwarm\", annot=False)\n",
    "plt.title(\"Mapa de Calor de Correlación entre Electrodos EEG\")\n",
    "plt.show()\n",
    "\n",
    "# Calcular la matriz de correlación\n",
    "correlation_matrix = eeg_df.corr()\n",
    "\n",
    "# Desenrollar la matriz de correlación en formato de lista ordenada\n",
    "correlation_unrolled = correlation_matrix.unstack().reset_index()\n",
    "correlation_unrolled.columns = [\"Electrodo 1\", \"Electrodo 2\", \"Correlación\"]\n",
    "\n",
    "# Filtrar para quitar la diagonal (correlación de un electrodo consigo mismo siempre es 1)\n",
    "correlation_unrolled = correlation_unrolled[correlation_unrolled[\"Electrodo 1\"] != correlation_unrolled[\"Electrodo 2\"]]\n",
    "\n",
    "# Ordenar de mayor a menor\n",
    "correlation_unrolled = correlation_unrolled.sort_values(by=\"Correlación\", ascending=False)\n",
    "\n",
    "# Mostrar las 10 correlaciones más altas\n",
    "print(correlation_unrolled.head(10))"
   ]
  },
  {
   "cell_type": "markdown",
   "id": "7d0feb1e-9d9e-439e-9011-5c27c884b1d0",
   "metadata": {},
   "source": [
    "#### **Resultados**\n",
    "- **No hay señales EEG con correlación > 0.9**, por lo que **NO es necesario aplicar `PCA` por redundancia.**  \n",
    "- **Algunas señales tienen correlaciones moderadamente altas (~0.8), pero no lo suficientemente extremas para justificar una reducción automática.**  \n",
    "\n",
    "#### **Conclusión**\n",
    "🟢 **Mantenemos todas las señales EEG y pasamos a `SelectKBest` para seleccionar las más relevantes.**  \n",
    "🟢 **Si fuera necesario reducir dimensionalidad manualmente, podríamos eliminar una de las señales de los pares con correlación > 0.8 (ej., eliminar Fp2 y dejar Fp1).**  \n",
    "🟢 **Si aplicamos `PCA`, será para mejorar la representación de los datos y no para reducir correlaciones.**  "
   ]
  },
  {
   "cell_type": "markdown",
   "id": "c297419d-0708-4d5b-bcc5-dce55f8cd1dd",
   "metadata": {},
   "source": [
    "       "
   ]
  },
  {
   "cell_type": "markdown",
   "id": "4d979015-5f03-409d-b01b-70e9b8df0c55",
   "metadata": {},
   "source": [
    "     "
   ]
  },
  {
   "cell_type": "markdown",
   "id": "1e0664e3-fb01-4e75-9845-63744f16a9c4",
   "metadata": {},
   "source": [
    "## **5. Selección de características con ANOVA (`SelectKBest`)**"
   ]
  },
  {
   "cell_type": "markdown",
   "id": "78d69141-5fd8-406c-8ffa-6fd293366287",
   "metadata": {},
   "source": [
    "**Seleccionamos las 20 características más relevantes** en cada evento EEG utilizando **`SelectKBest`** con la **métrica ANOVA F-value**. Esto permite reducir la cantidad de datos sin perder información clave.  \n",
    "\n",
    "Para cada uno de los 6 eventos, **filtramos las características que mejor diferencian entre presencia y ausencia del evento** y guardamos el conjunto de características seleccionadas. \n",
    "\n",
    "Luego, analizamos **cuáles características fueron seleccionadas con más frecuencia en todos los eventos**. Si la mayoría son comunes, **usaremos un solo conjunto optimizado**; si hay mucha variabilidad, **mantendremos selecciones individuales por evento**"
   ]
  },
  {
   "cell_type": "code",
   "execution_count": 24,
   "id": "342c61b0-458e-4bd6-8879-7cf151022312",
   "metadata": {},
   "outputs": [
    {
     "name": "stdout",
     "output_type": "stream",
     "text": [
      "\n",
      "**Resumen de Selección de Características**\n",
      "Evento 1: 20 características seleccionadas\n",
      "Características más relevantes: F7, F3, Fz, FC5, FC6, T7, C4, CP5, CP1, CP2, CP6, P7, P3, Pz, P4, P8, PO9, O1, Oz, O2\n",
      "Evento 2: 20 características seleccionadas\n",
      "Características más relevantes: Fp1, Fp2, FC6, C4, T8, TP9, CP5, CP1, CP2, CP6, TP10, P7, P3, Pz, P4, P8, O1, Oz, O2, PO10\n",
      "Evento 3: 20 características seleccionadas\n",
      "Características más relevantes: Fp1, Fp2, FC6, C4, T8, TP9, CP5, CP1, CP2, CP6, TP10, P7, P3, Pz, P4, P8, O1, Oz, O2, PO10\n",
      "Evento 4: 20 características seleccionadas\n",
      "Características más relevantes: Fp1, F7, F8, FC6, C4, T8, TP9, CP1, CP2, CP6, TP10, P7, P3, Pz, P4, P8, O1, Oz, O2, PO10\n",
      "Evento 5: 20 características seleccionadas\n",
      "Características más relevantes: Fp1, Fp2, F7, F3, Fz, F4, FC5, FC1, C3, Cz, C4, CP1, CP2, P7, P3, Pz, P8, PO9, O1, PO10\n",
      "Evento 6: 20 características seleccionadas\n",
      "Características más relevantes: Fp1, Fp2, F7, F3, Fz, FC1, FC6, C3, Cz, C4, T8, CP1, CP2, CP6, P7, P3, Pz, P8, O1, PO10\n",
      "\n",
      "**Características Comunes en Todos los Eventos**\n",
      "Fp1, Fp2, F7, F3, Fz, FC1, FC6, C3, Cz, C4, T8, CP1, CP2, CP6, P7, P3, Pz, P8, O1, PO10\n",
      "\n",
      "Total de características comunes: 20 de 20 posibles.\n",
      "20 características fueron seleccionadas al menos en un evento.\n"
     ]
    }
   ],
   "source": [
    "# Convertir y_train_filtered a un array de NumPy para evitar errores de indexación\n",
    "y_train_array = y_train_filtered.to_numpy()\n",
    "\n",
    "# Diccionario para almacenar las características seleccionadas por evento\n",
    "selected_features = {}\n",
    "\n",
    "# Lista para almacenar el número de características seleccionadas por evento\n",
    "event_summary = []\n",
    "\n",
    "for event in range(y_train_array.shape[1]):  \n",
    "    k_best = SelectKBest(score_func=f_classif, k=20)  \n",
    "    X_train_best = k_best.fit_transform(X_train_var, y_train_array[:, event])  \n",
    "    X_valid_best = k_best.transform(X_valid_var)\n",
    "\n",
    "    # Guardar las características seleccionadas para este evento\n",
    "    selected_features[f\"Evento_{event+1}\"] = (X_train_best, X_valid_best)\n",
    "\n",
    "    # Obtener las características seleccionadas\n",
    "    selected_feature_names = np.array(eeg_df.columns)[k_best.get_support()]\n",
    "    \n",
    "    # Agregar al resumen\n",
    "    event_summary.append(\n",
    "        f\"Evento {event+1}: {X_train_best.shape[1]} características seleccionadas\\n\"\n",
    "        f\"Características más relevantes: {', '.join(selected_feature_names)}\"\n",
    "    )\n",
    "\n",
    "# Imprimir resumen final de los eventos\n",
    "print(\"\\n**Resumen de Selección de Características**\")\n",
    "for summary in event_summary:\n",
    "    print(summary)\n",
    "\n",
    "\n",
    "\n",
    "# Contar la frecuencia de cada característica en todos los eventos\n",
    "feature_counter = Counter()\n",
    "\n",
    "for event in selected_features.keys():\n",
    "    selected_feature_names = np.array(eeg_df.columns)[k_best.get_support()]\n",
    "    feature_counter.update(selected_feature_names)\n",
    "\n",
    "# Filtrar solo las características que aparecen en todos los eventos\n",
    "common_features = [feat for feat, count in feature_counter.items() if count == len(selected_features)]\n",
    "\n",
    "# Mostrar resumen mejorado\n",
    "print(\"\\n**Características Comunes en Todos los Eventos**\")\n",
    "print(\", \".join(common_features))\n",
    "\n",
    "print(f\"\\nTotal de características comunes: {len(common_features)} de 20 posibles.\")\n",
    "print(f\"{len(feature_counter)} características fueron seleccionadas al menos en un evento.\")"
   ]
  },
  {
   "cell_type": "markdown",
   "id": "d360f2fa-65d2-45e1-93db-adf89ce76bc4",
   "metadata": {},
   "source": [
    "#### **Análisis de la Selección de Características y Decisión Final**\n",
    "Tras aplicar `SelectKBest` a cada evento, observamos que **las mismas 20 características fueron seleccionadas en todos los eventos**. Esto significa que **no hay variabilidad significativa entre eventos en cuanto a qué electrodos son más informativos**.\n",
    "\n",
    "#### **¿Qué nos dice este resultado?**\n",
    "- **No es necesario mantener selecciones individuales por evento**, ya que las características más relevantes son las mismas para todos. \n",
    "- Podemos optimizar el modelo usando **un solo conjunto de 20 características comunes**, en lugar de recalcular selecciones específicas para cada evento.  \n",
    "- Esto simplifica el proceso de entrenamiento y **mejora la eficiencia sin perder información relevante.** "
   ]
  },
  {
   "cell_type": "code",
   "execution_count": 26,
   "id": "830395c7-4f14-45fa-aa5f-408262a32d97",
   "metadata": {},
   "outputs": [
    {
     "name": "stdout",
     "output_type": "stream",
     "text": [
      "Nuevo tamaño de X_train: (1172937, 20)\n",
      "Nuevo tamaño de X_valid: (236894, 20)\n"
     ]
    }
   ],
   "source": [
    "# Seleccionar las características comunes para todos los eventos\n",
    "common_feature_names = ['Fp1', 'Fp2', 'F7', 'F3', 'Fz', 'FC1', 'FC6', 'C3', 'Cz', 'C4', \n",
    "                        'T8', 'CP1', 'CP2', 'CP6', 'P7', 'P3', 'Pz', 'P8', 'O1', 'PO10']\n",
    "\n",
    "# Filtrar los datos de entrenamiento y validación con estas características\n",
    "X_train_best = X_train_var[:, [list(eeg_df.columns).index(f) for f in common_feature_names]]\n",
    "X_valid_best = X_valid_var[:, [list(eeg_df.columns).index(f) for f in common_feature_names]]\n",
    "\n",
    "# Verificar las dimensiones finales\n",
    "print(f\"Nuevo tamaño de X_train: {X_train_best.shape}\")\n",
    "print(f\"Nuevo tamaño de X_valid: {X_valid_best.shape}\")"
   ]
  },
  {
   "cell_type": "markdown",
   "id": "d8342767-7262-4e0f-9f04-84ee47ef384f",
   "metadata": {},
   "source": [
    "      "
   ]
  },
  {
   "cell_type": "markdown",
   "id": "5028e0ea-5885-4ced-bfb9-ced49f033a01",
   "metadata": {},
   "source": [
    "      "
   ]
  },
  {
   "cell_type": "markdown",
   "id": "3ff093d1-59fc-45f0-a903-f4ac65c9915c",
   "metadata": {},
   "source": [
    "## **6. Comparación de Modelos**"
   ]
  },
  {
   "cell_type": "markdown",
   "id": "75763b51-eb48-46d7-9213-6faf9c2ad566",
   "metadata": {},
   "source": [
    " Evaluamos si el modelo mejora en comparación con usar todas las características originales."
   ]
  },
  {
   "cell_type": "code",
   "execution_count": 33,
   "id": "64af0cef-85b7-4144-a8a3-271f2901891d",
   "metadata": {},
   "outputs": [
    {
     "name": "stdout",
     "output_type": "stream",
     "text": [
      "\n",
      "**Comparación de Modelos por Evento**\n",
      "\n",
      "Evaluando Modelo para HandStart...\n",
      "AUC Original: 0.7552 | AUC SelectKBest: 0.7439\n",
      "\n",
      "Evaluando Modelo para FirstDigitTouch...\n",
      "AUC Original: 0.7741 | AUC SelectKBest: 0.7681\n",
      "\n",
      "Evaluando Modelo para BothStartLoadPhase...\n",
      "AUC Original: 0.7365 | AUC SelectKBest: 0.7203\n",
      "\n",
      "Evaluando Modelo para LiftOff...\n",
      "AUC Original: 0.7485 | AUC SelectKBest: 0.7249\n",
      "\n",
      "Evaluando Modelo para Replace...\n",
      "AUC Original: 0.8589 | AUC SelectKBest: 0.8402\n",
      "\n",
      "Evaluando Modelo para BothReleased...\n",
      "AUC Original: 0.7839 | AUC SelectKBest: 0.7459\n",
      "\n",
      "**Resumen Final de AUC-ROC por Evento**\n",
      "HandStart: AUC Original = 0.7552 | AUC SelectKBest = 0.7439\n",
      "FirstDigitTouch: AUC Original = 0.7741 | AUC SelectKBest = 0.7681\n",
      "BothStartLoadPhase: AUC Original = 0.7365 | AUC SelectKBest = 0.7203\n",
      "LiftOff: AUC Original = 0.7485 | AUC SelectKBest = 0.7249\n",
      "Replace: AUC Original = 0.8589 | AUC SelectKBest = 0.8402\n",
      "BothReleased: AUC Original = 0.7839 | AUC SelectKBest = 0.7459\n"
     ]
    }
   ],
   "source": [
    "# Diccionario con los nombres de los eventos\n",
    "event_names = {\n",
    "    0: \"HandStart\",\n",
    "    1: \"FirstDigitTouch\",\n",
    "    2: \"BothStartLoadPhase\",\n",
    "    3: \"LiftOff\",\n",
    "    4: \"Replace\",\n",
    "    5: \"BothReleased\"\n",
    "}\n",
    "\n",
    "# Diccionario para almacenar los resultados AUC por evento\n",
    "auc_results = {}\n",
    "\n",
    "print(\"\\n**Comparación de Modelos por Evento**\")\n",
    "\n",
    "for event in range(y_train_array.shape[1]):  \n",
    "    event_name = event_names[event]  # Obtener el nombre del evento\n",
    "    print(f\"\\nEvaluando Modelo para {event_name}...\")\n",
    "\n",
    "    # Seleccionar la etiqueta correspondiente (convertir a 1D)\n",
    "    y_train_event = y_train_array[:, event]\n",
    "    \n",
    "    # Modelo con todas las características\n",
    "    model_original = LogisticRegression(max_iter=1000)\n",
    "    auc_score_original = cross_val_score(model_original, X_train_var, y_train_event, cv=5, scoring=\"roc_auc\").mean()\n",
    "\n",
    "    # Modelo con las características optimizadas\n",
    "    model_best = LogisticRegression(max_iter=1000)\n",
    "    auc_score_best = cross_val_score(model_best, X_train_best, y_train_event, cv=5, scoring=\"roc_auc\").mean()\n",
    "\n",
    "    # Guardar resultados\n",
    "    auc_results[event_name] = {\"Original\": auc_score_original, \"SelectKBest\": auc_score_best}\n",
    "\n",
    "    # Imprimir resultados del evento\n",
    "    print(f\"AUC Original: {auc_score_original:.4f} | AUC SelectKBest: {auc_score_best:.4f}\")\n",
    "\n",
    "# Mostrar resumen final\n",
    "print(\"\\n**Resumen Final de AUC-ROC por Evento**\")\n",
    "for event, scores in auc_results.items():\n",
    "    print(f\"{event}: AUC Original = {scores['Original']:.4f} | AUC SelectKBest = {scores['SelectKBest']:.4f}\")"
   ]
  },
  {
   "cell_type": "markdown",
   "id": "386a642e-c109-437a-89d9-47f401145e5a",
   "metadata": {},
   "source": [
    "#### **Resumen de Resultados**\n",
    "- **El modelo con todas las características superó en todos los casos al modelo con SelectKBest.**  \n",
    "- La diferencia de **AUC-ROC varía entre 0.01 y 0.04 puntos**, siendo más notable en eventos como \"BothReleased\" y \"LiftOff\".  \n",
    "- Esto indica que **eliminar características puede estar afectando negativamente la capacidad del modelo para capturar información relevante.**\n",
    "\n",
    "#### **Decisión**\n",
    "🟢 **No utilizaremos SelectKBest**, ya que la reducción de características no mejoró el rendimiento.  \n",
    "🟢 **Seguiremos trabajando con todas las características originales**, ya que ofrecen mejor AUC en todos los eventos.  "
   ]
  },
  {
   "cell_type": "code",
   "execution_count": null,
   "id": "915c8b97-fe24-4629-ab8d-d3cc65cbbb6d",
   "metadata": {},
   "outputs": [],
   "source": []
  }
 ],
 "metadata": {
  "kernelspec": {
   "display_name": "Python 3 (ipykernel)",
   "language": "python",
   "name": "python3"
  },
  "language_info": {
   "codemirror_mode": {
    "name": "ipython",
    "version": 3
   },
   "file_extension": ".py",
   "mimetype": "text/x-python",
   "name": "python",
   "nbconvert_exporter": "python",
   "pygments_lexer": "ipython3",
   "version": "3.13.2"
  }
 },
 "nbformat": 4,
 "nbformat_minor": 5
}
