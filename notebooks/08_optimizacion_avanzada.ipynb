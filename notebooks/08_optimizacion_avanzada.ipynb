{
 "cells": [
  {
   "cell_type": "markdown",
   "id": "2375d47e-3048-4ffc-9ec5-c078c394ce05",
   "metadata": {},
   "source": [
    "# **Optimización Avanzada de Modelos – `08_optimizacion_avanzada.ipynb`**\n",
    "\n",
    "Antes de decidir el modelo final para la detección de eventos grasp-and-lift a partir de señales EEG, es fundamental afinar el rendimiento de los algoritmos más prometedores mediante **búsqueda de hiperparámetros con Optuna**. Esta fase permite sacar el máximo partido a cada modelo sin cambiar los datos de entrada ni la estructura general del pipeline.\n",
    "\n",
    "### 🎯 **Objetivo**\n",
    "\n",
    "Mejorar el rendimiento de los modelos **LightGBM**, **XGBoost** y **MLP** aplicando una búsqueda eficiente de hiperparámetros con **Optuna**, maximizando el AUC-ROC y controlando el tiempo de cómputo.\n",
    "\n",
    "#### 🧠 **¿Por qué Optuna?**\n",
    "\n",
    "Optuna permite explorar espacios de búsqueda complejos de forma inteligente (optimización bayesiana), evitando pruebas aleatorias innecesarias y acelerando el proceso de tuning. Ventajas clave:\n",
    "\n",
    "- Ajuste automático con `early stopping`\n",
    "- Visualización interactiva de importancia de hiperparámetros\n",
    "- Gestión eficiente de múltiples trials paralelos\n",
    "\n",
    "### ⚙️ **Modelos seleccionados**\n",
    "\n",
    "Se optimizarán los siguientes modelos:\n",
    "\n",
    "1. **LightGBM**: rápido y eficaz en datos tabulares, además los resultados se acercaron e incluso superaron en algunos eventos a LogisticRegression.\n",
    "2. **XGBoost**: versátil y robusto frente a overfitting.\n",
    "3. **MLP** (Multi-Layer Perceptron): una red neuronal que podría mejorar al ajustar adecuadamente su arquitectura y regularización.\n",
    "\n",
    "### 📦 **Configuración de datos**\n",
    "\n",
    "- Se utilizarán las **512 características originales** (sin selección previa), para mantener toda la señal EEG disponible.\n",
    "- Para evitar tiempos de cómputo excesivos, se usarán **subconjuntos balanceados** por evento motor durante la validación.\n",
    "- Se mantendrá la validación cruzada estratificada (`StratifiedKFold`) con 3 o 5 folds.\n",
    "\n",
    "### 🚀 **Flujo de Trabajo en este Notebook**\n",
    "\n",
    "1️⃣ **Definición del espacio de búsqueda por modelo**\n",
    "\n",
    "Para cada modelo se definirá un espacio adecuado de hiperparámetros (ej. `max_depth`, `learning_rate`, `dropout`, etc.)\n",
    "\n",
    "2️⃣ **Implementación de función objetivo para Optuna**\n",
    "\n",
    "Se definirá una función objetivo personalizada que entrena el modelo, evalúa el AUC en validación cruzada, y devuelve el resultado para optimización.\n",
    "\n",
    "3️⃣ **Ejecución de Optuna Trials**\n",
    "\n",
    "Se ejecutará Optuna con un número controlado de iteraciones (`n_trials`), midiendo tanto rendimiento como tiempo de entrenamiento.\n",
    "\n",
    "4️⃣ **Análisis de resultados y comparación**\n",
    "\n",
    "Se recogerán los mejores parámetros, métricas de AUC, y se comparará con el modelo base (Regresión Logística). Se incluirán gráficos de optimización y resumen de importancia de hiperparámetros.\n",
    "\n",
    "5️⃣ **Decisión sobre el modelo final**\n",
    "\n",
    "Según los resultados obtenidos, se valorará si alguno de los modelos optimizados merece ser promovido como candidato final o si se mantiene la Regresión Logística como baseline principal.\n",
    "\n",
    "💡 Esta fase es clave para garantizar que los modelos evaluados han sido entrenados bajo condiciones óptimas, asegurando una comparación justa y sólida entre alternativas.\n",
    "\n",
    "---"
   ]
  },
  {
   "cell_type": "markdown",
   "id": "dcc46ac7-c6ce-49ff-8a48-92e7a45b8bdb",
   "metadata": {},
   "source": [
    "       "
   ]
  },
  {
   "cell_type": "markdown",
   "id": "a3344e87-9814-4d59-8bd5-347472ddeb22",
   "metadata": {},
   "source": [
    "    "
   ]
  },
  {
   "cell_type": "markdown",
   "id": "4a058911-4cfc-4997-b098-c965223cc064",
   "metadata": {},
   "source": [
    "## **1. Carga y muestreo de datos**"
   ]
  },
  {
   "cell_type": "code",
   "execution_count": 1,
   "id": "902c51d3-c69d-4a8f-9f07-6b2bf60452e4",
   "metadata": {},
   "outputs": [
    {
     "name": "stdout",
     "output_type": "stream",
     "text": [
      "Datos cargados correctamente:\n",
      "X_train_scaled shape: (1043205, 512)\n",
      "y_train_win shape: (1043205, 6)\n",
      "X_valid_scaled shape: (236894, 512)\n",
      "y_valid_win shape: (236894, 6)\n",
      "{'HandStart': 0.8928, 'FirstDigitTouch': 0.8838, 'BothStartLoadPhase': 0.8888, 'LiftOff': 0.9059, 'Replace': 0.8966, 'BothReleased': 0.8751}\n"
     ]
    }
   ],
   "source": [
    "import os\n",
    "import pickle\n",
    "import pandas as pd\n",
    "\n",
    "# Ruta de los datos procesados\n",
    "processed_path = r\"C:\\Users\\luciaft\\Documents\\TFG\\TFG\\graspAndLiftDetectionTFGProyect\\data\\processed\"\n",
    "data_file = os.path.join(processed_path, \"preprocessed_features_temporal_freq.pkl\")\n",
    "\n",
    "# Cargar los datos preprocesados\n",
    "with open(data_file, \"rb\") as f:\n",
    "    X_train_scaled, y_train_win, X_valid_scaled, y_valid_win = pickle.load(f)\n",
    "\n",
    "#Cargamos también los resultados obtenidos con el modelo base\n",
    "auc_file = os.path.join(processed_path, \"auc_results_feats_logreg.csv\")\n",
    "\n",
    "# Cargar CSV y convertir a diccionario\n",
    "auc_df = pd.read_csv(auc_file, index_col=\"Evento\")\n",
    "auc_dict_logreg = auc_df[\"AUC\"].to_dict()\n",
    "\n",
    "\n",
    "# Verificar formas\n",
    "print(\"Datos cargados correctamente:\")\n",
    "print(f\"X_train_scaled shape: {X_train_scaled.shape}\")\n",
    "print(f\"y_train_win shape: {y_train_win.shape}\")\n",
    "print(f\"X_valid_scaled shape: {X_valid_scaled.shape}\")\n",
    "print(f\"y_valid_win shape: {y_valid_win.shape}\")\n",
    "\n",
    "# Verificar diccionario con resultados\n",
    "print(auc_dict_logreg)"
   ]
  },
  {
   "cell_type": "code",
   "execution_count": 2,
   "id": "1c7aa507-6605-41ed-b93d-948c5b3b48e2",
   "metadata": {},
   "outputs": [
    {
     "name": "stdout",
     "output_type": "stream",
     "text": [
      "Procesando evento: HandStart\n",
      "Procesando evento: FirstDigitTouch\n",
      "Procesando evento: BothStartLoadPhase\n",
      "Procesando evento: LiftOff\n",
      "Procesando evento: Replace\n",
      "Procesando evento: BothReleased\n"
     ]
    }
   ],
   "source": [
    "import numpy as np\n",
    "from sklearn.utils import resample\n",
    "\n",
    "# Asegurarse de que X tiene el mismo índice que y\n",
    "X_df = pd.DataFrame(X_train_scaled, index=y_train_win.index)\n",
    "\n",
    "# Lista de eventos\n",
    "eventos = y_train_win.columns.tolist()\n",
    "\n",
    "# Diccionarios de salida\n",
    "X_train_subsampled_dict = {}\n",
    "y_train_subsampled_dict = {}\n",
    "\n",
    "# Función corregida para submuestreo\n",
    "def submuestreo_balanceado(X, y_event, n_samples=5000, random_state=42):\n",
    "    idx_0 = y_event[y_event == 0].index\n",
    "    idx_1 = y_event[y_event == 1].index\n",
    "\n",
    "    n_per_class = n_samples // 2\n",
    "\n",
    "    sampled_idx_0 = resample(idx_0, replace=False, n_samples=n_per_class, random_state=random_state)\n",
    "    sampled_idx_1 = resample(idx_1, replace=False, n_samples=n_per_class, random_state=random_state)\n",
    "\n",
    "    idx_total = np.concatenate([sampled_idx_0, sampled_idx_1])\n",
    "    np.random.shuffle(idx_total)\n",
    "\n",
    "    return X.loc[idx_total], y_event.loc[idx_total]\n",
    "\n",
    "# Loop corregido por evento\n",
    "for evento in eventos:\n",
    "    print(f\"Procesando evento: {evento}\")\n",
    "    y_event = y_train_win[evento]\n",
    "    X_event, y_event_bal = submuestreo_balanceado(X_df, y_event)\n",
    "\n",
    "    X_train_subsampled_dict[evento] = X_event\n",
    "    y_train_subsampled_dict[evento] = y_event_bal"
   ]
  },
  {
   "cell_type": "markdown",
   "id": "236fcadc-d052-4a85-ab2f-85ea9167579f",
   "metadata": {},
   "source": [
    "    "
   ]
  },
  {
   "cell_type": "markdown",
   "id": "80f05a1b-805f-487e-9ab4-9c95bbf84b06",
   "metadata": {},
   "source": [
    "## **2. Optimización de LightGBM con Optuna (evento LiftOff)**"
   ]
  },
  {
   "cell_type": "markdown",
   "id": "bb20d26e-8be1-41f8-8a0f-b8ef23f7a061",
   "metadata": {},
   "source": [
    "Para optimizar el modelo LightGBM se ha utilizado la librería **Optuna**, que permite realizar una búsqueda inteligente de hiperparámetros basada en técnicas de optimización bayesiana. A continuación se detallan los hiperparámetros seleccionados, el rango definido para cada uno y la justificación técnica:\n",
    "\n",
    "### Justificación de cada parámetro (versión eficiente)\n",
    "\n",
    "| Parámetro           | Rango propuesto         | Justificación |\n",
    "|---------------------|--------------------------|----------------|\n",
    "| `learning_rate`     | [0.001, 0.2] (log scale) | Controla cuánto se ajusta el modelo en cada iteración. Valores bajos evitan overfitting pero requieren más iteraciones. El rango cubre desde valores muy conservadores (0.001) hasta rápidos (0.2), siendo típicos valores entre 0.01 y 0.1. |\n",
    "| `num_leaves`        | [15, 150]                | Controla la complejidad de cada árbol. Más hojas → mayor capacidad de aprendizaje. Valores muy altos pueden sobreajustar. Este rango cubre desde modelos simples (15 hojas) hasta otros más complejos. |\n",
    "| `max_depth`         | [3, 15]                  | Profundidad máxima de los árboles. Limita la capacidad de memorizar ruido. Entre 3 y 15 es habitual para datos tabulares. |\n",
    "| `min_child_samples` | [10, 100]                | Mínimo de observaciones en una hoja. Ayuda a evitar divisiones irrelevantes. Valores bajos permiten más división (mayor ajuste), altos reducen el riesgo de overfitting. |\n",
    "| `subsample`         | [0.5, 1.0]               | Porcentaje de muestras usadas por árbol. Introduce aleatoriedad (como en Random Forest). Mejora la generalización. |\n",
    "| `colsample_bytree`  | [0.5, 1.0]               | Porcentaje de variables usadas por árbol. También busca reducir overfitting introduciendo aleatoriedad. |\n",
    "| `lambda_l1`         | [0.0, 5.0]               | Regularización L1 (suma de coeficientes absolutos). Fomenta modelos más simples y dispersos (sparse). |\n",
    "| `lambda_l2`         | [0.0, 5.0]               | Regularización L2 (suma de cuadrados). Penaliza pesos grandes y mejora la estabilidad del modelo. |\n",
    "\n",
    "---\n",
    "\n",
    "#### Validación cruzada y criterio de evaluación\n",
    "\n",
    "Se ha utilizado validación cruzada estratificada (`StratifiedKFold`) con 3 folds para garantizar una evaluación robusta y evitar overfitting a una sola partición de validación.  \n",
    "La métrica objetivo es el **AUC-ROC**, que refleja la capacidad del modelo para distinguir entre eventos positivos y negativos en cualquier umbral de decisión.\n",
    "\n",
    "---\n",
    "\n",
    "\n",
    "La combinación de estos rangos permite a **Optuna** explorar tanto modelos conservadores como complejos, maximizando la probabilidad de encontrar una configuración óptima que **supere o iguale** el rendimiento de la regresión logística base, sin comprometer la capacidad de generalización del modelo.\n"
   ]
  },
  {
   "cell_type": "code",
   "execution_count": 4,
   "id": "8fe96aae-0035-426f-98ce-e00388690a0f",
   "metadata": {
    "scrolled": true
   },
   "outputs": [
    {
     "name": "stderr",
     "output_type": "stream",
     "text": [
      "[I 2025-05-24 23:32:00,138] A new study created in memory with name: no-name-c988d712-fc3e-4283-896c-8870392aa603\n"
     ]
    },
    {
     "name": "stdout",
     "output_type": "stream",
     "text": [
      "Training until validation scores don't improve for 30 rounds\n",
      "Did not meet early stopping. Best iteration is:\n",
      "[800]\tvalid_0's auc: 0.971373\n",
      "Training until validation scores don't improve for 30 rounds\n"
     ]
    },
    {
     "name": "stderr",
     "output_type": "stream",
     "text": [
      "[I 2025-05-24 23:32:13,818] Trial 0 finished with value: 0.97319744 and parameters: {'learning_rate': 0.0033106574246918974, 'num_leaves': 102, 'max_depth': 7, 'min_child_samples': 53, 'subsample': 0.6721919626286558, 'colsample_bytree': 0.7541087380703484, 'reg_alpha': 1.0993521088399931, 'reg_lambda': 3.690052069355544}. Best is trial 0 with value: 0.97319744.\n"
     ]
    },
    {
     "name": "stdout",
     "output_type": "stream",
     "text": [
      "Did not meet early stopping. Best iteration is:\n",
      "[800]\tvalid_0's auc: 0.975022\n",
      "Training until validation scores don't improve for 30 rounds\n",
      "Early stopping, best iteration is:\n",
      "[750]\tvalid_0's auc: 0.987689\n",
      "Training until validation scores don't improve for 30 rounds\n"
     ]
    },
    {
     "name": "stderr",
     "output_type": "stream",
     "text": [
      "[I 2025-05-24 23:32:24,246] Trial 1 finished with value: 0.9878822399999999 and parameters: {'learning_rate': 0.021660595685316156, 'num_leaves': 139, 'max_depth': 5, 'min_child_samples': 60, 'subsample': 0.9922876266852532, 'colsample_bytree': 0.8870781222867492, 'reg_alpha': 5.3206991241709245, 'reg_lambda': 0.8103713334064424}. Best is trial 1 with value: 0.9878822399999999.\n"
     ]
    },
    {
     "name": "stdout",
     "output_type": "stream",
     "text": [
      "Early stopping, best iteration is:\n",
      "[740]\tvalid_0's auc: 0.988076\n",
      "Training until validation scores don't improve for 30 rounds\n",
      "Did not meet early stopping. Best iteration is:\n",
      "[800]\tvalid_0's auc: 0.982752\n",
      "Training until validation scores don't improve for 30 rounds\n"
     ]
    },
    {
     "name": "stderr",
     "output_type": "stream",
     "text": [
      "[I 2025-05-24 23:32:35,800] Trial 2 finished with value: 0.98287168 and parameters: {'learning_rate': 0.009913352199050708, 'num_leaves': 209, 'max_depth': 5, 'min_child_samples': 100, 'subsample': 0.800982038744903, 'colsample_bytree': 0.9799762516813163, 'reg_alpha': 3.016415828811396, 'reg_lambda': 5.490832315269892}. Best is trial 1 with value: 0.9878822399999999.\n"
     ]
    },
    {
     "name": "stdout",
     "output_type": "stream",
     "text": [
      "Did not meet early stopping. Best iteration is:\n",
      "[800]\tvalid_0's auc: 0.982991\n",
      "Training until validation scores don't improve for 30 rounds\n",
      "Early stopping, best iteration is:\n",
      "[62]\tvalid_0's auc: 0.912666\n",
      "Training until validation scores don't improve for 30 rounds\n"
     ]
    },
    {
     "name": "stderr",
     "output_type": "stream",
     "text": [
      "[I 2025-05-24 23:32:37,243] Trial 3 finished with value: 0.91332064 and parameters: {'learning_rate': 0.0012816656859750482, 'num_leaves': 38, 'max_depth': 9, 'min_child_samples': 92, 'subsample': 0.7779411707330318, 'colsample_bytree': 0.6431241575539746, 'reg_alpha': 2.6896929991560645, 'reg_lambda': 1.1286056102112392}. Best is trial 1 with value: 0.9878822399999999.\n"
     ]
    },
    {
     "name": "stdout",
     "output_type": "stream",
     "text": [
      "Early stopping, best iteration is:\n",
      "[58]\tvalid_0's auc: 0.913975\n",
      "Training until validation scores don't improve for 30 rounds\n",
      "Did not meet early stopping. Best iteration is:\n",
      "[800]\tvalid_0's auc: 0.93474\n",
      "Training until validation scores don't improve for 30 rounds\n"
     ]
    },
    {
     "name": "stderr",
     "output_type": "stream",
     "text": [
      "[I 2025-05-24 23:32:41,830] Trial 4 finished with value: 0.9175464 and parameters: {'learning_rate': 0.0017562528379579927, 'num_leaves': 40, 'max_depth': 12, 'min_child_samples': 116, 'subsample': 0.9574516656236135, 'colsample_bytree': 0.7131727972431733, 'reg_alpha': 5.057982311867828, 'reg_lambda': 5.423885884648669}. Best is trial 1 with value: 0.9878822399999999.\n"
     ]
    },
    {
     "name": "stdout",
     "output_type": "stream",
     "text": [
      "Early stopping, best iteration is:\n",
      "[58]\tvalid_0's auc: 0.900353\n",
      "Training until validation scores don't improve for 30 rounds\n",
      "Did not meet early stopping. Best iteration is:\n",
      "[800]\tvalid_0's auc: 0.98236\n",
      "Training until validation scores don't improve for 30 rounds\n"
     ]
    },
    {
     "name": "stderr",
     "output_type": "stream",
     "text": [
      "[I 2025-05-24 23:33:00,940] Trial 5 finished with value: 0.9837129600000001 and parameters: {'learning_rate': 0.0059524391942455965, 'num_leaves': 32, 'max_depth': 7, 'min_child_samples': 28, 'subsample': 0.6133049557796378, 'colsample_bytree': 0.9179965104458514, 'reg_alpha': 1.6233042831045428, 'reg_lambda': 4.7898891078205335}. Best is trial 1 with value: 0.9878822399999999.\n"
     ]
    },
    {
     "name": "stdout",
     "output_type": "stream",
     "text": [
      "Did not meet early stopping. Best iteration is:\n",
      "[800]\tvalid_0's auc: 0.985066\n",
      "Training until validation scores don't improve for 30 rounds\n",
      "Early stopping, best iteration is:\n",
      "[62]\tvalid_0's auc: 0.921844\n",
      "Training until validation scores don't improve for 30 rounds\n"
     ]
    },
    {
     "name": "stderr",
     "output_type": "stream",
     "text": [
      "[I 2025-05-24 23:33:02,285] Trial 6 finished with value: 0.92254112 and parameters: {'learning_rate': 0.0012505946372054222, 'num_leaves': 54, 'max_depth': 8, 'min_child_samples': 63, 'subsample': 0.7338961900881211, 'colsample_bytree': 0.6351453791514666, 'reg_alpha': 3.027902429132045, 'reg_lambda': 2.698388889875771}. Best is trial 1 with value: 0.9878822399999999.\n"
     ]
    },
    {
     "name": "stdout",
     "output_type": "stream",
     "text": [
      "Early stopping, best iteration is:\n",
      "[58]\tvalid_0's auc: 0.923238\n",
      "Training until validation scores don't improve for 30 rounds\n",
      "Did not meet early stopping. Best iteration is:\n",
      "[792]\tvalid_0's auc: 0.990428\n",
      "Training until validation scores don't improve for 30 rounds\n"
     ]
    },
    {
     "name": "stderr",
     "output_type": "stream",
     "text": [
      "[I 2025-05-24 23:33:15,868] Trial 7 finished with value: 0.99094368 and parameters: {'learning_rate': 0.017815249078125674, 'num_leaves': 163, 'max_depth': 11, 'min_child_samples': 42, 'subsample': 0.7819607704867412, 'colsample_bytree': 0.6614643429866041, 'reg_alpha': 0.8084226771892573, 'reg_lambda': 2.1306285547771617}. Best is trial 7 with value: 0.99094368.\n"
     ]
    },
    {
     "name": "stdout",
     "output_type": "stream",
     "text": [
      "Did not meet early stopping. Best iteration is:\n",
      "[792]\tvalid_0's auc: 0.991459\n",
      "Training until validation scores don't improve for 30 rounds\n",
      "Early stopping, best iteration is:\n",
      "[460]\tvalid_0's auc: 0.987278\n",
      "Training until validation scores don't improve for 30 rounds\n"
     ]
    },
    {
     "name": "stderr",
     "output_type": "stream",
     "text": [
      "[I 2025-05-24 23:33:20,887] Trial 8 finished with value: 0.9870720000000001 and parameters: {'learning_rate': 0.03696844257261642, 'num_leaves': 131, 'max_depth': 8, 'min_child_samples': 94, 'subsample': 0.6635501190892206, 'colsample_bytree': 0.8329427101729004, 'reg_alpha': 5.848129823281556, 'reg_lambda': 1.3712633734674866}. Best is trial 7 with value: 0.99094368.\n"
     ]
    },
    {
     "name": "stdout",
     "output_type": "stream",
     "text": [
      "Early stopping, best iteration is:\n",
      "[448]\tvalid_0's auc: 0.986866\n",
      "Training until validation scores don't improve for 30 rounds\n",
      "Did not meet early stopping. Best iteration is:\n",
      "[800]\tvalid_0's auc: 0.96185\n",
      "Training until validation scores don't improve for 30 rounds\n"
     ]
    },
    {
     "name": "stderr",
     "output_type": "stream",
     "text": [
      "[I 2025-05-24 23:33:30,923] Trial 9 finished with value: 0.9630291200000001 and parameters: {'learning_rate': 0.002926634957166723, 'num_leaves': 34, 'max_depth': 10, 'min_child_samples': 80, 'subsample': 0.9482700660421578, 'colsample_bytree': 0.7229719185728751, 'reg_alpha': 3.2314256998045523, 'reg_lambda': 3.5934988335983853}. Best is trial 7 with value: 0.99094368.\n"
     ]
    },
    {
     "name": "stdout",
     "output_type": "stream",
     "text": [
      "Did not meet early stopping. Best iteration is:\n",
      "[800]\tvalid_0's auc: 0.964209\n",
      "Training until validation scores don't improve for 30 rounds\n",
      "Early stopping, best iteration is:\n",
      "[180]\tvalid_0's auc: 0.990767\n",
      "Training until validation scores don't improve for 30 rounds\n"
     ]
    },
    {
     "name": "stderr",
     "output_type": "stream",
     "text": [
      "[I 2025-05-24 23:33:34,648] Trial 10 finished with value: 0.99138272 and parameters: {'learning_rate': 0.1906873162288782, 'num_leaves': 215, 'max_depth': 11, 'min_child_samples': 12, 'subsample': 0.8588783769267597, 'colsample_bytree': 0.6034100073138762, 'reg_alpha': 0.2823233076004992, 'reg_lambda': 2.2660893725946556}. Best is trial 10 with value: 0.99138272.\n"
     ]
    },
    {
     "name": "stdout",
     "output_type": "stream",
     "text": [
      "Early stopping, best iteration is:\n",
      "[157]\tvalid_0's auc: 0.991998\n",
      "Training until validation scores don't improve for 30 rounds\n",
      "Early stopping, best iteration is:\n",
      "[381]\tvalid_0's auc: 0.991882\n",
      "Training until validation scores don't improve for 30 rounds\n"
     ]
    },
    {
     "name": "stderr",
     "output_type": "stream",
     "text": [
      "[I 2025-05-24 23:33:41,381] Trial 11 finished with value: 0.9924752 and parameters: {'learning_rate': 0.17874458846553382, 'num_leaves': 251, 'max_depth': 12, 'min_child_samples': 17, 'subsample': 0.8688109914097938, 'colsample_bytree': 0.604507173451288, 'reg_alpha': 0.09049857754538002, 'reg_lambda': 2.1443791516396042}. Best is trial 11 with value: 0.9924752.\n"
     ]
    },
    {
     "name": "stdout",
     "output_type": "stream",
     "text": [
      "Early stopping, best iteration is:\n",
      "[321]\tvalid_0's auc: 0.993069\n",
      "Training until validation scores don't improve for 30 rounds\n",
      "Early stopping, best iteration is:\n",
      "[151]\tvalid_0's auc: 0.989957\n",
      "Training until validation scores don't improve for 30 rounds\n"
     ]
    },
    {
     "name": "stderr",
     "output_type": "stream",
     "text": [
      "[I 2025-05-24 23:33:44,971] Trial 12 finished with value: 0.99109248 and parameters: {'learning_rate': 0.18152044452533644, 'num_leaves': 228, 'max_depth': 12, 'min_child_samples': 13, 'subsample': 0.8769775061623526, 'colsample_bytree': 0.6104513358673588, 'reg_alpha': 0.388555780586162, 'reg_lambda': 2.0717159239839225}. Best is trial 11 with value: 0.9924752.\n"
     ]
    },
    {
     "name": "stdout",
     "output_type": "stream",
     "text": [
      "Early stopping, best iteration is:\n",
      "[150]\tvalid_0's auc: 0.992228\n",
      "Training until validation scores don't improve for 30 rounds\n",
      "Early stopping, best iteration is:\n",
      "[92]\tvalid_0's auc: 0.99044\n",
      "Training until validation scores don't improve for 30 rounds\n"
     ]
    },
    {
     "name": "stderr",
     "output_type": "stream",
     "text": [
      "[I 2025-05-24 23:33:48,282] Trial 13 finished with value: 0.99102464 and parameters: {'learning_rate': 0.1967261915988452, 'num_leaves': 71, 'max_depth': 10, 'min_child_samples': 10, 'subsample': 0.8750850799679913, 'colsample_bytree': 0.6861293769223703, 'reg_alpha': 0.11475769367489203, 'reg_lambda': 0.019825671006503676}. Best is trial 11 with value: 0.9924752.\n"
     ]
    },
    {
     "name": "stdout",
     "output_type": "stream",
     "text": [
      "Early stopping, best iteration is:\n",
      "[89]\tvalid_0's auc: 0.99161\n",
      "Training until validation scores don't improve for 30 rounds\n",
      "Early stopping, best iteration is:\n",
      "[254]\tvalid_0's auc: 0.989949\n",
      "Training until validation scores don't improve for 30 rounds\n"
     ]
    },
    {
     "name": "stderr",
     "output_type": "stream",
     "text": [
      "[I 2025-05-24 23:33:53,336] Trial 14 finished with value: 0.9905648 and parameters: {'learning_rate': 0.07591811973426867, 'num_leaves': 253, 'max_depth': 11, 'min_child_samples': 31, 'subsample': 0.8805903473556924, 'colsample_bytree': 0.7751030585662206, 'reg_alpha': 1.7755786908039366, 'reg_lambda': 2.935960245118986}. Best is trial 11 with value: 0.9924752.\n"
     ]
    },
    {
     "name": "stdout",
     "output_type": "stream",
     "text": [
      "Early stopping, best iteration is:\n",
      "[263]\tvalid_0's auc: 0.99118\n",
      "Training until validation scores don't improve for 30 rounds\n",
      "Early stopping, best iteration is:\n",
      "[257]\tvalid_0's auc: 0.989934\n",
      "Training until validation scores don't improve for 30 rounds\n"
     ]
    },
    {
     "name": "stderr",
     "output_type": "stream",
     "text": [
      "[I 2025-05-24 23:33:57,449] Trial 15 finished with value: 0.9904396799999999 and parameters: {'learning_rate': 0.08040767645474581, 'num_leaves': 173, 'max_depth': 12, 'min_child_samples': 26, 'subsample': 0.8499887797719382, 'colsample_bytree': 0.6063860178590823, 'reg_alpha': 1.9896157866159758, 'reg_lambda': 3.665441154632434}. Best is trial 11 with value: 0.9924752.\n"
     ]
    },
    {
     "name": "stdout",
     "output_type": "stream",
     "text": [
      "Early stopping, best iteration is:\n",
      "[260]\tvalid_0's auc: 0.990945\n",
      "Training until validation scores don't improve for 30 rounds\n",
      "Early stopping, best iteration is:\n",
      "[429]\tvalid_0's auc: 0.992108\n",
      "Training until validation scores don't improve for 30 rounds\n"
     ]
    },
    {
     "name": "stderr",
     "output_type": "stream",
     "text": [
      "[I 2025-05-24 23:34:07,870] Trial 16 finished with value: 0.9923558399999999 and parameters: {'learning_rate': 0.07962021069802466, 'num_leaves': 102, 'max_depth': 10, 'min_child_samples': 44, 'subsample': 0.9277098605257527, 'colsample_bytree': 0.8152968530176817, 'reg_alpha': 0.06688967356961495, 'reg_lambda': 1.846686336174021}. Best is trial 11 with value: 0.9924752.\n"
     ]
    },
    {
     "name": "stdout",
     "output_type": "stream",
     "text": [
      "Early stopping, best iteration is:\n",
      "[652]\tvalid_0's auc: 0.992604\n",
      "Training until validation scores don't improve for 30 rounds\n",
      "Early stopping, best iteration is:\n",
      "[174]\tvalid_0's auc: 0.988198\n",
      "Training until validation scores don't improve for 30 rounds\n"
     ]
    },
    {
     "name": "stderr",
     "output_type": "stream",
     "text": [
      "[I 2025-05-24 23:34:10,546] Trial 17 finished with value: 0.98832288 and parameters: {'learning_rate': 0.08574173879943801, 'num_leaves': 92, 'max_depth': 10, 'min_child_samples': 45, 'subsample': 0.9296049043665789, 'colsample_bytree': 0.8205703546987094, 'reg_alpha': 4.064726531312808, 'reg_lambda': 0.2956091340689495}. Best is trial 11 with value: 0.9924752.\n"
     ]
    },
    {
     "name": "stdout",
     "output_type": "stream",
     "text": [
      "Early stopping, best iteration is:\n",
      "[164]\tvalid_0's auc: 0.988447\n",
      "Training until validation scores don't improve for 30 rounds\n",
      "Early stopping, best iteration is:\n",
      "[600]\tvalid_0's auc: 0.991734\n",
      "Training until validation scores don't improve for 30 rounds\n"
     ]
    },
    {
     "name": "stderr",
     "output_type": "stream",
     "text": [
      "[I 2025-05-24 23:34:21,189] Trial 18 finished with value: 0.9916720000000001 and parameters: {'learning_rate': 0.03635325355470017, 'num_leaves': 65, 'max_depth': 9, 'min_child_samples': 38, 'subsample': 0.9996225108772336, 'colsample_bytree': 0.8894744081348565, 'reg_alpha': 0.9238911978205043, 'reg_lambda': 1.5714860022995953}. Best is trial 11 with value: 0.9924752.\n"
     ]
    },
    {
     "name": "stdout",
     "output_type": "stream",
     "text": [
      "Early stopping, best iteration is:\n",
      "[558]\tvalid_0's auc: 0.99161\n",
      "Training until validation scores don't improve for 30 rounds\n",
      "Early stopping, best iteration is:\n",
      "[628]\tvalid_0's auc: 0.989185\n",
      "Training until validation scores don't improve for 30 rounds\n"
     ]
    },
    {
     "name": "stderr",
     "output_type": "stream",
     "text": [
      "[I 2025-05-24 23:34:28,114] Trial 19 finished with value: 0.9894867199999999 and parameters: {'learning_rate': 0.051384843073448795, 'num_leaves': 115, 'max_depth': 4, 'min_child_samples': 75, 'subsample': 0.9209523132386533, 'colsample_bytree': 0.8493342844406295, 'reg_alpha': 2.298436653534358, 'reg_lambda': 4.697850346716761}. Best is trial 11 with value: 0.9924752.\n"
     ]
    },
    {
     "name": "stdout",
     "output_type": "stream",
     "text": [
      "Early stopping, best iteration is:\n",
      "[633]\tvalid_0's auc: 0.989789\n",
      "Training until validation scores don't improve for 30 rounds\n",
      "Early stopping, best iteration is:\n",
      "[114]\tvalid_0's auc: 0.987997\n",
      "Training until validation scores don't improve for 30 rounds\n"
     ]
    },
    {
     "name": "stderr",
     "output_type": "stream",
     "text": [
      "[I 2025-05-24 23:34:30,301] Trial 20 finished with value: 0.9886608 and parameters: {'learning_rate': 0.1132965327163042, 'num_leaves': 51, 'max_depth': 11, 'min_child_samples': 23, 'subsample': 0.8085959745748519, 'colsample_bytree': 0.7937976222513562, 'reg_alpha': 3.9625257471863944, 'reg_lambda': 0.7285739238075701}. Best is trial 11 with value: 0.9924752.\n"
     ]
    },
    {
     "name": "stdout",
     "output_type": "stream",
     "text": [
      "Early stopping, best iteration is:\n",
      "[119]\tvalid_0's auc: 0.989324\n",
      "Training until validation scores don't improve for 30 rounds\n",
      "Early stopping, best iteration is:\n",
      "[522]\tvalid_0's auc: 0.991179\n",
      "Training until validation scores don't improve for 30 rounds\n"
     ]
    },
    {
     "name": "stderr",
     "output_type": "stream",
     "text": [
      "[I 2025-05-24 23:34:39,913] Trial 21 finished with value: 0.99151104 and parameters: {'learning_rate': 0.03859858511097403, 'num_leaves': 71, 'max_depth': 9, 'min_child_samples': 43, 'subsample': 0.9949689489325837, 'colsample_bytree': 0.9244361824341587, 'reg_alpha': 0.9788181286236641, 'reg_lambda': 1.5367940555245272}. Best is trial 11 with value: 0.9924752.\n"
     ]
    },
    {
     "name": "stdout",
     "output_type": "stream",
     "text": [
      "Early stopping, best iteration is:\n",
      "[531]\tvalid_0's auc: 0.991843\n",
      "Training until validation scores don't improve for 30 rounds\n",
      "Early stopping, best iteration is:\n",
      "[759]\tvalid_0's auc: 0.991516\n",
      "Training until validation scores don't improve for 30 rounds\n"
     ]
    },
    {
     "name": "stderr",
     "output_type": "stream",
     "text": [
      "[I 2025-05-24 23:34:53,535] Trial 22 finished with value: 0.99171776 and parameters: {'learning_rate': 0.03124047069412717, 'num_leaves': 72, 'max_depth': 9, 'min_child_samples': 37, 'subsample': 0.9097513842880492, 'colsample_bytree': 0.8827577222974562, 'reg_alpha': 0.728358813294161, 'reg_lambda': 1.831159590828355}. Best is trial 11 with value: 0.9924752.\n"
     ]
    },
    {
     "name": "stdout",
     "output_type": "stream",
     "text": [
      "Early stopping, best iteration is:\n",
      "[680]\tvalid_0's auc: 0.991919\n",
      "Training until validation scores don't improve for 30 rounds\n",
      "Early stopping, best iteration is:\n",
      "[397]\tvalid_0's auc: 0.991779\n",
      "Training until validation scores don't improve for 30 rounds\n"
     ]
    },
    {
     "name": "stderr",
     "output_type": "stream",
     "text": [
      "[I 2025-05-24 23:35:01,571] Trial 23 finished with value: 0.9924288 and parameters: {'learning_rate': 0.10583636585538236, 'num_leaves': 83, 'max_depth': 8, 'min_child_samples': 51, 'subsample': 0.9130379533225422, 'colsample_bytree': 0.8673476966564624, 'reg_alpha': 0.04986163231052698, 'reg_lambda': 2.5134060146537727}. Best is trial 11 with value: 0.9924752.\n"
     ]
    },
    {
     "name": "stdout",
     "output_type": "stream",
     "text": [
      "Early stopping, best iteration is:\n",
      "[455]\tvalid_0's auc: 0.993079\n",
      "Training until validation scores don't improve for 30 rounds\n",
      "Early stopping, best iteration is:\n",
      "[500]\tvalid_0's auc: 0.991908\n",
      "Training until validation scores don't improve for 30 rounds\n"
     ]
    },
    {
     "name": "stderr",
     "output_type": "stream",
     "text": [
      "[I 2025-05-24 23:35:11,243] Trial 24 finished with value: 0.99235936 and parameters: {'learning_rate': 0.11409853611324906, 'num_leaves': 84, 'max_depth': 7, 'min_child_samples': 51, 'subsample': 0.9563251168915556, 'colsample_bytree': 0.9705911351288155, 'reg_alpha': 0.08970644279677942, 'reg_lambda': 2.536252947632852}. Best is trial 11 with value: 0.9924752.\n"
     ]
    },
    {
     "name": "stdout",
     "output_type": "stream",
     "text": [
      "Early stopping, best iteration is:\n",
      "[500]\tvalid_0's auc: 0.99281\n",
      "Training until validation scores don't improve for 30 rounds\n",
      "Early stopping, best iteration is:\n",
      "[195]\tvalid_0's auc: 0.990582\n",
      "Training until validation scores don't improve for 30 rounds\n"
     ]
    },
    {
     "name": "stderr",
     "output_type": "stream",
     "text": [
      "[I 2025-05-24 23:35:14,593] Trial 25 finished with value: 0.99060352 and parameters: {'learning_rate': 0.13058730504255245, 'num_leaves': 85, 'max_depth': 7, 'min_child_samples': 73, 'subsample': 0.83831977664752, 'colsample_bytree': 0.9942256962694532, 'reg_alpha': 1.378293897512462, 'reg_lambda': 2.6717304501050494}. Best is trial 11 with value: 0.9924752.\n"
     ]
    },
    {
     "name": "stdout",
     "output_type": "stream",
     "text": [
      "Early stopping, best iteration is:\n",
      "[200]\tvalid_0's auc: 0.990625\n",
      "Training until validation scores don't improve for 30 rounds\n",
      "Early stopping, best iteration is:\n",
      "[400]\tvalid_0's auc: 0.991199\n",
      "Training until validation scores don't improve for 30 rounds\n"
     ]
    },
    {
     "name": "stderr",
     "output_type": "stream",
     "text": [
      "[I 2025-05-24 23:35:21,067] Trial 26 finished with value: 0.9915433600000001 and parameters: {'learning_rate': 0.12203976343780952, 'num_leaves': 83, 'max_depth': 6, 'min_child_samples': 54, 'subsample': 0.8980034117110453, 'colsample_bytree': 0.956520180767115, 'reg_alpha': 0.35832997300591624, 'reg_lambda': 3.2892632166141422}. Best is trial 11 with value: 0.9924752.\n"
     ]
    },
    {
     "name": "stdout",
     "output_type": "stream",
     "text": [
      "Early stopping, best iteration is:\n",
      "[416]\tvalid_0's auc: 0.991887\n",
      "Training until validation scores don't improve for 30 rounds\n",
      "Early stopping, best iteration is:\n",
      "[466]\tvalid_0's auc: 0.990394\n",
      "Training until validation scores don't improve for 30 rounds\n"
     ]
    },
    {
     "name": "stderr",
     "output_type": "stream",
     "text": [
      "[I 2025-05-24 23:35:28,796] Trial 27 finished with value: 0.99045536 and parameters: {'learning_rate': 0.05589745241447273, 'num_leaves': 57, 'max_depth': 8, 'min_child_samples': 67, 'subsample': 0.9601627590873738, 'colsample_bytree': 0.952886113653434, 'reg_alpha': 1.3289908424762897, 'reg_lambda': 4.372842160452589}. Best is trial 11 with value: 0.9924752.\n"
     ]
    },
    {
     "name": "stdout",
     "output_type": "stream",
     "text": [
      "Early stopping, best iteration is:\n",
      "[505]\tvalid_0's auc: 0.990516\n",
      "Training until validation scores don't improve for 30 rounds\n",
      "Early stopping, best iteration is:\n",
      "[290]\tvalid_0's auc: 0.990902\n",
      "Training until validation scores don't improve for 30 rounds\n"
     ]
    },
    {
     "name": "stderr",
     "output_type": "stream",
     "text": [
      "[I 2025-05-24 23:35:33,326] Trial 28 finished with value: 0.99135328 and parameters: {'learning_rate': 0.1293157545825932, 'num_leaves': 121, 'max_depth': 6, 'min_child_samples': 51, 'subsample': 0.971876460339712, 'colsample_bytree': 0.8554177315299161, 'reg_alpha': 0.48197397878961046, 'reg_lambda': 2.365767186639711}. Best is trial 11 with value: 0.9924752.\n"
     ]
    },
    {
     "name": "stdout",
     "output_type": "stream",
     "text": [
      "Early stopping, best iteration is:\n",
      "[301]\tvalid_0's auc: 0.991804\n",
      "Training until validation scores don't improve for 30 rounds\n",
      "Did not meet early stopping. Best iteration is:\n",
      "[799]\tvalid_0's auc: 0.988278\n",
      "Training until validation scores don't improve for 30 rounds\n"
     ]
    },
    {
     "name": "stderr",
     "output_type": "stream",
     "text": [
      "[I 2025-05-24 23:35:53,332] Trial 29 finished with value: 0.98892 and parameters: {'learning_rate': 0.009354991218234882, 'num_leaves': 102, 'max_depth': 7, 'min_child_samples': 20, 'subsample': 0.8281423627479778, 'colsample_bytree': 0.7769689934478891, 'reg_alpha': 1.2049964150461085, 'reg_lambda': 3.159180485556009}. Best is trial 11 with value: 0.9924752.\n"
     ]
    },
    {
     "name": "stdout",
     "output_type": "stream",
     "text": [
      "Did not meet early stopping. Best iteration is:\n",
      "[800]\tvalid_0's auc: 0.989562\n",
      "Training until validation scores don't improve for 30 rounds\n",
      "Early stopping, best iteration is:\n",
      "[388]\tvalid_0's auc: 0.990231\n",
      "Training until validation scores don't improve for 30 rounds\n"
     ]
    },
    {
     "name": "stderr",
     "output_type": "stream",
     "text": [
      "[I 2025-05-24 23:35:58,518] Trial 30 finished with value: 0.98968864 and parameters: {'learning_rate': 0.06119721645098239, 'num_leaves': 48, 'max_depth': 6, 'min_child_samples': 54, 'subsample': 0.7393751000841888, 'colsample_bytree': 0.741594533440313, 'reg_alpha': 2.3150642118751383, 'reg_lambda': 4.222746989861982}. Best is trial 11 with value: 0.9924752.\n"
     ]
    },
    {
     "name": "stdout",
     "output_type": "stream",
     "text": [
      "Early stopping, best iteration is:\n",
      "[383]\tvalid_0's auc: 0.989146\n",
      "Training until validation scores don't improve for 30 rounds\n",
      "Early stopping, best iteration is:\n",
      "[561]\tvalid_0's auc: 0.991576\n",
      "Training until validation scores don't improve for 30 rounds\n"
     ]
    },
    {
     "name": "stderr",
     "output_type": "stream",
     "text": [
      "[I 2025-05-24 23:36:06,838] Trial 31 finished with value: 0.99200768 and parameters: {'learning_rate': 0.09890310657529605, 'num_leaves': 102, 'max_depth': 8, 'min_child_samples': 49, 'subsample': 0.9178770895210507, 'colsample_bytree': 0.8148518038392402, 'reg_alpha': 0.08822794144348223, 'reg_lambda': 2.5500918201948912}. Best is trial 11 with value: 0.9924752.\n"
     ]
    },
    {
     "name": "stdout",
     "output_type": "stream",
     "text": [
      "Early stopping, best iteration is:\n",
      "[359]\tvalid_0's auc: 0.99244\n",
      "Training until validation scores don't improve for 30 rounds\n",
      "Early stopping, best iteration is:\n",
      "[293]\tvalid_0's auc: 0.991828\n",
      "Training until validation scores don't improve for 30 rounds\n"
     ]
    },
    {
     "name": "stderr",
     "output_type": "stream",
     "text": [
      "[I 2025-05-24 23:36:16,650] Trial 32 finished with value: 0.9924566399999999 and parameters: {'learning_rate': 0.15781763444953265, 'num_leaves': 151, 'max_depth': 10, 'min_child_samples': 33, 'subsample': 0.9448640662550586, 'colsample_bytree': 0.867667704134915, 'reg_alpha': 0.0023445334059180034, 'reg_lambda': 1.8898402598692527}. Best is trial 11 with value: 0.9924752.\n"
     ]
    },
    {
     "name": "stdout",
     "output_type": "stream",
     "text": [
      "Early stopping, best iteration is:\n",
      "[625]\tvalid_0's auc: 0.993085\n",
      "Training until validation scores don't improve for 30 rounds\n",
      "Early stopping, best iteration is:\n",
      "[144]\tvalid_0's auc: 0.990889\n",
      "Training until validation scores don't improve for 30 rounds\n"
     ]
    },
    {
     "name": "stderr",
     "output_type": "stream",
     "text": [
      "[I 2025-05-24 23:36:19,946] Trial 33 finished with value: 0.99114496 and parameters: {'learning_rate': 0.1501392598872848, 'num_leaves': 173, 'max_depth': 7, 'min_child_samples': 34, 'subsample': 0.8943648251881811, 'colsample_bytree': 0.9145748057654004, 'reg_alpha': 0.5831798373959329, 'reg_lambda': 1.1021769702237694}. Best is trial 11 with value: 0.9924752.\n"
     ]
    },
    {
     "name": "stdout",
     "output_type": "stream",
     "text": [
      "Early stopping, best iteration is:\n",
      "[157]\tvalid_0's auc: 0.991401\n",
      "Training until validation scores don't improve for 30 rounds\n",
      "Early stopping, best iteration is:\n",
      "[174]\tvalid_0's auc: 0.990835\n",
      "Training until validation scores don't improve for 30 rounds\n"
     ]
    },
    {
     "name": "stderr",
     "output_type": "stream",
     "text": [
      "[I 2025-05-24 23:36:24,023] Trial 34 finished with value: 0.9912476800000001 and parameters: {'learning_rate': 0.1514752803031643, 'num_leaves': 148, 'max_depth': 9, 'min_child_samples': 17, 'subsample': 0.9749959166040758, 'colsample_bytree': 0.8726762241791308, 'reg_alpha': 0.6275662981371033, 'reg_lambda': 2.8786396966711827}. Best is trial 11 with value: 0.9924752.\n"
     ]
    },
    {
     "name": "stdout",
     "output_type": "stream",
     "text": [
      "Early stopping, best iteration is:\n",
      "[188]\tvalid_0's auc: 0.991661\n",
      "Training until validation scores don't improve for 30 rounds\n",
      "Did not meet early stopping. Best iteration is:\n",
      "[800]\tvalid_0's auc: 0.9905\n",
      "Training until validation scores don't improve for 30 rounds\n"
     ]
    },
    {
     "name": "stderr",
     "output_type": "stream",
     "text": [
      "[I 2025-05-24 23:36:38,301] Trial 35 finished with value: 0.99146464 and parameters: {'learning_rate': 0.022113607611397624, 'num_leaves': 252, 'max_depth': 5, 'min_child_samples': 59, 'subsample': 0.9397193733285558, 'colsample_bytree': 0.9504110628447139, 'reg_alpha': 0.0009498184356902389, 'reg_lambda': 1.9124352042559993}. Best is trial 11 with value: 0.9924752.\n"
     ]
    },
    {
     "name": "stdout",
     "output_type": "stream",
     "text": [
      "Did not meet early stopping. Best iteration is:\n",
      "[796]\tvalid_0's auc: 0.992429\n",
      "Training until validation scores don't improve for 30 rounds\n",
      "Early stopping, best iteration is:\n",
      "[415]\tvalid_0's auc: 0.990989\n",
      "Training until validation scores don't improve for 30 rounds\n"
     ]
    },
    {
     "name": "stderr",
     "output_type": "stream",
     "text": [
      "[I 2025-05-24 23:36:46,070] Trial 36 finished with value: 0.99128768 and parameters: {'learning_rate': 0.062130698918699725, 'num_leaves': 193, 'max_depth': 6, 'min_child_samples': 27, 'subsample': 0.9754229971178334, 'colsample_bytree': 0.9706857727771161, 'reg_alpha': 1.1489265870445213, 'reg_lambda': 3.426621621657418}. Best is trial 11 with value: 0.9924752.\n"
     ]
    },
    {
     "name": "stdout",
     "output_type": "stream",
     "text": [
      "Early stopping, best iteration is:\n",
      "[409]\tvalid_0's auc: 0.991586\n",
      "Training until validation scores don't improve for 30 rounds\n",
      "Early stopping, best iteration is:\n",
      "[344]\tvalid_0's auc: 0.990135\n",
      "Training until validation scores don't improve for 30 rounds\n"
     ]
    },
    {
     "name": "stderr",
     "output_type": "stream",
     "text": [
      "[I 2025-05-24 23:36:50,332] Trial 37 finished with value: 0.99003264 and parameters: {'learning_rate': 0.10161369952883313, 'num_leaves': 150, 'max_depth': 8, 'min_child_samples': 112, 'subsample': 0.9482767856122464, 'colsample_bytree': 0.8975884816096293, 'reg_alpha': 1.5219719918608097, 'reg_lambda': 4.030157358399089}. Best is trial 11 with value: 0.9924752.\n"
     ]
    },
    {
     "name": "stdout",
     "output_type": "stream",
     "text": [
      "Early stopping, best iteration is:\n",
      "[349]\tvalid_0's auc: 0.98993\n",
      "Training until validation scores don't improve for 30 rounds\n",
      "Did not meet early stopping. Best iteration is:\n",
      "[800]\tvalid_0's auc: 0.984832\n",
      "Training until validation scores don't improve for 30 rounds\n"
     ]
    },
    {
     "name": "stderr",
     "output_type": "stream",
     "text": [
      "[I 2025-05-24 23:37:05,885] Trial 38 finished with value: 0.9856768 and parameters: {'learning_rate': 0.007031862149223351, 'num_leaves': 194, 'max_depth': 12, 'min_child_samples': 58, 'subsample': 0.8183388961183855, 'colsample_bytree': 0.8543622311762719, 'reg_alpha': 0.7875044919480032, 'reg_lambda': 2.4417280841348967}. Best is trial 11 with value: 0.9924752.\n"
     ]
    },
    {
     "name": "stdout",
     "output_type": "stream",
     "text": [
      "Did not meet early stopping. Best iteration is:\n",
      "[800]\tvalid_0's auc: 0.986522\n",
      "Training until validation scores don't improve for 30 rounds\n",
      "Did not meet early stopping. Best iteration is:\n",
      "[800]\tvalid_0's auc: 0.990967\n",
      "Training until validation scores don't improve for 30 rounds\n"
     ]
    },
    {
     "name": "stderr",
     "output_type": "stream",
     "text": [
      "[I 2025-05-24 23:37:19,024] Trial 39 finished with value: 0.9912742400000001 and parameters: {'learning_rate': 0.049718696551098646, 'num_leaves': 119, 'max_depth': 11, 'min_child_samples': 68, 'subsample': 0.9003221106421642, 'colsample_bytree': 0.9316274216574348, 'reg_alpha': 0.4788890186009068, 'reg_lambda': 5.787017865224292}. Best is trial 11 with value: 0.9924752.\n"
     ]
    },
    {
     "name": "stdout",
     "output_type": "stream",
     "text": [
      "Did not meet early stopping. Best iteration is:\n",
      "[790]\tvalid_0's auc: 0.991581\n",
      "🌟 Mejor AUC medio: 0.9925\n",
      "🔧 Mejores hiperparámetros:\n",
      " {'learning_rate': 0.17874458846553382, 'num_leaves': 251, 'max_depth': 12, 'min_child_samples': 17, 'subsample': 0.8688109914097938, 'colsample_bytree': 0.604507173451288, 'reg_alpha': 0.09049857754538002, 'reg_lambda': 2.1443791516396042}\n"
     ]
    }
   ],
   "source": [
    "import optuna\n",
    "from optuna.pruners import MedianPruner\n",
    "from lightgbm import LGBMClassifier, early_stopping, log_evaluation\n",
    "from sklearn.model_selection import StratifiedKFold\n",
    "from sklearn.metrics import roc_auc_score\n",
    "\n",
    "# Subconjunto balanceado de 5 000 muestras para el evento LiftOff\n",
    "X = X_train_subsampled_dict[\"LiftOff\"]\n",
    "y = y_train_subsampled_dict[\"LiftOff\"]\n",
    "\n",
    "\n",
    "def objective(trial):\n",
    "    params = {\n",
    "        # — hiperparámetros que busca Optuna —\n",
    "        \"learning_rate\": trial.suggest_float(\"learning_rate\", 1e-3, 0.2, log=True),\n",
    "        \"num_leaves\"   : trial.suggest_int(\"num_leaves\", 32, 256, log=True),\n",
    "        \"max_depth\"    : trial.suggest_int(\"max_depth\", 4, 12),\n",
    "        \"min_child_samples\": trial.suggest_int(\"min_child_samples\", 10, 120),\n",
    "        \"subsample\"        : trial.suggest_float(\"subsample\", 0.6, 1.0),\n",
    "        \"colsample_bytree\" : trial.suggest_float(\"colsample_bytree\", 0.6, 1.0),\n",
    "        \"reg_alpha\"        : trial.suggest_float(\"reg_alpha\", 0.0, 6.0),\n",
    "        \"reg_lambda\"       : trial.suggest_float(\"reg_lambda\", 0.0, 6.0),\n",
    "        # — fijos para estabilidad/velocidad —\n",
    "        \"n_estimators\" : 800,          # tope; se recorta con early-stopping\n",
    "        \"objective\"    : \"binary\",\n",
    "        \"metric\"       : \"auc\",\n",
    "        \"verbosity\"    : -1            # silencia salida \n",
    "    }\n",
    "\n",
    "    skf = StratifiedKFold(n_splits=2, shuffle=True, random_state=42)\n",
    "    aucs = []\n",
    "\n",
    "    for tr, va in skf.split(X, y):\n",
    "        X_tr, X_va = X.iloc[tr], X.iloc[va]\n",
    "        y_tr, y_va = y.iloc[tr], y.iloc[va]\n",
    "\n",
    "        model = LGBMClassifier(**params)\n",
    "        model.fit(\n",
    "            X_tr, y_tr,\n",
    "            eval_set=[(X_va, y_va)],\n",
    "            callbacks=[\n",
    "                early_stopping(stopping_rounds=30),   # corta si no mejora\n",
    "                log_evaluation(period=0)              # sin logs intermedios\n",
    "            ],\n",
    "        )\n",
    "\n",
    "        y_pred = model.predict_proba(X_va)[:, 1]\n",
    "        aucs.append(roc_auc_score(y_va, y_pred))\n",
    "\n",
    "    return sum(aucs) / len(aucs)\n",
    "\n",
    "# Estudio Optuna ultracompacto\n",
    "study = optuna.create_study(\n",
    "    direction=\"maximize\",\n",
    "    pruner=MedianPruner(n_warmup_steps=5)   # corta trials mediocres pronto\n",
    ")\n",
    "\n",
    "# 40 trials * cv=2 ≈ 15 min en CPU\n",
    "study.optimize(objective, n_trials=40, timeout=1200)   # 20 min máx\n",
    "\n",
    "print(\" Mejor AUC medio:\", round(study.best_value, 4))\n",
    "print(\" Mejores hiperparámetros:\\n\", study.best_params)"
   ]
  },
  {
   "cell_type": "markdown",
   "id": "2baa11c9-f009-4f60-af08-ac2615a70fcf",
   "metadata": {},
   "source": [
    "Antes de lanzar la optimización de XGBoost y SVM, es clave **congelar** el mejor modelo obtenido con LightGBM para:\n",
    "\n",
    "1. **Evitar pérdidas de resultados** si el kernel se reinicia durante nuevos experimentos.\n",
    "2. **Reutilizar** el modelo entrenado (p.ej., en la fase de validación sobre otros eventos).\n",
    "3. **Documentar** hiperparámetros y AUC final sin volver a entrenar.\n",
    "\n",
    "Los pasos a ejecutar ahora antes del siguiente modelo serán:\n",
    "\n",
    "1. **Reentrenar** LightGBM con los hiperparámetros óptimos y el sub-muestreo completo de 5 000 filas.  \n",
    "2. **Aplicar Early-Stopping** (`early_stopping(30)`) para fijar automáticamente el nº ideal de árboles.  \n",
    "3. **Guardar**:\n",
    "   - Modelo binario → `models/lgbm_liftoff.pkl`  \n",
    "   - Hiperparámetros → `models/lgbm_liftoff_params.json`  \n",
    "4. **Registrar** el AUC de validación (`best_score_[\"valid_0\"][\"auc\"]`) para la tabla comparativa final.\n",
    "\n",
    "Con el modelo almacenado, podemos continuar de forma segura con la búsqueda de XGBoost y SVM, hacer lo mismo para cada uno de ellos, y más tarde construir la tabla global de resultados sin riesgo de perder el mejor LightGBM ni el mejor XGBoost o SVM."
   ]
  },
  {
   "cell_type": "code",
   "execution_count": 7,
   "id": "a71ca259-ba90-455b-99a9-98a853fa8200",
   "metadata": {},
   "outputs": [
    {
     "name": "stdout",
     "output_type": "stream",
     "text": [
      "Training until validation scores don't improve for 30 rounds\n",
      "Early stopping, best iteration is:\n",
      "[310]\tvalid_0's auc: 0.900784\n",
      "AUC validación final LightGBM: 0.9007843119955949\n"
     ]
    }
   ],
   "source": [
    "# 1 y 2 – Reentrenar y guardar LightGBM óptimo (evento: LiftOff)\n",
    "\n",
    "import joblib\n",
    "from lightgbm import LGBMClassifier, early_stopping\n",
    "\n",
    "\n",
    "# Mejores hiperparámetros encontrados por Optuna\n",
    "best_params = {\n",
    "    \"learning_rate\": 0.17874458846553382,\n",
    "    \"num_leaves\": 251,\n",
    "    \"max_depth\": 12,\n",
    "    \"min_child_samples\": 17,\n",
    "    \"subsample\": 0.8688109914097938,\n",
    "    \"colsample_bytree\": 0.604507173451288,\n",
    "    \"reg_alpha\": 0.09049857754538002,\n",
    "    \"reg_lambda\": 2.1443791516396042,\n",
    "    \"n_estimators\": 800,\n",
    "    \"objective\": \"binary\",\n",
    "    \"metric\": \"auc\",\n",
    "    \"verbosity\": -1,\n",
    "}\n",
    "\n",
    "final_lgbm = LGBMClassifier(**best_params)\n",
    "\n",
    "final_lgbm.fit(\n",
    "    X_train_subsampled_dict[\"LiftOff\"],\n",
    "    y_train_subsampled_dict[\"LiftOff\"],\n",
    "    eval_set=[(X_valid_scaled, y_valid_win[\"LiftOff\"])],\n",
    "    callbacks=[early_stopping(30)],\n",
    ")\n",
    "\n",
    "\n",
    "# 3\n",
    "\n",
    "import os, json\n",
    "\n",
    "save_path = r\"C:\\Users\\luciaft\\Documents\\TFG\\TFG\\graspAndLiftDetectionTFGProyect\\models\"\n",
    "os.makedirs(save_path, exist_ok=True)\n",
    "\n",
    "# Modelo binario\n",
    "joblib.dump(final_lgbm, os.path.join(save_path, \"lgbm_liftoff.pkl\"))\n",
    "\n",
    "# Hiperparámetros en JSON\n",
    "with open(os.path.join(save_path, \"lgbm_liftoff_params.json\"), \"w\") as f:\n",
    "    json.dump(best_params, f, indent=4)\n",
    "\n",
    "\n",
    "# 4\n",
    "\n",
    "best_auc_lgbm = final_lgbm.best_score_[\"valid_0\"][\"auc\"]\n",
    "print(\"AUC validación final LightGBM:\", best_auc_lgbm)"
   ]
  },
  {
   "cell_type": "markdown",
   "id": "028d2e01-9dcc-4fef-8289-5862ce50814b",
   "metadata": {},
   "source": [
    "     "
   ]
  },
  {
   "cell_type": "markdown",
   "id": "be4a6017-ef25-4dbc-aa61-c181d3670fd6",
   "metadata": {},
   "source": [
    "## **3. Optimización de XGBoost con Optuna (evento LiftOff)**"
   ]
  },
  {
   "cell_type": "markdown",
   "id": "45c97f1f-027c-49eb-9b49-869a7bcf6f42",
   "metadata": {},
   "source": [
    "### Justificación de cada parámetro (versión eficiente)\n",
    "\n",
    "| Parámetro              | Rango propuesto / Valor fijo | Justificación |\n",
    "|------------------------|------------------------------|----------------|\n",
    "| `learning_rate`        | **[0.001, 0.2]** (log)       | Controla la tasa de aprendizaje. Valores bajos (≈0.01–0.1) reducen el riesgo de sobreajuste a costa de más iteraciones; Optuna explora desde muy conservador a agresivo. |\n",
    "| `n_estimators`         | **600** (fijo)               | Límite superior de árboles. Se combina con *early-stopping* para detenerse antes si no mejora, evitando entrenamientos largos innecesarios. |\n",
    "| `max_depth`            | **[3, 10]**                  | Profundidad máxima del árbol. Cortar en 10 limita el crecimiento exponencial del nº de nodos y acelera cada trial sin perder capacidad representativa. |\n",
    "| `min_child_weight`     | **[1, 8]**                   | Peso mínimo (suma de hessians) para dividir un nodo. Valores mayores evitan divisiones poco robustas en un dataset submuestreado. |\n",
    "| `gamma`                | **[0.0, 4.0]**               | Reducción mínima de la loss necesaria para seguir dividiendo. Actúa como regularización estructural ligera. |\n",
    "| `subsample`            | **[0.6, 1.0]**               | Fracción de filas usada en cada árbol. Introduce aleatoriedad tipo Bagging; rangos <0.6 empeoraban AUC en pruebas preliminares. |\n",
    "| `colsample_bytree`     | **[0.6, 1.0]**               | Fracción de columnas (features) por árbol. Diversifica los árboles y contiene el tiempo de cada split con 512 variables. |\n",
    "| `reg_alpha`            | **[0.0, 4.0]**               | Regularización L1 (Lasso). Fomenta modelos más esparsos, útil con 512 vars. |\n",
    "| `reg_lambda`           | **[0.0, 4.0]**               | Regularización L2 (Ridge). Suaviza los pesos y aporta estabilidad. |\n",
    "| `early_stopping_rounds`| **25** (fijo, en constructor) | Cesa el entrenamiento cuando no hay mejora tras 25 árboles ⇒ ahorra minutos por trial. |\n",
    "| `eval_metric`          | `\"auc\"` (fijo)               | Métrica robusta frente a desbalanceo, coherente con la métrica del TFG. |\n",
    "\n",
    "---\n",
    "\n",
    "### Validación y estrategia de optimización\n",
    "\n",
    "- **Validación cruzada estratificada (`StratifiedKFold`) con 2 folds**: reduce a la mitad el tiempo por trial manteniendo estimaciones fiables en un dataset balanceado.  \n",
    "- **Pruning con `MedianPruner`**: corta configuraciones cuyo AUC intermedio cae por debajo de la mediana provisional → evita gastar tiempo en trials claramente pobres.  \n",
    "- **`timeout = 1 200 s` (20 min)** y **`n_trials ≤ 40`**: garantiza que la búsqueda no sobrepase la ventana de cómputo disponible y prioriza las combinaciones más prometedoras.\n",
    "\n",
    "---\n",
    "\n",
    "Esta configuración limita la complejidad máxima del modelo y usa técnicas de *early-stopping* y *pruning* para que **Optuna explore eficazmente** sin disparar el tiempo total de optimización. Se equilibra así **calidad del AUC** y **eficiencia computacional**, condición clave para iterar rápido y comparar con la regresión logística y LightGBM dentro del mismo ciclo de trabajo."
   ]
  },
  {
   "cell_type": "code",
   "execution_count": 11,
   "id": "c19a689a-4aa4-4549-8c6d-28f8d90832dc",
   "metadata": {
    "scrolled": true
   },
   "outputs": [
    {
     "name": "stderr",
     "output_type": "stream",
     "text": [
      "[I 2025-05-25 00:11:03,287] A new study created in memory with name: no-name-3fc320a7-ba6f-4034-bf84-f7f846fa486f\n",
      "[I 2025-05-25 00:11:09,885] Trial 0 finished with value: 0.9300673600000001 and parameters: {'learning_rate': 0.09518763095616342, 'max_depth': 5, 'min_child_weight': 2, 'gamma': 1.4051059288817038, 'subsample': 0.8769716435803087, 'colsample_bytree': 0.649228847708827, 'reg_alpha': 1.0841070103135988, 'reg_lambda': 1.2060372677041666}. Best is trial 0 with value: 0.9300673600000001.\n",
      "[I 2025-05-25 00:11:24,791] Trial 1 finished with value: 0.9319876800000001 and parameters: {'learning_rate': 0.041796747092697005, 'max_depth': 8, 'min_child_weight': 5, 'gamma': 3.4617491059939454, 'subsample': 0.8336093350768542, 'colsample_bytree': 0.7232818560893214, 'reg_alpha': 1.782521543635676, 'reg_lambda': 1.8658754471752608}. Best is trial 1 with value: 0.9319876800000001.\n",
      "[I 2025-05-25 00:11:40,348] Trial 2 finished with value: 0.93850048 and parameters: {'learning_rate': 0.12266660671925718, 'max_depth': 9, 'min_child_weight': 2, 'gamma': 2.173962809390342, 'subsample': 0.8652548574514294, 'colsample_bytree': 0.9013121087907318, 'reg_alpha': 0.2636198718074314, 'reg_lambda': 2.8316009783710343}. Best is trial 2 with value: 0.93850048.\n",
      "[I 2025-05-25 00:11:46,560] Trial 3 finished with value: 0.8854636800000001 and parameters: {'learning_rate': 0.0013455107533151456, 'max_depth': 4, 'min_child_weight': 5, 'gamma': 3.7999023409826735, 'subsample': 0.9398792566933132, 'colsample_bytree': 0.9104641592308127, 'reg_alpha': 1.9128442929315512, 'reg_lambda': 2.074399919406574}. Best is trial 2 with value: 0.93850048.\n",
      "[I 2025-05-25 00:12:04,321] Trial 4 finished with value: 0.9290183999999999 and parameters: {'learning_rate': 0.07094901433208267, 'max_depth': 7, 'min_child_weight': 2, 'gamma': 3.9453056145619576, 'subsample': 0.7857112521344907, 'colsample_bytree': 0.9205137889775747, 'reg_alpha': 1.8616174552662903, 'reg_lambda': 1.900442170872414}. Best is trial 2 with value: 0.93850048.\n",
      "[I 2025-05-25 00:12:39,252] Trial 5 finished with value: 0.967492 and parameters: {'learning_rate': 0.019452587264263087, 'max_depth': 7, 'min_child_weight': 5, 'gamma': 2.3084336251171407, 'subsample': 0.9179649176638727, 'colsample_bytree': 0.9438848989778744, 'reg_alpha': 0.8199779753523488, 'reg_lambda': 3.5478760846514756}. Best is trial 5 with value: 0.967492.\n",
      "[I 2025-05-25 00:13:03,414] Trial 6 finished with value: 0.9652736 and parameters: {'learning_rate': 0.014787229180264625, 'max_depth': 6, 'min_child_weight': 6, 'gamma': 3.2077054335183557, 'subsample': 0.9554525733043499, 'colsample_bytree': 0.6058057963384262, 'reg_alpha': 3.1180026692478044, 'reg_lambda': 3.129029696255184}. Best is trial 5 with value: 0.967492.\n",
      "[I 2025-05-25 00:13:21,115] Trial 7 finished with value: 0.95729824 and parameters: {'learning_rate': 0.022439338745064506, 'max_depth': 4, 'min_child_weight': 6, 'gamma': 3.1085550013087824, 'subsample': 0.6716010722886466, 'colsample_bytree': 0.7674971080246937, 'reg_alpha': 2.3686173218293196, 'reg_lambda': 1.943228700512627}. Best is trial 5 with value: 0.967492.\n",
      "[I 2025-05-25 00:13:46,623] Trial 8 finished with value: 0.95301744 and parameters: {'learning_rate': 0.014281971116327185, 'max_depth': 4, 'min_child_weight': 3, 'gamma': 0.3402277498132653, 'subsample': 0.7347657440369992, 'colsample_bytree': 0.982572633620139, 'reg_alpha': 3.635955680804415, 'reg_lambda': 3.2323664380105166}. Best is trial 5 with value: 0.967492.\n",
      "[I 2025-05-25 00:14:21,232] Trial 9 finished with value: 0.95604176 and parameters: {'learning_rate': 0.0037145132655302354, 'max_depth': 10, 'min_child_weight': 6, 'gamma': 2.559347507265438, 'subsample': 0.6655358384755466, 'colsample_bytree': 0.8878183928930243, 'reg_alpha': 1.654400657787837, 'reg_lambda': 1.6597553506666252}. Best is trial 5 with value: 0.967492.\n",
      "[I 2025-05-25 00:15:05,304] Trial 10 finished with value: 0.9525448000000001 and parameters: {'learning_rate': 0.005238414942113409, 'max_depth': 7, 'min_child_weight': 8, 'gamma': 1.3518553532263304, 'subsample': 0.9929140714707434, 'colsample_bytree': 0.9989568669273252, 'reg_alpha': 0.041324011845035535, 'reg_lambda': 3.8951803096248465}. Best is trial 5 with value: 0.967492.\n",
      "[I 2025-05-25 00:15:30,371] Trial 11 finished with value: 0.9571716800000001 and parameters: {'learning_rate': 0.006214221252625102, 'max_depth': 6, 'min_child_weight': 8, 'gamma': 2.802627999392975, 'subsample': 0.9698764219461492, 'colsample_bytree': 0.6075737614956875, 'reg_alpha': 3.1603218127037596, 'reg_lambda': 3.9728828260904967}. Best is trial 5 with value: 0.967492.\n",
      "[I 2025-05-25 00:16:00,073] Trial 12 finished with value: 0.92967328 and parameters: {'learning_rate': 0.02641660961489037, 'max_depth': 6, 'min_child_weight': 4, 'gamma': 1.6024759701299527, 'subsample': 0.9125738346339675, 'colsample_bytree': 0.8244315725180376, 'reg_alpha': 2.963186010838343, 'reg_lambda': 0.24627951904731038}. Best is trial 5 with value: 0.967492.\n",
      "[I 2025-05-25 00:16:29,413] Trial 13 finished with value: 0.96708 and parameters: {'learning_rate': 0.010043718461703512, 'max_depth': 8, 'min_child_weight': 7, 'gamma': 2.190230770393108, 'subsample': 0.9109877504944948, 'colsample_bytree': 0.6873709133272707, 'reg_alpha': 0.8828899947219347, 'reg_lambda': 2.9769827806096156}. Best is trial 5 with value: 0.967492.\n",
      "[I 2025-05-25 00:16:55,769] Trial 14 finished with value: 0.9646284799999999 and parameters: {'learning_rate': 0.007546262325518008, 'max_depth': 8, 'min_child_weight': 7, 'gamma': 2.083106120060183, 'subsample': 0.7708473433445653, 'colsample_bytree': 0.6832760878850425, 'reg_alpha': 0.8761130963524475, 'reg_lambda': 2.681715174254083}. Best is trial 5 with value: 0.967492.\n",
      "[I 2025-05-25 00:17:05,875] Trial 15 finished with value: 0.91298848 and parameters: {'learning_rate': 0.0014220191144098716, 'max_depth': 9, 'min_child_weight': 4, 'gamma': 0.5258978685517701, 'subsample': 0.9001769243285189, 'colsample_bytree': 0.7987058177223154, 'reg_alpha': 0.8013719579894002, 'reg_lambda': 3.5117397829338137}. Best is trial 5 with value: 0.967492.\n",
      "[I 2025-05-25 00:17:43,323] Trial 16 finished with value: 0.9540068799999999 and parameters: {'learning_rate': 0.002904092283282536, 'max_depth': 8, 'min_child_weight': 7, 'gamma': 2.4474168901552025, 'subsample': 0.8376241315542757, 'colsample_bytree': 0.8457987812626764, 'reg_alpha': 1.3313436937513505, 'reg_lambda': 2.569859032305149}. Best is trial 5 with value: 0.967492.\n",
      "[I 2025-05-25 00:17:57,942] Trial 17 finished with value: 0.9351508799999999 and parameters: {'learning_rate': 0.04869475811294181, 'max_depth': 10, 'min_child_weight': 7, 'gamma': 0.9380521942348312, 'subsample': 0.9289791347271488, 'colsample_bytree': 0.7284810184136382, 'reg_alpha': 0.5074667249591625, 'reg_lambda': 3.459937791047955}. Best is trial 5 with value: 0.967492.\n",
      "[I 2025-05-25 00:18:16,194] Trial 18 finished with value: 0.92924768 and parameters: {'learning_rate': 0.010579504850654235, 'max_depth': 3, 'min_child_weight': 1, 'gamma': 1.6128245059222317, 'subsample': 0.6208202743273594, 'colsample_bytree': 0.9536973173297814, 'reg_alpha': 2.38137559045004, 'reg_lambda': 2.362570660987168}. Best is trial 5 with value: 0.967492.\n",
      "[I 2025-05-25 00:18:22,854] Trial 19 finished with value: 0.93394688 and parameters: {'learning_rate': 0.1926678262033759, 'max_depth': 9, 'min_child_weight': 5, 'gamma': 2.0532666159092865, 'subsample': 0.826503811675853, 'colsample_bytree': 0.7406117997349805, 'reg_alpha': 1.3073243969357358, 'reg_lambda': 3.068227244998016}. Best is trial 5 with value: 0.967492.\n",
      "[I 2025-05-25 00:18:47,000] Trial 20 finished with value: 0.9749046400000001 and parameters: {'learning_rate': 0.024338025266822605, 'max_depth': 7, 'min_child_weight': 6, 'gamma': 0.9675300391847901, 'subsample': 0.9918419230831264, 'colsample_bytree': 0.6830124440743154, 'reg_alpha': 0.5560415750669689, 'reg_lambda': 1.222569300270401}. Best is trial 20 with value: 0.9749046400000001.\n",
      "[I 2025-05-25 00:19:08,271] Trial 21 finished with value: 0.93664128 and parameters: {'learning_rate': 0.023307804172240706, 'max_depth': 7, 'min_child_weight': 6, 'gamma': 0.8140086321343554, 'subsample': 0.9934199603361668, 'colsample_bytree': 0.676835116499232, 'reg_alpha': 0.6494260602286673, 'reg_lambda': 0.8494141700425957}. Best is trial 20 with value: 0.9749046400000001.\n",
      "[I 2025-05-25 00:19:25,643] Trial 22 finished with value: 0.9322796799999999 and parameters: {'learning_rate': 0.03539770890892345, 'max_depth': 8, 'min_child_weight': 7, 'gamma': 1.765716133958543, 'subsample': 0.8908051734000505, 'colsample_bytree': 0.6821567670028053, 'reg_alpha': 0.40942312636843115, 'reg_lambda': 1.246152081040397}. Best is trial 20 with value: 0.9749046400000001.\n",
      "[I 2025-05-25 00:20:00,594] Trial 23 finished with value: 0.97558656 and parameters: {'learning_rate': 0.009361603850241975, 'max_depth': 7, 'min_child_weight': 4, 'gamma': 1.1375069031890903, 'subsample': 0.9641136987869432, 'colsample_bytree': 0.7757351794042561, 'reg_alpha': 0.024204084662042824, 'reg_lambda': 0.4124032759722731}. Best is trial 23 with value: 0.97558656.\n",
      "[I 2025-05-25 00:20:29,431] Trial 24 finished with value: 0.96666112 and parameters: {'learning_rate': 0.017571750390826372, 'max_depth': 5, 'min_child_weight': 4, 'gamma': 0.048852414445550885, 'subsample': 0.9606560127954912, 'colsample_bytree': 0.8600774078308223, 'reg_alpha': 0.041309684263714064, 'reg_lambda': 0.036938895175781306}. Best is trial 23 with value: 0.97558656.\n",
      "[I 2025-05-25 00:20:49,522] Trial 25 finished with value: 0.94035408 and parameters: {'learning_rate': 0.03261885864209664, 'max_depth': 7, 'min_child_weight': 3, 'gamma': 1.0924510355018768, 'subsample': 0.999760029138473, 'colsample_bytree': 0.7816052359657077, 'reg_alpha': 0.23760965249197208, 'reg_lambda': 0.5997718826447265}. Best is trial 23 with value: 0.97558656.\n",
      "[I 2025-05-25 00:21:19,358] Trial 26 finished with value: 0.9642336 and parameters: {'learning_rate': 0.009653346736123334, 'max_depth': 5, 'min_child_weight': 3, 'gamma': 0.5509679421552595, 'subsample': 0.9632610427659736, 'colsample_bytree': 0.7582086508626862, 'reg_alpha': 1.1506066064978686, 'reg_lambda': 0.6408476986510366}. Best is trial 23 with value: 0.97558656.\n",
      "[I 2025-05-25 00:21:34,079] Trial 27 finished with value: 0.93263792 and parameters: {'learning_rate': 0.06028546509473005, 'max_depth': 6, 'min_child_weight': 5, 'gamma': 1.2787808042468995, 'subsample': 0.9285340249595859, 'colsample_bytree': 0.8233264871296356, 'reg_alpha': 0.605008767267128, 'reg_lambda': 1.479000106159855}. Best is trial 23 with value: 0.97558656.\n",
      "[I 2025-05-25 00:22:05,624] Trial 28 finished with value: 0.9628736 and parameters: {'learning_rate': 0.0023627889684239263, 'max_depth': 7, 'min_child_weight': 4, 'gamma': 0.8131709811208032, 'subsample': 0.8548878159701496, 'colsample_bytree': 0.6402038528106927, 'reg_alpha': 1.5134947228306874, 'reg_lambda': 0.9933442447186329}. Best is trial 23 with value: 0.97558656.\n",
      "[I 2025-05-25 00:22:35,920] Trial 29 finished with value: 0.9655500800000001 and parameters: {'learning_rate': 0.004813479155308324, 'max_depth': 6, 'min_child_weight': 5, 'gamma': 1.80857335291211, 'subsample': 0.8781841478633945, 'colsample_bytree': 0.7099199678794998, 'reg_alpha': 1.0343294451945892, 'reg_lambda': 0.33674522951666297}. Best is trial 23 with value: 0.97558656.\n",
      "[I 2025-05-25 00:23:04,172] Trial 30 finished with value: 0.9252224 and parameters: {'learning_rate': 0.020503629200411384, 'max_depth': 5, 'min_child_weight': 3, 'gamma': 1.2605250834894635, 'subsample': 0.9775246338608838, 'colsample_bytree': 0.9412302205803635, 'reg_alpha': 0.002733456410048851, 'reg_lambda': 1.2987104493097572}. Best is trial 23 with value: 0.97558656.\n",
      "[I 2025-05-25 00:23:35,359] Trial 31 finished with value: 0.96695792 and parameters: {'learning_rate': 0.009281037018340673, 'max_depth': 8, 'min_child_weight': 6, 'gamma': 2.41809270431294, 'subsample': 0.9138491249872522, 'colsample_bytree': 0.6680990223050121, 'reg_alpha': 0.8797355927205048, 'reg_lambda': 3.648988586353932}. Best is trial 23 with value: 0.97558656.\n",
      "[I 2025-05-25 00:24:02,478] Trial 32 finished with value: 0.96889248 and parameters: {'learning_rate': 0.01205310070079341, 'max_depth': 8, 'min_child_weight': 8, 'gamma': 2.9525978272265387, 'subsample': 0.938621051011633, 'colsample_bytree': 0.6410277921335121, 'reg_alpha': 0.3173243613589484, 'reg_lambda': 2.338589112133751}. Best is trial 23 with value: 0.97558656.\n",
      "[I 2025-05-25 00:24:28,928] Trial 33 finished with value: 0.9691112 and parameters: {'learning_rate': 0.013302522237837861, 'max_depth': 9, 'min_child_weight': 8, 'gamma': 2.937355520312316, 'subsample': 0.9444775367163867, 'colsample_bytree': 0.6338974412131335, 'reg_alpha': 0.4807700124603771, 'reg_lambda': 2.334824968956405}. Best is trial 23 with value: 0.97558656.\n",
      "[I 2025-05-25 00:24:56,779] Trial 34 finished with value: 0.96883872 and parameters: {'learning_rate': 0.011912336332397508, 'max_depth': 9, 'min_child_weight': 8, 'gamma': 3.5021375896260936, 'subsample': 0.9471671027246366, 'colsample_bytree': 0.6397709355076153, 'reg_alpha': 0.26985605682462255, 'reg_lambda': 2.3146697834336507}. Best is trial 23 with value: 0.97558656.\n",
      "[I 2025-05-25 00:25:26,989] Trial 35 finished with value: 0.9659312 and parameters: {'learning_rate': 0.00711882060710613, 'max_depth': 9, 'min_child_weight': 8, 'gamma': 3.014017850365021, 'subsample': 0.9418502031924892, 'colsample_bytree': 0.6255898152553162, 'reg_alpha': 0.35806694825845775, 'reg_lambda': 2.1483158338219277}. Best is trial 23 with value: 0.97558656.\n",
      "[I 2025-05-25 00:25:34,219] Trial 36 finished with value: 0.9268555199999999 and parameters: {'learning_rate': 0.10170593397290675, 'max_depth': 10, 'min_child_weight': 8, 'gamma': 3.4415168875791147, 'subsample': 0.9732130094460192, 'colsample_bytree': 0.7023265223593081, 'reg_alpha': 0.6322045382509601, 'reg_lambda': 1.6330223684113565}. Best is trial 23 with value: 0.97558656.\n",
      "[I 2025-05-25 00:26:00,204] Trial 37 finished with value: 0.9718876799999999 and parameters: {'learning_rate': 0.014377080175774288, 'max_depth': 8, 'min_child_weight': 7, 'gamma': 2.7681095629807526, 'subsample': 0.8697799204246806, 'colsample_bytree': 0.6554063330423245, 'reg_alpha': 0.21251875352268984, 'reg_lambda': 0.8965564520197482}. Best is trial 23 with value: 0.97558656.\n",
      "[I 2025-05-25 00:26:14,215] Trial 38 finished with value: 0.93357296 and parameters: {'learning_rate': 0.030151339388774248, 'max_depth': 7, 'min_child_weight': 7, 'gamma': 2.6683834353004032, 'subsample': 0.8684219294803032, 'colsample_bytree': 0.6587060380282985, 'reg_alpha': 0.17119339485782054, 'reg_lambda': 0.9719761699534563}. Best is trial 23 with value: 0.97558656.\n",
      "[I 2025-05-25 00:26:43,254] Trial 39 finished with value: 0.9704051199999999 and parameters: {'learning_rate': 0.016467778705511502, 'max_depth': 9, 'min_child_weight': 6, 'gamma': 3.302734202698405, 'subsample': 0.8104729116915039, 'colsample_bytree': 0.7470386292444162, 'reg_alpha': 2.098154771309778, 'reg_lambda': 0.7087523875625874}. Best is trial 23 with value: 0.97558656.\n"
     ]
    },
    {
     "name": "stdout",
     "output_type": "stream",
     "text": [
      "🔧 Mejores hiperparámetros:\n",
      " {'learning_rate': 0.009361603850241975, 'max_depth': 7, 'min_child_weight': 4, 'gamma': 1.1375069031890903, 'subsample': 0.9641136987869432, 'colsample_bytree': 0.7757351794042561, 'reg_alpha': 0.024204084662042824, 'reg_lambda': 0.4124032759722731}\n",
      "🌟 Mejor AUC medio: 0.9756\n"
     ]
    }
   ],
   "source": [
    "# === Optuna + XGBoost (versión “limpia” y eficiente, ya que salieron warnings de como se debía añadir early_stopping y me he dado cuenta de que podría tardar mucho tiempo en ejecutarse) =========================\n",
    "\n",
    "import optuna\n",
    "from optuna.pruners import MedianPruner\n",
    "from xgboost import XGBClassifier\n",
    "from xgboost.callback import EarlyStopping\n",
    "from sklearn.model_selection import StratifiedKFold\n",
    "from sklearn.metrics import roc_auc_score\n",
    "\n",
    "# Subconjunto balanceado de 5 000 muestras para el evento LiftOff\n",
    "X = X_train_subsampled_dict[\"LiftOff\"]\n",
    "y = y_train_subsampled_dict[\"LiftOff\"]\n",
    "\n",
    "def objective(trial):\n",
    "    # ---------- espacio de búsqueda ----------\n",
    "    xgb_params = {\n",
    "        \"learning_rate\"    : trial.suggest_float(\"learning_rate\", 1e-3, 0.2, log=True),\n",
    "        \"max_depth\"        : trial.suggest_int  (\"max_depth\", 3, 10),\n",
    "        \"min_child_weight\" : trial.suggest_int  (\"min_child_weight\", 1, 8),\n",
    "        \"gamma\"            : trial.suggest_float(\"gamma\", 0.0, 4.0),\n",
    "        \"subsample\"        : trial.suggest_float(\"subsample\", 0.6, 1.0),\n",
    "        \"colsample_bytree\" : trial.suggest_float(\"colsample_bytree\", 0.6, 1.0),\n",
    "        \"reg_alpha\"        : trial.suggest_float(\"reg_alpha\", 0.0, 4.0),\n",
    "        \"reg_lambda\"       : trial.suggest_float(\"reg_lambda\", 0.0, 4.0),\n",
    "        # --- fijos ---\n",
    "        \"n_estimators\" : 600,      # se recorta con early-stopping\n",
    "        \"eval_metric\"  : \"auc\",\n",
    "        \"n_jobs\"       : 4,        # ajusta al nº de hilos que tengas\n",
    "    }\n",
    "\n",
    "    # Early-Stopping como CALLBACK en el CONSTRUCTOR  →  ¡sin warning!\n",
    "    estop = EarlyStopping(rounds=25)\n",
    "    model = XGBClassifier(**xgb_params, callbacks=[estop])\n",
    "\n",
    "    # ---------- validación cruzada 2-fold ----------\n",
    "    skf  = StratifiedKFold(n_splits=2, shuffle=True, random_state=42)\n",
    "    aucs = []\n",
    "\n",
    "    for tr_idx, va_idx in skf.split(X, y):\n",
    "        X_tr, X_va = X.iloc[tr_idx], X.iloc[va_idx]\n",
    "        y_tr, y_va = y.iloc[tr_idx], y.iloc[va_idx]\n",
    "\n",
    "        model.fit(X_tr, y_tr, eval_set=[(X_va, y_va)], verbose=False)\n",
    "        y_prob = model.predict_proba(X_va)[:, 1]\n",
    "        aucs.append(roc_auc_score(y_va, y_prob))\n",
    "\n",
    "    return sum(aucs) / len(aucs)\n",
    "\n",
    "# ---------- estudio Optuna ----------\n",
    "study = optuna.create_study(\n",
    "    direction=\"maximize\",\n",
    "    pruner=MedianPruner(n_warmup_steps=5)   # corta trials mediocres pronto\n",
    ")\n",
    "study.optimize(objective, n_trials=40, timeout=1800)   # ⏱ 30 min máximo\n",
    "\n",
    "print(\" Mejores hiperparámetros:\\n\", study.best_params)\n",
    "print(f\" Mejor AUC medio: {study.best_value:.4f}\")"
   ]
  },
  {
   "cell_type": "code",
   "execution_count": 14,
   "id": "c284629e-2fbc-4518-b8b1-e1508d80d240",
   "metadata": {},
   "outputs": [
    {
     "name": "stdout",
     "output_type": "stream",
     "text": [
      "AUC validación final XGBoost: 0.8981\n"
     ]
    }
   ],
   "source": [
    "import joblib\n",
    "import os, json\n",
    "import pandas as pd\n",
    "from xgboost import XGBClassifier\n",
    "from xgboost.callback import EarlyStopping\n",
    "from sklearn.metrics import roc_auc_score\n",
    "\n",
    "# Mejores hiperparámetros\n",
    "best_params = {\n",
    "    \"learning_rate\": 0.009361603850241975,\n",
    "    \"max_depth\": 7,\n",
    "    \"min_child_weight\": 4,\n",
    "    \"gamma\": 1.1375069031890903,\n",
    "    \"subsample\": 0.9641136987869432,\n",
    "    \"colsample_bytree\": 0.7757351794042561,\n",
    "    \"reg_alpha\": 0.024204084662042824,\n",
    "    \"reg_lambda\": 0.4124032759722731,\n",
    "    \"n_estimators\": 600,\n",
    "    \"eval_metric\": \"auc\",\n",
    "    \"n_jobs\": 6\n",
    "}\n",
    "\n",
    "# Restaurar nombres de columna a X_valid (evita el ValueError de XGBoost por tener el DataFrame sin nombres de columnas)\n",
    "X_train = X_train_subsampled_dict[\"LiftOff\"]\n",
    "X_valid = pd.DataFrame(X_valid_scaled, columns=X_train.columns)\n",
    "\n",
    "# Reentrenar el modelo\n",
    "final_xgb = XGBClassifier(**best_params, callbacks=[EarlyStopping(rounds=30)])\n",
    "final_xgb.fit(\n",
    "    X_train,\n",
    "    y_train_subsampled_dict[\"LiftOff\"],\n",
    "    eval_set=[(X_valid, y_valid_win[\"LiftOff\"])],\n",
    "    verbose=False\n",
    ")\n",
    "\n",
    "# Guardar modelo y parámetros\n",
    "save_path = r\"C:\\Users\\luciaft\\Documents\\TFG\\TFG\\graspAndLiftDetectionTFGProyect\\models\"\n",
    "os.makedirs(save_path, exist_ok=True)\n",
    "\n",
    "joblib.dump(final_xgb, os.path.join(save_path, \"xgb_liftoff.pkl\"))\n",
    "\n",
    "with open(os.path.join(save_path, \"xgb_liftoff_params.json\"), \"w\") as f:\n",
    "    json.dump(best_params, f, indent=4)\n",
    "\n",
    "# Evaluar\n",
    "y_pred = final_xgb.predict_proba(X_valid)[:, 1]\n",
    "best_auc_xgb = roc_auc_score(y_valid_win[\"LiftOff\"], y_pred)\n",
    "print(f\"AUC validación final XGBoost: {best_auc_xgb:.4f}\")"
   ]
  },
  {
   "cell_type": "markdown",
   "id": "d25a8232-411b-4cf5-bb9f-6bad533059b1",
   "metadata": {},
   "source": [
    "     "
   ]
  },
  {
   "cell_type": "markdown",
   "id": "b33acb70-4d57-47b1-808c-391fe4bb0725",
   "metadata": {},
   "source": [
    "     "
   ]
  },
  {
   "cell_type": "markdown",
   "id": "7d366756-2a99-4028-9a9c-9404d8e9d756",
   "metadata": {},
   "source": [
    "## **3. Optimización de MLP con Optuna (evento LiftOff)**"
   ]
  },
  {
   "cell_type": "markdown",
   "id": "7755833e-bc7d-4b3e-a43d-d21b76f31e30",
   "metadata": {},
   "source": [
    "### Justificación de cada parámetro (versión optimizada)\n",
    "\n",
    "| Parámetro              | Rango propuesto / Valor fijo      | Justificación |\n",
    "|------------------------|-----------------------------------|----------------|\n",
    "| `n_layers`             | **[1, 4]**                        | Controla la profundidad de la red. 1-2 capas es habitual en MLPs clásicos, pero 3-4 capas permiten mayor capacidad representativa para detectar patrones no lineales en señales EEG. |\n",
    "| `n_units_l{i}`         | **[100, 300]** por capa           | Número de neuronas por capa. Rango suficiente para modelar relaciones complejas sin llegar a redes demasiado profundas/costosas. |\n",
    "| `activation`           | **[\"relu\", \"tanh\"]**             | Funciones de activación clásicas. `relu` acelera convergencia; `tanh` es útil cuando se busca una activación centrada en cero. |\n",
    "| `solver`               | `\"adam\"` (fijo)                   | Optimizador robusto y eficiente para datasets con ruido como los de EEG. Adapta automáticamente la tasa de aprendizaje. |\n",
    "| `alpha`                | **[1e-6, 1e-2]** (log)            | Término de regularización L2. Penaliza pesos grandes y ayuda a evitar el sobreajuste. Rango logarítmico permite explorar desde mínima hasta moderada regularización. |\n",
    "| `learning_rate`        | **[\"constant\", \"invscaling\", \"adaptive\"]** | Estrategias de variación del learning rate. `adaptive` es útil con early-stopping; `invscaling` permite convergencia más fina. |\n",
    "| `learning_rate_init`   | **[1e-4, 1e-2]** (log)            | Tasa de aprendizaje inicial. Valores pequeños permiten ajustes suaves de los pesos. Crucial para estabilidad del entrenamiento. |\n",
    "| `max_iter`             | **600** (fijo)                    | Iteraciones máximas. Permite convergencia adecuada incluso en redes profundas. Se interrumpe antes si se activa el *early stopping*. |\n",
    "| `early_stopping`       | `True` (fijo)                     | Detiene el entrenamiento si no hay mejora en la validación, acelerando los trials y reduciendo el sobreajuste. |\n",
    "| `random_state`         | **42** (fijo)                     | Reproducibilidad del experimento. |\n",
    "\n",
    "---\n",
    "\n",
    "### Validación y estrategia de optimización\n",
    "\n",
    "- **Validación cruzada estratificada (`StratifiedKFold`) con 3 folds**: evaluación más exigente que con 2 folds, lo que mejora la estimación del AUC medio y refuerza la robustez de los resultados.  \n",
    "- **Pruning con `MedianPruner`**: corta configuraciones con rendimiento inferior a la mediana provisional, acelerando la exploración.  \n",
    "- **`timeout = 2400 s` (40 min)** y **`n_trials ≤ 80`**: se amplió la ventana de exploración debido a que versiones anteriores con menos trials ejecutaron en poco tiempo, indicando baja complejidad computacional en el caso de MLP. Esto permitió explorar arquitecturas más variadas y tasas de aprendizaje más diversas sin comprometer eficiencia global.\n",
    "\n",
    "---\n",
    "\n",
    "Este enfoque permitió explotar la **versatilidad del MLP** con un espacio de búsqueda controlado y técnicas de regularización y parada temprana, garantizando tanto **buen rendimiento en AUC** como **evitación del sobreajuste** en un conjunto reducido y balanceado de muestras del evento motor LiftOff.\n",
    "\n"
   ]
  },
  {
   "cell_type": "code",
   "execution_count": 16,
   "id": "4b7aec18-51a9-4ffe-b3a1-4731b22aa737",
   "metadata": {
    "scrolled": true
   },
   "outputs": [
    {
     "name": "stderr",
     "output_type": "stream",
     "text": [
      "[I 2025-05-25 00:47:53,552] A new study created in memory with name: no-name-0f867b1d-4213-4b6a-9b81-d5086d87c42f\n",
      "[I 2025-05-25 00:48:01,835] Trial 0 finished with value: 0.9833948203836392 and parameters: {'n_layers': 4, 'n_units_l0': 267, 'n_units_l1': 264, 'n_units_l2': 123, 'n_units_l3': 227, 'activation': 'relu', 'alpha': 0.00012173254766352711, 'learning_rate': 'adaptive', 'learning_rate_init': 0.0035431974960343014}. Best is trial 0 with value: 0.9833948203836392.\n",
      "[I 2025-05-25 00:48:06,582] Trial 1 finished with value: 0.9739156057228296 and parameters: {'n_layers': 3, 'n_units_l0': 128, 'n_units_l1': 234, 'n_units_l2': 237, 'activation': 'tanh', 'alpha': 8.660680525434792e-06, 'learning_rate': 'adaptive', 'learning_rate_init': 0.009604281707024239}. Best is trial 0 with value: 0.9833948203836392.\n",
      "[I 2025-05-25 00:48:14,161] Trial 2 finished with value: 0.9856513746184964 and parameters: {'n_layers': 4, 'n_units_l0': 165, 'n_units_l1': 202, 'n_units_l2': 284, 'n_units_l3': 289, 'activation': 'tanh', 'alpha': 0.0002832696382394438, 'learning_rate': 'invscaling', 'learning_rate_init': 0.000883355573938411}. Best is trial 2 with value: 0.9856513746184964.\n",
      "[I 2025-05-25 00:48:16,658] Trial 3 finished with value: 0.9862102918787053 and parameters: {'n_layers': 1, 'n_units_l0': 179, 'activation': 'relu', 'alpha': 0.006393098421944591, 'learning_rate': 'adaptive', 'learning_rate_init': 0.001596350988416068}. Best is trial 3 with value: 0.9862102918787053.\n",
      "[I 2025-05-25 00:48:25,875] Trial 4 finished with value: 0.9850152240732255 and parameters: {'n_layers': 4, 'n_units_l0': 247, 'n_units_l1': 110, 'n_units_l2': 184, 'n_units_l3': 240, 'activation': 'relu', 'alpha': 0.00017605305977555613, 'learning_rate': 'adaptive', 'learning_rate_init': 0.0033426179727720877}. Best is trial 3 with value: 0.9862102918787053.\n",
      "[I 2025-05-25 00:48:32,038] Trial 5 finished with value: 0.9864006098580335 and parameters: {'n_layers': 1, 'n_units_l0': 240, 'activation': 'tanh', 'alpha': 0.00021070844861726287, 'learning_rate': 'constant', 'learning_rate_init': 0.00039581079547881885}. Best is trial 5 with value: 0.9864006098580335.\n",
      "[I 2025-05-25 00:48:36,100] Trial 6 finished with value: 0.9856500820738762 and parameters: {'n_layers': 2, 'n_units_l0': 244, 'n_units_l1': 286, 'activation': 'tanh', 'alpha': 7.1940738737479435e-06, 'learning_rate': 'constant', 'learning_rate_init': 0.004751620469694092}. Best is trial 5 with value: 0.9864006098580335.\n",
      "[I 2025-05-25 00:48:41,224] Trial 7 finished with value: 0.9867457077516364 and parameters: {'n_layers': 3, 'n_units_l0': 264, 'n_units_l1': 153, 'n_units_l2': 154, 'activation': 'relu', 'alpha': 0.0003315167571087831, 'learning_rate': 'constant', 'learning_rate_init': 0.0011944740841360346}. Best is trial 7 with value: 0.9867457077516364.\n",
      "[I 2025-05-25 00:48:48,987] Trial 8 finished with value: 0.9818597194549873 and parameters: {'n_layers': 4, 'n_units_l0': 175, 'n_units_l1': 122, 'n_units_l2': 278, 'n_units_l3': 258, 'activation': 'tanh', 'alpha': 3.366301981533972e-06, 'learning_rate': 'adaptive', 'learning_rate_init': 0.0001332764590935152}. Best is trial 7 with value: 0.9867457077516364.\n",
      "[I 2025-05-25 00:48:56,528] Trial 9 finished with value: 0.984458286813967 and parameters: {'n_layers': 2, 'n_units_l0': 170, 'n_units_l1': 115, 'activation': 'relu', 'alpha': 0.00042132317096633997, 'learning_rate': 'invscaling', 'learning_rate_init': 0.00012530992296916948}. Best is trial 7 with value: 0.9867457077516364.\n",
      "[I 2025-05-25 00:49:02,341] Trial 10 finished with value: 0.984884160682332 and parameters: {'n_layers': 3, 'n_units_l0': 298, 'n_units_l1': 169, 'n_units_l2': 105, 'activation': 'relu', 'alpha': 0.0032608086099805904, 'learning_rate': 'constant', 'learning_rate_init': 0.0004814896284519207}. Best is trial 7 with value: 0.9867457077516364.\n",
      "[I 2025-05-25 00:49:08,008] Trial 11 finished with value: 0.9842214297403059 and parameters: {'n_layers': 1, 'n_units_l0': 220, 'activation': 'tanh', 'alpha': 0.00121648183992312, 'learning_rate': 'constant', 'learning_rate_init': 0.00037580273595584786}. Best is trial 7 with value: 0.9867457077516364.\n",
      "[I 2025-05-25 00:49:14,875] Trial 12 finished with value: 0.985054808540221 and parameters: {'n_layers': 2, 'n_units_l0': 286, 'n_units_l1': 167, 'activation': 'tanh', 'alpha': 2.511382046258661e-05, 'learning_rate': 'constant', 'learning_rate_init': 0.0002925835909861806}. Best is trial 7 with value: 0.9867457077516364.\n",
      "[I 2025-05-25 00:49:19,342] Trial 13 finished with value: 0.9860137375443842 and parameters: {'n_layers': 3, 'n_units_l0': 224, 'n_units_l1': 158, 'n_units_l2': 170, 'activation': 'relu', 'alpha': 4.539947875269671e-05, 'learning_rate': 'constant', 'learning_rate_init': 0.001048507833021611}. Best is trial 7 with value: 0.9867457077516364.\n",
      "[I 2025-05-25 00:49:22,878] Trial 14 finished with value: 0.9839614998235727 and parameters: {'n_layers': 1, 'n_units_l0': 264, 'activation': 'relu', 'alpha': 0.0008292229525894046, 'learning_rate': 'constant', 'learning_rate_init': 0.0006838734530791471}. Best is trial 7 with value: 0.9867457077516364.\n",
      "[I 2025-05-25 00:49:25,928] Trial 15 finished with value: 0.9847749832859408 and parameters: {'n_layers': 2, 'n_units_l0': 215, 'n_units_l1': 211, 'activation': 'tanh', 'alpha': 4.8413560859749816e-05, 'learning_rate': 'constant', 'learning_rate_init': 0.0017254931084234564}. Best is trial 7 with value: 0.9867457077516364.\n",
      "[I 2025-05-25 00:49:32,525] Trial 16 finished with value: 0.9848449327595076 and parameters: {'n_layers': 3, 'n_units_l0': 245, 'n_units_l1': 151, 'n_units_l2': 148, 'activation': 'relu', 'alpha': 0.002011507302949138, 'learning_rate': 'invscaling', 'learning_rate_init': 0.0002512597613291241}. Best is trial 7 with value: 0.9867457077516364.\n",
      "[I 2025-05-25 00:49:35,852] Trial 17 finished with value: 0.9858006980821526 and parameters: {'n_layers': 1, 'n_units_l0': 200, 'activation': 'tanh', 'alpha': 0.0005141188984210698, 'learning_rate': 'constant', 'learning_rate_init': 0.0015505643003952839}. Best is trial 7 with value: 0.9867457077516364.\n",
      "[I 2025-05-25 00:49:40,570] Trial 18 finished with value: 0.9834442584873632 and parameters: {'n_layers': 2, 'n_units_l0': 105, 'n_units_l1': 245, 'activation': 'relu', 'alpha': 5.962884787682458e-05, 'learning_rate': 'constant', 'learning_rate_init': 0.00018618085351401642}. Best is trial 7 with value: 0.9867457077516364.\n",
      "[I 2025-05-25 00:49:48,753] Trial 19 finished with value: 0.9860778792071642 and parameters: {'n_layers': 3, 'n_units_l0': 272, 'n_units_l1': 138, 'n_units_l2': 220, 'activation': 'tanh', 'alpha': 1.5767887065957045e-06, 'learning_rate': 'constant', 'learning_rate_init': 0.0004836441976913497}. Best is trial 7 with value: 0.9867457077516364.\n",
      "[I 2025-05-25 00:49:52,508] Trial 20 finished with value: 0.9866561209886461 and parameters: {'n_layers': 1, 'n_units_l0': 235, 'activation': 'relu', 'alpha': 1.8329268347522873e-05, 'learning_rate': 'invscaling', 'learning_rate_init': 0.0006767477069446542}. Best is trial 7 with value: 0.9867457077516364.\n",
      "[I 2025-05-25 00:49:55,707] Trial 21 finished with value: 0.9866284078873472 and parameters: {'n_layers': 1, 'n_units_l0': 237, 'activation': 'relu', 'alpha': 1.6806511195764966e-05, 'learning_rate': 'invscaling', 'learning_rate_init': 0.000686592589800573}. Best is trial 7 with value: 0.9867457077516364.\n",
      "[I 2025-05-25 00:49:58,568] Trial 22 finished with value: 0.9849394296368539 and parameters: {'n_layers': 1, 'n_units_l0': 199, 'activation': 'relu', 'alpha': 1.741586019271848e-05, 'learning_rate': 'invscaling', 'learning_rate_init': 0.0007350917926978482}. Best is trial 7 with value: 0.9867457077516364.\n",
      "[I 2025-05-25 00:50:02,856] Trial 23 finished with value: 0.9872444499749689 and parameters: {'n_layers': 2, 'n_units_l0': 259, 'n_units_l1': 185, 'activation': 'relu', 'alpha': 1.6273985496301594e-05, 'learning_rate': 'invscaling', 'learning_rate_init': 0.001324354925850567}. Best is trial 23 with value: 0.9872444499749689.\n",
      "[I 2025-05-25 00:50:07,722] Trial 24 finished with value: 0.9880154179929347 and parameters: {'n_layers': 2, 'n_units_l0': 278, 'n_units_l1': 184, 'activation': 'relu', 'alpha': 5.975997775451657e-06, 'learning_rate': 'invscaling', 'learning_rate_init': 0.002267666524742807}. Best is trial 24 with value: 0.9880154179929347.\n",
      "[I 2025-05-25 00:50:11,716] Trial 25 finished with value: 0.9865601737426036 and parameters: {'n_layers': 2, 'n_units_l0': 283, 'n_units_l1': 189, 'activation': 'relu', 'alpha': 1.1272449264421937e-06, 'learning_rate': 'invscaling', 'learning_rate_init': 0.0024371310642814495}. Best is trial 24 with value: 0.9880154179929347.\n",
      "[I 2025-05-25 00:50:16,065] Trial 26 finished with value: 0.9873672448818946 and parameters: {'n_layers': 2, 'n_units_l0': 260, 'n_units_l1': 185, 'activation': 'relu', 'alpha': 7.147673574276138e-06, 'learning_rate': 'invscaling', 'learning_rate_init': 0.0012604732700261727}. Best is trial 24 with value: 0.9880154179929347.\n",
      "[I 2025-05-25 00:50:21,753] Trial 27 finished with value: 0.982340430277667 and parameters: {'n_layers': 2, 'n_units_l0': 300, 'n_units_l1': 185, 'activation': 'relu', 'alpha': 3.970367564670615e-06, 'learning_rate': 'invscaling', 'learning_rate_init': 0.0062134347798572616}. Best is trial 24 with value: 0.9880154179929347.\n",
      "[I 2025-05-25 00:50:27,223] Trial 28 finished with value: 0.9853677186743779 and parameters: {'n_layers': 2, 'n_units_l0': 284, 'n_units_l1': 220, 'activation': 'relu', 'alpha': 4.352788409956144e-06, 'learning_rate': 'invscaling', 'learning_rate_init': 0.0023166446307244736}. Best is trial 24 with value: 0.9880154179929347.\n",
      "[I 2025-05-25 00:50:32,582] Trial 29 finished with value: 0.9871567867649015 and parameters: {'n_layers': 2, 'n_units_l0': 256, 'n_units_l1': 184, 'activation': 'relu', 'alpha': 2.0403524561338497e-06, 'learning_rate': 'invscaling', 'learning_rate_init': 0.00279948570399943}. Best is trial 24 with value: 0.9880154179929347.\n",
      "[I 2025-05-25 00:50:37,978] Trial 30 finished with value: 0.9857376289318874 and parameters: {'n_layers': 2, 'n_units_l0': 275, 'n_units_l1': 226, 'activation': 'relu', 'alpha': 8.547590817639649e-06, 'learning_rate': 'invscaling', 'learning_rate_init': 0.004692039073357229}. Best is trial 24 with value: 0.9880154179929347.\n",
      "[I 2025-05-25 00:50:42,740] Trial 31 finished with value: 0.985307753013602 and parameters: {'n_layers': 2, 'n_units_l0': 256, 'n_units_l1': 187, 'activation': 'relu', 'alpha': 2.026255747963115e-06, 'learning_rate': 'invscaling', 'learning_rate_init': 0.0025368213198531052}. Best is trial 24 with value: 0.9880154179929347.\n",
      "[I 2025-05-25 00:50:46,546] Trial 32 finished with value: 0.985969896147346 and parameters: {'n_layers': 2, 'n_units_l0': 256, 'n_units_l1': 177, 'activation': 'relu', 'alpha': 2.4429008869480615e-06, 'learning_rate': 'invscaling', 'learning_rate_init': 0.003341065762964002}. Best is trial 24 with value: 0.9880154179929347.\n",
      "[I 2025-05-25 00:50:51,294] Trial 33 finished with value: 0.9871961776958041 and parameters: {'n_layers': 2, 'n_units_l0': 258, 'n_units_l1': 201, 'activation': 'relu', 'alpha': 6.077400503828107e-06, 'learning_rate': 'invscaling', 'learning_rate_init': 0.001322955850383988}. Best is trial 24 with value: 0.9880154179929347.\n",
      "[I 2025-05-25 00:50:56,657] Trial 34 finished with value: 0.9860916459017703 and parameters: {'n_layers': 3, 'n_units_l0': 291, 'n_units_l1': 202, 'n_units_l2': 250, 'activation': 'relu', 'alpha': 6.152720990600236e-06, 'learning_rate': 'invscaling', 'learning_rate_init': 0.001203666874944682}. Best is trial 24 with value: 0.9880154179929347.\n",
      "[I 2025-05-25 00:50:59,562] Trial 35 finished with value: 0.9847353746269337 and parameters: {'n_layers': 2, 'n_units_l0': 147, 'n_units_l1': 202, 'activation': 'relu', 'alpha': 1.097661232098977e-05, 'learning_rate': 'invscaling', 'learning_rate_init': 0.0016293022335767844}. Best is trial 24 with value: 0.9880154179929347.\n",
      "[I 2025-05-25 00:51:03,562] Trial 36 finished with value: 0.9862830024095969 and parameters: {'n_layers': 2, 'n_units_l0': 271, 'n_units_l1': 140, 'activation': 'relu', 'alpha': 9.857365965483913e-05, 'learning_rate': 'adaptive', 'learning_rate_init': 0.0019080459139936422}. Best is trial 24 with value: 0.9880154179929347.\n",
      "[I 2025-05-25 00:51:08,426] Trial 37 finished with value: 0.9842151498972923 and parameters: {'n_layers': 2, 'n_units_l0': 232, 'n_units_l1': 217, 'activation': 'relu', 'alpha': 2.8202656868138772e-05, 'learning_rate': 'invscaling', 'learning_rate_init': 0.009082395439521489}. Best is trial 24 with value: 0.9880154179929347.\n",
      "[I 2025-05-25 00:51:12,242] Trial 38 finished with value: 0.9866391272524911 and parameters: {'n_layers': 2, 'n_units_l0': 211, 'n_units_l1': 251, 'activation': 'relu', 'alpha': 1.1365254819147686e-05, 'learning_rate': 'invscaling', 'learning_rate_init': 0.0009282890925990661}. Best is trial 24 with value: 0.9880154179929347.\n",
      "[I 2025-05-25 00:51:17,096] Trial 39 finished with value: 0.9866244444294453 and parameters: {'n_layers': 3, 'n_units_l0': 252, 'n_units_l1': 172, 'n_units_l2': 207, 'activation': 'relu', 'alpha': 5.1956493340064555e-06, 'learning_rate': 'adaptive', 'learning_rate_init': 0.001350936036846367}. Best is trial 24 with value: 0.9880154179929347.\n",
      "[I 2025-05-25 00:51:22,429] Trial 40 finished with value: 0.9848786319436789 and parameters: {'n_layers': 3, 'n_units_l0': 188, 'n_units_l1': 195, 'n_units_l2': 295, 'activation': 'relu', 'alpha': 8.054520387093668e-05, 'learning_rate': 'invscaling', 'learning_rate_init': 0.00209330028413186}. Best is trial 24 with value: 0.9880154179929347.\n",
      "[I 2025-05-25 00:51:26,784] Trial 41 finished with value: 0.9852938437589275 and parameters: {'n_layers': 2, 'n_units_l0': 262, 'n_units_l1': 181, 'activation': 'relu', 'alpha': 3.035556260215981e-06, 'learning_rate': 'invscaling', 'learning_rate_init': 0.0037480813306667972}. Best is trial 24 with value: 0.9880154179929347.\n",
      "[I 2025-05-25 00:51:31,091] Trial 42 finished with value: 0.9860088406780344 and parameters: {'n_layers': 2, 'n_units_l0': 278, 'n_units_l1': 212, 'activation': 'relu', 'alpha': 1.3852437290423339e-06, 'learning_rate': 'invscaling', 'learning_rate_init': 0.002706792382341938}. Best is trial 24 with value: 0.9880154179929347.\n",
      "[I 2025-05-25 00:51:35,618] Trial 43 finished with value: 0.9865233175009175 and parameters: {'n_layers': 2, 'n_units_l0': 249, 'n_units_l1': 235, 'activation': 'relu', 'alpha': 6.8970690740534375e-06, 'learning_rate': 'invscaling', 'learning_rate_init': 0.0012999940390957929}. Best is trial 24 with value: 0.9880154179929347.\n",
      "[I 2025-05-25 00:51:39,565] Trial 44 finished with value: 0.9859088409820473 and parameters: {'n_layers': 2, 'n_units_l0': 228, 'n_units_l1': 195, 'activation': 'relu', 'alpha': 2.2692599640637736e-06, 'learning_rate': 'invscaling', 'learning_rate_init': 0.0034515963544907674}. Best is trial 24 with value: 0.9880154179929347.\n",
      "[I 2025-05-25 00:51:44,113] Trial 45 finished with value: 0.9868015849624502 and parameters: {'n_layers': 2, 'n_units_l0': 259, 'n_units_l1': 160, 'activation': 'relu', 'alpha': 1.0874724997322318e-05, 'learning_rate': 'adaptive', 'learning_rate_init': 0.000911990439078254}. Best is trial 24 with value: 0.9880154179929347.\n",
      "[I 2025-05-25 00:51:46,753] Trial 46 finished with value: 0.986112302711683 and parameters: {'n_layers': 1, 'n_units_l0': 265, 'activation': 'relu', 'alpha': 1.0369271258524296e-06, 'learning_rate': 'invscaling', 'learning_rate_init': 0.0029385268018806456}. Best is trial 24 with value: 0.9880154179929347.\n",
      "[I 2025-05-25 00:51:57,319] Trial 47 finished with value: 0.9863057452045106 and parameters: {'n_layers': 4, 'n_units_l0': 294, 'n_units_l1': 206, 'n_units_l2': 249, 'n_units_l3': 108, 'activation': 'relu', 'alpha': 3.5182408113178156e-05, 'learning_rate': 'invscaling', 'learning_rate_init': 0.0010691809455088837}. Best is trial 24 with value: 0.9880154179929347.\n",
      "[I 2025-05-25 00:52:01,861] Trial 48 finished with value: 0.9859272888308999 and parameters: {'n_layers': 2, 'n_units_l0': 278, 'n_units_l1': 180, 'activation': 'relu', 'alpha': 3.6050919322189266e-06, 'learning_rate': 'invscaling', 'learning_rate_init': 0.00452955420948847}. Best is trial 24 with value: 0.9880154179929347.\n",
      "[I 2025-05-25 00:52:06,808] Trial 49 finished with value: 0.9859407634933661 and parameters: {'n_layers': 2, 'n_units_l0': 243, 'n_units_l1': 297, 'activation': 'tanh', 'alpha': 0.0001964084644546491, 'learning_rate': 'invscaling', 'learning_rate_init': 0.001506127786923978}. Best is trial 24 with value: 0.9880154179929347.\n",
      "[I 2025-05-25 00:52:11,459] Trial 50 finished with value: 0.9855701539715209 and parameters: {'n_layers': 3, 'n_units_l0': 270, 'n_units_l1': 141, 'n_units_l2': 101, 'activation': 'relu', 'alpha': 0.006506153486372077, 'learning_rate': 'adaptive', 'learning_rate_init': 0.0019613540129734927}. Best is trial 24 with value: 0.9880154179929347.\n",
      "[I 2025-05-25 00:52:17,216] Trial 51 finished with value: 0.985993946462887 and parameters: {'n_layers': 2, 'n_units_l0': 259, 'n_units_l1': 162, 'activation': 'relu', 'alpha': 1.0175144168075015e-05, 'learning_rate': 'adaptive', 'learning_rate_init': 0.000553372162218424}. Best is trial 24 with value: 0.9880154179929347.\n",
      "[I 2025-05-25 00:52:22,435] Trial 52 finished with value: 0.9866109280069592 and parameters: {'n_layers': 2, 'n_units_l0': 248, 'n_units_l1': 171, 'activation': 'relu', 'alpha': 1.3587402359340967e-05, 'learning_rate': 'adaptive', 'learning_rate_init': 0.0008975137336517928}. Best is trial 24 with value: 0.9880154179929347.\n",
      "[I 2025-05-25 00:52:28,303] Trial 53 finished with value: 0.9872330471854968 and parameters: {'n_layers': 2, 'n_units_l0': 290, 'n_units_l1': 151, 'activation': 'relu', 'alpha': 5.570991609273928e-06, 'learning_rate': 'adaptive', 'learning_rate_init': 0.0008367884206492834}. Best is trial 24 with value: 0.9880154179929347.\n",
      "[I 2025-05-25 00:52:34,218] Trial 54 finished with value: 0.986567736914233 and parameters: {'n_layers': 2, 'n_units_l0': 288, 'n_units_l1': 151, 'activation': 'relu', 'alpha': 6.299378001623851e-06, 'learning_rate': 'adaptive', 'learning_rate_init': 0.0011198287102903548}. Best is trial 24 with value: 0.9880154179929347.\n",
      "[I 2025-05-25 00:52:39,846] Trial 55 finished with value: 0.9863455165835956 and parameters: {'n_layers': 2, 'n_units_l0': 279, 'n_units_l1': 121, 'activation': 'tanh', 'alpha': 3.001716562881405e-06, 'learning_rate': 'invscaling', 'learning_rate_init': 0.001422690516756913}. Best is trial 24 with value: 0.9880154179929347.\n",
      "[I 2025-05-25 00:52:41,767] Trial 56 finished with value: 0.9852094597184338 and parameters: {'n_layers': 1, 'n_units_l0': 159, 'activation': 'relu', 'alpha': 1.8630254146356568e-06, 'learning_rate': 'adaptive', 'learning_rate_init': 0.001876864249225394}. Best is trial 24 with value: 0.9880154179929347.\n",
      "[I 2025-05-25 00:52:46,173] Trial 57 finished with value: 0.9865267556465672 and parameters: {'n_layers': 2, 'n_units_l0': 267, 'n_units_l1': 102, 'activation': 'relu', 'alpha': 4.726968752882615e-06, 'learning_rate': 'invscaling', 'learning_rate_init': 0.0005682651028877771}. Best is trial 24 with value: 0.9880154179929347.\n",
      "[I 2025-05-25 00:52:51,080] Trial 58 finished with value: 0.9868543411157664 and parameters: {'n_layers': 2, 'n_units_l0': 297, 'n_units_l1': 191, 'activation': 'relu', 'alpha': 8.046510667680128e-06, 'learning_rate': 'invscaling', 'learning_rate_init': 0.0008007263019324137}. Best is trial 24 with value: 0.9880154179929347.\n",
      "[I 2025-05-25 00:52:57,476] Trial 59 finished with value: 0.9852495654656795 and parameters: {'n_layers': 3, 'n_units_l0': 285, 'n_units_l1': 175, 'n_units_l2': 130, 'activation': 'tanh', 'alpha': 2.3436763520476187e-05, 'learning_rate': 'invscaling', 'learning_rate_init': 0.0003470163811003602}. Best is trial 24 with value: 0.9880154179929347.\n",
      "[I 2025-05-25 00:53:00,605] Trial 60 finished with value: 0.9870833418336574 and parameters: {'n_layers': 1, 'n_units_l0': 243, 'activation': 'relu', 'alpha': 1.543895716887509e-05, 'learning_rate': 'adaptive', 'learning_rate_init': 0.0021341928401473306}. Best is trial 24 with value: 0.9880154179929347.\n",
      "[I 2025-05-25 00:53:03,001] Trial 61 finished with value: 0.9865390158124505 and parameters: {'n_layers': 1, 'n_units_l0': 252, 'activation': 'relu', 'alpha': 1.5263836125206262e-05, 'learning_rate': 'adaptive', 'learning_rate_init': 0.0022457665254246102}. Best is trial 24 with value: 0.9880154179929347.\n",
      "[I 2025-05-25 00:53:05,828] Trial 62 finished with value: 0.9871426070780971 and parameters: {'n_layers': 1, 'n_units_l0': 242, 'activation': 'relu', 'alpha': 2.283930750591288e-05, 'learning_rate': 'adaptive', 'learning_rate_init': 0.0017295246798174598}. Best is trial 24 with value: 0.9880154179929347.\n",
      "[I 2025-05-25 00:53:08,493] Trial 63 finished with value: 0.9867487582491 and parameters: {'n_layers': 1, 'n_units_l0': 222, 'activation': 'relu', 'alpha': 3.302088821485565e-05, 'learning_rate': 'adaptive', 'learning_rate_init': 0.0016271424810600003}. Best is trial 24 with value: 0.9880154179929347.\n",
      "[I 2025-05-25 00:53:12,191] Trial 64 finished with value: 0.9875182977863806 and parameters: {'n_layers': 1, 'n_units_l0': 238, 'activation': 'relu', 'alpha': 2.266384260394737e-05, 'learning_rate': 'adaptive', 'learning_rate_init': 0.001196328504361144}. Best is trial 24 with value: 0.9880154179929347.\n",
      "[I 2025-05-25 00:53:16,408] Trial 65 finished with value: 0.9877558541243774 and parameters: {'n_layers': 2, 'n_units_l0': 272, 'n_units_l1': 147, 'activation': 'relu', 'alpha': 0.009644071355537492, 'learning_rate': 'invscaling', 'learning_rate_init': 0.0012128768057754506}. Best is trial 24 with value: 0.9880154179929347.\n",
      "[I 2025-05-25 00:53:20,588] Trial 66 finished with value: 0.9866715010600265 and parameters: {'n_layers': 2, 'n_units_l0': 269, 'n_units_l1': 127, 'activation': 'relu', 'alpha': 0.009981833950508872, 'learning_rate': 'adaptive', 'learning_rate_init': 0.001061259502581311}. Best is trial 24 with value: 0.9880154179929347.\n",
      "[I 2025-05-25 00:53:25,711] Trial 67 finished with value: 0.9869466431440594 and parameters: {'n_layers': 2, 'n_units_l0': 282, 'n_units_l1': 146, 'activation': 'relu', 'alpha': 0.000818136758421201, 'learning_rate': 'invscaling', 'learning_rate_init': 0.001232161478178384}. Best is trial 24 with value: 0.9880154179929347.\n",
      "[I 2025-05-25 00:53:30,734] Trial 68 finished with value: 0.9872507234819792 and parameters: {'n_layers': 3, 'n_units_l0': 274, 'n_units_l1': 128, 'n_units_l2': 188, 'activation': 'relu', 'alpha': 0.00013321587504439873, 'learning_rate': 'constant', 'learning_rate_init': 0.0007876142468649384}. Best is trial 24 with value: 0.9880154179929347.\n",
      "[I 2025-05-25 00:53:37,119] Trial 69 finished with value: 0.9867052636042283 and parameters: {'n_layers': 3, 'n_units_l0': 291, 'n_units_l1': 129, 'n_units_l2': 189, 'activation': 'relu', 'alpha': 0.00014785511260506464, 'learning_rate': 'constant', 'learning_rate_init': 0.0005648521196261014}. Best is trial 24 with value: 0.9880154179929347.\n",
      "[I 2025-05-25 00:53:42,067] Trial 70 finished with value: 0.9861128055599243 and parameters: {'n_layers': 3, 'n_units_l0': 275, 'n_units_l1': 133, 'n_units_l2': 219, 'activation': 'tanh', 'alpha': 7.519878105108892e-05, 'learning_rate': 'constant', 'learning_rate_init': 0.000762014977573174}. Best is trial 24 with value: 0.9880154179929347.\n",
      "[I 2025-05-25 00:53:48,647] Trial 71 finished with value: 0.9851184859467782 and parameters: {'n_layers': 4, 'n_units_l0': 273, 'n_units_l1': 110, 'n_units_l2': 266, 'n_units_l3': 150, 'activation': 'relu', 'alpha': 0.0022781396346325993, 'learning_rate': 'constant', 'learning_rate_init': 0.0008265403631020227}. Best is trial 24 with value: 0.9880154179929347.\n",
      "[I 2025-05-25 00:53:54,651] Trial 72 finished with value: 0.9864904365251389 and parameters: {'n_layers': 3, 'n_units_l0': 263, 'n_units_l1': 166, 'n_units_l2': 170, 'activation': 'relu', 'alpha': 4.41305414509746e-05, 'learning_rate': 'constant', 'learning_rate_init': 0.0013809384688294895}. Best is trial 24 with value: 0.9880154179929347.\n",
      "[I 2025-05-25 00:53:57,618] Trial 73 finished with value: 0.9858543939799197 and parameters: {'n_layers': 2, 'n_units_l0': 237, 'n_units_l1': 147, 'activation': 'relu', 'alpha': 5.1149582074675044e-06, 'learning_rate': 'constant', 'learning_rate_init': 0.0010659287293152716}. Best is trial 24 with value: 0.9880154179929347.\n",
      "[I 2025-05-25 00:54:01,880] Trial 74 finished with value: 0.9872287669274429 and parameters: {'n_layers': 3, 'n_units_l0': 209, 'n_units_l1': 120, 'n_units_l2': 209, 'activation': 'relu', 'alpha': 0.000393070729422563, 'learning_rate': 'invscaling', 'learning_rate_init': 0.0006599654459327832}. Best is trial 24 with value: 0.9880154179929347.\n",
      "[I 2025-05-25 00:54:06,094] Trial 75 finished with value: 0.9855763068064736 and parameters: {'n_layers': 3, 'n_units_l0': 185, 'n_units_l1': 116, 'n_units_l2': 207, 'activation': 'relu', 'alpha': 0.00041015892308242597, 'learning_rate': 'invscaling', 'learning_rate_init': 0.0006448336677340818}. Best is trial 24 with value: 0.9880154179929347.\n",
      "[I 2025-05-25 00:54:11,630] Trial 76 finished with value: 0.9852069561332324 and parameters: {'n_layers': 3, 'n_units_l0': 218, 'n_units_l1': 103, 'n_units_l2': 231, 'activation': 'relu', 'alpha': 0.0006435013291859888, 'learning_rate': 'invscaling', 'learning_rate_init': 0.0004568127700308669}. Best is trial 24 with value: 0.9880154179929347.\n",
      "[I 2025-05-25 00:54:18,202] Trial 77 finished with value: 0.9848806882646656 and parameters: {'n_layers': 4, 'n_units_l0': 195, 'n_units_l1': 157, 'n_units_l2': 183, 'n_units_l3': 174, 'activation': 'relu', 'alpha': 0.0013094389229194692, 'learning_rate': 'constant', 'learning_rate_init': 0.0009541266657352481}. Best is trial 24 with value: 0.9880154179929347.\n",
      "[I 2025-05-25 00:54:23,222] Trial 78 finished with value: 0.985738150788138 and parameters: {'n_layers': 3, 'n_units_l0': 208, 'n_units_l1': 118, 'n_units_l2': 160, 'activation': 'relu', 'alpha': 0.0002460846840985114, 'learning_rate': 'invscaling', 'learning_rate_init': 0.0007338509457176887}. Best is trial 24 with value: 0.9880154179929347.\n",
      "[I 2025-05-25 00:54:29,777] Trial 79 finished with value: 0.986057367549321 and parameters: {'n_layers': 3, 'n_units_l0': 230, 'n_units_l1': 135, 'n_units_l2': 194, 'activation': 'relu', 'alpha': 0.00317137735767549, 'learning_rate': 'adaptive', 'learning_rate_init': 0.000446320246653096}. Best is trial 24 with value: 0.9880154179929347.\n"
     ]
    },
    {
     "name": "stdout",
     "output_type": "stream",
     "text": [
      " Mejores hiperparámetros:\n",
      " {'n_layers': 2, 'n_units_l0': 278, 'n_units_l1': 184, 'activation': 'relu', 'alpha': 5.975997775451657e-06, 'learning_rate': 'invscaling', 'learning_rate_init': 0.002267666524742807}\n",
      " Mejor AUC medio: 0.9880\n"
     ]
    }
   ],
   "source": [
    "# === Optuna + MLPClassifier (versión optimizada) ===========================\n",
    "\n",
    "import optuna\n",
    "from optuna.pruners import MedianPruner\n",
    "from sklearn.neural_network import MLPClassifier\n",
    "from sklearn.model_selection import StratifiedKFold\n",
    "from sklearn.metrics import roc_auc_score\n",
    "\n",
    "# Subconjunto balanceado para LiftOff\n",
    "X = X_train_subsampled_dict[\"LiftOff\"]\n",
    "y = y_train_subsampled_dict[\"LiftOff\"]\n",
    "\n",
    "def objective(trial):\n",
    "    # Arquitectura dinámica de capas ocultas\n",
    "    n_layers = trial.suggest_int(\"n_layers\", 1, 4)\n",
    "    hidden_layer_sizes = tuple(\n",
    "        trial.suggest_int(f\"n_units_l{i}\", 100, 300) for i in range(n_layers)\n",
    "    )\n",
    "\n",
    "    # Hiperparámetros\n",
    "    params = {\n",
    "        \"hidden_layer_sizes\": hidden_layer_sizes,\n",
    "        \"activation\": trial.suggest_categorical(\"activation\", [\"relu\", \"tanh\"]),\n",
    "        \"solver\": \"adam\",\n",
    "        \"alpha\": trial.suggest_float(\"alpha\", 1e-6, 1e-2, log=True),\n",
    "        \"learning_rate\": trial.suggest_categorical(\"learning_rate\", [\"constant\", \"invscaling\", \"adaptive\"]),\n",
    "        \"learning_rate_init\": trial.suggest_float(\"learning_rate_init\", 1e-4, 1e-2, log=True),\n",
    "        \"max_iter\": 600,\n",
    "        \"early_stopping\": True,\n",
    "        \"random_state\": 42,\n",
    "    }\n",
    "\n",
    "    # Validación cruzada estratificada más exigente\n",
    "    skf = StratifiedKFold(n_splits=3, shuffle=True, random_state=42)\n",
    "    aucs = []\n",
    "\n",
    "    for train_idx, valid_idx in skf.split(X, y):\n",
    "        X_train_cv, X_valid_cv = X.iloc[train_idx], X.iloc[valid_idx]\n",
    "        y_train_cv, y_valid_cv = y.iloc[train_idx], y.iloc[valid_idx]\n",
    "\n",
    "        model = MLPClassifier(**params)\n",
    "        model.fit(X_train_cv, y_train_cv)\n",
    "\n",
    "        y_pred = model.predict_proba(X_valid_cv)[:, 1]\n",
    "        auc = roc_auc_score(y_valid_cv, y_pred)\n",
    "        aucs.append(auc)\n",
    "\n",
    "    return sum(aucs) / len(aucs)\n",
    "\n",
    "# Estudio Optuna con más exploración (80 trials o 40 minutos máx)\n",
    "study = optuna.create_study(direction=\"maximize\", pruner=MedianPruner(n_warmup_steps=5))\n",
    "study.optimize(objective, n_trials=80, timeout=2400)\n",
    "\n",
    "# Resultados\n",
    "print(\" Mejores hiperparámetros:\\n\", study.best_params)\n",
    "print(f\" Mejor AUC medio: {study.best_value:.4f}\")"
   ]
  },
  {
   "cell_type": "code",
   "execution_count": 18,
   "id": "743f6253-7484-4989-b5e7-dd9f59256839",
   "metadata": {},
   "outputs": [
    {
     "name": "stdout",
     "output_type": "stream",
     "text": [
      "AUC validación final MLP: 0.9027\n"
     ]
    }
   ],
   "source": [
    "import joblib\n",
    "import os, json\n",
    "import pandas as pd\n",
    "from sklearn.neural_network import MLPClassifier\n",
    "from sklearn.metrics import roc_auc_score\n",
    "\n",
    "# Hiperparámetros óptimos encontrados con Optuna\n",
    "best_params = {\n",
    "    \"hidden_layer_sizes\": (278, 184),\n",
    "    \"activation\": \"relu\",\n",
    "    \"solver\": \"adam\",\n",
    "    \"alpha\": 5.975997775451657e-06,\n",
    "    \"learning_rate\": \"invscaling\",\n",
    "    \"learning_rate_init\": 0.002267666524742807,\n",
    "    \"max_iter\": 600,\n",
    "    \"early_stopping\": True,\n",
    "    \"random_state\": 42,\n",
    "}\n",
    "\n",
    "# Restaurar nombres de columna a X_valid\n",
    "X_train = X_train_subsampled_dict[\"LiftOff\"]\n",
    "X_valid = pd.DataFrame(X_valid_scaled, columns=X_train.columns)\n",
    "\n",
    "# Entrenar modelo final\n",
    "final_mlp = MLPClassifier(**best_params)\n",
    "final_mlp.fit(X_train, y_train_subsampled_dict[\"LiftOff\"])\n",
    "\n",
    "# Guardar modelo y parámetros\n",
    "save_path = r\"C:\\Users\\luciaft\\Documents\\TFG\\TFG\\graspAndLiftDetectionTFGProyect\\models\"\n",
    "os.makedirs(save_path, exist_ok=True)\n",
    "\n",
    "joblib.dump(final_mlp, os.path.join(save_path, \"mlp_liftoff.pkl\"))\n",
    "\n",
    "with open(os.path.join(save_path, \"mlp_liftoff_params.json\"), \"w\") as f:\n",
    "    json.dump(best_params, f, indent=4)\n",
    "\n",
    "# Evaluar en validación\n",
    "y_pred = final_mlp.predict_proba(X_valid)[:, 1]\n",
    "best_auc_mlp = roc_auc_score(y_valid_win[\"LiftOff\"], y_pred)\n",
    "print(f\"AUC validación final MLP: {best_auc_mlp:.4f}\")"
   ]
  },
  {
   "cell_type": "markdown",
   "id": "faf2e12e-72cf-42c7-b39d-201c180ea9e0",
   "metadata": {},
   "source": [
    "  "
   ]
  },
  {
   "cell_type": "markdown",
   "id": "e117ac4a-b588-4959-86a3-6b9f7e4922b9",
   "metadata": {},
   "source": [
    "    "
   ]
  },
  {
   "cell_type": "markdown",
   "id": "f3881639-15bc-4f20-9490-265a3213474c",
   "metadata": {},
   "source": [
    "## **4. Comparativa final de rendimiento**"
   ]
  },
  {
   "cell_type": "code",
   "execution_count": 19,
   "id": "8115924a-be5c-4610-ab1d-e1a38ca16ab6",
   "metadata": {},
   "outputs": [
    {
     "name": "stdout",
     "output_type": "stream",
     "text": [
      "     Modelo  AUC_validación\n",
      "2       MLP        0.902740\n",
      "0  LightGBM        0.900784\n",
      "1   XGBoost        0.898133\n"
     ]
    }
   ],
   "source": [
    "results = {\n",
    "    \"Modelo\": [\"LightGBM\", \"XGBoost\", \"MLP\"],\n",
    "    \"AUC_validación\": [best_auc_lgbm, best_auc_xgb, best_auc_mlp],\n",
    "}\n",
    "\n",
    "import pandas as pd\n",
    "df_results = pd.DataFrame(results)\n",
    "print(df_results.sort_values(\"AUC_validación\", ascending=False))"
   ]
  },
  {
   "cell_type": "markdown",
   "id": "05c7db62-4753-4ad2-bb4b-5979b4c08f72",
   "metadata": {},
   "source": [
    "      "
   ]
  },
  {
   "cell_type": "markdown",
   "id": "8d004481-822d-4b46-8fb1-1f9c3f173a93",
   "metadata": {},
   "source": [
    "## Comparativa final de modelos\n",
    "\n",
    "Tras la optimización con Optuna de los tres modelos seleccionados (LightGBM, XGBoost y MLPClassifier), se evaluó su rendimiento en el conjunto de validación para el evento `LiftOff`. La comparación directa de los valores de AUC-ROC obtenidos es la siguiente:\n",
    "\n",
    "| Modelo     | AUC en validación |\n",
    "|------------|-------------------|\n",
    "| **MLP**     | **0.9027**         |\n",
    "| LightGBM   | 0.9008            |\n",
    "| XGBoost    | 0.8981            |\n",
    "\n",
    "El modelo **MLPClassifier** ha demostrado ser el más eficaz en esta tarea tras la optimización de sus hiperparámetros, superando ligeramente a los modelos basados en árboles de decisión.\n",
    "\n",
    "Por tanto, el siguiente paso consiste en **reentrenar el MLPClassifier óptimo** utilizando **todo el conjunto disponible de entrenamiento** para este evento (`X_train_scaled`, `y_train_win[\"LiftOff\"]`). El objetivo es comparar su rendimiento final frente a la **regresión logística base**, cuyos resultados para cada evento se cargaron previamente desde el archivo `auc_results_feats_logreg.csv` y se almacenaron en el diccionario `auc_dict_logreg`.\n",
    "\n",
    "Este análisis permitirá determinar si, tras la optimización, el modelo MLP logra superar de forma consistente a la regresión logística —que hasta ahora había ofrecido los mejores resultados en validación— en la predicción de eventos tipo *grasp-and-lift* a partir de señales EEG.\n",
    "\n",
    "Además, como LightGBM quedó muy cerca también de MLP en resultados, procederemos de la misma manera con este modelo."
   ]
  },
  {
   "cell_type": "code",
   "execution_count": 27,
   "id": "cb59fa75-b3e6-4cb5-b9fd-0565960a976b",
   "metadata": {},
   "outputs": [
    {
     "name": "stdout",
     "output_type": "stream",
     "text": [
      "Entrenando MLP para evento: HandStart\n",
      "AUC para HandStart: 0.8495\n",
      "Entrenando MLP para evento: FirstDigitTouch\n",
      "AUC para FirstDigitTouch: 0.7828\n",
      "Entrenando MLP para evento: BothStartLoadPhase\n"
     ]
    },
    {
     "name": "stderr",
     "output_type": "stream",
     "text": [
      "C:\\Users\\luciaft\\OneDrive\\Documentos\\TFG\\grasp_and_lift_proyect\\.venv\\Lib\\site-packages\\sklearn\\neural_network\\_multilayer_perceptron.py:698: UserWarning: Training interrupted by user.\n",
      "  warnings.warn(\"Training interrupted by user.\")\n"
     ]
    },
    {
     "name": "stdout",
     "output_type": "stream",
     "text": [
      "AUC para BothStartLoadPhase: 0.9079\n",
      "Entrenando MLP para evento: LiftOff\n",
      "AUC para LiftOff: 0.8369\n",
      "Entrenando MLP para evento: Replace\n",
      "AUC para Replace: 0.8827\n",
      "Entrenando MLP para evento: BothReleased\n",
      "AUC para BothReleased: 0.8436\n"
     ]
    }
   ],
   "source": [
    "import json\n",
    "import os\n",
    "import warnings\n",
    "from sklearn.exceptions import ConvergenceWarning\n",
    "from sklearn.neural_network import MLPClassifier\n",
    "from sklearn.metrics import roc_auc_score\n",
    "\n",
    "# Ruta del archivo de hiperparámetros\n",
    "save_path = r\"C:\\Users\\luciaft\\Documents\\TFG\\TFG\\graspAndLiftDetectionTFGProyect\\models\"\n",
    "\n",
    "# Cargar los mejores hiperparámetros desde JSON\n",
    "with open(os.path.join(save_path, \"mlp_liftoff_params.json\"), \"r\") as f:\n",
    "    best_params = json.load(f)\n",
    "\n",
    "# Suprimir advertencias de convergencia (opcional)\n",
    "warnings.filterwarnings(\"ignore\", category=ConvergenceWarning)\n",
    "\n",
    "# Función para entrenar y evaluar MLP por evento\n",
    "def evaluate_mlp_all_events(X_train, y_train, X_valid, y_valid, best_params):\n",
    "    results = {}\n",
    "    for event in y_train.columns:\n",
    "        print(f\"Entrenando MLP para evento: {event}\")\n",
    "        clf = MLPClassifier(**best_params)\n",
    "        clf.fit(X_train, y_train[event])\n",
    "        y_prob = clf.predict_proba(X_valid)[:, 1]\n",
    "        auc = roc_auc_score(y_valid[event], y_prob)\n",
    "        results[event] = auc\n",
    "        print(f\"AUC para {event}: {auc:.4f}\")\n",
    "    return results\n",
    "\n",
    "# Ejecutar evaluación para todos los eventos\n",
    "mlp_results_all = evaluate_mlp_all_events(X_train_scaled, y_train_win, X_valid_scaled, y_valid_win, best_params)"
   ]
  },
  {
   "cell_type": "markdown",
   "id": "9bef0905-331b-4b31-a094-4e31ffdd34dc",
   "metadata": {},
   "source": [
    "       "
   ]
  },
  {
   "cell_type": "markdown",
   "id": "f079a7c4-c6b5-4157-bd39-341775f8e81c",
   "metadata": {},
   "source": [
    "Como podemos ver, los resultados son notablemente peores. Se nos ocurre que puede ser por el tamaño tan reducido de muestras con el que deicdimos trabajar, por lo que probamos a utilizar Optuna con el tamaño completo de muestras y evitar así el sobreajuste."
   ]
  },
  {
   "cell_type": "code",
   "execution_count": null,
   "id": "e176fbfb-b974-4e2c-9938-13c961a5a05e",
   "metadata": {},
   "outputs": [],
   "source": [
    "# Diccionarios de salida\n",
    "X_train_subsampled_dict = {}\n",
    "y_train_subsampled_dict = {}\n",
    "\n",
    "# Función corregida para submuestreo\n",
    "def submuestreo_balanceado(X, y_event, n_samples=200000, random_state=42):\n",
    "    idx_0 = y_event[y_event == 0].index\n",
    "    idx_1 = y_event[y_event == 1].index\n",
    "\n",
    "    n_per_class = n_samples // 2\n",
    "\n",
    "    sampled_idx_0 = resample(idx_0, replace=False, n_samples=n_per_class, random_state=random_state)\n",
    "    sampled_idx_1 = resample(idx_1, replace=False, n_samples=n_per_class, random_state=random_state)\n",
    "\n",
    "    idx_total = np.concatenate([sampled_idx_0, sampled_idx_1])\n",
    "    np.random.shuffle(idx_total)\n",
    "\n",
    "    return X.loc[idx_total], y_event.loc[idx_total]\n",
    "\n",
    "# Loop corregido por evento\n",
    "for evento in eventos:\n",
    "    print(f\"Procesando evento: {evento}\")\n",
    "    y_event = y_train_win[evento]\n",
    "    X_event, y_event_bal = submuestreo_balanceado(X_df, y_event)\n",
    "\n",
    "    X_train_subsampled_dict[evento] = X_event\n",
    "    y_train_subsampled_dict[evento] = y_event_bal"
   ]
  },
  {
   "cell_type": "code",
   "execution_count": 29,
   "id": "728a4e42-45c7-4082-890d-9eb05c37ea59",
   "metadata": {},
   "outputs": [
    {
     "name": "stderr",
     "output_type": "stream",
     "text": [
      "[I 2025-05-25 04:25:00,049] A new study created in memory with name: no-name-af57084f-993d-4efe-9463-302480828269\n",
      "[I 2025-05-25 04:51:52,280] Trial 0 finished with value: 0.9998838763153604 and parameters: {'n_layers': 3, 'n_units_l0': 137, 'n_units_l1': 103, 'n_units_l2': 146, 'activation': 'tanh', 'alpha': 0.008481544019478544, 'learning_rate': 'adaptive', 'learning_rate_init': 0.00033039559110398416}. Best is trial 0 with value: 0.9998838763153604.\n"
     ]
    },
    {
     "name": "stdout",
     "output_type": "stream",
     "text": [
      " Mejores hiperparámetros:\n",
      " {'n_layers': 3, 'n_units_l0': 137, 'n_units_l1': 103, 'n_units_l2': 146, 'activation': 'tanh', 'alpha': 0.008481544019478544, 'learning_rate': 'adaptive', 'learning_rate_init': 0.00033039559110398416}\n",
      " Mejor AUC medio: 0.9999\n"
     ]
    }
   ],
   "source": [
    "# === Optuna + MLPClassifier (con todo el conjunto para LiftOff) ===========================\n",
    "\n",
    "import optuna\n",
    "from optuna.pruners import MedianPruner\n",
    "from sklearn.neural_network import MLPClassifier\n",
    "from sklearn.model_selection import StratifiedKFold\n",
    "from sklearn.metrics import roc_auc_score\n",
    "\n",
    "# Usar todos los datos del evento LiftOff\n",
    "X = X_train_scaled\n",
    "y = y_train_win[\"HandStart\"]\n",
    "\n",
    "def objective(trial):\n",
    "    # Arquitectura dinámica de capas ocultas\n",
    "    n_layers = trial.suggest_int(\"n_layers\", 1, 4)\n",
    "    hidden_layer_sizes = tuple(\n",
    "        trial.suggest_int(f\"n_units_l{i}\", 100, 300) for i in range(n_layers)\n",
    "    )\n",
    "\n",
    "    # Hiperparámetros\n",
    "    params = {\n",
    "        \"hidden_layer_sizes\": hidden_layer_sizes,\n",
    "        \"activation\": trial.suggest_categorical(\"activation\", [\"relu\", \"tanh\"]),\n",
    "        \"solver\": \"adam\",\n",
    "        \"alpha\": trial.suggest_float(\"alpha\", 1e-6, 1e-2, log=True),\n",
    "        \"learning_rate\": trial.suggest_categorical(\"learning_rate\", [\"constant\", \"invscaling\", \"adaptive\"]),\n",
    "        \"learning_rate_init\": trial.suggest_float(\"learning_rate_init\", 1e-4, 1e-2, log=True),\n",
    "        \"max_iter\": 600,\n",
    "        \"early_stopping\": True,\n",
    "        \"random_state\": 42,\n",
    "    }\n",
    "\n",
    "    # Validación cruzada estratificada\n",
    "    skf = StratifiedKFold(n_splits=3, shuffle=True, random_state=42)\n",
    "    aucs = []\n",
    "\n",
    "    for train_idx, valid_idx in skf.split(X, y):\n",
    "        X_train_cv, X_valid_cv = X[train_idx], X[valid_idx]\n",
    "        y_train_cv, y_valid_cv = y.iloc[train_idx], y.iloc[valid_idx]\n",
    "\n",
    "        model = MLPClassifier(**params)\n",
    "        model.fit(X_train_cv, y_train_cv)\n",
    "\n",
    "        y_pred = model.predict_proba(X_valid_cv)[:, 1]\n",
    "        auc = roc_auc_score(y_valid_cv, y_pred)\n",
    "        aucs.append(auc)\n",
    "\n",
    "    return sum(aucs) / len(aucs)\n",
    "\n",
    "# Estudio Optuna\n",
    "study = optuna.create_study(direction=\"maximize\", pruner=MedianPruner(n_warmup_steps=5))\n",
    "study.optimize(objective, n_trials=30, timeout=600)\n",
    "\n",
    "# Resultados\n",
    "print(\" Mejores hiperparámetros:\\n\", study.best_params)\n",
    "print(f\" Mejor AUC medio: {study.best_value:.4f}\")"
   ]
  },
  {
   "cell_type": "markdown",
   "id": "280df62f-f887-478c-9645-b46af1330d92",
   "metadata": {},
   "source": [
    "        "
   ]
  },
  {
   "cell_type": "markdown",
   "id": "126cd588-dca0-495b-b057-e0e4ad4e69c9",
   "metadata": {},
   "source": [
    "        "
   ]
  },
  {
   "cell_type": "markdown",
   "id": "4fe7d587-9d75-4869-9bd1-5ad5cf53a690",
   "metadata": {},
   "source": [
    "## 🧪Creación del notebook: `08b_optimizacion_avanzada_experimentación.ipynb`\n",
    "\n",
    "\n",
    "#### PRUEBA 1 \n",
    "\n",
    "Primeramente probamos implementamos el modelo dando uso de estos últimos hiperparámetros hallados utilizando Optuna con el total de muestras, comenzamos evaluando el modelo **MLP** con los hiperparámetros optimizados previamente para el evento `HandStart`, los cuales habían arrojado un AUC medio de **0.999** durante la validación cruzada interna.\n",
    "\n",
    ">  Sin embargo, al aplicar este modelo directamente sobre el **conjunto de validación externo**, los resultados fueron notablemente más bajos:\n",
    "\n",
    "| Evento               | AUC MLP Validación |\n",
    "|----------------------|--------------------|\n",
    "| HandStart            | 0.8342             |\n",
    "| FirstDigitTouch      | 0.8171             |\n",
    "| BothStartLoadPhase   | 0.8587             |\n",
    "| LiftOff              | 0.8696             |\n",
    "| Replace              | 0.8743             |\n",
    "| BothReleased         | 0.8672             |\n",
    "\n",
    ">  **Media de AUC-ROC: 0.8702**\n",
    "\n",
    "Este comportamiento sugiere un claro **sobreajuste** durante el ajuste con Optuna. El modelo logró un rendimiento artificialmente alto sobre los folds internos, pero no fue capaz de generalizar a nuevas muestras del conjunto de validación. \n",
    "Esto puede deberse a varios factores:\n",
    "\n",
    "-  Se utilizó **todo el conjunto de muestras de entrenamiento** (en lugar de un subconjunto balanceado), lo que puede haber inducido al modelo a aprender patrones demasiado específicos.\n",
    "-  El modelo generó una **arquitectura muy flexible** (3 capas ocultas y muchas unidades), lo cual aumenta el riesgo de *overfitting* si no hay una validación sólida.\n",
    "-  La **regularización L2 (`alpha`) fue baja**, por lo que no se penalizaron suficientemente los pesos grandes del modelo.\n",
    "-  Aunque se activó `early_stopping`, este dependía de un *split* interno y no de una validación completamente externa.\n",
    "\n",
    "Por todo ello, los resultados actuales del MLP, aunque buenos, **no mejoran los de modelos previos más simples**.\n",
    "\n",
    "---\n",
    "\n",
    "A continuación, aplicamos el modelo **LightGBM** con hiperparámetros optimizados (también con Optuna, pero entrenado específicamente sobre `LiftOff`) al conjunto de validación completo:\n",
    "\n",
    "| Evento               | AUC LightGBM Validación |\n",
    "|----------------------|--------------------------|\n",
    "| HandStart            | 0.8747                   |\n",
    "| FirstDigitTouch      | 0.8754                   |\n",
    "| BothStartLoadPhase   | 0.9017                   |\n",
    "| LiftOff              | 0.8905                   |\n",
    "| Replace              | 0.8961                   |\n",
    "| BothReleased         | 0.8840                   |\n",
    "\n",
    ">  **Media de AUC-ROC: 0.8871**\n",
    "\n",
    "A pesar de estar ajustado únicamente para un evento, **LightGBM muestra una generalización sólida** en el resto, logrando:\n",
    "\n",
    "- Resultados superiores a los del MLP en todos los eventos.\n",
    "- Un rendimiento cercano al de la **Regresión Logística**, que fue el modelo base con mejor comportamiento (media 0.8905).\n",
    "- AUC superiores a 0.89 en varios eventos clave como `BothStartLoadPhase` y `Replace`.\n",
    "\n",
    "---\n",
    "\n",
    "####  PRUEBA 2: optimizar LightGBM con todas las muestras\n",
    "\n",
    "Dado su rendimiento competitivo, incluso sin haber sido optimizado para todos los eventos, LightGBM se perfila como un fuerte candidato. \n",
    "\n",
    "Optimizarlo más permitirá consolidar un modelo más expresivo, robusto y adaptable a la estructura de los datos EEG temporales y frecuenciales.\n",
    "\n",
    "De esta forma, dado que LightGBM ya había logrado superar a la Regresión Logística en 3 eventos, vamos a profundizar su optimización para intentar mejorar aún más los resultados:\n",
    "\n",
    "-  - Utilizar **la mitad del total de muestras disponibles balanceadas** para cada evento (en lugar del subconjunto de 5.000).\n",
    "-  Aplicaremos **validación cruzada estratificada con 3 folds**, más exigente que la usada previamente.\n",
    "-  Aumentaremos el **número de `trials` en Optuna (por ejemplo, 100)** y permitiremos más tiempo de ejecución (hasta 40 minutos), ya que la primera exploración fue muy rápida.\n",
    "-  Incorporaremos un **`MedianPruner`** para descartar combinaciones pobres rápidamente.\n",
    "-  Evaluaremos los resultados por evento y los compararemos con la Regresión Logística y el MLP.\n",
    "\n",
    "El objetivo es verificar si **LightGBM puede superar consistentemente a Logistic Regression**, manteniendo al mismo tiempo una buena interpretabilidad y rendimiento computacional razonable.\n",
    "\n",
    "---\n",
    "\n",
    "#### PRUEBA 3: \n",
    "\n",
    "se probó la optimización de hiperparámetros de **LightGBM** con el algoritmo **Optuna**, pero esta vez utilizando únicamente las **150 características seleccionadas** previamente mediante el algoritmo **Sequential Feature Selector (SFS)**. El objetivo de este experimento era comprobar si **reducir la dimensionalidad** del conjunto de datos podía mejorar el rendimiento del modelo gracias a una menor redundancia y menor ruido.\n",
    "\n",
    "La hipótesis de partida era que entrenar LightGBM sobre un conjunto reducido de características relevantes podía:\n",
    "\n",
    "- 🔹 **Reducir el ruido** presente en las 512 características originales, eliminando señales irrelevantes o poco informativas.\n",
    "- 🔹 **Disminuir la complejidad del modelo**, evitando sobreajuste, especialmente en eventos con menor número de muestras positivas.\n",
    "- 🔹 **Acelerar la exploración de hiperparámetros**, permitiendo a Optuna concentrarse en combinaciones más relevantes al tener menos variables.\n",
    "- 🔹 **Aumentar la interpretabilidad**, facilitando el análisis de qué características influyen en cada evento motor.\n",
    "\n",
    "A pesar de las ventajas teóricas, el modelo entrenado sobre las 150 características **no logró superar el rendimiento de LightGBM entrenado con las 512 características completas**. De hecho, los AUC-ROC por evento fueron en general inferiores. Esto sugiere que:\n",
    "\n",
    "> Aunque algunas variables originales pudieran parecer poco relevantes individualmente, su combinación con otras aportaba información útil que el modelo sí aprovechaba.\n",
    "\n",
    "---\n",
    "\n",
    "Seguimos iterando para mejorar el rendimiento general y detectar si hay algún modelo que supere de forma clara al actual baseline.\n",
    "\n",
    "Como en el notebook auxiliar de experimentación nos dimos cuenta de que utilizar el total de muestras sin un balanceo nos llevó a un sobreajuste de los hiperparámetros, probamos con submuestreos balanceados al 50% una última vez, tal y como hicimos en el notebook de experimentación, y tras estos últimos resultados dar ya la conclusión final:"
   ]
  },
  {
   "cell_type": "code",
   "execution_count": 34,
   "id": "37375d21-9091-47e5-984c-6495f6ffbe3d",
   "metadata": {
    "scrolled": true
   },
   "outputs": [
    {
     "name": "stderr",
     "output_type": "stream",
     "text": [
      "[I 2025-05-25 07:21:53,759] A new study created in memory with name: no-name-2c21c94a-1b8c-491c-b4da-264bd1ba56f1\n"
     ]
    },
    {
     "name": "stdout",
     "output_type": "stream",
     "text": [
      "Training until validation scores don't improve for 30 rounds\n",
      "Early stopping, best iteration is:\n",
      "[112]\tvalid_0's auc: 0.999131\n",
      "Training until validation scores don't improve for 30 rounds\n",
      "Early stopping, best iteration is:\n",
      "[130]\tvalid_0's auc: 0.998865\n",
      "Training until validation scores don't improve for 30 rounds\n"
     ]
    },
    {
     "name": "stderr",
     "output_type": "stream",
     "text": [
      "[I 2025-05-25 07:22:05,712] Trial 0 finished with value: 0.9990790662241138 and parameters: {'learning_rate': 0.2875422294566247, 'num_leaves': 247, 'max_depth': 13, 'min_child_samples': 34, 'subsample': 0.7242118277397243, 'colsample_bytree': 0.7406133999495319, 'reg_alpha': 0.4533716648844799, 'reg_lambda': 2.4811189809406526}. Best is trial 0 with value: 0.9990790662241138.\n"
     ]
    },
    {
     "name": "stdout",
     "output_type": "stream",
     "text": [
      "Early stopping, best iteration is:\n",
      "[106]\tvalid_0's auc: 0.999241\n",
      "Training until validation scores don't improve for 30 rounds\n",
      "Early stopping, best iteration is:\n",
      "[117]\tvalid_0's auc: 0.998933\n",
      "Training until validation scores don't improve for 30 rounds\n",
      "Early stopping, best iteration is:\n",
      "[110]\tvalid_0's auc: 0.998701\n",
      "Training until validation scores don't improve for 30 rounds\n"
     ]
    },
    {
     "name": "stderr",
     "output_type": "stream",
     "text": [
      "[I 2025-05-25 07:22:16,231] Trial 1 finished with value: 0.9988456644963586 and parameters: {'learning_rate': 0.15997231249903887, 'num_leaves': 296, 'max_depth': 15, 'min_child_samples': 47, 'subsample': 0.802240724049254, 'colsample_bytree': 0.9776174291077502, 'reg_alpha': 4.992781557937632, 'reg_lambda': 0.2250224999078504}. Best is trial 0 with value: 0.9990790662241138.\n"
     ]
    },
    {
     "name": "stdout",
     "output_type": "stream",
     "text": [
      "Early stopping, best iteration is:\n",
      "[117]\tvalid_0's auc: 0.998903\n",
      "Training until validation scores don't improve for 30 rounds\n",
      "Early stopping, best iteration is:\n",
      "[199]\tvalid_0's auc: 0.998897\n",
      "Training until validation scores don't improve for 30 rounds\n",
      "Early stopping, best iteration is:\n",
      "[195]\tvalid_0's auc: 0.99866\n",
      "Training until validation scores don't improve for 30 rounds\n"
     ]
    },
    {
     "name": "stderr",
     "output_type": "stream",
     "text": [
      "[I 2025-05-25 07:22:29,149] Trial 2 finished with value: 0.9988139527244222 and parameters: {'learning_rate': 0.13482348652323492, 'num_leaves': 284, 'max_depth': 6, 'min_child_samples': 14, 'subsample': 0.907038616276711, 'colsample_bytree': 0.8628235606384139, 'reg_alpha': 4.341703557999876, 'reg_lambda': 0.1816472970885341}. Best is trial 0 with value: 0.9990790662241138.\n"
     ]
    },
    {
     "name": "stdout",
     "output_type": "stream",
     "text": [
      "Early stopping, best iteration is:\n",
      "[192]\tvalid_0's auc: 0.998885\n",
      "Training until validation scores don't improve for 30 rounds\n",
      "Early stopping, best iteration is:\n",
      "[604]\tvalid_0's auc: 0.99933\n",
      "Training until validation scores don't improve for 30 rounds\n",
      "Early stopping, best iteration is:\n",
      "[717]\tvalid_0's auc: 0.99897\n",
      "Training until validation scores don't improve for 30 rounds\n",
      "Early stopping, best iteration is:\n",
      "[667]\tvalid_0's auc: 0.999264\n"
     ]
    },
    {
     "name": "stderr",
     "output_type": "stream",
     "text": [
      "[I 2025-05-25 07:23:13,580] Trial 3 finished with value: 0.9991880899071942 and parameters: {'learning_rate': 0.056757040416887256, 'num_leaves': 289, 'max_depth': 6, 'min_child_samples': 32, 'subsample': 0.8640138112678891, 'colsample_bytree': 0.7002896286893557, 'reg_alpha': 0.2684916751834149, 'reg_lambda': 4.563878995404463}. Best is trial 3 with value: 0.9991880899071942.\n"
     ]
    },
    {
     "name": "stdout",
     "output_type": "stream",
     "text": [
      "Training until validation scores don't improve for 30 rounds\n",
      "Early stopping, best iteration is:\n",
      "[168]\tvalid_0's auc: 0.998939\n",
      "Training until validation scores don't improve for 30 rounds\n",
      "Early stopping, best iteration is:\n",
      "[158]\tvalid_0's auc: 0.99845\n",
      "Training until validation scores don't improve for 30 rounds\n"
     ]
    },
    {
     "name": "stderr",
     "output_type": "stream",
     "text": [
      "[I 2025-05-25 07:23:24,236] Trial 4 finished with value: 0.9987792318062437 and parameters: {'learning_rate': 0.15446340824699675, 'num_leaves': 269, 'max_depth': 13, 'min_child_samples': 89, 'subsample': 0.6846118628199105, 'colsample_bytree': 0.8180826433480939, 'reg_alpha': 3.9472959086932278, 'reg_lambda': 2.879804888054189}. Best is trial 3 with value: 0.9991880899071942.\n"
     ]
    },
    {
     "name": "stdout",
     "output_type": "stream",
     "text": [
      "Early stopping, best iteration is:\n",
      "[164]\tvalid_0's auc: 0.998949\n",
      "Training until validation scores don't improve for 30 rounds\n",
      "Early stopping, best iteration is:\n",
      "[637]\tvalid_0's auc: 0.999178\n",
      "Training until validation scores don't improve for 30 rounds\n",
      "Early stopping, best iteration is:\n",
      "[546]\tvalid_0's auc: 0.998622\n",
      "Training until validation scores don't improve for 30 rounds\n",
      "Early stopping, best iteration is:\n",
      "[857]\tvalid_0's auc: 0.999137\n"
     ]
    },
    {
     "name": "stderr",
     "output_type": "stream",
     "text": [
      "[I 2025-05-25 07:24:14,123] Trial 5 finished with value: 0.9989790314009618 and parameters: {'learning_rate': 0.0266382328595051, 'num_leaves': 166, 'max_depth': 14, 'min_child_samples': 78, 'subsample': 0.7456301986265866, 'colsample_bytree': 0.8391724034656735, 'reg_alpha': 2.3281781478766588, 'reg_lambda': 0.20962185537314326}. Best is trial 3 with value: 0.9991880899071942.\n"
     ]
    },
    {
     "name": "stdout",
     "output_type": "stream",
     "text": [
      "Training until validation scores don't improve for 30 rounds\n",
      "Did not meet early stopping. Best iteration is:\n",
      "[1000]\tvalid_0's auc: 0.997842\n",
      "Training until validation scores don't improve for 30 rounds\n",
      "Did not meet early stopping. Best iteration is:\n",
      "[1000]\tvalid_0's auc: 0.99769\n",
      "Training until validation scores don't improve for 30 rounds\n",
      "Did not meet early stopping. Best iteration is:\n",
      "[1000]\tvalid_0's auc: 0.997779\n"
     ]
    },
    {
     "name": "stderr",
     "output_type": "stream",
     "text": [
      "[I 2025-05-25 07:25:08,871] Trial 6 finished with value: 0.9977702805027752 and parameters: {'learning_rate': 0.014010455822752392, 'num_leaves': 67, 'max_depth': 5, 'min_child_samples': 89, 'subsample': 0.6794598904892494, 'colsample_bytree': 0.960648805234798, 'reg_alpha': 4.596287525840002, 'reg_lambda': 1.8938438698515414}. Best is trial 3 with value: 0.9991880899071942.\n"
     ]
    },
    {
     "name": "stdout",
     "output_type": "stream",
     "text": [
      "Training until validation scores don't improve for 30 rounds\n",
      "Early stopping, best iteration is:\n",
      "[558]\tvalid_0's auc: 0.999132\n",
      "Training until validation scores don't improve for 30 rounds\n",
      "Early stopping, best iteration is:\n",
      "[567]\tvalid_0's auc: 0.998777\n",
      "Training until validation scores don't improve for 30 rounds\n"
     ]
    },
    {
     "name": "stderr",
     "output_type": "stream",
     "text": [
      "[I 2025-05-25 07:25:47,475] Trial 7 finished with value: 0.9990277950016035 and parameters: {'learning_rate': 0.04741496896310899, 'num_leaves': 37, 'max_depth': 13, 'min_child_samples': 83, 'subsample': 0.9329133347243584, 'colsample_bytree': 0.9163902501178257, 'reg_alpha': 2.8352129930525893, 'reg_lambda': 3.2936748407621046}. Best is trial 3 with value: 0.9991880899071942.\n"
     ]
    },
    {
     "name": "stdout",
     "output_type": "stream",
     "text": [
      "Early stopping, best iteration is:\n",
      "[587]\tvalid_0's auc: 0.999174\n",
      "Training until validation scores don't improve for 30 rounds\n",
      "Did not meet early stopping. Best iteration is:\n",
      "[998]\tvalid_0's auc: 0.999069\n",
      "Training until validation scores don't improve for 30 rounds\n",
      "Early stopping, best iteration is:\n",
      "[965]\tvalid_0's auc: 0.998683\n",
      "Training until validation scores don't improve for 30 rounds\n",
      "Early stopping, best iteration is:\n",
      "[952]\tvalid_0's auc: 0.998904\n"
     ]
    },
    {
     "name": "stderr",
     "output_type": "stream",
     "text": [
      "[I 2025-05-25 07:26:42,787] Trial 8 finished with value: 0.9988854971052689 and parameters: {'learning_rate': 0.020938396398169242, 'num_leaves': 245, 'max_depth': 8, 'min_child_samples': 51, 'subsample': 0.6080266837237691, 'colsample_bytree': 0.7030985754749879, 'reg_alpha': 4.57656363825622, 'reg_lambda': 1.09397019209433}. Best is trial 3 with value: 0.9991880899071942.\n"
     ]
    },
    {
     "name": "stdout",
     "output_type": "stream",
     "text": [
      "Training until validation scores don't improve for 30 rounds\n",
      "Early stopping, best iteration is:\n",
      "[316]\tvalid_0's auc: 0.999201\n",
      "Training until validation scores don't improve for 30 rounds\n",
      "Early stopping, best iteration is:\n",
      "[214]\tvalid_0's auc: 0.998878\n",
      "Training until validation scores don't improve for 30 rounds\n"
     ]
    },
    {
     "name": "stderr",
     "output_type": "stream",
     "text": [
      "[I 2025-05-25 07:27:09,264] Trial 9 finished with value: 0.9991296623176597 and parameters: {'learning_rate': 0.08743291575122907, 'num_leaves': 69, 'max_depth': 13, 'min_child_samples': 61, 'subsample': 0.9427482267787107, 'colsample_bytree': 0.860333499833984, 'reg_alpha': 1.2320937736528481, 'reg_lambda': 4.629348385283002}. Best is trial 3 with value: 0.9991880899071942.\n"
     ]
    },
    {
     "name": "stdout",
     "output_type": "stream",
     "text": [
      "Early stopping, best iteration is:\n",
      "[381]\tvalid_0's auc: 0.999309\n",
      "Training until validation scores don't improve for 30 rounds\n",
      "Early stopping, best iteration is:\n",
      "[429]\tvalid_0's auc: 0.999491\n",
      "Training until validation scores don't improve for 30 rounds\n",
      "Early stopping, best iteration is:\n",
      "[292]\tvalid_0's auc: 0.999003\n",
      "Training until validation scores don't improve for 30 rounds\n",
      "Early stopping, best iteration is:\n",
      "[424]\tvalid_0's auc: 0.999295\n"
     ]
    },
    {
     "name": "stderr",
     "output_type": "stream",
     "text": [
      "[I 2025-05-25 07:27:59,952] Trial 10 finished with value: 0.9992628363282728 and parameters: {'learning_rate': 0.048221185778607366, 'num_leaves': 184, 'max_depth': 9, 'min_child_samples': 11, 'subsample': 0.8437889949407978, 'colsample_bytree': 0.6179948865262987, 'reg_alpha': 0.23396700287368238, 'reg_lambda': 4.888266125169901}. Best is trial 10 with value: 0.9992628363282728.\n"
     ]
    },
    {
     "name": "stdout",
     "output_type": "stream",
     "text": [
      "Training until validation scores don't improve for 30 rounds\n",
      "Early stopping, best iteration is:\n",
      "[412]\tvalid_0's auc: 0.999427\n",
      "Training until validation scores don't improve for 30 rounds\n",
      "Early stopping, best iteration is:\n",
      "[398]\tvalid_0's auc: 0.999213\n",
      "Training until validation scores don't improve for 30 rounds\n",
      "Early stopping, best iteration is:\n",
      "[507]\tvalid_0's auc: 0.999493\n"
     ]
    },
    {
     "name": "stderr",
     "output_type": "stream",
     "text": [
      "[I 2025-05-25 07:29:11,052] Trial 11 finished with value: 0.9993774925158578 and parameters: {'learning_rate': 0.0382654176447872, 'num_leaves': 180, 'max_depth': 10, 'min_child_samples': 10, 'subsample': 0.8388515908834744, 'colsample_bytree': 0.6114193772926757, 'reg_alpha': 0.0027101804376310767, 'reg_lambda': 4.892457581247462}. Best is trial 11 with value: 0.9993774925158578.\n"
     ]
    },
    {
     "name": "stdout",
     "output_type": "stream",
     "text": [
      "Training until validation scores don't improve for 30 rounds\n",
      "Early stopping, best iteration is:\n",
      "[388]\tvalid_0's auc: 0.999293\n",
      "Training until validation scores don't improve for 30 rounds\n",
      "Early stopping, best iteration is:\n",
      "[341]\tvalid_0's auc: 0.998907\n",
      "Training until validation scores don't improve for 30 rounds\n",
      "Early stopping, best iteration is:\n",
      "[399]\tvalid_0's auc: 0.999212\n"
     ]
    },
    {
     "name": "stderr",
     "output_type": "stream",
     "text": [
      "[I 2025-05-25 07:29:52,018] Trial 12 finished with value: 0.9991373587878557 and parameters: {'learning_rate': 0.03917616658513824, 'num_leaves': 173, 'max_depth': 10, 'min_child_samples': 13, 'subsample': 0.8381854868600547, 'colsample_bytree': 0.6020129103698187, 'reg_alpha': 1.2061971166157963, 'reg_lambda': 3.818624115267956}. Best is trial 11 with value: 0.9993774925158578.\n"
     ]
    },
    {
     "name": "stdout",
     "output_type": "stream",
     "text": [
      "Training until validation scores don't improve for 30 rounds\n",
      "Early stopping, best iteration is:\n",
      "[500]\tvalid_0's auc: 0.999383\n",
      "Training until validation scores don't improve for 30 rounds\n",
      "Early stopping, best iteration is:\n",
      "[329]\tvalid_0's auc: 0.999106\n",
      "Training until validation scores don't improve for 30 rounds\n",
      "Early stopping, best iteration is:\n",
      "[668]\tvalid_0's auc: 0.99948\n"
     ]
    },
    {
     "name": "stderr",
     "output_type": "stream",
     "text": [
      "[I 2025-05-25 07:30:40,376] Trial 13 finished with value: 0.9993232893047015 and parameters: {'learning_rate': 0.06988528190924762, 'num_leaves': 200, 'max_depth': 10, 'min_child_samples': 26, 'subsample': 0.9889054388024232, 'colsample_bytree': 0.6007317560828453, 'reg_alpha': 0.10393298483239599, 'reg_lambda': 4.799084454007822}. Best is trial 11 with value: 0.9993774925158578.\n"
     ]
    },
    {
     "name": "stdout",
     "output_type": "stream",
     "text": [
      "Training until validation scores don't improve for 30 rounds\n",
      "Early stopping, best iteration is:\n",
      "[250]\tvalid_0's auc: 0.999197\n",
      "Training until validation scores don't improve for 30 rounds\n",
      "Early stopping, best iteration is:\n",
      "[126]\tvalid_0's auc: 0.99868\n",
      "Training until validation scores don't improve for 30 rounds\n"
     ]
    },
    {
     "name": "stderr",
     "output_type": "stream",
     "text": [
      "[I 2025-05-25 07:31:02,052] Trial 14 finished with value: 0.9990625159197822 and parameters: {'learning_rate': 0.0879448826842891, 'num_leaves': 127, 'max_depth': 11, 'min_child_samples': 28, 'subsample': 0.9747041865944033, 'colsample_bytree': 0.6543785994819339, 'reg_alpha': 1.2935623907684475, 'reg_lambda': 3.986419308832038}. Best is trial 11 with value: 0.9993774925158578.\n"
     ]
    },
    {
     "name": "stdout",
     "output_type": "stream",
     "text": [
      "Early stopping, best iteration is:\n",
      "[335]\tvalid_0's auc: 0.99931\n",
      "Training until validation scores don't improve for 30 rounds\n",
      "Early stopping, best iteration is:\n",
      "[572]\tvalid_0's auc: 0.999152\n",
      "Training until validation scores don't improve for 30 rounds\n",
      "Early stopping, best iteration is:\n",
      "[407]\tvalid_0's auc: 0.998968\n",
      "Training until validation scores don't improve for 30 rounds\n",
      "Early stopping, best iteration is:\n",
      "[379]\tvalid_0's auc: 0.999051\n"
     ]
    },
    {
     "name": "stderr",
     "output_type": "stream",
     "text": [
      "[I 2025-05-25 07:31:50,079] Trial 15 finished with value: 0.9990569027046766 and parameters: {'learning_rate': 0.028542996055017332, 'num_leaves': 209, 'max_depth': 11, 'min_child_samples': 26, 'subsample': 0.988579544600254, 'colsample_bytree': 0.7605254273140183, 'reg_alpha': 2.2312576435160545, 'reg_lambda': 4.00900809247092}. Best is trial 11 with value: 0.9993774925158578.\n"
     ]
    },
    {
     "name": "stdout",
     "output_type": "stream",
     "text": [
      "Training until validation scores don't improve for 30 rounds\n",
      "Early stopping, best iteration is:\n",
      "[322]\tvalid_0's auc: 0.999381\n",
      "Training until validation scores don't improve for 30 rounds\n",
      "Early stopping, best iteration is:\n",
      "[519]\tvalid_0's auc: 0.999166\n",
      "Training until validation scores don't improve for 30 rounds\n"
     ]
    },
    {
     "name": "stderr",
     "output_type": "stream",
     "text": [
      "[I 2025-05-25 07:32:22,217] Trial 16 finished with value: 0.9993189491899291 and parameters: {'learning_rate': 0.07930175659123123, 'num_leaves': 136, 'max_depth': 8, 'min_child_samples': 43, 'subsample': 0.8903626917834655, 'colsample_bytree': 0.6615146279401898, 'reg_alpha': 0.008584767258277282, 'reg_lambda': 4.9775357935551465}. Best is trial 11 with value: 0.9993774925158578.\n"
     ]
    },
    {
     "name": "stdout",
     "output_type": "stream",
     "text": [
      "Early stopping, best iteration is:\n",
      "[242]\tvalid_0's auc: 0.99941\n",
      "Training until validation scores don't improve for 30 rounds\n",
      "Did not meet early stopping. Best iteration is:\n",
      "[984]\tvalid_0's auc: 0.999301\n",
      "Training until validation scores don't improve for 30 rounds\n",
      "Early stopping, best iteration is:\n",
      "[804]\tvalid_0's auc: 0.999008\n",
      "Training until validation scores don't improve for 30 rounds\n",
      "Did not meet early stopping. Best iteration is:\n",
      "[995]\tvalid_0's auc: 0.999296\n"
     ]
    },
    {
     "name": "stderr",
     "output_type": "stream",
     "text": [
      "[I 2025-05-25 07:34:16,103] Trial 17 finished with value: 0.9992019011168697 and parameters: {'learning_rate': 0.01483950939068046, 'num_leaves': 222, 'max_depth': 11, 'min_child_samples': 19, 'subsample': 0.7577937331468138, 'colsample_bytree': 0.6496375972775597, 'reg_alpha': 0.8313761210680166, 'reg_lambda': 3.410573155900942}. Best is trial 11 with value: 0.9993774925158578.\n"
     ]
    },
    {
     "name": "stdout",
     "output_type": "stream",
     "text": [
      "Training until validation scores don't improve for 30 rounds\n",
      "Early stopping, best iteration is:\n",
      "[713]\tvalid_0's auc: 0.99905\n",
      "Training until validation scores don't improve for 30 rounds\n",
      "Early stopping, best iteration is:\n",
      "[723]\tvalid_0's auc: 0.998661\n",
      "Training until validation scores don't improve for 30 rounds\n",
      "Early stopping, best iteration is:\n",
      "[770]\tvalid_0's auc: 0.998995\n"
     ]
    },
    {
     "name": "stderr",
     "output_type": "stream",
     "text": [
      "[I 2025-05-25 07:35:07,179] Trial 18 finished with value: 0.9989018159368127 and parameters: {'learning_rate': 0.03247643580293874, 'num_leaves': 121, 'max_depth': 8, 'min_child_samples': 64, 'subsample': 0.803876541243858, 'colsample_bytree': 0.7715763929398024, 'reg_alpha': 3.126616665761495, 'reg_lambda': 2.051450862920063}. Best is trial 11 with value: 0.9993774925158578.\n"
     ]
    },
    {
     "name": "stdout",
     "output_type": "stream",
     "text": [
      "Training until validation scores don't improve for 30 rounds\n",
      "Early stopping, best iteration is:\n",
      "[342]\tvalid_0's auc: 0.999218\n",
      "Training until validation scores don't improve for 30 rounds\n",
      "Early stopping, best iteration is:\n",
      "[304]\tvalid_0's auc: 0.998954\n",
      "Training until validation scores don't improve for 30 rounds\n",
      "Early stopping, best iteration is:\n",
      "[406]\tvalid_0's auc: 0.999179\n"
     ]
    },
    {
     "name": "stderr",
     "output_type": "stream",
     "text": [
      "[I 2025-05-25 07:35:55,148] Trial 19 finished with value: 0.9991170663401204 and parameters: {'learning_rate': 0.0670566892236599, 'num_leaves': 209, 'max_depth': 10, 'min_child_samples': 22, 'subsample': 0.9521704611752385, 'colsample_bytree': 0.6993685419491585, 'reg_alpha': 1.8551934788821394, 'reg_lambda': 4.278596860594099}. Best is trial 11 with value: 0.9993774925158578.\n"
     ]
    },
    {
     "name": "stdout",
     "output_type": "stream",
     "text": [
      "Training until validation scores don't improve for 30 rounds\n",
      "Early stopping, best iteration is:\n",
      "[211]\tvalid_0's auc: 0.999059\n",
      "Training until validation scores don't improve for 30 rounds\n",
      "Early stopping, best iteration is:\n",
      "[160]\tvalid_0's auc: 0.998715\n",
      "Training until validation scores don't improve for 30 rounds\n"
     ]
    },
    {
     "name": "stderr",
     "output_type": "stream",
     "text": [
      "[I 2025-05-25 07:36:18,847] Trial 20 finished with value: 0.9989471074456366 and parameters: {'learning_rate': 0.2615784386794125, 'num_leaves': 97, 'max_depth': 7, 'min_child_samples': 41, 'subsample': 0.99542835817311, 'colsample_bytree': 0.6307949354805125, 'reg_alpha': 0.7163177377620679, 'reg_lambda': 3.494092123841521}. Best is trial 11 with value: 0.9993774925158578.\n"
     ]
    },
    {
     "name": "stdout",
     "output_type": "stream",
     "text": [
      "Early stopping, best iteration is:\n",
      "[182]\tvalid_0's auc: 0.999067\n",
      "Training until validation scores don't improve for 30 rounds\n",
      "Early stopping, best iteration is:\n",
      "[477]\tvalid_0's auc: 0.999347\n",
      "Training until validation scores don't improve for 30 rounds\n",
      "Early stopping, best iteration is:\n",
      "[209]\tvalid_0's auc: 0.998865\n",
      "Training until validation scores don't improve for 30 rounds\n",
      "Early stopping, best iteration is:\n",
      "[411]\tvalid_0's auc: 0.999438\n"
     ]
    },
    {
     "name": "stderr",
     "output_type": "stream",
     "text": [
      "[I 2025-05-25 07:37:39,292] Trial 21 finished with value: 0.9992165224813027 and parameters: {'learning_rate': 0.08788240603674466, 'num_leaves': 139, 'max_depth': 9, 'min_child_samples': 41, 'subsample': 0.8955414196383769, 'colsample_bytree': 0.6699115483662598, 'reg_alpha': 0.05529252116072346, 'reg_lambda': 4.9764960836250305}. Best is trial 11 with value: 0.9993774925158578.\n"
     ]
    },
    {
     "name": "stdout",
     "output_type": "stream",
     "text": [
      "Training until validation scores don't improve for 30 rounds\n",
      "Early stopping, best iteration is:\n",
      "[787]\tvalid_0's auc: 0.999178\n",
      "Training until validation scores don't improve for 30 rounds\n",
      "Early stopping, best iteration is:\n",
      "[678]\tvalid_0's auc: 0.998644\n",
      "Training until validation scores don't improve for 30 rounds\n"
     ]
    },
    {
     "name": "stderr",
     "output_type": "stream",
     "text": [
      "[I 2025-05-25 07:38:09,653] Trial 22 finished with value: 0.9988418259059598 and parameters: {'learning_rate': 0.1063722262733953, 'num_leaves': 152, 'max_depth': 4, 'min_child_samples': 37, 'subsample': 0.8946798680582985, 'colsample_bytree': 0.6066734948123473, 'reg_alpha': 0.046041027455687014, 'reg_lambda': 4.382058053998108}. Best is trial 11 with value: 0.9993774925158578.\n"
     ]
    },
    {
     "name": "stdout",
     "output_type": "stream",
     "text": [
      "Early stopping, best iteration is:\n",
      "[624]\tvalid_0's auc: 0.998703\n",
      "Training until validation scores don't improve for 30 rounds\n",
      "Early stopping, best iteration is:\n",
      "[376]\tvalid_0's auc: 0.99923\n",
      "Training until validation scores don't improve for 30 rounds\n",
      "Early stopping, best iteration is:\n",
      "[401]\tvalid_0's auc: 0.998835\n",
      "Training until validation scores don't improve for 30 rounds\n",
      "Early stopping, best iteration is:\n",
      "[525]\tvalid_0's auc: 0.999362\n"
     ]
    },
    {
     "name": "stderr",
     "output_type": "stream",
     "text": [
      "[I 2025-05-25 07:39:17,313] Trial 23 finished with value: 0.9991423933209916 and parameters: {'learning_rate': 0.06563023038480195, 'num_leaves': 183, 'max_depth': 8, 'min_child_samples': 20, 'subsample': 0.8657939483600113, 'colsample_bytree': 0.6744058025177488, 'reg_alpha': 0.7406581974975914, 'reg_lambda': 4.713923160678536}. Best is trial 11 with value: 0.9993774925158578.\n"
     ]
    },
    {
     "name": "stdout",
     "output_type": "stream",
     "text": [
      "Training until validation scores don't improve for 30 rounds\n",
      "Did not meet early stopping. Best iteration is:\n",
      "[999]\tvalid_0's auc: 0.99908\n",
      "Training until validation scores don't improve for 30 rounds\n",
      "Early stopping, best iteration is:\n",
      "[904]\tvalid_0's auc: 0.99877\n",
      "Training until validation scores don't improve for 30 rounds\n",
      "Did not meet early stopping. Best iteration is:\n",
      "[998]\tvalid_0's auc: 0.999122\n"
     ]
    },
    {
     "name": "stderr",
     "output_type": "stream",
     "text": [
      "[I 2025-05-25 07:41:06,679] Trial 24 finished with value: 0.9989906821979506 and parameters: {'learning_rate': 0.019143221826383332, 'num_leaves': 203, 'max_depth': 11, 'min_child_samples': 62, 'subsample': 0.9240840631569324, 'colsample_bytree': 0.6433940860731656, 'reg_alpha': 1.7740547045723323, 'reg_lambda': 4.960097038284558}. Best is trial 11 with value: 0.9993774925158578.\n"
     ]
    },
    {
     "name": "stdout",
     "output_type": "stream",
     "text": [
      "Training until validation scores don't improve for 30 rounds\n",
      "Early stopping, best iteration is:\n",
      "[671]\tvalid_0's auc: 0.999293\n",
      "Training until validation scores don't improve for 30 rounds\n",
      "Early stopping, best iteration is:\n",
      "[599]\tvalid_0's auc: 0.998907\n",
      "Training until validation scores don't improve for 30 rounds\n",
      "Early stopping, best iteration is:\n",
      "[678]\tvalid_0's auc: 0.999346\n"
     ]
    },
    {
     "name": "stderr",
     "output_type": "stream",
     "text": [
      "[I 2025-05-25 07:42:30,931] Trial 25 finished with value: 0.9991817244055282 and parameters: {'learning_rate': 0.039159125116116224, 'num_leaves': 89, 'max_depth': 7, 'min_child_samples': 47, 'subsample': 0.8264278490929167, 'colsample_bytree': 0.7261088949338829, 'reg_alpha': 0.5992308362073631, 'reg_lambda': 4.220390575185839}. Best is trial 11 with value: 0.9993774925158578.\n"
     ]
    },
    {
     "name": "stdout",
     "output_type": "stream",
     "text": [
      "Training until validation scores don't improve for 30 rounds\n",
      "Early stopping, best iteration is:\n",
      "[131]\tvalid_0's auc: 0.998655\n",
      "Training until validation scores don't improve for 30 rounds\n",
      "Early stopping, best iteration is:\n",
      "[127]\tvalid_0's auc: 0.998659\n",
      "Training until validation scores don't improve for 30 rounds\n"
     ]
    },
    {
     "name": "stderr",
     "output_type": "stream",
     "text": [
      "[I 2025-05-25 07:42:47,788] Trial 26 finished with value: 0.9987115453051948 and parameters: {'learning_rate': 0.21033483039848383, 'num_leaves': 148, 'max_depth': 10, 'min_child_samples': 27, 'subsample': 0.8771755268658358, 'colsample_bytree': 0.602426228784628, 'reg_alpha': 3.38924710501071, 'reg_lambda': 3.8382703314556634}. Best is trial 11 with value: 0.9993774925158578.\n"
     ]
    },
    {
     "name": "stdout",
     "output_type": "stream",
     "text": [
      "Early stopping, best iteration is:\n",
      "[87]\tvalid_0's auc: 0.998821\n",
      "Training until validation scores don't improve for 30 rounds\n",
      "Early stopping, best iteration is:\n",
      "[316]\tvalid_0's auc: 0.999322\n",
      "Training until validation scores don't improve for 30 rounds\n",
      "Early stopping, best iteration is:\n",
      "[261]\tvalid_0's auc: 0.999094\n",
      "Training until validation scores don't improve for 30 rounds\n",
      "Early stopping, best iteration is:\n",
      "[249]\tvalid_0's auc: 0.999208\n"
     ]
    },
    {
     "name": "stderr",
     "output_type": "stream",
     "text": [
      "[I 2025-05-25 07:43:41,012] Trial 27 finished with value: 0.999207938698753 and parameters: {'learning_rate': 0.0709711581761753, 'num_leaves': 110, 'max_depth': 12, 'min_child_samples': 18, 'subsample': 0.9597029643712027, 'colsample_bytree': 0.6799710363583176, 'reg_alpha': 1.0287351470524357, 'reg_lambda': 2.946375757368117}. Best is trial 11 with value: 0.9993774925158578.\n"
     ]
    },
    {
     "name": "stdout",
     "output_type": "stream",
     "text": [
      "Training until validation scores don't improve for 30 rounds\n",
      "Early stopping, best iteration is:\n",
      "[171]\tvalid_0's auc: 0.99918\n",
      "Training until validation scores don't improve for 30 rounds\n",
      "Early stopping, best iteration is:\n",
      "[209]\tvalid_0's auc: 0.998889\n",
      "Training until validation scores don't improve for 30 rounds\n",
      "Early stopping, best iteration is:\n",
      "[201]\tvalid_0's auc: 0.999255\n"
     ]
    },
    {
     "name": "stderr",
     "output_type": "stream",
     "text": [
      "[I 2025-05-25 07:44:05,700] Trial 28 finished with value: 0.9991082317953838 and parameters: {'learning_rate': 0.11565207201406148, 'num_leaves': 233, 'max_depth': 9, 'min_child_samples': 10, 'subsample': 0.7706541583763613, 'colsample_bytree': 0.6315008294131167, 'reg_alpha': 1.6449897889596583, 'reg_lambda': 1.099295390530215}. Best is trial 11 with value: 0.9993774925158578.\n"
     ]
    },
    {
     "name": "stdout",
     "output_type": "stream",
     "text": [
      "Training until validation scores don't improve for 30 rounds\n",
      "Early stopping, best iteration is:\n",
      "[488]\tvalid_0's auc: 0.999264\n",
      "Training until validation scores don't improve for 30 rounds\n",
      "Early stopping, best iteration is:\n",
      "[448]\tvalid_0's auc: 0.99887\n",
      "Training until validation scores don't improve for 30 rounds\n",
      "Early stopping, best iteration is:\n",
      "[508]\tvalid_0's auc: 0.999293\n"
     ]
    },
    {
     "name": "stderr",
     "output_type": "stream",
     "text": [
      "[I 2025-05-25 07:45:21,005] Trial 29 finished with value: 0.9991421618482037 and parameters: {'learning_rate': 0.039709151327174744, 'num_leaves': 265, 'max_depth': 12, 'min_child_samples': 36, 'subsample': 0.7101449370498032, 'colsample_bytree': 0.7389056223627894, 'reg_alpha': 0.4272209905026185, 'reg_lambda': 4.443649274611783}. Best is trial 11 with value: 0.9993774925158578.\n"
     ]
    },
    {
     "name": "stdout",
     "output_type": "stream",
     "text": [
      "Training until validation scores don't improve for 30 rounds\n",
      "Early stopping, best iteration is:\n",
      "[549]\tvalid_0's auc: 0.999375\n",
      "Training until validation scores don't improve for 30 rounds\n",
      "Early stopping, best iteration is:\n",
      "[500]\tvalid_0's auc: 0.998891\n",
      "Training until validation scores don't improve for 30 rounds\n",
      "Early stopping, best iteration is:\n",
      "[548]\tvalid_0's auc: 0.999249\n"
     ]
    },
    {
     "name": "stderr",
     "output_type": "stream",
     "text": [
      "[I 2025-05-25 07:46:00,741] Trial 30 finished with value: 0.9991714624452666 and parameters: {'learning_rate': 0.05594779212507333, 'num_leaves': 196, 'max_depth': 7, 'min_child_samples': 73, 'subsample': 0.9224957702682659, 'colsample_bytree': 0.7884506221788986, 'reg_alpha': 0.4900081422501955, 'reg_lambda': 3.5951962835997313}. Best is trial 11 with value: 0.9993774925158578.\n"
     ]
    },
    {
     "name": "stdout",
     "output_type": "stream",
     "text": [
      "Training until validation scores don't improve for 30 rounds\n",
      "Early stopping, best iteration is:\n",
      "[594]\tvalid_0's auc: 0.999474\n",
      "Training until validation scores don't improve for 30 rounds\n",
      "Early stopping, best iteration is:\n",
      "[487]\tvalid_0's auc: 0.999121\n",
      "Training until validation scores don't improve for 30 rounds\n"
     ]
    },
    {
     "name": "stderr",
     "output_type": "stream",
     "text": [
      "[I 2025-05-25 07:47:05,095] Trial 31 finished with value: 0.9993025146219914 and parameters: {'learning_rate': 0.04550989910396955, 'num_leaves': 185, 'max_depth': 9, 'min_child_samples': 11, 'subsample': 0.837109507726574, 'colsample_bytree': 0.623460338260323, 'reg_alpha': 0.0459973119408113, 'reg_lambda': 4.793695085286003}. Best is trial 11 with value: 0.9993774925158578.\n"
     ]
    },
    {
     "name": "stdout",
     "output_type": "stream",
     "text": [
      "Early stopping, best iteration is:\n",
      "[286]\tvalid_0's auc: 0.999313\n",
      "Training until validation scores don't improve for 30 rounds\n",
      "Early stopping, best iteration is:\n",
      "[407]\tvalid_0's auc: 0.999454\n",
      "Training until validation scores don't improve for 30 rounds\n",
      "Early stopping, best iteration is:\n",
      "[365]\tvalid_0's auc: 0.99914\n",
      "Training until validation scores don't improve for 30 rounds\n"
     ]
    },
    {
     "name": "stderr",
     "output_type": "stream",
     "text": [
      "[I 2025-05-25 07:47:45,178] Trial 32 finished with value: 0.9992908445356036 and parameters: {'learning_rate': 0.07555544662922124, 'num_leaves': 162, 'max_depth': 9, 'min_child_samples': 23, 'subsample': 0.7937910131883609, 'colsample_bytree': 0.6441742384857132, 'reg_alpha': 0.009536482136787594, 'reg_lambda': 4.999263556853433}. Best is trial 11 with value: 0.9993774925158578.\n"
     ]
    },
    {
     "name": "stdout",
     "output_type": "stream",
     "text": [
      "Early stopping, best iteration is:\n",
      "[251]\tvalid_0's auc: 0.999278\n",
      "Training until validation scores don't improve for 30 rounds\n",
      "Early stopping, best iteration is:\n",
      "[595]\tvalid_0's auc: 0.999208\n",
      "Training until validation scores don't improve for 30 rounds\n",
      "Early stopping, best iteration is:\n",
      "[647]\tvalid_0's auc: 0.998806\n",
      "Training until validation scores don't improve for 30 rounds\n"
     ]
    },
    {
     "name": "stderr",
     "output_type": "stream",
     "text": [
      "[I 2025-05-25 07:48:22,498] Trial 33 finished with value: 0.9990384041710471 and parameters: {'learning_rate': 0.042747665436376, 'num_leaves': 184, 'max_depth': 8, 'min_child_samples': 99, 'subsample': 0.8185066640751288, 'colsample_bytree': 0.667322599859581, 'reg_alpha': 0.36970108361353493, 'reg_lambda': 4.589431209208173}. Best is trial 11 with value: 0.9993774925158578.\n"
     ]
    },
    {
     "name": "stdout",
     "output_type": "stream",
     "text": [
      "Early stopping, best iteration is:\n",
      "[410]\tvalid_0's auc: 0.999102\n",
      "Training until validation scores don't improve for 30 rounds\n",
      "Early stopping, best iteration is:\n",
      "[791]\tvalid_0's auc: 0.999431\n",
      "Training until validation scores don't improve for 30 rounds\n",
      "Early stopping, best iteration is:\n",
      "[567]\tvalid_0's auc: 0.999167\n",
      "Training until validation scores don't improve for 30 rounds\n",
      "Early stopping, best iteration is:\n",
      "[922]\tvalid_0's auc: 0.999497\n"
     ]
    },
    {
     "name": "stderr",
     "output_type": "stream",
     "text": [
      "[I 2025-05-25 07:50:03,381] Trial 34 finished with value: 0.9993649351171167 and parameters: {'learning_rate': 0.030835182620777016, 'num_leaves': 225, 'max_depth': 10, 'min_child_samples': 15, 'subsample': 0.8529689865664671, 'colsample_bytree': 0.6199269023474574, 'reg_alpha': 0.008833932803918566, 'reg_lambda': 4.375285850564022}. Best is trial 11 with value: 0.9993774925158578.\n"
     ]
    },
    {
     "name": "stdout",
     "output_type": "stream",
     "text": [
      "Training until validation scores don't improve for 30 rounds\n",
      "Early stopping, best iteration is:\n",
      "[774]\tvalid_0's auc: 0.999315\n",
      "Training until validation scores don't improve for 30 rounds\n",
      "Early stopping, best iteration is:\n",
      "[659]\tvalid_0's auc: 0.998947\n",
      "Training until validation scores don't improve for 30 rounds\n",
      "Early stopping, best iteration is:\n",
      "[599]\tvalid_0's auc: 0.999341\n"
     ]
    },
    {
     "name": "stderr",
     "output_type": "stream",
     "text": [
      "[I 2025-05-25 07:51:06,495] Trial 35 finished with value: 0.9992010330939153 and parameters: {'learning_rate': 0.031645078771366374, 'num_leaves': 222, 'max_depth': 10, 'min_child_samples': 31, 'subsample': 0.8796654183853438, 'colsample_bytree': 0.696378714585456, 'reg_alpha': 0.9292198415887063, 'reg_lambda': 4.171316633196623}. Best is trial 11 with value: 0.9993774925158578.\n"
     ]
    },
    {
     "name": "stdout",
     "output_type": "stream",
     "text": [
      "Training until validation scores don't improve for 30 rounds\n",
      "Early stopping, best iteration is:\n",
      "[827]\tvalid_0's auc: 0.999322\n",
      "Training until validation scores don't improve for 30 rounds\n",
      "Early stopping, best iteration is:\n",
      "[703]\tvalid_0's auc: 0.999107\n",
      "Training until validation scores don't improve for 30 rounds\n",
      "Early stopping, best iteration is:\n",
      "[589]\tvalid_0's auc: 0.999286\n"
     ]
    },
    {
     "name": "stderr",
     "output_type": "stream",
     "text": [
      "[I 2025-05-25 07:52:35,744] Trial 36 finished with value: 0.9992381073187703 and parameters: {'learning_rate': 0.020805736840702808, 'num_leaves': 256, 'max_depth': 12, 'min_child_samples': 17, 'subsample': 0.7847245168360771, 'colsample_bytree': 0.6266487653032415, 'reg_alpha': 0.5187965635451401, 'reg_lambda': 4.5095229699453965}. Best is trial 11 with value: 0.9993774925158578.\n"
     ]
    },
    {
     "name": "stdout",
     "output_type": "stream",
     "text": [
      "\n",
      "🌟 Mejor AUC para LiftOff: 0.9994\n",
      "🔧 Mejores hiperparámetros:\n",
      "{'learning_rate': 0.0382654176447872, 'num_leaves': 180, 'max_depth': 10, 'min_child_samples': 10, 'subsample': 0.8388515908834744, 'colsample_bytree': 0.6114193772926757, 'reg_alpha': 0.0027101804376310767, 'reg_lambda': 4.892457581247462}\n"
     ]
    }
   ],
   "source": [
    "import optuna\n",
    "from optuna.pruners import MedianPruner\n",
    "from lightgbm import LGBMClassifier, early_stopping\n",
    "from sklearn.model_selection import StratifiedKFold\n",
    "from sklearn.metrics import roc_auc_score\n",
    "from sklearn.utils import resample\n",
    "import numpy as np\n",
    "import pandas as pd\n",
    "\n",
    "# --- Evento a optimizar ---\n",
    "event = \"LiftOff\"  \n",
    "\n",
    "# --- Datos completos ---\n",
    "X_full = X_train_scaled\n",
    "y_full = y_train_win[event]\n",
    "\n",
    "# --- Reconstruir DataFrame con los mismos índices que y_train_win ---\n",
    "X_full_df = pd.DataFrame(X_full, index=y_train_win.index)\n",
    "\n",
    "# --- Submuestreo balanceado al 50% ---\n",
    "idx_class_0 = y_full[y_full == 0].index\n",
    "idx_class_1 = y_full[y_full == 1].index\n",
    "n_per_class = min(len(idx_class_0), len(idx_class_1)) // 2\n",
    "\n",
    "idx_sampled_0 = resample(idx_class_0, replace=False, n_samples=n_per_class, random_state=42)\n",
    "idx_sampled_1 = resample(idx_class_1, replace=False, n_samples=n_per_class, random_state=42)\n",
    "sampled_idx = np.concatenate([idx_sampled_0, idx_sampled_1])\n",
    "np.random.shuffle(sampled_idx)\n",
    "\n",
    "X = X_full_df.loc[sampled_idx]\n",
    "y = y_full.loc[sampled_idx]\n",
    "\n",
    "# --- Función objetivo para Optuna ---\n",
    "def objective(trial):\n",
    "    params = {\n",
    "        \"learning_rate\": trial.suggest_float(\"learning_rate\", 0.01, 0.3, log=True),\n",
    "        \"num_leaves\": trial.suggest_int(\"num_leaves\", 20, 300),\n",
    "        \"max_depth\": trial.suggest_int(\"max_depth\", 4, 15),\n",
    "        \"min_child_samples\": trial.suggest_int(\"min_child_samples\", 10, 100),\n",
    "        \"subsample\": trial.suggest_float(\"subsample\", 0.6, 1.0),\n",
    "        \"colsample_bytree\": trial.suggest_float(\"colsample_bytree\", 0.6, 1.0),\n",
    "        \"reg_alpha\": trial.suggest_float(\"reg_alpha\", 0.0, 5.0),\n",
    "        \"reg_lambda\": trial.suggest_float(\"reg_lambda\", 0.0, 5.0),\n",
    "        \"n_estimators\": 1000,\n",
    "        \"objective\": \"binary\",\n",
    "        \"metric\": \"auc\",\n",
    "        \"verbosity\": -1\n",
    "    }\n",
    "\n",
    "    skf = StratifiedKFold(n_splits=3, shuffle=True, random_state=42)\n",
    "    aucs = []\n",
    "\n",
    "    for train_idx, valid_idx in skf.split(X, y):\n",
    "        X_train_cv, X_valid_cv = X.iloc[train_idx], X.iloc[valid_idx]\n",
    "        y_train_cv, y_valid_cv = y.iloc[train_idx], y.iloc[valid_idx]\n",
    "\n",
    "        model = LGBMClassifier(**params)\n",
    "        model.fit(\n",
    "            X_train_cv,\n",
    "            y_train_cv,\n",
    "            eval_set=[(X_valid_cv, y_valid_cv)],\n",
    "            callbacks=[early_stopping(30)],\n",
    "        )\n",
    "\n",
    "        y_pred = model.predict_proba(X_valid_cv)[:, 1]\n",
    "        auc = roc_auc_score(y_valid_cv, y_pred)\n",
    "        aucs.append(auc)\n",
    "\n",
    "    return np.mean(aucs)\n",
    "\n",
    "# --- Estudio Optuna ---\n",
    "study = optuna.create_study(direction=\"maximize\", pruner=MedianPruner(n_warmup_steps=5))\n",
    "study.optimize(objective, n_trials=50, timeout=1800)  # 50 trials o 30 minutos\n",
    "\n",
    "# --- Resultados ---\n",
    "print(f\"\\n Mejor AUC para {event}: {study.best_value:.4f}\")\n",
    "print(\" Mejores hiperparámetros:\")\n",
    "print(study.best_params)"
   ]
  },
  {
   "cell_type": "code",
   "execution_count": 37,
   "id": "d54458e5-8292-499e-96fc-ae8abfff9eeb",
   "metadata": {
    "scrolled": true
   },
   "outputs": [
    {
     "name": "stdout",
     "output_type": "stream",
     "text": [
      "Entrenando LightGBM para evento: HandStart\n"
     ]
    },
    {
     "name": "stderr",
     "output_type": "stream",
     "text": [
      "C:\\Users\\luciaft\\OneDrive\\Documentos\\TFG\\grasp_and_lift_proyect\\.venv\\Lib\\site-packages\\sklearn\\utils\\validation.py:2739: UserWarning: X does not have valid feature names, but LGBMClassifier was fitted with feature names\n",
      "  warnings.warn(\n"
     ]
    },
    {
     "name": "stdout",
     "output_type": "stream",
     "text": [
      "LightGBM - HandStart: AUC = 0.8603\n",
      "Entrenando LightGBM para evento: FirstDigitTouch\n"
     ]
    },
    {
     "name": "stderr",
     "output_type": "stream",
     "text": [
      "C:\\Users\\luciaft\\OneDrive\\Documentos\\TFG\\grasp_and_lift_proyect\\.venv\\Lib\\site-packages\\sklearn\\utils\\validation.py:2739: UserWarning: X does not have valid feature names, but LGBMClassifier was fitted with feature names\n",
      "  warnings.warn(\n"
     ]
    },
    {
     "name": "stdout",
     "output_type": "stream",
     "text": [
      "LightGBM - FirstDigitTouch: AUC = 0.8935\n",
      "Entrenando LightGBM para evento: BothStartLoadPhase\n"
     ]
    },
    {
     "name": "stderr",
     "output_type": "stream",
     "text": [
      "C:\\Users\\luciaft\\OneDrive\\Documentos\\TFG\\grasp_and_lift_proyect\\.venv\\Lib\\site-packages\\sklearn\\utils\\validation.py:2739: UserWarning: X does not have valid feature names, but LGBMClassifier was fitted with feature names\n",
      "  warnings.warn(\n"
     ]
    },
    {
     "name": "stdout",
     "output_type": "stream",
     "text": [
      "LightGBM - BothStartLoadPhase: AUC = 0.8945\n",
      "Entrenando LightGBM para evento: LiftOff\n"
     ]
    },
    {
     "name": "stderr",
     "output_type": "stream",
     "text": [
      "C:\\Users\\luciaft\\OneDrive\\Documentos\\TFG\\grasp_and_lift_proyect\\.venv\\Lib\\site-packages\\sklearn\\utils\\validation.py:2739: UserWarning: X does not have valid feature names, but LGBMClassifier was fitted with feature names\n",
      "  warnings.warn(\n"
     ]
    },
    {
     "name": "stdout",
     "output_type": "stream",
     "text": [
      "LightGBM - LiftOff: AUC = 0.8987\n",
      "Entrenando LightGBM para evento: Replace\n"
     ]
    },
    {
     "name": "stderr",
     "output_type": "stream",
     "text": [
      "C:\\Users\\luciaft\\OneDrive\\Documentos\\TFG\\grasp_and_lift_proyect\\.venv\\Lib\\site-packages\\sklearn\\utils\\validation.py:2739: UserWarning: X does not have valid feature names, but LGBMClassifier was fitted with feature names\n",
      "  warnings.warn(\n"
     ]
    },
    {
     "name": "stdout",
     "output_type": "stream",
     "text": [
      "LightGBM - Replace: AUC = 0.8898\n",
      "Entrenando LightGBM para evento: BothReleased\n"
     ]
    },
    {
     "name": "stderr",
     "output_type": "stream",
     "text": [
      "C:\\Users\\luciaft\\OneDrive\\Documentos\\TFG\\grasp_and_lift_proyect\\.venv\\Lib\\site-packages\\sklearn\\utils\\validation.py:2739: UserWarning: X does not have valid feature names, but LGBMClassifier was fitted with feature names\n",
      "  warnings.warn(\n"
     ]
    },
    {
     "name": "stdout",
     "output_type": "stream",
     "text": [
      "LightGBM - BothReleased: AUC = 0.8651\n"
     ]
    }
   ],
   "source": [
    "from lightgbm import LGBMClassifier\n",
    "from sklearn.metrics import roc_auc_score\n",
    "import numpy as np\n",
    "\n",
    "\n",
    "# Función para evaluar el modelo por evento\n",
    "def evaluate_model(model, X_train, y_train, X_valid, y_valid, model_name=\"Model\"):\n",
    "    results = {}\n",
    "    for event in y_train.columns:\n",
    "        print(f\"Entrenando {model_name} para evento: {event}\")\n",
    "        model.fit(X_train, y_train[event])\n",
    "        y_pred_proba = model.predict_proba(X_valid)[:, 1]\n",
    "        auc = roc_auc_score(y_valid[event], y_pred_proba)\n",
    "        results[event] = auc\n",
    "        print(f\"{model_name} - {event}: AUC = {auc:.4f}\")\n",
    "    return results\n",
    "\n",
    "# Crear el modelo con los hiperparámetros\n",
    "lgbm_final = LGBMClassifier(**study.best_params)\n",
    "\n",
    "# Evaluar sobre todos los eventos\n",
    "lgbm_final_results = evaluate_model(\n",
    "    lgbm_final, X_train_scaled, y_train_win, X_valid_scaled, y_valid_win, model_name=\"LightGBM\"\n",
    ")"
   ]
  },
  {
   "cell_type": "markdown",
   "id": "0a92d52d-e8a0-4cbd-979d-d8886db68c2b",
   "metadata": {},
   "source": [
    "  "
   ]
  },
  {
   "cell_type": "markdown",
   "id": "21c9b0cd-fac9-4cbc-a026-17d76b4688b4",
   "metadata": {},
   "source": [
    "## Conclusión Final\n",
    "\n",
    "### Rendimiento inesperado tras la optimización\n",
    "\n",
    "A pesar de aplicar técnicas de optimización de hiperparámetros (Optuna) sobre LightGBM utilizando validación cruzada estratificada, los modelos obtenidos **no superaron el rendimiento del modelo entrenado con parámetros por defecto** (`n_estimators=100`, `random_state=42`). Esto sugiere que el modelo base ya se encontraba cerca de su óptimo para este conjunto de datos, bien estructurado y con características eficaces.\n",
    "\n",
    "Los modelos optimizados tendieron a:\n",
    "- Sobreajustarse a los folds de validación cruzada\n",
    "- Utilizar combinaciones innecesariamente complejas\n",
    "- Perder generalización en el conjunto de validación final\n",
    "\n",
    "Este hallazgo refuerza la idea de que, en conjuntos de datos con alto volumen y buena ingeniería de características, **los modelos simples pueden ser tan eficaces como los altamente optimizados**. Por ello, se mantendrá la versión base de LightGBM como referencia competitiva frente a Regresión Logística y MLP.\n"
   ]
  }
 ],
 "metadata": {
  "kernelspec": {
   "display_name": "Python 3 (ipykernel)",
   "language": "python",
   "name": "python3"
  },
  "language_info": {
   "codemirror_mode": {
    "name": "ipython",
    "version": 3
   },
   "file_extension": ".py",
   "mimetype": "text/x-python",
   "name": "python",
   "nbconvert_exporter": "python",
   "pygments_lexer": "ipython3",
   "version": "3.13.2"
  }
 },
 "nbformat": 4,
 "nbformat_minor": 5
}
