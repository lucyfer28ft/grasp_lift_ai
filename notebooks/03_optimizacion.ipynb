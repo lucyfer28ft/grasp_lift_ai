{
 "cells": [
  {
   "cell_type": "markdown",
   "id": "4bd86412-c2e1-4686-b887-d066232c045e",
   "metadata": {},
   "source": [
    "# **Optimización de Regresión Logística - `03_optimizacion.ipynb`**\n",
    "\n",
    "## 🎯 Objetivo  \n",
    "En este notebook, optimizaremos la **Regresión Logística**, el modelo que ha mostrado mejor desempeño en la fase de modelado. Ajustaremos su hiperparámetro **C (regularización)** para mejorar su capacidad predictiva sin sobreajustar.  \n",
    "\n",
    "### ⚙️ Estrategia de Optimización  \n",
    "Para encontrar el mejor `C`, realizaremos los siguientes pasos:  \n",
    "\n",
    "1️⃣ **Cargar los datos preprocesados** desde `02_modelado.ipynb`.  \n",
    "2️⃣ **Definir un conjunto de valores de `C`** para evaluar.  \n",
    "3️⃣ **Usar GridSearchCV** para probar distintos valores con validación cruzada (`cv=5`).  \n",
    "4️⃣ **Comparar los valores de AUC-ROC** y seleccionar el mejor `C`.  \n",
    "5️⃣ **Aplicar el mejor modelo a todos los eventos** y analizar su rendimiento.  \n",
    " \n",
    "Una vez optimizada la Regresión Logística, compararemos los resultados con el modelo sin optimizar y evaluaremos si es necesario probar modelos más avanzados en futuras iteraciones o mejorar el preprocesamiento de los datos."
   ]
  },
  {
   "cell_type": "markdown",
   "id": "7297c62a-7090-4ee7-a267-3faeb75c730d",
   "metadata": {},
   "source": [
    "      "
   ]
  },
  {
   "cell_type": "markdown",
   "id": "704eca4f-8fb3-4a5b-ab44-3f308cd68649",
   "metadata": {},
   "source": [
    "     "
   ]
  },
  {
   "cell_type": "markdown",
   "id": "ec885b67-6ff0-4063-af56-3a29d3722352",
   "metadata": {},
   "source": [
    "## **1. Carga de Datos Preprocesados**"
   ]
  },
  {
   "cell_type": "code",
   "execution_count": 8,
   "id": "09061311-e9c6-47ce-aec8-0133a2902fe5",
   "metadata": {},
   "outputs": [],
   "source": [
    "import pickle\n",
    "import os\n",
    "import numpy as np\n",
    "import pandas as pd\n",
    "import matplotlib.pyplot as plt\n",
    "from sklearn.linear_model import LogisticRegression\n",
    "from sklearn.model_selection import GridSearchCV\n",
    "from sklearn.metrics import roc_auc_score\n",
    "\n",
    "# Definir la ruta de los datos preprocesados\n",
    "processed_path = r\"C:\\Users\\luciaft\\Documents\\TFG\\TFG\\graspAndLiftDetectionTFGProyect\\data\\processed\"\n",
    "\n",
    "# Cargar los datos preprocesados desde el archivo Pickle\n",
    "with open(os.path.join(processed_path, \"preprocessed_data.pkl\"), \"rb\") as f:\n",
    "    X_train, y_train, X_valid, y_valid = pickle.load(f)"
   ]
  },
  {
   "cell_type": "markdown",
   "id": "e4685621-ee60-4062-aca6-21f376a4bda2",
   "metadata": {},
   "source": [
    "     "
   ]
  },
  {
   "cell_type": "markdown",
   "id": "c054ab1f-7df5-489f-9092-60a4eb3eca6d",
   "metadata": {},
   "source": [
    "      "
   ]
  },
  {
   "cell_type": "markdown",
   "id": "945879af-a421-4699-90b1-97551a09353b",
   "metadata": {},
   "source": [
    "## **2. Definir Conjunto de Valores de `C` para Evaluar**"
   ]
  },
  {
   "cell_type": "markdown",
   "id": "3c5cc929-0345-4a29-a504-e60587db5b9a",
   "metadata": {},
   "source": [
    "El hiperparámetro `C` en **Regresión Logística** controla la **fuerza de la regularización**:  \n",
    "- **Valores bajos de `C` (0.001, 0.01)** → Mayor regularización, evita sobreajuste.  \n",
    "- **Valores altos de `C` (10, 100)** → Menos regularización, permite mayor flexibilidad.  \n",
    "\n",
    "**Para elegir los valores de `C` en `param_grid`, seguimos estas reglas:**  \n",
    "- Probar valores en una **escala logarítmica** para explorar un rango amplio sin hacer demasiadas pruebas.  \n",
    "- Incluir **valores pequeños (0.001, 0.01)** en caso de que el modelo necesite más regularización para evitar sobreajuste.  \n",
    "- Incluir **valores grandes (10, 100)** si el modelo necesita mayor capacidad de ajuste.  \n",
    "- Usar **1 como punto intermedio**, ya que suele ser un buen valor base en muchos problemas.  "
   ]
  },
  {
   "cell_type": "code",
   "execution_count": 9,
   "id": "57ae3f8d-8444-41db-b009-30d211e90247",
   "metadata": {},
   "outputs": [],
   "source": [
    "# Definir un conjunto de valores de C para probar\n",
    "param_grid = {'C': [0.001, 0.01, 0.1, 1, 10, 100]}"
   ]
  },
  {
   "cell_type": "markdown",
   "id": "851f7a26-ab25-4934-afe5-5fd30ac459f2",
   "metadata": {},
   "source": [
    "      "
   ]
  },
  {
   "cell_type": "markdown",
   "id": "5d403f33-3e16-41a0-988e-168a9667b156",
   "metadata": {},
   "source": [
    "      "
   ]
  },
  {
   "cell_type": "markdown",
   "id": "f15f77db-faf1-4b01-80b8-b3124d4ad9e3",
   "metadata": {},
   "source": [
    "## **3. Configurar `GrigSearchCV` y Optimizar en un Evento de Prueba**"
   ]
  },
  {
   "cell_type": "code",
   "execution_count": 10,
   "id": "ba77cd60-40b2-4603-897e-6d4d28a8b6bc",
   "metadata": {},
   "outputs": [
    {
     "name": "stdout",
     "output_type": "stream",
     "text": [
      "Mejor valor de C para HandStart: 0.001\n",
      "Mejor AUC-ROC en validación cruzada: 0.7612\n"
     ]
    }
   ],
   "source": [
    "# Probar con un solo evento primero para ver resultados\n",
    "evento_prueba = \"HandStart\"\n",
    "\n",
    "# Configurar GridSearchCV con validación cruzada (cv=5)\n",
    "grid_search = GridSearchCV(LogisticRegression(max_iter=1000, random_state=42),\n",
    "                           param_grid, scoring='roc_auc', cv=5)\n",
    "\n",
    "# Entrenar GridSearchCV con el evento de prueba\n",
    "grid_search.fit(X_train, y_train[evento_prueba])\n",
    "\n",
    "# Mostrar el mejor hiperparámetro encontrado\n",
    "print(f\"Mejor valor de C para {evento_prueba}: {grid_search.best_params_['C']}\")\n",
    "print(f\"Mejor AUC-ROC en validación cruzada: {grid_search.best_score_:.4f}\")"
   ]
  },
  {
   "cell_type": "markdown",
   "id": "b39aae85-cf5c-4173-b9d9-71c23744118a",
   "metadata": {},
   "source": [
    "### **Análisis de los Resultados**  \n",
    "\n",
    "1. Antes de optimizar (**C=1** por defecto en scikit-learn), la **Regresión Logística** obtuvo un **AUC-ROC de 0.7168** para el evento **HandStart**.  \n",
    "\n",
    "2. Después de la optimización (**GridSearchCV**), el mejor **C** encontrado fue **0.001**, y el nuevo **AUC-ROC en validación cruzada subió a 0.7612**.  \n",
    "\n",
    "#### **Observaciones**  \n",
    "\n",
    "- El modelo mejora con una **regularización más fuerte (`C=0.001`)**.  \n",
    "  Esto sugiere que, sin optimización, la **Regresión Logística** podría estar **ajustando demasiado a los datos de entrenamiento**, lo que reduce su capacidad de generalización.  \n",
    "\n",
    "- El valor óptimo de **C** es **menor de lo esperado**.  \n",
    "  Normalmente, valores más grandes de **C** permiten modelos más flexibles, pero en este caso, el mejor resultado se obtuvo con **mayor regularización**. Esto podría indicar que:  \n",
    "  - Hay **pocas características realmente útiles** y demasiada varianza en los datos.  \n",
    "  - La regularización ayuda a **reducir el ruido en las señales EEG**.  \n",
    "  - El modelo podría estar **sobreajustando sin regularización adecuada**.  \n",
    "&nbsp;\n",
    "- El **AUC-ROC mejora de 0.7168 a 0.7612**.  \n",
    "  Un incremento de **~4.5 puntos en AUC-ROC** sugiere que el ajuste de **C** tiene un **impacto positivo** en la capacidad del modelo para distinguir entre clases.  \n",
    "\n",
    "#### **Estrategia en base a los resultados**  \n",
    "\n",
    "- Aplicar **C=0.001** a **todos los eventos** y comparar los nuevos resultados con los anteriores.  \n",
    "- Ver si **todos los eventos** se benefician de una **mayor regularización** o si algunos necesitan otro valor de **C** más alto.  \n",
    "- Si la **regularización mejora todos los eventos**, podríamos probar valores aún más pequeños de **C (0.0001)** para ver si sigue mejorando.  \n",
    "- Si **C=0.001** solo ayuda en **HandStart** pero no en otros eventos, considerar hacer una **búsqueda de `C` independiente para cada evento**.  "
   ]
  },
  {
   "cell_type": "markdown",
   "id": "0046f2b6-aebf-41ca-8b35-51ff829d4904",
   "metadata": {},
   "source": [
    "       "
   ]
  },
  {
   "cell_type": "markdown",
   "id": "9bd450a0-3bc8-4bd6-aa1c-4bde8d59a29e",
   "metadata": {},
   "source": [
    "        "
   ]
  },
  {
   "cell_type": "markdown",
   "id": "0750261e-8a3f-490e-9840-841744235b82",
   "metadata": {},
   "source": [
    "## **4. Aplicar el Mejor `C` a Todos los Eventos**"
   ]
  },
  {
   "cell_type": "code",
   "execution_count": 11,
   "id": "29992e9e-46e7-461f-b4b3-c6f95c80e909",
   "metadata": {},
   "outputs": [
    {
     "name": "stdout",
     "output_type": "stream",
     "text": [
      "Entrenando Regresión Logística optimizada para el evento: HandStart\n",
      " AUC-ROC para HandStart: 0.7155\n",
      "Entrenando Regresión Logística optimizada para el evento: FirstDigitTouch\n",
      " AUC-ROC para FirstDigitTouch: 0.6894\n",
      "Entrenando Regresión Logística optimizada para el evento: BothStartLoadPhase\n",
      " AUC-ROC para BothStartLoadPhase: 0.6869\n",
      "Entrenando Regresión Logística optimizada para el evento: LiftOff\n",
      " AUC-ROC para LiftOff: 0.7490\n",
      "Entrenando Regresión Logística optimizada para el evento: Replace\n",
      " AUC-ROC para Replace: 0.8460\n",
      "Entrenando Regresión Logística optimizada para el evento: BothReleased\n",
      " AUC-ROC para BothReleased: 0.7998\n"
     ]
    }
   ],
   "source": [
    "# Guardar el mejor valor de C encontrado\n",
    "mejor_C = grid_search.best_params_['C']\n",
    "\n",
    "# Diccionario para guardar los modelos entrenados y los resultados\n",
    "modelos_optimizados = {}\n",
    "resultados_auc_optimizados = {}\n",
    "\n",
    "# Entrenar Regresión Logística optimizada para cada evento\n",
    "for evento in y_train.columns:\n",
    "    print(f\"Entrenando Regresión Logística optimizada para el evento: {evento}\")\n",
    "\n",
    "    # Crear y entrenar el modelo con el mejor C\n",
    "    modelo_opt = LogisticRegression(C=mejor_C, max_iter=1000, random_state=42)\n",
    "    modelo_opt.fit(X_train, y_train[evento])\n",
    "\n",
    "    # Guardar el modelo entrenado\n",
    "    modelos_optimizados[evento] = modelo_opt\n",
    "\n",
    "    # Obtener predicciones de probabilidad\n",
    "    y_pred_proba = modelo_opt.predict_proba(X_valid)[:, 1]\n",
    "\n",
    "    # Calcular AUC-ROC\n",
    "    auc = roc_auc_score(y_valid[evento], y_pred_proba)\n",
    "    resultados_auc_optimizados[evento] = auc\n",
    "\n",
    "    print(f\" AUC-ROC para {evento}: {auc:.4f}\")"
   ]
  },
  {
   "cell_type": "markdown",
   "id": "edf8d69c-2960-4144-bb84-ae616c44b7f9",
   "metadata": {},
   "source": [
    "     "
   ]
  },
  {
   "cell_type": "markdown",
   "id": "6abf96f6-6c04-40be-a963-38c3ec0e952e",
   "metadata": {},
   "source": [
    "        "
   ]
  },
  {
   "cell_type": "markdown",
   "id": "9b66b821-7041-47be-b527-1c0b5cf83e66",
   "metadata": {},
   "source": [
    "## **5. Comparación de Modelos Antes vs. Después de Optimización**"
   ]
  },
  {
   "cell_type": "code",
   "execution_count": 14,
   "id": "30471a8e-f35e-435d-9f90-07c9e133bff5",
   "metadata": {},
   "outputs": [
    {
     "data": {
      "text/plain": [
       "<Figure size 1000x500 with 0 Axes>"
      ]
     },
     "metadata": {},
     "output_type": "display_data"
    },
    {
     "data": {
      "image/png": "[encoded data removed]",
      "text/plain": [
       "<Figure size 1000x500 with 1 Axes>"
      ]
     },
     "metadata": {},
     "output_type": "display_data"
    }
   ],
   "source": [
    "# Cargar los resultados originales para comparar\n",
    "models_path = r\"C:\\Users\\luciaft\\Documents\\TFG\\TFG\\graspAndLiftDetectionTFGProyect\\data\\processed\"\n",
    "resultados_originales = pd.read_csv(os.path.join(models_path, \"resultados_auc.csv\"), index_col=0)\n",
    "\n",
    "# Convertir resultados optimizados a DataFrame\n",
    "df_auc_opt = pd.DataFrame.from_dict(resultados_auc_optimizados, orient='index', columns=['Optimizado'])\n",
    "\n",
    "# Unir los resultados originales y los optimizados\n",
    "df_comparacion = resultados_originales.join(df_auc_opt)\n",
    "\n",
    "# Graficar comparativa antes y después de la optimización\n",
    "plt.figure(figsize=(10, 5))\n",
    "df_comparacion.plot(kind=\"bar\", figsize=(10, 5), colormap=\"coolwarm\", edgecolor=\"black\")\n",
    "plt.xlabel(\"Evento\")\n",
    "plt.ylabel(\"AUC-ROC\")\n",
    "plt.title(\"Comparación de AUC-ROC Antes vs. Después de Optimización\")\n",
    "plt.ylim(0.5, 1)\n",
    "plt.xticks(rotation=45)\n",
    "plt.legend(title=\"Modelo\")\n",
    "plt.grid(axis=\"y\", linestyle=\"--\", alpha=0.7)\n",
    "plt.show()"
   ]
  },
  {
   "cell_type": "markdown",
   "id": "4d1be610-ce11-445b-b07e-6662a0058005",
   "metadata": {},
   "source": [
    "### **Análisis de los Resultados tras la Optimización**  \n",
    "\n",
    "Los resultados muestran que la optimización de `C` **no ha mejorado el rendimiento en todos los eventos**. Aunque hubo una ligera mejora en algunos (`Replace`, `BothReleased`), otros como `HandStart` y `FirstDigitTouch` no han mejorado o incluso han empeorado.  \n",
    "\n",
    "#### **Comparación Antes vs. Después de la Optimización**  \n",
    "\n",
    "| Evento                | AUC-ROC Antes | AUC-ROC Después (`C=0.001`) | Cambio |\n",
    "|-----------------------|--------------|----------------------------|--------|\n",
    "| **HandStart**         | 0.7168       | 0.7155                     | 🔽 -0.0013 |\n",
    "| **FirstDigitTouch**   | 0.6901       | 0.6894                     | 🔽 -0.0007 |\n",
    "| **BothStartLoadPhase**| 0.6854       | 0.6869                     | 🔼 +0.0015 |\n",
    "| **LiftOff**           | 0.7473       | 0.7490                     | 🔼 +0.0017 |\n",
    "| **Replace**          | 0.8366       | 0.8460                     | 🔼 +0.0094 |\n",
    "| **BothReleased**      | 0.7932       | 0.7998                     | 🔼 +0.0066 |\n",
    "\n",
    "#### **¿Por qué el AUC-ROC no coincide con lo obtenido en GridSearchCV?**  \n",
    "1. **Diferencias entre validación cruzada y validación final**  \n",
    "   - GridSearchCV calcula el AUC-ROC como **promedio en diferentes pliegues de `X_train`**, mientras que la validación final se hace sobre `X_valid`.  \n",
    "   - Esto puede generar **valores diferentes**, especialmente si `X_valid` tiene características distintas.  \n",
    "&nbsp; \n",
    "2. **Posible sobreajuste en GridSearchCV**  \n",
    "   - Es posible que el modelo haya **aprendido bien en los pliegues de entrenamiento**, pero que la regularización **excesiva con `C=0.001`** haya reducido su capacidad de generalización en validación final.  \n",
    "&nbsp; \n",
    "3. **Variabilidad en los datos EEG**  \n",
    "   - Las señales EEG son ruidosas, y puede que la distribución de `X_valid` **no sea idéntica** a la de `X_train`.  \n",
    "&nbsp; \n",
    "4. **Regularización excesiva en algunos eventos**  \n",
    "   - Aunque `C=0.001` fue el mejor en validación cruzada, en validación final algunos eventos pueden requerir **valores más altos de `C`**.  \n",
    "\n",
    "#### **Próximos Pasos**  \n",
    "- **Optimizar `C` individualmente para cada evento en lugar de usar el mismo valor para todos.**  \n",
    "- **Ampliar la búsqueda de `C`** incluyendo valores intermedios como `0.005`, `0.01`, `0.05`, `0.1`, `1`, `10`.  \n",
    "- **Comparar los resultados de GridSearchCV con validación final** para detectar posibles problemas de sobreajuste.  \n",
    "- **Si la optimización de `C` no mejora significativamente, probar modelos más complejos (`XGBoost`, `LightGBM`).**  "
   ]
  },
  {
   "cell_type": "markdown",
   "id": "959c463a-dc78-46b2-a8c5-63983057efe5",
   "metadata": {},
   "source": [
    "      "
   ]
  },
  {
   "cell_type": "markdown",
   "id": "28a10912-14c0-4777-9eb6-47a90702b775",
   "metadata": {},
   "source": [
    "      "
   ]
  },
  {
   "cell_type": "markdown",
   "id": "49cbd123-da0c-4369-b76d-f833a57a95e1",
   "metadata": {},
   "source": [
    "## **6. Optimizar `C` Individualmente por Evento**"
   ]
  },
  {
   "cell_type": "code",
   "execution_count": 16,
   "id": "e016f089-006e-45c5-97d8-7bb665c6bbf7",
   "metadata": {},
   "outputs": [
    {
     "name": "stdout",
     "output_type": "stream",
     "text": [
      "\n",
      " Optimizando C para el evento: HandStart\n",
      "Mejor C para HandStart: 0.001\n",
      "AUC-ROC en validación final: 0.7155\n",
      "\n",
      " Optimizando C para el evento: FirstDigitTouch\n",
      "Mejor C para FirstDigitTouch: 0.001\n",
      "AUC-ROC en validación final: 0.6894\n",
      "\n",
      " Optimizando C para el evento: BothStartLoadPhase\n",
      "Mejor C para BothStartLoadPhase: 0.001\n",
      "AUC-ROC en validación final: 0.6869\n",
      "\n",
      " Optimizando C para el evento: LiftOff\n",
      "Mejor C para LiftOff: 0.0001\n",
      "AUC-ROC en validación final: 0.7477\n",
      "\n",
      " Optimizando C para el evento: Replace\n",
      "Mejor C para Replace: 0.001\n",
      "AUC-ROC en validación final: 0.8460\n",
      "\n",
      " Optimizando C para el evento: BothReleased\n",
      "Mejor C para BothReleased: 0.001\n",
      "AUC-ROC en validación final: 0.7998\n"
     ]
    }
   ],
   "source": [
    "from sklearn.model_selection import GridSearchCV\n",
    "import pickle\n",
    "import os\n",
    "\n",
    "# Diccionario para almacenar los mejores valores de C\n",
    "mejores_C = {}\n",
    "\n",
    "# Diccionario para almacenar los modelos optimizados\n",
    "modelos_optimizados = {}\n",
    "\n",
    "# Definir el rango de C a probar\n",
    "param_grid = {'C': [0.0001, 0.001, 0.005, 0.01, 0.05, 0.1, 1, 10]}\n",
    "\n",
    "# Iterar sobre cada evento y aplicar GridSearchCV por separado\n",
    "for evento in y_train.columns:\n",
    "    print(f\"\\n Optimizando C para el evento: {evento}\")\n",
    "\n",
    "    # Configurar GridSearchCV con validación cruzada (cv=5)\n",
    "    grid_search = GridSearchCV(LogisticRegression(max_iter=1000, random_state=42),\n",
    "                               param_grid, scoring='roc_auc', cv=5)\n",
    "\n",
    "    # Entrenar GridSearchCV para el evento actual\n",
    "    grid_search.fit(X_train, y_train[evento])\n",
    "\n",
    "    # Guardar el mejor C encontrado\n",
    "    mejores_C[evento] = grid_search.best_params_['C']\n",
    "\n",
    "    # Entrenar el modelo final con el mejor C\n",
    "    modelo_opt = LogisticRegression(C=mejores_C[evento], max_iter=1000, random_state=42)\n",
    "    modelo_opt.fit(X_train, y_train[evento])\n",
    "\n",
    "    # Guardar el modelo optimizado\n",
    "    modelos_optimizados[evento] = modelo_opt\n",
    "\n",
    "    # Evaluar en el conjunto de validación final\n",
    "    y_pred_proba = modelo_opt.predict_proba(X_valid)[:, 1]\n",
    "    auc_final = roc_auc_score(y_valid[evento], y_pred_proba)\n",
    "\n",
    "    print(f\"Mejor C para {evento}: {mejores_C[evento]}\")\n",
    "    print(f\"AUC-ROC en validación final: {auc_final:.4f}\")"
   ]
  },
  {
   "cell_type": "markdown",
   "id": "171e6443-91a9-4e9b-a331-afc0263ca2f3",
   "metadata": {},
   "source": [
    "         "
   ]
  },
  {
   "cell_type": "markdown",
   "id": "7fff8548-ab0d-4078-8828-cec1afaf9202",
   "metadata": {},
   "source": [
    "       "
   ]
  },
  {
   "cell_type": "markdown",
   "id": "81af8ca7-00f8-40d1-90c7-c1e3e35156ed",
   "metadata": {},
   "source": [
    "### **Análisis Final y Decisión sobre los Próximos Pasos**\n",
    "\n",
    "Los resultados muestran que **optimizar `C` individualmente para cada evento no generó mejoras significativas**, lo que sugiere que **la Regresión Logística podría estar alcanzando su límite de rendimiento con las características actuales**. \n",
    "\n",
    "#### **🔹 ¿Por qué la optimización de `C` no generó grandes mejoras?**\n",
    "- **La validación cruzada ya había identificado `C=0.001` como el mejor en casi todos los casos.**  \n",
    "   - Volver a optimizar por separado no hizo una gran diferencia porque **los datos no cambiaron**.  \n",
    "&nbsp; \n",
    "- **Las señales EEG pueden no ser linealmente separables.**  \n",
    "   - La Regresión Logística es un **modelo lineal**, por lo que si los eventos no pueden separarse bien con una frontera lineal, **ajustar `C` no cambiará mucho los resultados**.  \n",
    "&nbsp; \n",
    "- **Pequeñas variaciones en AUC-ROC pueden deberse a diferencias entre la validación cruzada y la validación final.**  \n",
    "   - `GridSearchCV` evalúa en **subconjuntos de `X_train`**, mientras que la validación final usa `X_valid`, que **puede tener una distribución ligeramente diferente**.  \n",
    "&nbsp; \n",
    "- **El preprocesamiento y la selección de características podrían estar limitando el modelo.**  \n",
    "   - **Si hay demasiadas características irrelevantes o ruido en las señales EEG**, la regularización (`C`) no será suficiente para mejorar el rendimiento.  \n",
    "\n",
    "---\n",
    "\n",
    "Para seguir mejorando, tenemos dos opciones:  \n",
    "1️⃣ **Probar modelos más avanzados (`XGBoost`, `LightGBM`)**  \n",
    "2️⃣ **Revisar el preprocesamiento y analizar la importancia de las características**  \n",
    "\n",
    "### **¿Por qué priorizamos la mejora del preprocesamiento antes de probar nuevos modelos?**\n",
    "El análisis exploratorio realizado en `01_preprocesamiento.ipynb` reveló varias características de los datos EEG que podrían estar afectando el rendimiento del modelo:\n",
    "\n",
    "- **Las señales EEG tienen una gran variabilidad y valores extremos**, lo que podría introducir ruido en los modelos.  \n",
    "- **Existen sesgos en la distribución de algunos electrodos**, lo que indica que ciertas señales podrían estar dominando el aprendizaje del modelo.  \n",
    "- **Algunos electrodos presentan valores extremos y diferencias notables entre regiones cerebrales**, lo que sugiere que no todas las características son igualmente informativas.  \n",
    "\n",
    "**Si estos problemas están afectando la clasificación, probar modelos más complejos sin abordar primero la calidad de los datos podría no ser la mejor estrategia.**  \n",
    "\n",
    "---\n",
    "\n",
    "### **Próximos Pasos: Análisis de Características**\n",
    "Dado que la Regresión Logística no mejoró significativamente con la optimización de `C`, el siguiente paso será **revisar la relevancia de las características y reducir el ruido en los datos**.  \n",
    "\n",
    "#### **Objetivos del Análisis en `04_analisis_caracteristicas.ipynb`**\n",
    "✅ 1️⃣ **Evaluar la importancia de cada electrodo en la clasificación de eventos EEG.**  \n",
    "✅ 2️⃣ **Aplicar selección de características para eliminar señales poco relevantes o ruidosas.**  \n",
    "✅ 3️⃣ **Explorar técnicas como PCA o análisis de varianza para reducir dimensionalidad.**  \n",
    "✅ 4️⃣ **Comparar si la Regresión Logística mejora con un subconjunto optimizado de características.**  \n",
    "\n",
    "Si tras este análisis las mejoras siguen siendo limitadas, entonces avanzaremos con **modelos más avanzados (`XGBoost`, `LightGBM`) en `05_modelado_avanzado.ipynb`**.  \n",
    "\n",
    "---\n",
    "**Procedemos con `04_analisis_caracteristicas.ipynb` para mejorar la calidad de los datos antes de probar modelos más complejos.**  "
   ]
  }
 ],
 "metadata": {
  "kernelspec": {
   "display_name": "Python 3 (ipykernel)",
   "language": "python",
   "name": "python3"
  },
  "language_info": {
   "codemirror_mode": {
    "name": "ipython",
    "version": 3
   },
   "file_extension": ".py",
   "mimetype": "text/x-python",
   "name": "python",
   "nbconvert_exporter": "python",
   "pygments_lexer": "ipython3",
   "version": "3.13.2"
  }
 },
 "nbformat": 4,
 "nbformat_minor": 5
}
