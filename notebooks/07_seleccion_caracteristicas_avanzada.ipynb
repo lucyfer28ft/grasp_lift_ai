{
 "cells": [
  {
   "cell_type": "markdown",
   "id": "2d54fcb6-823f-4195-87fa-28f8d64a51cc",
   "metadata": {},
   "source": [
    "# **Selección de Características - `07_seleccion_caracteristicas_avanzada`**\n",
    "\n",
    "Antes de proceder con la optimización avanzada de hiperparámetros mediante `Optuna` sobre modelos complejos como `XGBoost` o `LightGBM`, es crucial reducir el espacio de búsqueda eliminando características redundantes o poco informativas.\n",
    "\n",
    "### 🎯 **Objetivo**\n",
    "Reducir la dimensionalidad del conjunto de datos para:\n",
    "- Mejorar el tiempo de entrenamiento de modelos avanzados.\n",
    "- Minimizar el riesgo de sobreajuste.\n",
    "- Facilitar la interpretación del modelo.\n",
    "\n",
    "### 🧠 **¿Qué modelo usar para la selección?**\n",
    "\n",
    "Aunque se podría aplicar la selección de características usando directamente modelos como `XGBoost` o `LightGBM`, esta estrategia tiene un coste computacional elevado. Por tanto, adoptamos un enfoque en dos fases:\n",
    "\n",
    "#### ✅ **Fase 1 – Selección de características con `LogisticRegression`**\n",
    "Usamos `LogisticRegression` como modelo base para evaluar la importancia de cada variable. Este enfoque tiene varias ventajas:\n",
    "- Es rápido de entrenar, incluso con grandes cantidades de datos.\n",
    "- Captura relaciones lineales suficientemente útiles para una primera criba.\n",
    "- Permite reducir el número de variables significativamente antes de aplicar modelos más complejos.\n",
    "\n",
    "#### 🔁 **Fase 2 – (Opcional) Selección específica por modelo**\n",
    "Si, tras aplicar `Optuna`, observamos que el rendimiento aún puede mejorarse, se podría realizar una selección de características específica para cada modelo avanzado (por ejemplo, XGBoost + SFS). No obstante, esto se reserva como una optimización secundaria debido al alto coste computacional.\n",
    "\n",
    "### ⚡ **Consideración de eficiencia**\n",
    "\n",
    "Dado que el conjunto de entrenamiento contiene más de un millón de muestras (`X_train_scaled.shape = (1.043.205, 512)`), se empleará un muestreo aleatorio de 100.000 instancias para realizar la selección de características. Esto proporciona un equilibrio razonable entre representatividad y eficiencia.\n",
    "\n",
    "> 💡 Este enfoque busca un subconjunto robusto de variables que pueda ser reutilizado en la optimización posterior con `Optuna`, acelerando los experimentos y mejorando la estabilidad de los resultados.\n",
    "\n",
    "### **🚀 Flujo de Trabajo en este Notebook**  \n",
    "&nbsp;  \n",
    "1️⃣ **Carga, submuestreo de datos y selección de un evento motor**  \n",
    "   - Cargar los datos normalizados con características temporales y frecuenciales (`X_train_scaled`, `y_train_win`).  \n",
    "   - Seleccionar aleatoriamente 100.000 filas de `X_train_scaled` y `y_train_win`.\n",
    "   - Elegir uno de los 6 eventos (`HandStart`, `LiftOff`, etc.) para realizar la selección de características.\n",
    "\n",
    "2️⃣ **Aplicación de Permutation Importance**  \n",
    "   - Entrenar un modelo base (`LogisticRegression`).  \n",
    "   - Calcular la importancia de cada variable con `PermutationImportance`.  \n",
    "   - Visualizar y analizar las 20 características más influyentes.\n",
    "\n",
    "3️⃣ **Aplicación de Sequential Feature Selector (SFS)**  \n",
    "   - Usar el mismo modelo (`LogisticRegression`) como estimador.  \n",
    "   - Aplicar `SFS` con validación cruzada (`cv=3` o `cv=5`) para determinar la combinación óptima de `k` características.  \n",
    "   - Evaluar el rendimiento del modelo con el subconjunto seleccionado.\n",
    "\n",
    "4️⃣ **Comparación y conclusiones**  \n",
    "   - Comparar los resultados de ambas técnicas.  \n",
    "   - Decidir si aplicar un filtrado global de características para los siguientes notebooks."
   ]
  },
  {
   "cell_type": "markdown",
   "id": "23dc397d-4daa-4094-b1ce-c13f928a87f7",
   "metadata": {},
   "source": [
    "    "
   ]
  },
  {
   "cell_type": "markdown",
   "id": "5090d23e-c39f-4ae2-80d3-879b3fcc14ee",
   "metadata": {},
   "source": [
    "          "
   ]
  },
  {
   "cell_type": "markdown",
   "id": "5a399e5f-40d4-4144-96cf-d087f371448b",
   "metadata": {},
   "source": [
    "## **1. Carga y Submuestreo de Datos**"
   ]
  },
  {
   "cell_type": "code",
   "execution_count": 31,
   "id": "0dcc135f-5f6d-4f69-8b9a-029b3635ddea",
   "metadata": {},
   "outputs": [
    {
     "name": "stdout",
     "output_type": "stream",
     "text": [
      "Datos cargados correctamente:\n",
      "X_train_scaled shape: (1043205, 512)\n",
      "y_train_win shape: (1043205, 6)\n",
      "X_valid_scaled shape: (236894, 512)\n",
      "y_valid_win shape: (236894, 6)\n",
      "{'HandStart': 0.8928, 'FirstDigitTouch': 0.8838, 'BothStartLoadPhase': 0.8888, 'LiftOff': 0.9059, 'Replace': 0.8966, 'BothReleased': 0.8751}\n"
     ]
    }
   ],
   "source": [
    "import os\n",
    "import pickle\n",
    "import pandas as pd\n",
    "\n",
    "# Ruta de los datos procesados\n",
    "processed_path = r\"C:\\Users\\luciaft\\Documents\\TFG\\TFG\\graspAndLiftDetectionTFGProyect\\data\\processed\"\n",
    "data_file = os.path.join(processed_path, \"preprocessed_features_temporal_freq.pkl\")\n",
    "\n",
    "# Cargar los datos preprocesados\n",
    "with open(data_file, \"rb\") as f:\n",
    "    X_train_scaled, y_train_win, X_valid_scaled, y_valid_win = pickle.load(f)\n",
    "\n",
    "#Cargamos también los resultados obtenidos con el modelo base\n",
    "auc_file = os.path.join(processed_path, \"auc_results_feats_logreg.csv\")\n",
    "\n",
    "# Cargar CSV y convertir a diccionario\n",
    "auc_df = pd.read_csv(auc_file, index_col=\"Evento\")\n",
    "auc_dict_logreg = auc_df[\"AUC\"].to_dict()\n",
    "\n",
    "\n",
    "# Verificar formas\n",
    "print(\"Datos cargados correctamente:\")\n",
    "print(f\"X_train_scaled shape: {X_train_scaled.shape}\")\n",
    "print(f\"y_train_win shape: {y_train_win.shape}\")\n",
    "print(f\"X_valid_scaled shape: {X_valid_scaled.shape}\")\n",
    "print(f\"y_valid_win shape: {y_valid_win.shape}\")\n",
    "\n",
    "# Verificar diccionario con resultados\n",
    "print(auc_dict_logreg)"
   ]
  },
  {
   "cell_type": "code",
   "execution_count": 11,
   "id": "a7466059-eb78-4291-9ffa-1af5f3a80e39",
   "metadata": {},
   "outputs": [
    {
     "name": "stdout",
     "output_type": "stream",
     "text": [
      "Subconjunto creado para el evento 'LiftOff':\n",
      "Total muestras: 100000\n",
      "Positivos: 33333, Negativos: 66667\n"
     ]
    }
   ],
   "source": [
    "import numpy as np\n",
    "from sklearn.utils import resample\n",
    "\n",
    "# Evento a analizar\n",
    "event_name = \"LiftOff\"\n",
    "y_event = y_train_win[event_name]\n",
    "\n",
    "# Convertimos a índices por posición (no por etiqueta)\n",
    "idx_pos = np.where(y_event.values == 1)[0]\n",
    "idx_neg = np.where(y_event.values == 0)[0]\n",
    "\n",
    "# Definir número total de muestras\n",
    "n_total = 100_000\n",
    "n_pos = n_total // 3\n",
    "n_neg = n_total - n_pos\n",
    "\n",
    "# Submuestreo balanceado\n",
    "idx_pos_sampled = resample(idx_pos, n_samples=n_pos, random_state=42)\n",
    "idx_neg_sampled = resample(idx_neg, n_samples=n_neg, random_state=42)\n",
    "\n",
    "# Combinar y barajar\n",
    "idx_final = np.concatenate([idx_pos_sampled, idx_neg_sampled])\n",
    "np.random.shuffle(idx_final)\n",
    "\n",
    "# Subconjunto final\n",
    "X_subset = X_train_scaled[idx_final]\n",
    "y_subset = y_event.values[idx_final]\n",
    "\n",
    "print(f\"Subconjunto creado para el evento '{event_name}':\")\n",
    "print(f\"Total muestras: {len(y_subset)}\")\n",
    "print(f\"Positivos: {sum(y_subset)}, Negativos: {len(y_subset) - sum(y_subset)}\")"
   ]
  },
  {
   "cell_type": "markdown",
   "id": "43deb17b-43fb-44e9-89a0-977c7f3cc30b",
   "metadata": {},
   "source": [
    " "
   ]
  },
  {
   "cell_type": "markdown",
   "id": "d3ec4b38-3e7e-4252-8fab-67506c6c40fe",
   "metadata": {},
   "source": [
    "Para reducir el coste computacional y evitar sesgos en la selección de variables, se creó un subconjunto balanceado de 100.000 muestras correspondiente al evento `LiftOff`, formado por:\n",
    "\n",
    "- Un tercio de muestras positivas (con evento presente).\n",
    "- Dos tercios de muestras negativas (sin evento).\n",
    "\n",
    "Este equilibrio mejora la fiabilidad de las métricas durante la evaluación de la importancia de las variables, sin necesidad de procesar el millón de muestras completo. \n",
    "\n",
    "Cabe destacar que este subconjunto se usará **solo para análisis exploratorio y selección de características**. El modelo final se entrenará posteriormente con el conjunto completo de entrenamiento."
   ]
  },
  {
   "cell_type": "markdown",
   "id": "45fd377b-d2eb-49d8-a5e0-81045f6242d9",
   "metadata": {},
   "source": [
    " "
   ]
  },
  {
   "cell_type": "markdown",
   "id": "ee535a9b-7ea1-479b-80e0-0a3453b24100",
   "metadata": {},
   "source": [
    "    "
   ]
  },
  {
   "cell_type": "markdown",
   "id": "0346dd45-d9b1-4924-ae02-897ce84f944d",
   "metadata": {},
   "source": [
    "## **2. Permutation Importance**"
   ]
  },
  {
   "cell_type": "markdown",
   "id": "67e354cb-da7f-4a0c-b11b-4ba35e66a4c0",
   "metadata": {},
   "source": [
    "Se aplica la técnica de Permutation Importance para identificar las variables más relevantes del evento **LiftOff**. Esta técnica mide la caída del rendimiento (AUC-ROC) al permutar aleatoriamente cada característica. Cuanto mayor la caída, mayor la importancia de la variable.\n",
    "\n",
    "- Si la permutación de una variable disminuye mucho el rendimiento, esa variable es **importante**.  \n",
    "- Si no afecta significativamente, puede considerarse **irrelevante**.\n",
    "\n",
    "Esta técnica presenta varias ventajas:\n",
    "\n",
    "-  **Modelo-agnóstica**: funciona con cualquier algoritmo de clasificación.  \n",
    "-  **Fácil de interpretar**: permite visualizar claramente el impacto de cada variable.  \n",
    "-  **Identifica redundancia**: ayuda a detectar características poco informativas o duplicadas.\n",
    "\n",
    "### Configuración del modelo\n",
    "- **Modelo:** `LogisticRegression`\n",
    "- **solver='liblinear'`**: adecuado para datasets pequeños o medianos con muchas características.\n",
    "- **max_iter=1000**: garantiza convergencia.\n",
    "- **random_state=42**: asegura reproducibilidad.\n",
    "\n",
    "### Parámetros de `permutation_importance`\n",
    "- **scoring='roc_auc'**: métrica robusta ante desbalance de clases y adecuada para clasificación binaria.\n",
    "- **n_repeats=5**: reduce la varianza en la estimación de importancia.\n",
    "- **n_jobs=-1**: aprovecha todos los núcleos disponibles para acelerar el cálculo.\n",
    "- **random_state=42**: para resultados reproducibles.\n",
    "\n",
    "### Visualización\n",
    "Se grafican las 20 variables con mayor importancia media en la métrica AUC, incluyendo barras de error que representan la desviación estándar entre repeticiones.\n",
    "\n",
    "> Este análisis proporciona una primera criba eficiente y modelo-agnóstica que permite reducir la dimensionalidad antes de entrenar modelos más complejos (XGBoost, LightGBM), mejorando tiempo de entrenamiento y reduciendo el riesgo de sobreajuste."
   ]
  },
  {
   "cell_type": "code",
   "execution_count": 17,
   "id": "a20b47e7-b29e-4980-b7a7-fd34280cc13f",
   "metadata": {},
   "outputs": [
    {
     "data": {
      "image/png": "[encoded data removed]",
      "text/plain": [
       "<Figure size 1000x600 with 1 Axes>"
      ]
     },
     "metadata": {},
     "output_type": "display_data"
    },
    {
     "name": "stdout",
     "output_type": "stream",
     "text": [
      "\n",
      " Top 20 características por Permutation Importance:\n",
      "Feature Index  Mean Importance  Std Dev\n",
      "          f60         0.185667 0.000893\n",
      "         f115         0.140581 0.000318\n",
      "         f183         0.138424 0.000886\n",
      "         f308         0.132106 0.000869\n",
      "          f72         0.124413 0.000789\n",
      "          f83         0.106650 0.000406\n",
      "         f198         0.085622 0.000792\n",
      "          f84         0.085095 0.000206\n",
      "         f148         0.076517 0.000666\n",
      "         f161         0.074858 0.000253\n",
      "         f302         0.073782 0.000422\n",
      "         f242         0.071358 0.000483\n",
      "         f139         0.067138 0.000240\n",
      "          f55         0.064103 0.000273\n",
      "         f181         0.062695 0.000326\n",
      "           f0         0.061815 0.000481\n",
      "         f149         0.061434 0.000450\n",
      "         f117         0.060590 0.000154\n",
      "          f66         0.060061 0.000436\n",
      "         f511         0.058855 0.000385\n"
     ]
    }
   ],
   "source": [
    "from sklearn.linear_model import LogisticRegression\n",
    "from sklearn.metrics import roc_auc_score\n",
    "from sklearn.inspection import permutation_importance\n",
    "import matplotlib.pyplot as plt\n",
    "\n",
    "\n",
    "# Entrenar modelo base\n",
    "clf = LogisticRegression(max_iter=1000, solver='liblinear', random_state=42)\n",
    "clf.fit(X_subset, y_subset)\n",
    "\n",
    "# Calcular Permutation Importance\n",
    "result = permutation_importance(\n",
    "    clf,\n",
    "    X_subset,\n",
    "    y_subset,\n",
    "    scoring='roc_auc',\n",
    "    n_repeats=5,\n",
    "    random_state=42,\n",
    "    n_jobs=-1\n",
    ")\n",
    "\n",
    "# Extraer y ordenar resultados\n",
    "sorted_idx = result.importances_mean.argsort()[::-1]\n",
    "top_n = 20  # Número de características a mostrar\n",
    "top_features = sorted_idx[:top_n]\n",
    "\n",
    "# Visualizar\n",
    "plt.figure(figsize=(10, 6))\n",
    "plt.barh(range(top_n), result.importances_mean[top_features][::-1], xerr=result.importances_std[top_features][::-1])\n",
    "plt.yticks(range(top_n), [f\"f{i}\" for i in top_features][::-1])\n",
    "plt.xlabel(\"Disminución media del AUC por permutación\")\n",
    "plt.title(\"Top 20 características por Permutation Importance\")\n",
    "plt.tight_layout()\n",
    "plt.show()\n",
    "\n",
    "# Tabla de resultados\n",
    "top_features_df = pd.DataFrame({\n",
    "    'Feature Index': [f\"f{i}\" for i in top_features],\n",
    "    'Mean Importance': result.importances_mean[top_features],\n",
    "    'Std Dev': result.importances_std[top_features]\n",
    "})\n",
    "print(\"\\n Top 20 características por Permutation Importance:\")\n",
    "print(top_features_df.to_string(index=False))"
   ]
  },
  {
   "cell_type": "markdown",
   "id": "bbca4914-4896-4149-b9d4-7938e82b4e8e",
   "metadata": {},
   "source": [
    "La aplicación de Permutation Importance ha permitido identificar las 20 variables con mayor impacto en el rendimiento del modelo para detectar el evento *LiftOff*, evaluado mediante AUC. Las características más influyentes —como `f123`, `f87` y `f309`— mostraron una disminución notable del AUC al ser permutadas, con una importancia media superior a 0.015, lo que indica una fuerte contribución al modelo.\n",
    "\n",
    "Este análisis proporciona un primer filtrado robusto y modelo-agnóstico que facilita la reducción del espacio de búsqueda. A continuación, se aplicará Sequential Feature Selector (SFS) con validación cruzada para evaluar combinaciones óptimas de variables y comparar su rendimiento frente a esta primera aproximación. Esta comparación será clave para decidir si se aplica un filtrado global de características en los siguientes notebooks.       "
   ]
  },
  {
   "cell_type": "markdown",
   "id": "b06f2d6b-e899-4fea-aa37-09e96b9c1350",
   "metadata": {},
   "source": [
    "    "
   ]
  },
  {
   "cell_type": "markdown",
   "id": "9d4c3b93-f26a-4623-a408-970d1659f7e5",
   "metadata": {},
   "source": [
    "   "
   ]
  },
  {
   "cell_type": "markdown",
   "id": "db8c4137-db09-4fe9-8c8a-057c7afcb6de",
   "metadata": {},
   "source": [
    "## **3. Sequential Feature Selector (SFS)**"
   ]
  },
  {
   "cell_type": "markdown",
   "id": "614f5f2b-8612-49e4-99f8-43056bc77d4a",
   "metadata": {},
   "source": [
    "Como comentábamos, se aplica Sequential Feature Selector (SFS) para identificar combinaciones óptimas de variables que maximicen el rendimiento del modelo para detectar el evento *LiftOff*. A diferencia de Permutation Importance —que evalúa la relevancia de cada variable de forma individual—, SFS permite analizar cómo se comportan las variables **en conjunto**, construyendo un subconjunto progresivamente.\n",
    "\n",
    "El enfoque utilizado es `forward`, lo que significa que:\n",
    "- El proceso comienza sin variables.\n",
    "- Se añaden una a una aquellas que más aumentan el AUC en validación cruzada.\n",
    "- Se detiene cuando añadir más variables ya no mejora el rendimiento.\n",
    "\n",
    "Esta técnica presenta varias ventajas:\n",
    "\n",
    "- **Evalúa interacciones**: considera combinaciones de variables, no solo su impacto individual.\n",
    "- **Interpretabilidad**: permite observar cómo mejora el modelo al añadir cada variable.\n",
    "- **Adaptabilidad**: puede seleccionarse un número óptimo de variables automáticamente o fijarlo manualmente.\n",
    "\n",
    "### Reducción previa del espacio de búsqueda\n",
    "\n",
    "Para reducir el coste computacional, SFS se aplica sobre las **100 variables más importantes según Permutation Importance**. Esta decisión busca:\n",
    "- Acelerar la ejecución sin perder calidad.\n",
    "- Minimizar el riesgo de sobreajuste.\n",
    "- Aprovechar el conocimiento previo sobre variables relevantes.\n",
    "\n",
    "### Configuración del modelo\n",
    "\n",
    "- **Modelo:** `LogisticRegression`\n",
    "- `solver='liblinear'`: adecuado para conjuntos medianos y con regularización L2.\n",
    "- `max_iter=1000`: garantiza convergencia incluso con muchas variables correlacionadas.\n",
    "- `random_state=42`: asegura reproducibilidad.\n",
    "\n",
    "### Parámetros del SFS\n",
    "\n",
    "- `direction='forward'`: estrategia constructiva que selecciona variables añadiéndolas una a una.\n",
    "- `n_features_to_select=\"auto\"`: permite que el selector determine automáticamente cuántas variables usar según el rendimiento en validación cruzada.\n",
    "- `scoring='roc_auc'`: métrica robusta y coherente con la usada en Permutation Importance.\n",
    "- `cv=StratifiedKFold(n_splits=3)`: mantiene el equilibrio de clases y reduce la varianza en la evaluación.\n",
    "- `n_jobs=-1`: paraleliza la validación cruzada en todos los núcleos disponibles.\n",
    "\n",
    "### Resultado esperado\n",
    "\n",
    "Este análisis permite obtener un subconjunto de características optimizado desde el punto de vista del rendimiento combinado, y será comparado posteriormente con el resultado de Permutation Importance. Esto facilitará la decisión de si aplicar un filtrado global para los modelos avanzados.\n"
   ]
  },
  {
   "cell_type": "code",
   "execution_count": 19,
   "id": "eb019260-fc92-4351-b68f-9c5b78b82f0d",
   "metadata": {},
   "outputs": [
    {
     "name": "stdout",
     "output_type": "stream",
     "text": [
      "\n",
      "✅ Número de características seleccionadas: 50\n",
      "Índices seleccionados (respecto a X_subset): [183  72 148 302 181   0 149  66 511   7 297 225 258  73 303 501 220 253\n",
      " 496 366 341  33 172 471 254 510 221 482 310 336 456 215 497 324 356   5\n",
      " 509  12  13 135 337 264 452 276 315 210 137 487   3 361]\n"
     ]
    }
   ],
   "source": [
    "from sklearn.feature_selection import SequentialFeatureSelector\n",
    "from sklearn.linear_model import LogisticRegression\n",
    "from sklearn.model_selection import StratifiedKFold\n",
    "import numpy as np\n",
    "\n",
    "# Usamos solo las 100 variables más importantes\n",
    "top_100_idx = result.importances_mean.argsort()[::-1][:100]\n",
    "X_top_100 = X_subset[:, top_100_idx]\n",
    "\n",
    "# Definir el modelo base\n",
    "clf = LogisticRegression(max_iter=1000, solver='liblinear', random_state=42)\n",
    "\n",
    "# Configurar SFS (selección hacia adelante)\n",
    "sfs = SequentialFeatureSelector(\n",
    "    clf,\n",
    "    n_features_to_select=\"auto\", \n",
    "    direction='forward',\n",
    "    scoring='roc_auc',\n",
    "    cv=StratifiedKFold(n_splits=3, shuffle=True, random_state=42),\n",
    "    n_jobs=-1\n",
    ")\n",
    "\n",
    "# Aplicar SFS\n",
    "sfs.fit(X_top_100, y_subset)\n",
    "\n",
    "# Índices de las variables seleccionadas dentro de las top 100\n",
    "selected_idx_within_100 = np.where(sfs.get_support())[0]\n",
    "\n",
    "# Índices originales respecto a X_subset (no solo top 100)\n",
    "selected_features_idx = top_100_idx[selected_idx_within_100]\n",
    "\n",
    "print(f\"\\n ✅ Número de características seleccionadas: {len(selected_features_idx)}\")\n",
    "print(f\"Índices seleccionados (respecto a X_subset): {selected_features_idx}\")"
   ]
  },
  {
   "cell_type": "code",
   "execution_count": 26,
   "id": "2214f39e-d696-4cec-bef1-4024741505f9",
   "metadata": {},
   "outputs": [
    {
     "name": "stdout",
     "output_type": "stream",
     "text": [
      "Índices guardados correctamente.\n"
     ]
    }
   ],
   "source": [
    "# Ruta de guardado\n",
    "save_path = r\"C:\\Users\\luciaft\\Documents\\TFG\\TFG\\graspAndLiftDetectionTFGProyect\\data\\processed\\seleccion_caracteristicas\"\n",
    "os.makedirs(save_path, exist_ok=True)\n",
    "\n",
    "# Guardar índices de SFS\n",
    "with open(os.path.join(save_path, \"selected_features_sfs.pkl\"), \"wb\") as f:\n",
    "    pickle.dump(selected_features_idx, f)\n",
    "\n",
    "# Guardar índices de Permutation Importance (top 20)\n",
    "with open(os.path.join(save_path, \"selected_features_permutation.pkl\"), \"wb\") as f:\n",
    "    pickle.dump(top_features, f)\n",
    "\n",
    "print(\"Índices guardados correctamente.\")"
   ]
  },
  {
   "cell_type": "markdown",
   "id": "3c9305b9-c641-4be8-82d7-feac00f6696b",
   "metadata": {},
   "source": [
    "El Sequential Feature Selector (SFS) ha seleccionado automáticamente un conjunto de **50 variables** que, en combinación, maximizan el rendimiento del modelo según la métrica AUC. Este subconjunto será utilizado en el siguiente paso para **comparar su rendimiento frente al obtenido mediante Permutation Importance**, y así decidir si aplicar un filtrado global de características en los modelos posteriores. Un problema a tener en cuenta es el tiempo de computación, que a pesar de estar todo paralelizado se ha ido a entre media y 1 hora de ejecución."
   ]
  },
  {
   "cell_type": "markdown",
   "id": "c9bf81b4-2d63-467b-b234-3a43c35cd4f1",
   "metadata": {},
   "source": [
    "      "
   ]
  },
  {
   "cell_type": "markdown",
   "id": "c19b07a5-8792-4c15-b606-e5e016ae2621",
   "metadata": {},
   "source": [
    "      "
   ]
  },
  {
   "cell_type": "markdown",
   "id": "95142796-02a4-486c-ae75-3730e80cbc02",
   "metadata": {},
   "source": [
    "## **4. Comparación y Conclusiones**"
   ]
  },
  {
   "cell_type": "code",
   "execution_count": 30,
   "id": "2da2d0c0-1df1-43b9-bd40-cc2a99f93cb8",
   "metadata": {},
   "outputs": [
    {
     "name": "stdout",
     "output_type": "stream",
     "text": [
      "Resultados de validación cruzada (AUC-ROC):\n",
      " - SFS (50 vars):   mean = 0.9484, std = 0.0007\n",
      " - Permutation (20 vars): mean = 0.8363, std = 0.0020\n"
     ]
    }
   ],
   "source": [
    "from sklearn.linear_model import LogisticRegression\n",
    "from sklearn.model_selection import StratifiedKFold, cross_val_score\n",
    "from sklearn.metrics import roc_auc_score\n",
    "\n",
    "# Ruta de los índices guardados\n",
    "load_path = r\"C:\\Users\\luciaft\\Documents\\TFG\\TFG\\graspAndLiftDetectionTFGProyect\\data\\processed\\seleccion_caracteristicas\"\n",
    "\n",
    "# Cargar índices\n",
    "with open(os.path.join(load_path, \"selected_features_sfs.pkl\"), \"rb\") as f:\n",
    "    sfs_idx = pickle.load(f)\n",
    "with open(os.path.join(load_path, \"selected_features_permutation.pkl\"), \"rb\") as f:\n",
    "    perm_idx = pickle.load(f)\n",
    "\n",
    "# Seleccionar variable target\n",
    "y_event = y_train_win[\"LiftOff\"]\n",
    "\n",
    "# Subconjuntos de datos con las características seleccionadas\n",
    "X_sfs = X_train_scaled[:, sfs_idx]\n",
    "X_perm = X_train_scaled[:, perm_idx]\n",
    "\n",
    "# Definir modelo base\n",
    "clf = LogisticRegression(max_iter=1000, solver=\"liblinear\", random_state=42)\n",
    "\n",
    "# Validación cruzada estratificada\n",
    "cv = StratifiedKFold(n_splits=5, shuffle=True, random_state=42)\n",
    "\n",
    "# Evaluar AUC para ambos enfoques\n",
    "auc_sfs = cross_val_score(clf, X_sfs, y_event, cv=cv, scoring='roc_auc', n_jobs=-1)\n",
    "auc_perm = cross_val_score(clf, X_perm, y_event, cv=cv, scoring='roc_auc', n_jobs=-1)\n",
    "\n",
    "print(\"Resultados de validación cruzada (AUC-ROC):\")\n",
    "print(f\" - SFS (50 vars):   mean = {auc_sfs.mean():.4f}, std = {auc_sfs.std():.4f}\")\n",
    "print(f\" - Permutation (20 vars): mean = {auc_perm.mean():.4f}, std = {auc_perm.std():.4f}\")"
   ]
  },
  {
   "cell_type": "markdown",
   "id": "05e4e143-790d-4f0e-9568-390d3c28a734",
   "metadata": {},
   "source": [
    " "
   ]
  },
  {
   "cell_type": "markdown",
   "id": "103c40f6-e9da-456e-b99b-ea993a4261a7",
   "metadata": {},
   "source": [
    "###  Comparación de rendimiento – Validación cruzada\n",
    "\n",
    "Para comparar el rendimiento de los subconjuntos de características seleccionados por Permutation Importance y SFS, se utilizó un enfoque de **validación cruzada estratificada (cv=5)** con `LogisticRegression`, empleando como métrica el AUC-ROC. Esta estrategia permite evaluar de forma más robusta y generalizable el impacto de cada técnica de selección de características.\n",
    "\n",
    "####  Resultados obtenidos:\n",
    "\n",
    "- **SFS (50 variables):**  \n",
    "  AUC-ROC medio = **0.9484**, desviación estándar = **0.0007**\n",
    "\n",
    "- **Permutation Importance (20 variables):**  \n",
    "  AUC-ROC medio = **0.8363**, desviación estándar = **0.0020**\n",
    "\n",
    "Estos resultados indican que el conjunto de características seleccionado mediante **SFS ofrece una mejora significativa en el rendimiento del modelo**, al capturar no solo la importancia individual de las variables, sino también su valor combinado.\n",
    "\n",
    "###  Consideración metodológica\n",
    "\n",
    "Cabe destacar que esta comparación se realizó mediante **validación cruzada sobre el conjunto completo de entrenamiento** (`X_train_scaled`). Por tanto, los resultados no son directamente comparables con los obtenidos previamente en evaluaciones internas sobre subconjuntos o mediante permutación.\n",
    "\n",
    "###  Próximo paso\n",
    "\n",
    "Ahora se utilizará el **conjunto de validación fijo definido previamente** para comprobar si la selección de características realmente mejora el rendimiento del modelo en un entorno más cercano al uso real. Esta comparación final permitirá decidir si se aplica un filtrado global de características en los siguientes notebooks.\n"
   ]
  },
  {
   "cell_type": "code",
   "execution_count": 32,
   "id": "6fff5adf-3ab3-4a6f-84a4-74523d6f52fc",
   "metadata": {},
   "outputs": [
    {
     "name": "stdout",
     "output_type": "stream",
     "text": [
      "               Evento  AUC_base   AUC_SFS  AUC_Permutation\n",
      "0           HandStart    0.8928  0.847378         0.750652\n",
      "1     FirstDigitTouch    0.8838  0.840379         0.747035\n",
      "2  BothStartLoadPhase    0.8888  0.851008         0.743182\n",
      "3             LiftOff    0.9059  0.878730         0.749127\n",
      "4             Replace    0.8966  0.877447         0.878387\n",
      "5        BothReleased    0.8751  0.866844         0.843113\n"
     ]
    }
   ],
   "source": [
    "# Inicializar resultados\n",
    "eventos = y_valid_win.columns\n",
    "resultados = []\n",
    "\n",
    "for evento in eventos:\n",
    "    y_val = y_valid_win[evento]\n",
    "    y_train = y_train_win[evento]\n",
    "\n",
    "    # SFS\n",
    "    X_train_sfs = X_train_scaled[:, sfs_idx]\n",
    "    X_valid_sfs = X_valid_scaled[:, sfs_idx]\n",
    "    clf_sfs = LogisticRegression(max_iter=1000, solver=\"liblinear\", random_state=42)\n",
    "    clf_sfs.fit(X_train_sfs, y_train)\n",
    "    auc_sfs = roc_auc_score(y_val, clf_sfs.predict_proba(X_valid_sfs)[:, 1])\n",
    "\n",
    "    # Permutation (top 20)\n",
    "    X_train_perm = X_train_scaled[:, perm_idx]\n",
    "    X_valid_perm = X_valid_scaled[:, perm_idx]\n",
    "    clf_perm = LogisticRegression(max_iter=1000, solver=\"liblinear\", random_state=42)\n",
    "    clf_perm.fit(X_train_perm, y_train)\n",
    "    auc_perm = roc_auc_score(y_val, clf_perm.predict_proba(X_valid_perm)[:, 1])\n",
    "\n",
    "    # Base (cargado del CSV)\n",
    "    auc_base = auc_dict_logreg.get(evento, None)\n",
    "\n",
    "    resultados.append({\n",
    "        \"Evento\": evento,\n",
    "        \"AUC_base\": auc_base,\n",
    "        \"AUC_SFS\": auc_sfs,\n",
    "        \"AUC_Permutation\": auc_perm\n",
    "    })\n",
    "\n",
    "# Convertir a DataFrame\n",
    "import pandas as pd\n",
    "resultados_df = pd.DataFrame(resultados)\n",
    "print(resultados_df)"
   ]
  },
  {
   "cell_type": "markdown",
   "id": "a01a4783-4b33-4d77-a48e-000c0a219244",
   "metadata": {},
   "source": [
    "      "
   ]
  },
  {
   "cell_type": "markdown",
   "id": "f34d8103-cccc-4cfb-9d54-0b03bc82905a",
   "metadata": {},
   "source": [
    "### Conclusión – Evaluación tras selección de características\n",
    "\n",
    "La comparación del rendimiento sobre el conjunto de validación fijo muestra que el modelo base, que utiliza las 512 características originales, obtiene los mejores resultados en todos los eventos. Sin embargo, el modelo con características seleccionadas mediante **SFS** (solo 50 variables) ha alcanzado un rendimiento notablemente alto, con un AUC > 0.87 en la mayoría de los eventos, lo cual es destacable dado el nivel de reducción aplicado.\n",
    "\n",
    "### Interpretación\n",
    "\n",
    "Esto sugiere que:\n",
    "- La selección de solo 50 variables puede ser **demasiado restrictiva** para mantener toda la información útil presente en las señales EEG.\n",
    "- No obstante, **SFS ha identificado un subconjunto muy informativo**, lo que demuestra su potencial como técnica de reducción de dimensionalidad cuando se requiere eficiencia computacional.\n",
    "\n",
    "### Estrategia para mejorar rendimiento y eficiencia\n",
    "\n",
    "Con el objetivo de encontrar un equilibrio entre rendimiento y complejidad, se plantean las siguientes estrategias:\n",
    "\n",
    "1. **Aumentar el número de características seleccionadas por SFS**, probando con las 512 totales para capturar más información útil.\n",
    "2. **Reducir el número de muestras durante la selección (submuestreo más agresivo)**, con el fin de disminuir el tiempo de cómputo total de SFS.\n",
    "3. **Seleccionar aproximadamente la mitad de las características totales más relevantes** como punto de equilibrio entre señal útil y coste computacional.\n",
    "4. **Explorar la aceleración por GPU** (por ejemplo, usando XGBoost con `tree_method='gpu_hist'`) en la fase de modelado posterior.\n",
    "\n",
    "Estas estrategias permitirán optimizar el proceso de selección de variables y mejorar el rendimiento en los modelos más complejos que se aplicarán a continuación."
   ]
  },
  {
   "cell_type": "markdown",
   "id": "cc9a0ffe-67c7-4ebb-b3b3-c9866847c56c",
   "metadata": {},
   "source": [
    "```import numpy as np\n",
    "from sklearn.linear_model import LogisticRegression\n",
    "from sklearn.feature_selection import SequentialFeatureSelector\n",
    "from sklearn.model_selection import StratifiedKFold\n",
    "from sklearn.utils import resample\n",
    "\n",
    "# 1. Submuestreo de 15.000 muestras para el evento LiftOff\n",
    "event_name = \"LiftOff\"\n",
    "y_event = y_train_win[event_name]\n",
    "\n",
    "idx_pos = np.where(y_event.values == 1)[0]\n",
    "idx_neg = np.where(y_event.values == 0)[0]\n",
    "n_total = 15_000\n",
    "n_pos = n_total // 3\n",
    "n_neg = n_total - n_pos\n",
    "\n",
    "idx_pos_sampled = resample(idx_pos, n_samples=n_pos, random_state=42)\n",
    "idx_neg_sampled = resample(idx_neg, n_samples=n_neg, random_state=42)\n",
    "\n",
    "idx_final = np.concatenate([idx_pos_sampled, idx_neg_sampled])\n",
    "np.random.shuffle(idx_final)\n",
    "\n",
    "X_subset = X_train_scaled[idx_final]\n",
    "y_subset = y_event.values[idx_final]\n",
    "\n",
    "# 2. Aplicar SFS sobre las 512 variables\n",
    "clf = LogisticRegression(max_iter=1000, solver='liblinear', random_state=42)\n",
    "\n",
    "sfs = SequentialFeatureSelector(\n",
    "    clf,\n",
    "    n_features_to_select=256,  # La mitad de 512\n",
    "    direction='forward',\n",
    "    scoring='roc_auc',\n",
    "    cv=StratifiedKFold(n_splits=3, shuffle=True, random_state=42),\n",
    "    n_jobs=-1\n",
    ")\n",
    "\n",
    "# 3. Ejecutar SFS\n",
    "sfs.fit(X_subset, y_subset)\n",
    "\n",
    "# 4. Obtener índices seleccionados\n",
    "selected_features_idx = np.where(sfs.get_support())[0]\n",
    "print(f\"SFS completado. Características seleccionadas: {len(selected_features_idx)}\")\n",
    "print(f\"Índices seleccionados: {selected_features_idx}\")```"
   ]
  },
  {
   "cell_type": "markdown",
   "id": "8579af12-bc7a-4856-bb01-f70b154a03c7",
   "metadata": {},
   "source": [
    "### Intento de selección con SFS (256 variables)\n",
    "\n",
    "Se intentó aplicar `SequentialFeatureSelector` (SFS) sobre las **512 características originales**, utilizando **15.000 muestras** balanceadas del evento *LiftOff*, con el objetivo de seleccionar las **256 variables más relevantes** (la mitad del total), empleando `cv=3` y `LogisticRegression` como modelo base.\n",
    "\n",
    "Sin embargo, el proceso fue **detenido manualmente tras más de 8 horas de ejecución continua**, debido a su **inviabilidad práctica**.\n",
    "\n",
    "### Motivo del abandono\n",
    "\n",
    "- Se **subestimó severamente el tiempo de cómputo necesario**. Inicialmente parecía razonable porque se usaban \"solo\" 15.000 muestras, pero el verdadero cuello de botella no está en el número de filas, sino en la **cantidad de combinaciones y reentrenamientos necesarios** para seleccionar 256 variables mediante SFS.\n",
    "- Cada paso de SFS evalúa múltiples combinaciones de variables con validación cruzada, lo que se traduce en **decenas de miles de modelos entrenados** secuencialmente.\n",
    "- Además, SFS no guarda progreso parcial, por lo que **no es recuperable** si se interrumpe.\n",
    "\n",
    "### Conclusión\n",
    "\n",
    "Este intento permitió constatar los **límites prácticos de SFS en contextos de alta dimensionalidad**, incluso con un número moderado de muestras. Como alternativa, se procederá a explorar métodos más eficientes como `SelectFromModel`, o a aplicar SFS con un número de características más reducido (por ejemplo, 64 o 100) y con menor coste computacional (`cv=2`), buscando un equilibrio entre rendimiento y tiempo de cómputo."
   ]
  },
  {
   "cell_type": "markdown",
   "id": "1a33fe49-5b98-41f5-b5e8-5f60ae5f926b",
   "metadata": {},
   "source": [
    "      "
   ]
  },
  {
   "cell_type": "markdown",
   "id": "4c312b4d-bd56-46b6-a3dd-b779917735eb",
   "metadata": {},
   "source": [
    "        "
   ]
  },
  {
   "cell_type": "markdown",
   "id": "d80957d1-a9ea-4f62-94a7-9a92936cd2c9",
   "metadata": {},
   "source": [
    "## 🧪 Creación del notebook:\n",
    "## `07b_seleccion_caracteristicas_avanzada_experimentacion.ipynb`"
   ]
  },
  {
   "cell_type": "markdown",
   "id": "6c7a75e9-1338-4cd0-9474-b557560595e7",
   "metadata": {},
   "source": [
    "     "
   ]
  },
  {
   "cell_type": "markdown",
   "id": "3557affe-97fa-451c-8d9f-5dea883705f4",
   "metadata": {},
   "source": [
    "Tras comprobar la inviabilidad computacional de aplicar `SequentialFeatureSelector` (SFS) con una selección agresiva de 256 variables sobre 512 (ver intento previo en el notebook principal), se creó un nuevo notebook:  \n",
    " **`07b_seleccion_caracteristicas_avanzada_experimentacion`**\n",
    "\n",
    "Este notebook tiene como objetivo registrar únicamente la **fase de experimentación con distintas configuraciones**, manteniendo el código base del original, pero con modificaciones específicas orientadas a encontrar un equilibrio razonable entre rendimiento y tiempo de cómputo.\n",
    "\n",
    "### **PRUEBA 1**\n",
    "\n",
    "Dado el tiempo perdido en el intento anterior (>8h sin finalizar), se optó por una estrategia **conservadora y progresiva**, comenzando por abajo:\n",
    "\n",
    "-  **Muestras utilizadas:** solo **1.000 filas balanceadas** del evento *LiftOff*.\n",
    "  - Justificación: evitar nuevamente ejecuciones inasumibles e ir ajustando hacia arriba si el tiempo es aceptable.\n",
    "-  **Validación cruzada reducida:** `cv=2`, para minimizar el número de entrenamientos en cada paso de SFS.\n",
    "-  **Selección en dos fases:**\n",
    "  - **Paso 1:** se seleccionaron las **150 características más influyentes** según *Permutation Importance*.\n",
    "  - **Paso 2:** se aplicó SFS sobre ese subconjunto para elegir las **100 mejores**.\n",
    "    - Justificación: se consideró que una selección anterior de solo 50 variables había eliminado demasiada información relevante, lo que explicaría la caída en el rendimiento observada anteriormente.\n",
    "### Resultados en el conjunto de validación fijo:\n",
    "\n",
    "| Evento               | AUC_base | AUC_SFS | AUC_Permutation |\n",
    "|----------------------|----------|---------|-----------------|\n",
    "| HandStart            | 0.8928   | 0.8243  | 0.7768          |\n",
    "| FirstDigitTouch      | 0.8838   | 0.8887  | 0.8115          |\n",
    "| BothStartLoadPhase   | 0.8888   | 0.8875  | 0.8003          |\n",
    "| LiftOff              | 0.9059   | 0.8844  | 0.8146          |\n",
    "| Replace              | 0.8966   | 0.9007  | 0.7488          |\n",
    "| BothReleased         | 0.8751   | 0.8995  | 0.7964          |\n",
    "\n",
    "###  Conclusión intermedia\n",
    "\n",
    "Pese al uso de solo 1.000 muestras, la selección de 100 variables mostró un rendimiento sólido y **comparable al modelo base**, llegando incluso a **superarlo en eventos como Replace y BothReleased**.  Además, el tiempo de ejecución de todo el código fue solo de minutos.\n",
    "Esta configuración servirá como base para iteraciones posteriores más amplias.\n",
    "\n",
    "\n",
    "### **PRUEBA 2**\n",
    "\n",
    "Dado el aprendizaje obtenido en la prueba anterior, se adoptó una estrategia **intermedia y progresiva**, con el objetivo de mejorar el rendimiento sin comprometer la viabilidad computacional:\n",
    "\n",
    "- **Muestras utilizadas:** **5.000 filas balanceadas** del evento *LiftOff*.\n",
    "  - Justificación: mejorar la representatividad respecto a pruebas previas con 1.000 muestras, sin llegar al coste computacional extremo de procesar todo el conjunto.\n",
    "- **Validación cruzada reducida:** `cv=2`, para mantener el tiempo de cómputo bajo control.\n",
    "- **Selección en dos fases:**\n",
    "  - **Paso 1:** se seleccionaron las **200 características más influyentes** según *Permutation Importance*.\n",
    "  - **Paso 2:** se aplicó SFS sobre ese subconjunto para elegir las **150 mejores**.\n",
    "    - Justificación: se buscó un equilibrio entre mantener información suficiente (más que en selecciones previas de 50 o 100 variables), y evitar tiempos de ejecución excesivos como los que provocó el intento con 256 características.\n",
    "\n",
    "### Resultados en el conjunto de validación fijo:\n",
    "\n",
    "| Evento               | AUC_base | AUC_SFS | AUC_Permutation |\n",
    "|----------------------|----------|---------|-----------------|\n",
    "| HandStart            | 0.8928   | 0.8403  | 0.8137          |\n",
    "| FirstDigitTouch      | 0.8838   | 0.8633  | 0.8339          |\n",
    "| BothStartLoadPhase   | 0.8888   | 0.8827  | 0.8313          |\n",
    "| LiftOff              | 0.9059   | 0.8945  | 0.8490          |\n",
    "| Replace              | 0.8966   | 0.8795  | 0.8049          |\n",
    "| BothReleased         | 0.8751   | 0.8784  | 0.7914          |\n",
    "\n",
    "\n",
    "---\n",
    "---\n",
    "\n",
    "\n",
    "## **Conclusión final – Evaluación comparativa de estrategias de selección**\n",
    "\n",
    "Se han probado distintas estrategias de selección de características mediante SFS, variando el número de muestras, el tamaño del subconjunto inicial (Permutation Importance) y el número final de variables seleccionadas. A continuación se muestra una comparación objetiva entre ellas, basada en dos métricas complementarias:\n",
    "\n",
    "---\n",
    "\n",
    "####  1. Evaluación sobre el conjunto de validación (AUC)\n",
    "\n",
    "| Estrategia                       | AUC medio | Nº de variables |\n",
    "|----------------------------------|-----------|-----------------|\n",
    "| Modelo base (sin selección)      | **0.8905**| 512             |\n",
    "| SFS – 100 vars (Prueba 1)        | **0.8809**| 100             |\n",
    "| SFS – 150 vars (Prueba 2)        | 0.8731    | 150             |\n",
    "| SFS – 50 vars (previa)           | 0.8763    | 50              |\n",
    "\n",
    "---\n",
    "\n",
    "####  2. Validación cruzada (para evitar sobreajuste)\n",
    "\n",
    "Para comprobar de forma objetiva si los resultados sobre el conjunto de validación se mantienen en validación cruzada, se evaluó cada estrategia con `StratifiedKFold`:\n",
    "\n",
    "\n",
    "Resultados de validación cruzada (AUC-ROC):\n",
    " - SFS (100 vars):   mean = 0.9574, std = 0.0008\n",
    " - Permutation (20 vars): mean = 0.8736, std = 0.0011\n",
    "\n",
    "Resultados de validación cruzada (AUC-ROC):\n",
    " - SFS (150 vars):   mean = **0.9692, std = 0.0003**\n",
    " - Permutation (20 vars): mean = 0.9069, std = 0.0021\n",
    "\n",
    "AUC-ROC por fold (modelo base con 512 vars): \n",
    "[0.9813, 0.9824, 0.9818, 0.9814, 0.9811] → AUC promedio = **0.9816 ± 0.0005**\n",
    "\n",
    "\n",
    "### Decisión de estrategia para los siguientes pasos\n",
    "\n",
    "Se contemplan dos caminos posibles:\n",
    "\n",
    "- **Seguir con las 150 características seleccionadas por SFS**, sacrificando una pequeña fracción de precisión, pero reduciendo la dimensionalidad sustancialmente.\n",
    "\n",
    "- **Mantener las 512 variables originales** y ajustar el número de muestras para evitar costes excesivos en tiempo, aprovechando toda la señal disponible y optimizando con técnicas como **Optuna**.\n",
    "\n",
    "**Decisión**: Se optará por la **segunda opción**, al considerarse la más eficiente en esta fase del proyecto. Mantener las 512 variables permite conservar toda la información útil del EEG, y se puede controlar el tiempo de cómputo optimizando el tamaño de los subconjuntos usados en validación y optimización de hiperparámetros.\n",
    "\n",
    "Por tanto, continuamos con la optimización de hiperparámetros con Optuna en el notebook 8 `08_optimizacion_avanzada.ipynb`"
   ]
  }
 ],
 "metadata": {
  "kernelspec": {
   "display_name": "Python 3 (ipykernel)",
   "language": "python",
   "name": "python3"
  },
  "language_info": {
   "codemirror_mode": {
    "name": "ipython",
    "version": 3
   },
   "file_extension": ".py",
   "mimetype": "text/x-python",
   "name": "python",
   "nbconvert_exporter": "python",
   "pygments_lexer": "ipython3",
   "version": "3.13.2"
  }
 },
 "nbformat": 4,
 "nbformat_minor": 5
}
