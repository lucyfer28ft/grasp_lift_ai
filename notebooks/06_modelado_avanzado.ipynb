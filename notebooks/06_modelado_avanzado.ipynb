{
 "cells": [
  {
   "cell_type": "markdown",
   "id": "dbba46c5-14a9-4b18-b5ca-90f496e6d5c7",
   "metadata": {},
   "source": [
    "# **Modelado Avanzado - `06_modelado_avanzado.ipynb`**\n",
    "\n",
    "### 🎯 **Objetivo del Notebook**\n",
    "\n",
    "Este notebook tiene como objetivo aplicar y evaluar modelos de clasificación más avanzados sobre las características extraídas de las señales EEG, con el fin de mejorar la detección de eventos motores (*Grasp-and-Lift*) a partir de señales cerebrales. Partimos de los datos ya preprocesados en el notebook anterior (características temporales + frecuencia, con outliers eliminados y normalización).\n",
    "\n",
    "---\n",
    "\n",
    "### 📌 **Contexto**\n",
    "\n",
    "En el notebook anterior (`06_ingenieria_caracteristicas.ipynb`), extraímos nuevas variables a partir de ventanas temporales de la señal EEG, combinando estadísticas en el dominio temporal y energía por bandas en el dominio de la frecuencia (potencia espectral por canal). Estas nuevas variables, al ser introducidas en un modelo base (`LogisticRegression`), generaron una mejora notable en el rendimiento, alcanzando AUC-ROC superiores a 0.94 en varios eventos.\n",
    "\n",
    "Dado el éxito de estas nuevas representaciones, en este notebook las utilizaremos para probar modelos más potentes y complejos, que podrían explotar aún mejor la información contenida en las señales.\n",
    "\n",
    "---\n",
    "\n",
    "### 🤖 **Análisis de Modelos Avanzados a Utilizar**\n",
    "\n",
    "Por tanto, tras aplicar ingeniería de características sobre las señales EEG, disponemos ahora de un conjunto de datos **tabular y numérico**, que incluye estadísticas temporales y características en frecuencia por canal. Esto nos permite aplicar modelos de clasificación avanzados que trabajen bien con este tipo de representación.\n",
    "\n",
    "A continuación, se resumen los modelos más adecuados para este escenario, con sus ventajas y consideraciones:\n",
    "\n",
    "\n",
    "#### 🔲 Random Forest (RF)\n",
    "- ✅ Robusto frente a ruido y datos no lineales.\n",
    "- ✅ No requiere mucho ajuste.\n",
    "- ✅ Interpretable (permite ver la importancia de las características).\n",
    "- 🔸 Puede ser una excelente línea base avanzada.\n",
    "  \n",
    "> **Recomendado como primer modelo avanzado.**\n",
    "\n",
    "#### 🟠 XGBoost\n",
    "- 📈 Muy potente y usado en competiciones de ciencia de datos.\n",
    "- ✅ Excelente capacidad para capturar relaciones complejas.\n",
    "- ✅ Controla bien el sobreajuste.\n",
    "- 🔸 Requiere ajuste fino de hiperparámetros para rendir al máximo.\n",
    "\n",
    "> **Recomendado como modelo principal si se desea máxima precisión.**\n",
    "\n",
    "#### 🟢 LightGBM\n",
    "- ⚡ Muy rápido y eficiente, incluso con muchos datos.\n",
    "- ✅ Similar a XGBoost pero con menor consumo de recursos.\n",
    "- 🔸 Puede requerir ajustes para manejar datos desbalanceados.\n",
    "\n",
    "> **Ideal si se necesita alta velocidad de entrenamiento.**\n",
    "\n",
    "#### 🔵 Redes Neuronales (MLP / Keras)\n",
    "- ✅ Capaces de aprender representaciones complejas.\n",
    "- 🔸 Menos interpretables.\n",
    "- 🔸 Requieren más datos y ajuste fino para evitar sobreajuste.\n",
    "\n",
    "> **Opción interesante si se quiere explorar arquitectura neuronal simple sobre datos tabulares.**\n",
    "\n",
    "#### ⚫ SVM (Support Vector Machines)\n",
    "- ❌ Poca escalabilidad con muchos datos.\n",
    "- ❌ No recomendable para clasificación multiclase o multietiqueta con gran volumen de muestras.\n",
    "\n",
    "> **No se recomienda como opción principal para este caso.**\n",
    "> \n",
    "\n",
    "#### 🧠 **Conclusión**\n",
    "\n",
    "Dado el tipo de datos actual (ventanas EEG convertidas a características numéricas tabulares), se considera que los modelos más apropiados para probar en este notebook son:\n",
    "\n",
    "1. `RandomForestClassifier`\n",
    "2. `XGBoostClassifier`\n",
    "3. `LightGBMClassifier`\n",
    "4. (Opcional) `MLPClassifier` o redes con Keras\n",
    "\n",
    "Estos modelos serán evaluados por separado para cada evento motor, comparando su rendimiento con el modelo base (`LogisticRegression`), y seleccionando los más prometedores para integrar en el pipeline final.\n",
    "\n",
    "---\n",
    "\n",
    "### **🚀 Flujo de Trabajo en este Notebook**\n",
    "\n",
    "1️⃣ Carga de los datos preprocesados (características extraídas + normalización)\n",
    "\n",
    "2️⃣ Entrenamiento de modelos avanzados:\n",
    "- **`RandomForestClassifier`**\n",
    "- **`XGBoostClassifier`**\n",
    "- **`LightGBMClassifier`**\n",
    "\n",
    "3️⃣ Evaluación de rendimiento por evento utilizando la métrica que nos indica la competición:\n",
    "- AUC-ROC\n",
    "\n",
    "4️⃣ Comparación de resultados frente al modelo base (`LogisticRegression`)\n",
    "\n",
    "5️⃣ Si ningún modelo mejora sustancialmente, entrenaremos y evaluaremos también el modelo avanzado **`MLPClassifier`**\n",
    "\n",
    "6️⃣ **Selección del mejor modelo** y guardado para uso posterior\n",
    "\n",
    "---\n",
    "\n",
    "### **💡 Objetivo final**\n",
    "Identificar el modelo con mejor capacidad de generalización para cada evento motor, y dejarlo listo para usar en el pipeline de predicción final.\n"
   ]
  },
  {
   "cell_type": "markdown",
   "id": "9514549b-8603-48d4-8bde-0a0bf26379f6",
   "metadata": {},
   "source": [
    "    "
   ]
  },
  {
   "cell_type": "markdown",
   "id": "28bf5712-57a5-4c55-8cb2-c493bd4bada0",
   "metadata": {},
   "source": [
    "    "
   ]
  },
  {
   "cell_type": "markdown",
   "id": "334fc588-25c9-4233-94f2-245387991483",
   "metadata": {},
   "source": [
    "## **1. Carga de Datos Preprocesados**"
   ]
  },
  {
   "cell_type": "code",
   "execution_count": 8,
   "id": "a92e93cd-82ad-45fd-9f00-ad8b374b5ed2",
   "metadata": {},
   "outputs": [
    {
     "name": "stdout",
     "output_type": "stream",
     "text": [
      "Datos cargados correctamente:\n",
      "X_train_scaled shape: (1043205, 512)\n",
      "y_train_win shape: (1043205, 6)\n",
      "X_valid_scaled shape: (236894, 512)\n",
      "y_valid_win shape: (236894, 6)\n",
      "{'HandStart': 0.8928, 'FirstDigitTouch': 0.8838, 'BothStartLoadPhase': 0.8888, 'LiftOff': 0.9059, 'Replace': 0.8966, 'BothReleased': 0.8751}\n"
     ]
    }
   ],
   "source": [
    "import os\n",
    "import pickle\n",
    "import pandas as pd\n",
    "\n",
    "# Ruta de los datos procesados\n",
    "processed_path = r\"C:\\Users\\luciaft\\Documents\\TFG\\TFG\\graspAndLiftDetectionTFGProyect\\data\\processed\"\n",
    "data_file = os.path.join(processed_path, \"preprocessed_features_temporal_freq.pkl\")\n",
    "\n",
    "# Cargar los datos preprocesados\n",
    "with open(data_file, \"rb\") as f:\n",
    "    X_train_scaled, y_train_win, X_valid_scaled, y_valid_win = pickle.load(f)\n",
    "\n",
    "#Cargamos también los resultados obtenidos con el modelo base\n",
    "auc_file = os.path.join(processed_path, \"auc_results_feats_logreg.csv\")\n",
    "\n",
    "# Cargar CSV y convertir a diccionario\n",
    "auc_df = pd.read_csv(auc_file, index_col=\"Evento\")\n",
    "auc_dict_logreg = auc_df[\"AUC\"].to_dict()\n",
    "\n",
    "\n",
    "# Verificar formas\n",
    "print(\"Datos cargados correctamente:\")\n",
    "print(f\"X_train_scaled shape: {X_train_scaled.shape}\")\n",
    "print(f\"y_train_win shape: {y_train_win.shape}\")\n",
    "print(f\"X_valid_scaled shape: {X_valid_scaled.shape}\")\n",
    "print(f\"y_valid_win shape: {y_valid_win.shape}\")\n",
    "\n",
    "# Verificar diccionario con resultados\n",
    "print(auc_dict_logreg)"
   ]
  },
  {
   "cell_type": "markdown",
   "id": "ccd009c2-e4b8-407f-a2bf-6f66d8329ed1",
   "metadata": {},
   "source": [
    "    "
   ]
  },
  {
   "cell_type": "markdown",
   "id": "efac4eed-b64b-4062-b9b1-e876f52cef62",
   "metadata": {},
   "source": [
    "     "
   ]
  },
  {
   "cell_type": "markdown",
   "id": "12489f99-17bd-4e02-bdd3-3db673a94947",
   "metadata": {},
   "source": [
    "## **2. Entrenamiento y Evaluación de Modelos Avanzados**"
   ]
  },
  {
   "cell_type": "markdown",
   "id": "58266d47-5fdb-4b5b-9d27-fedc5a8d6201",
   "metadata": {},
   "source": [
    "Instalamos librerías necesarias y creamos una función para evaluar los resultados obtenidos con los distintos modelos."
   ]
  },
  {
   "cell_type": "code",
   "execution_count": 2,
   "id": "17acb35d-f961-4b48-8c26-2c0bc7ed18a6",
   "metadata": {},
   "outputs": [],
   "source": [
    "from sklearn.ensemble import RandomForestClassifier\n",
    "from xgboost import XGBClassifier\n",
    "from lightgbm import LGBMClassifier\n",
    "from sklearn.metrics import roc_auc_score, classification_report\n",
    "import numpy as np\n",
    "\n",
    "#Defición de función de evaluación por evento \n",
    "def evaluate_model(model, X_train, y_train, X_valid, y_valid, model_name=\"Model\"):\n",
    "    results = {}\n",
    "    for i, event in enumerate(y_train.columns):\n",
    "        model.fit(X_train, y_train[event])\n",
    "        y_pred_proba = model.predict_proba(X_valid)[:, 1]\n",
    "        auc = roc_auc_score(y_valid[event], y_pred_proba)\n",
    "        results[event] = auc\n",
    "        print(f\"{model_name} - {event}: AUC = {auc:.4f}\")\n",
    "    return results"
   ]
  },
  {
   "cell_type": "markdown",
   "id": "9089ea0a-3554-4952-a1da-c3f6c06b93b3",
   "metadata": {},
   "source": [
    "     "
   ]
  },
  {
   "cell_type": "markdown",
   "id": "8b669000-0fa8-4688-a295-90e2c99d7be3",
   "metadata": {},
   "source": [
    "Entrenamos y evaluamos cada modelo.\n",
    "\n",
    "Random Forest:"
   ]
  },
  {
   "cell_type": "code",
   "execution_count": 7,
   "id": "d3aa32c6-389b-4460-aa4c-4fde16636338",
   "metadata": {},
   "outputs": [
    {
     "name": "stdout",
     "output_type": "stream",
     "text": [
      "Random Forest - HandStart: AUC = 0.7887\n",
      "Random Forest - FirstDigitTouch: AUC = 0.8026\n",
      "Random Forest - BothStartLoadPhase: AUC = 0.8096\n",
      "Random Forest - LiftOff: AUC = 0.7799\n",
      "Random Forest - Replace: AUC = 0.8721\n",
      "Random Forest - BothReleased: AUC = 0.8238\n"
     ]
    }
   ],
   "source": [
    "rf = RandomForestClassifier(n_estimators=100, random_state=42)\n",
    "rf_results = evaluate_model(rf, X_train_scaled, y_train_win, X_valid_scaled, y_valid_win, model_name=\"Random Forest\")"
   ]
  },
  {
   "cell_type": "markdown",
   "id": "a12fb25b-0c6c-4129-b3be-1af27bd5cdc9",
   "metadata": {},
   "source": [
    "      "
   ]
  },
  {
   "cell_type": "markdown",
   "id": "1c935bfa-ab53-4370-b545-95e2f04afca2",
   "metadata": {},
   "source": [
    "XGBoost:"
   ]
  },
  {
   "cell_type": "code",
   "execution_count": 4,
   "id": "65097d7e-9640-4a04-9218-033a222c6903",
   "metadata": {},
   "outputs": [
    {
     "name": "stdout",
     "output_type": "stream",
     "text": [
      "XGBoost - HandStart: AUC = 0.8473\n",
      "XGBoost - FirstDigitTouch: AUC = 0.8611\n",
      "XGBoost - BothStartLoadPhase: AUC = 0.8873\n",
      "XGBoost - LiftOff: AUC = 0.8855\n",
      "XGBoost - Replace: AUC = 0.8690\n",
      "XGBoost - BothReleased: AUC = 0.8479\n"
     ]
    }
   ],
   "source": [
    "xgb = XGBClassifier(n_estimators=100, eval_metric='logloss', random_state=42)\n",
    "xgb_results = evaluate_model(xgb, X_train_scaled, y_train_win, X_valid_scaled, y_valid_win, model_name=\"XGBoost\")"
   ]
  },
  {
   "cell_type": "markdown",
   "id": "e752bd76-b572-4b93-b00a-fe3dbba3941d",
   "metadata": {},
   "source": [
    "      "
   ]
  },
  {
   "cell_type": "markdown",
   "id": "f222805e-9340-4529-985a-df86f814cf9c",
   "metadata": {},
   "source": [
    "LightGBM:"
   ]
  },
  {
   "cell_type": "code",
   "execution_count": 5,
   "id": "96b7c849-d3d2-40df-ab1b-364b86cfc76b",
   "metadata": {},
   "outputs": [
    {
     "name": "stdout",
     "output_type": "stream",
     "text": [
      "[LightGBM] [Info] Number of positive: 24807, number of negative: 1018398\n",
      "[LightGBM] [Info] Auto-choosing col-wise multi-threading, the overhead of testing was 1.637592 seconds.\n",
      "You can set `force_col_wise=true` to remove the overhead.\n",
      "[LightGBM] [Info] Total Bins 130346\n",
      "[LightGBM] [Info] Number of data points in the train set: 1043205, number of used features: 512\n",
      "[LightGBM] [Info] [binary:BoostFromScore]: pavg=0.023780 -> initscore=-3.714860\n",
      "[LightGBM] [Info] Start training from score -3.714860\n",
      "LightGBM - HandStart: AUC = 0.8693\n",
      "[LightGBM] [Info] Number of positive: 24918, number of negative: 1018287\n",
      "[LightGBM] [Info] Auto-choosing col-wise multi-threading, the overhead of testing was 1.678951 seconds.\n",
      "You can set `force_col_wise=true` to remove the overhead.\n",
      "[LightGBM] [Info] Total Bins 130346\n",
      "[LightGBM] [Info] Number of data points in the train set: 1043205, number of used features: 512\n",
      "[LightGBM] [Info] [binary:BoostFromScore]: pavg=0.023886 -> initscore=-3.710287\n",
      "[LightGBM] [Info] Start training from score -3.710287\n",
      "LightGBM - FirstDigitTouch: AUC = 0.8975\n",
      "[LightGBM] [Info] Number of positive: 25060, number of negative: 1018145\n",
      "[LightGBM] [Info] Auto-choosing col-wise multi-threading, the overhead of testing was 1.581240 seconds.\n",
      "You can set `force_col_wise=true` to remove the overhead.\n",
      "[LightGBM] [Info] Total Bins 130346\n",
      "[LightGBM] [Info] Number of data points in the train set: 1043205, number of used features: 512\n",
      "[LightGBM] [Info] [binary:BoostFromScore]: pavg=0.024022 -> initscore=-3.704465\n",
      "[LightGBM] [Info] Start training from score -3.704465\n",
      "LightGBM - BothStartLoadPhase: AUC = 0.9098\n",
      "[LightGBM] [Info] Number of positive: 24942, number of negative: 1018263\n",
      "[LightGBM] [Info] Auto-choosing col-wise multi-threading, the overhead of testing was 1.608812 seconds.\n",
      "You can set `force_col_wise=true` to remove the overhead.\n",
      "[LightGBM] [Info] Total Bins 130346\n",
      "[LightGBM] [Info] Number of data points in the train set: 1043205, number of used features: 512\n",
      "[LightGBM] [Info] [binary:BoostFromScore]: pavg=0.023909 -> initscore=-3.709300\n",
      "[LightGBM] [Info] Start training from score -3.709300\n",
      "LightGBM - LiftOff: AUC = 0.9058\n",
      "[LightGBM] [Info] Number of positive: 25155, number of negative: 1018050\n",
      "[LightGBM] [Info] Auto-choosing col-wise multi-threading, the overhead of testing was 1.697197 seconds.\n",
      "You can set `force_col_wise=true` to remove the overhead.\n",
      "[LightGBM] [Info] Total Bins 130346\n",
      "[LightGBM] [Info] Number of data points in the train set: 1043205, number of used features: 512\n",
      "[LightGBM] [Info] [binary:BoostFromScore]: pavg=0.024113 -> initscore=-3.700588\n",
      "[LightGBM] [Info] Start training from score -3.700588\n",
      "LightGBM - Replace: AUC = 0.8902\n",
      "[LightGBM] [Info] Number of positive: 24771, number of negative: 1018434\n",
      "[LightGBM] [Info] Auto-choosing col-wise multi-threading, the overhead of testing was 1.621959 seconds.\n",
      "You can set `force_col_wise=true` to remove the overhead.\n",
      "[LightGBM] [Info] Total Bins 130346\n",
      "[LightGBM] [Info] Number of data points in the train set: 1043205, number of used features: 512\n",
      "[LightGBM] [Info] [binary:BoostFromScore]: pavg=0.023745 -> initscore=-3.716348\n",
      "[LightGBM] [Info] Start training from score -3.716348\n",
      "LightGBM - BothReleased: AUC = 0.8801\n"
     ]
    }
   ],
   "source": [
    "import warnings\n",
    "warnings.filterwarnings(\"ignore\", message=\"X does not have valid feature names.*\")\n",
    "\n",
    "lgbm = LGBMClassifier(n_estimators=100, random_state=42)\n",
    "lgbm_results = evaluate_model(lgbm, X_train_scaled, y_train_win, X_valid_scaled, y_valid_win, model_name=\"LightGBM\")"
   ]
  },
  {
   "cell_type": "markdown",
   "id": "abf44c9b-3fba-45e6-ada4-9a299a3913cc",
   "metadata": {},
   "source": [
    "     "
   ]
  },
  {
   "cell_type": "markdown",
   "id": "09a681ea-0e29-4286-934d-d34171db35b3",
   "metadata": {},
   "source": [
    "   "
   ]
  },
  {
   "cell_type": "markdown",
   "id": "9a4ae150-69fd-492a-bbae-2424a425e93c",
   "metadata": {},
   "source": [
    "## **3. Comparación de Resultados**"
   ]
  },
  {
   "cell_type": "code",
   "execution_count": 8,
   "id": "d304db05-9aa5-48d4-ad95-d176e0fec672",
   "metadata": {
    "scrolled": true
   },
   "outputs": [
    {
     "data": {
      "image/png": "[encoded data removed]",
      "text/plain": [
       "<Figure size 1200x600 with 1 Axes>"
      ]
     },
     "metadata": {},
     "output_type": "display_data"
    }
   ],
   "source": [
    "import matplotlib.pyplot as plt\n",
    "\n",
    "def plot_model_comparison(results_dict, baseline_auc=None):\n",
    "    events = list(next(iter(results_dict.values())).keys())\n",
    "    x = np.arange(len(events))\n",
    "    width = 0.2\n",
    "\n",
    "    plt.figure(figsize=(12, 6))\n",
    "    for i, (label, results) in enumerate(results_dict.items()):\n",
    "        plt.bar(x + i*width, [results[e] for e in events], width=width, label=label)\n",
    "    \n",
    "    if baseline_auc:\n",
    "        plt.bar(x + len(results_dict)*width, [baseline_auc[e] for e in events], width=width, label=\"LogisticRegression\", color='gray')\n",
    "\n",
    "    plt.xticks(x + width, events, rotation=45)\n",
    "    plt.ylabel(\"AUC-ROC\")\n",
    "    plt.title(\"Comparación de modelos por evento motor\")\n",
    "    plt.legend()\n",
    "    plt.tight_layout()\n",
    "    plt.show()\n",
    "\n",
    "results_dict = {\n",
    "    \"Random Forest\": rf_results,\n",
    "    \"XGBoost\": xgb_results,\n",
    "    \"LightGBM\": lgbm_results\n",
    "}\n",
    "plot_model_comparison(results_dict, baseline_auc=auc_dict_logreg)"
   ]
  },
  {
   "cell_type": "markdown",
   "id": "6030bb67-06a0-4827-82ef-cfacbf0f0d62",
   "metadata": {},
   "source": [
    "     "
   ]
  },
  {
   "cell_type": "markdown",
   "id": "5cbc30ac-544d-4493-9b64-7ea33744e2fd",
   "metadata": {},
   "source": [
    "### **Comparación de Modelos: Rendimiento por Evento**\n",
    "\n",
    "A partir del gráfico generado y los valores numéricos obtenidos para cada modelo y evento motor, observamos que **ninguno de los modelos avanzados supera consistentemente a la Regresión Logística**, que ya había ofrecido un rendimiento excelente con las nuevas características.\n",
    "\n",
    "A continuación se resumen los resultados de AUC-ROC obtenidos por cada modelo en los distintos eventos motores del conjunto de validación. Como referencia se incluye Logistic Regression, el modelo base utilizado previamente.\n",
    "\n",
    "| Evento               | Logistic Regression | Random Forest | XGBoost   | LightGBM   |\n",
    "|----------------------|---------------------|----------------|-----------|------------|\n",
    "| HandStart            | **0.8928**          | 0.7887         | 0.8473    | 0.8693     |\n",
    "| FirstDigitTouch      | 0.8838              | 0.8026         | 0.8611    | **0.8975** |\n",
    "| BothStartLoadPhase   | 0.8888              | 0.8096         | 0.8873    | **0.9098** |\n",
    "| LiftOff              | **0.9059**          | 0.7799         | 0.8855    | 0.9058     |\n",
    "| Replace              | **0.8966**          | 0.8721         | 0.8690    | 0.8902     |\n",
    "| BothReleased         | 0.8751              | 0.8238         | 0.8479    | **0.8801** |\n",
    "\n",
    "#### **Análisis**\n",
    "\n",
    "- **Random Forest** presenta los rendimientos más bajos en todos los eventos, por lo que no se considera competitivo frente al resto.\n",
    "- **XGBoost** mejora considerablemente respecto a Random Forest, especialmente en eventos como `LiftOff`, pero no logra superar al modelo base en ningún evento.\n",
    "- **LightGBM** es el único modelo que logra superar a Logistic Regression en algunos eventos (`FirstDigitTouch`, `BothStartLoadPhase`, `BothReleased`), aunque por márgenes modestos.\n",
    "- **Logistic Regression** se mantiene como el modelo más **consistente** y **estable**, obteniendo los AUC más altos en 3 de los 6 eventos (`HandStart`, `LiftOff`, `Replace`) y muy cercano al mejor en los demás.\n",
    "\n",
    "Aunque **LightGBM obtiene la mayor AUC-ROC individual** (0.9098 en *BothStartLoadPhase*) y supera a Logistic Regression en 3 de los 6 eventos, **la Regresión Logística lidera en los otros 3**, con un rendimiento muy competitivo en general.\n",
    "\n",
    "En términos de promedio de AUC por modelo:\n",
    "- **Logistic Regression**: 0.8905\n",
    "- **LightGBM**: 0.8921\n",
    "\n",
    "Esto sugiere que **LightGBM obtiene la media más alta**, aunque por un margen muy pequeño. Sin embargo, esta diferencia no es suficiente por sí sola para justificar el reemplazo del modelo base, especialmente si consideramos la **simplicidad, interpretabilidad y robustez** de la Regresión Logística frente a los posibles riesgos de sobreajuste y complejidad computacional en modelos más avanzados.\n",
    "\n",
    "Dado que ninguno de estos modelos logra una mejora clara y sostenida, en el siguiente paso se explorará el uso de **redes neuronales** (MLP) para comprobar si son capaces de capturar patrones más complejos que justifiquen un salto en rendimiento. Este tipo de modelos pueden aprovechar mejor la estructura no lineal y multicanal de los datos EEG procesados.\n",
    "\n",
    "####  **Conclusión**\n",
    "\n",
    "A pesar de la complejidad y potencia de los modelos avanzados, ninguno de ellos logra superar consistentemente a Logistic Regression. Este resultado es especialmente notable dado que Logistic Regression fue entrenado sobre características generadas manualmente, sin ningún tipo de ajuste de hiperparámetros ni arquitectura compleja.\n",
    "\n",
    "Este hallazgo sugiere que, dado el alto volumen de datos y la calidad de las características extraídas, el modelo lineal logra generalizar muy bien. No obstante, existe potencial para seguir explorando algoritmos más expresivos, como las redes neuronales, que podrían aprovechar aún mejor la estructura latente de los datos.\n",
    "\n",
    "###  **Siguiente paso: explorar redes neuronales**\n",
    "\n",
    "Dado que los modelos en árboles no han logrado mejorar los resultados, exploraremos ahora un modelo basado en **Red Neuronal Multicapa (MLP)**. Este enfoque permitirá:\n",
    "\n",
    "- Aprender combinaciones más complejas entre características temporales y frecuenciales.\n",
    "- Potencialmente superar los límites observados hasta ahora en los eventos más difíciles.\n",
    "- Preparar el terreno para futuras optimizaciones como selección de variables o reducción de dimensionalidad con técnicas como autocodificadores.\n",
    "\n",
    "La siguiente sección implementará un modelo MLP por evento, comparando sus resultados con todos los modelos previamente evaluados."
   ]
  },
  {
   "cell_type": "markdown",
   "id": "0638b0fb-5c33-4d0c-bb91-459cbece6114",
   "metadata": {},
   "source": [
    "      "
   ]
  },
  {
   "cell_type": "markdown",
   "id": "13c41514-d2d8-4622-a988-fdb920feae4a",
   "metadata": {},
   "source": [
    "        "
   ]
  },
  {
   "cell_type": "markdown",
   "id": "4473d0db-6c67-451e-b5d0-6821344a81ac",
   "metadata": {},
   "source": [
    "## **4. Entrenamiento y Evaluación con Redes Neuronales (MLP)**"
   ]
  },
  {
   "cell_type": "markdown",
   "id": "351683b4-ec99-42ed-9cc5-bf4eb404d44a",
   "metadata": {},
   "source": [
    "Las redes neuronales pueden capturar relaciones complejas y no lineales que otros modelos más simples no son capaces de modelar, especialmente cuando se dispone de un número elevado de características como en nuestro caso (512 por muestra).\n",
    "\n",
    "####  Configuración inicial\n",
    "\n",
    "Para esta primera prueba, empleamos el clasificador `MLPClassifier` de `scikit-learn`, con los siguientes parámetros:\n",
    "\n",
    "- **`hidden_layer_sizes=(100,)`**: se utiliza una única capa oculta con 100 neuronas. Esta configuración representa un equilibrio entre complejidad y capacidad de generalización, permitiendo capturar relaciones no lineales sin llegar a sobreajustar en una primera fase.\n",
    "- **`activation='relu'`**: la función de activación ReLU (Rectified Linear Unit) es adecuada para redes profundas y ayuda a mitigar el problema del desvanecimiento del gradiente.\n",
    "- **`solver='adam'`**: el optimizador Adam combina la eficiencia computacional con buenos resultados en la práctica y se adapta bien a datasets grandes como el nuestro.\n",
    "- **`max_iter=10`**: limitamos intencionadamente el número de iteraciones a 10 para realizar una exploración inicial rápida. En caso de resultados prometedores, se aumentará este parámetro.\n",
    "- **`random_state=42`**: se fija una semilla para garantizar la reproducibilidad de los resultados.\n",
    "\n",
    "Esta configuración permite evaluar rápidamente si el modelo neuronal es capaz de superar los límites observados con los clasificadores anteriores. Si los resultados son positivos, se procederá a realizar una búsqueda más exhaustiva de hiperparámetros y a incrementar la profundidad de la red o aplicar técnicas de regularización si es necesario.\n"
   ]
  },
  {
   "cell_type": "code",
   "execution_count": 6,
   "id": "42759de6-f0e7-4866-8f76-b25907387522",
   "metadata": {},
   "outputs": [
    {
     "name": "stdout",
     "output_type": "stream",
     "text": [
      "Entrenando MLP para evento: HandStart\n",
      "AUC para HandStart: 0.8722\n",
      "Entrenando MLP para evento: FirstDigitTouch\n",
      "AUC para FirstDigitTouch: 0.8805\n",
      "Entrenando MLP para evento: BothStartLoadPhase\n",
      "AUC para BothStartLoadPhase: 0.8949\n",
      "Entrenando MLP para evento: LiftOff\n",
      "AUC para LiftOff: 0.8878\n",
      "Entrenando MLP para evento: Replace\n",
      "AUC para Replace: 0.8740\n",
      "Entrenando MLP para evento: BothReleased\n",
      "AUC para BothReleased: 0.8533\n"
     ]
    }
   ],
   "source": [
    "import warnings\n",
    "from sklearn.neural_network import MLPClassifier\n",
    "from sklearn.metrics import roc_auc_score\n",
    "from sklearn.exceptions import ConvergenceWarning\n",
    "\n",
    "# Suprimir solo la advertencia de convergencia\n",
    "warnings.filterwarnings(\"ignore\", category=ConvergenceWarning)\n",
    "\n",
    "# Función para evaluar un modelo MLP por evento\n",
    "def evaluate_mlp(X_train, y_train, X_valid, y_valid, hidden_layer_sizes=(100,), max_iter=20):\n",
    "    results = {}\n",
    "    for i, event in enumerate(y_train.columns):\n",
    "        print(f\"Entrenando MLP para evento: {event}\")\n",
    "        mlp = MLPClassifier(hidden_layer_sizes=hidden_layer_sizes,\n",
    "                            max_iter=max_iter,\n",
    "                            early_stopping=True,\n",
    "                            random_state=42)\n",
    "        mlp.fit(X_train, y_train[event])\n",
    "        y_pred = mlp.predict_proba(X_valid)[:, 1]\n",
    "        auc = roc_auc_score(y_valid[event], y_pred)\n",
    "        results[event] = auc\n",
    "        print(f\"AUC para {event}: {auc:.4f}\")\n",
    "    return results\n",
    "\n",
    "# Evaluar con arquitectura inicial sencilla\n",
    "mlp_results = evaluate_mlp(X_train_scaled, y_train_win, X_valid_scaled, y_valid_win)"
   ]
  },
  {
   "cell_type": "markdown",
   "id": "2e502323-7985-484e-88c3-e99effe2e141",
   "metadata": {},
   "source": [
    "### **Análisis**\n",
    "\n",
    "Aunque el modelo MLP logra resultados razonablemente altos, **no supera el rendimiento del modelo base de Regresión Logística**, que alcanzaba AUCs superiores a 0.89 e incluso 0.90 en varios eventos. Comparado con otros modelos avanzados como LightGBM, el MLP tampoco presenta ventajas significativas, especialmente considerando el mayor tiempo de entrenamiento (alrededor de 20 minutos) y la menor interpretabilidad.\n",
    "\n",
    "| Modelo              | AUC Media |\n",
    "|---------------------|-----------|\n",
    "| Logistic Regression | 0.8908    |\n",
    "| LightGBM            | 0.8921    |\n",
    "| MLP                 | 0.8771    |\n",
    "\n",
    "> **Conclusión**: la red neuronal MLP no aporta mejoras sobre los modelos ya probados. Su rendimiento, aunque competitivo, es inferior tanto al modelo base como a LightGBM, lo que limita su utilidad como modelo final.\n",
    "\n",
    "#### **Próximos pasos**\n",
    "\n",
    "Dado que ni MLP ni los modelos en árbol (RF, XGBoost, LightGBM) superan a Regresión Logística de forma clara y consistente, se proponen los siguientes pasos para optimizar el rendimiento:\n",
    "\n",
    "1. **Selección de características**:\n",
    "   - Evaluar la importancia de las variables mediante *Permutation Importance* y *Sequential Feature Selector*.\n",
    "&nbsp;\n",
    "2. **Optimización de hiperparámetros**:\n",
    "   - Aplicar `Optuna` sobre XGBoost, LightGBM o MLP para ajustar parámetros como `max_depth`, `eta`, `subsample`, etc.\n",
    "&nbsp;\n",
    "3. **Autocodificadores (Autoencoders)**:\n",
    "   - Explorar su uso para reducción de dimensionalidad o generación de nuevas variables latentes a partir de los EEG.\n",
    "&nbsp;\n",
    "4. **Postprocesado**:\n",
    "   - Aplicar reglas de redondeo a las probabilidades extremas (e.g. valores > 0.98 → 1) para estabilizar predicciones.\n",
    "&nbsp;\n",
    "Estas etapas permitirán mejorar la robustez del modelo sin necesidad de complejidad excesiva y podrían afinar aún más los resultados en las predicciones por evento motor.\n",
    "\n",
    "\n",
    "Por tanto, continuamos en el notebook **`07_seleccion_caracteristicas_avanzada`** con la selección de características.\n",
    "\n",
    "---"
   ]
  }
 ],
 "metadata": {
  "kernelspec": {
   "display_name": "Python 3 (ipykernel)",
   "language": "python",
   "name": "python3"
  },
  "language_info": {
   "codemirror_mode": {
    "name": "ipython",
    "version": 3
   },
   "file_extension": ".py",
   "mimetype": "text/x-python",
   "name": "python",
   "nbconvert_exporter": "python",
   "pygments_lexer": "ipython3",
   "version": "3.10.11"
  }
 },
 "nbformat": 4,
 "nbformat_minor": 5
}
