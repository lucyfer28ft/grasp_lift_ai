{
 "cells": [
  {
   "cell_type": "markdown",
   "id": "56d4ed7d-6012-4830-bcac-9b89a4a415a3",
   "metadata": {},
   "source": [
    "# **Ingeniería de Características - `05_ingenieria_caracteristicas.ipynb`**\n",
    "\n",
    "### **🎯 Objetivo del Notebook**\n",
    "Este notebook tiene como objetivo aplicar técnicas de **ingeniería de características** sobre las señales EEG, con el fin de capturar mejor la información contenida en las señales y mejorar el rendimiento de los modelos de clasificación.\n",
    "\n",
    "### **📌 Contexto**\n",
    "En el notebook anterior (`04_analisis_caracteristicas.ipynb`), analizamos la importancia de las características existentes y aplicamos varias técnicas de selección y reducción de dimensionalidad. Sin embargo, concluimos que:\n",
    "\n",
    "- La **eliminación de outliers** fue el único preprocesamiento que mejoró el rendimiento.\n",
    "- La **selección de características** y **reducción de dimensionalidad** no sólo no aportaron mejoras, sino que en muchos casos **empeoraron los resultados**.\n",
    "\n",
    "Dado que los datos EEG son señales **temporales complejas**, y que el modelo actual no logra capturar suficientemente su estructura dinámica con las características crudas, es necesario **generar nuevas variables** que representen mejor la información relevante en la señal.\n",
    "\n",
    "---\n",
    "\n",
    "### **🧠 ¿Por qué Ingeniería de Características?**\n",
    "\n",
    "Incluso los mejores modelos no pueden rendir bien si no se les alimenta con datos representativos. Por eso, vamos a construir nuevas variables derivadas de las señales originales que puedan captar:\n",
    "\n",
    "- Tendencias locales (media móvil)\n",
    "- Cambios rápidos (derivadas o gradientes)\n",
    "- Patrones en el dominio de la frecuencia (FFT)\n",
    "- Niveles de variabilidad o actividad (desviación estándar, rango, energía)\n",
    "\n",
    "Estas transformaciones buscan **extraer información latente** que no es evidente en las señales brutas.\n",
    "\n",
    "---\n",
    "\n",
    "### **🚀 Flujo de Trabajo en este Notebook**\n",
    "1️⃣ **Carga de datos preprocesados (outliers eliminados y normalizados)**  \n",
    "2️⃣ **Definición de ventanas temporales para extracción de características**  \n",
    "3️⃣ **Cálculo de estadísticas temporales (media, std, varianza, gradiente)**  \n",
    "4️⃣ **Aplicación de transformadas en frecuencia (FFT, potencia espectral)**  \n",
    "5️⃣ **Generación de nuevas variables y construcción de un nuevo conjunto de datos**  \n",
    "6️⃣ **Evaluación del impacto en el rendimiento del modelo**  \n",
    "7️⃣ **Conclusión sobre qué variables se mantienen y próximos pasos**\n",
    "\n",
    "---\n",
    "\n",
    "📌 Si estas nuevas variables aportan mejoras, las incorporaremos como parte del preprocesamiento final antes de probar modelos más avanzados como **XGBoost, LightGBM o Redes Neuronales**.\n"
   ]
  },
  {
   "cell_type": "markdown",
   "id": "63c524f2-2568-4e9f-b433-dc85af06a191",
   "metadata": {},
   "source": [
    "  "
   ]
  },
  {
   "cell_type": "markdown",
   "id": "c5c6efad-76da-4586-8397-6c155551a57a",
   "metadata": {},
   "source": [
    "   "
   ]
  },
  {
   "cell_type": "markdown",
   "id": "1a72fed2-d74f-47ef-be07-f2dff73fdf35",
   "metadata": {},
   "source": [
    "## **1. Carga de datos**"
   ]
  },
  {
   "cell_type": "code",
   "execution_count": 1,
   "id": "bdb0df3c-1b59-41bd-a169-681246e8b92e",
   "metadata": {},
   "outputs": [
    {
     "name": "stdout",
     "output_type": "stream",
     "text": [
      "✅ Datos cargados correctamente:\n",
      "X_train shape: (1043205, 32)\n",
      "y_train shape: (1043205, 6)\n",
      "X_valid shape: (236894, 32)\n",
      "y_valid shape: (236894, 6)\n"
     ]
    }
   ],
   "source": [
    "import os\n",
    "import pickle\n",
    "import pandas as pd\n",
    "\n",
    "# Ruta al archivo pickle con datos ya preprocesados (outliers eliminados + normalizados)\n",
    "processed_path = r\"C:\\Users\\luciaft\\Documents\\TFG\\TFG\\graspAndLiftDetectionTFGProyect\\data\\processed\"\n",
    "pickle_file = os.path.join(processed_path, \"preprocessed_data_outliers_scaled.pkl\")\n",
    "\n",
    "# Cargar datos\n",
    "with open(pickle_file, \"rb\") as f:\n",
    "    X_train, y_train, X_valid, y_valid = pickle.load(f)\n",
    "\n",
    "# Verificar dimensiones\n",
    "print(\"✅ Datos cargados correctamente:\")\n",
    "print(f\"X_train shape: {X_train.shape}\")\n",
    "print(f\"y_train shape: {y_train.shape}\")\n",
    "print(f\"X_valid shape: {X_valid.shape}\")\n",
    "print(f\"y_valid shape: {y_valid.shape}\")"
   ]
  },
  {
   "cell_type": "code",
   "execution_count": null,
   "id": "cbca3e86-19a6-44c2-8ea5-1084212dd67d",
   "metadata": {},
   "outputs": [],
   "source": []
  }
 ],
 "metadata": {
  "kernelspec": {
   "display_name": "Python 3 (ipykernel)",
   "language": "python",
   "name": "python3"
  },
  "language_info": {
   "codemirror_mode": {
    "name": "ipython",
    "version": 3
   },
   "file_extension": ".py",
   "mimetype": "text/x-python",
   "name": "python",
   "nbconvert_exporter": "python",
   "pygments_lexer": "ipython3",
   "version": "3.13.2"
  }
 },
 "nbformat": 4,
 "nbformat_minor": 5
}
